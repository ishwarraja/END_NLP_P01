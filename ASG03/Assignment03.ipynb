{
  "nbformat": 4,
  "nbformat_minor": 0,
  "metadata": {
    "colab": {
      "name": "Assignment03.ipynb",
      "provenance": [],
      "collapsed_sections": []
    },
    "kernelspec": {
      "name": "python3",
      "display_name": "Python 3"
    }
  },
  "cells": [
    {
      "cell_type": "markdown",
      "metadata": {
        "id": "gHMcPrWIApCt"
      },
      "source": [
        "Q1. Write a function using only list filter lambda that can tell whether a number is a Fibonacci number or not. You can use a pre-calculated list/dict to store fab numbers till 10000 PTS:100"
      ]
    },
    {
      "cell_type": "code",
      "metadata": {
        "id": "M4kkR-BaD6nz",
        "outputId": "dd707d6c-364a-43ef-e237-2185a89ac8f3",
        "colab": {
          "base_uri": "https://localhost:8080/"
        }
      },
      "source": [
        "from functools import reduce\n",
        "\n",
        "result = lambda n: reduce(lambda x, _: x+[x[-1] + x[-2]],range(n-2),[0,1])\n",
        "c = (result(10000))\n",
        "\n",
        "a = int(input(\"Enter number to check ? \"))\n",
        "\n",
        "print(f\"Evaluating whether number {a} is a fibonacci ? {a in c}\")\n"
      ],
      "execution_count": 81,
      "outputs": [
        {
          "output_type": "stream",
          "text": [
            "Enter number to check ? 10\n",
            "Evaluating whether number 10 is a fibonacci ? False\n"
          ],
          "name": "stdout"
        }
      ]
    },
    {
      "cell_type": "markdown",
      "metadata": {
        "id": "5vtcGZ3KD7Hb"
      },
      "source": [
        "Q2. Using list comprehension (and zip/lambda/etc if required) write five different expressions that: PTS:100\n",
        "\n",
        "\n",
        "    Add 2 iterables a and b such that a is even and b is odd\n",
        "    Strips every vowel from a string provided (tsai>>t s)\n",
        "    Acts like a ReLU function for a 1D array\n",
        "    Acts like a sigmoid function for a 1D array\n",
        "    Takes a small character string and shifts all characters by 5 (handle boundary conditions) tsai>>yxfn\n"
      ]
    },
    {
      "cell_type": "markdown",
      "metadata": {
        "id": "G1o_lu9Gj8ZZ"
      },
      "source": [
        ""
      ]
    },
    {
      "cell_type": "code",
      "metadata": {
        "id": "B4oYE8nsEFDF",
        "outputId": "d7cf073c-423e-43fa-f2e3-3fda50fd651a",
        "colab": {
          "base_uri": "https://localhost:8080/"
        }
      },
      "source": [
        "#Add 2 iterables a and b such that a is even and b is odd\n",
        "a = range(20)\n",
        "b = range(20)\n",
        "\n",
        "result = list(map(sum,zip(filter(lambda x: x%2 ==0,a),filter(lambda y:y%2,b))))\n",
        "print(result)\n",
        "\n"
      ],
      "execution_count": 100,
      "outputs": [
        {
          "output_type": "stream",
          "text": [
            "[1, 5, 9, 13, 17, 21, 25, 29, 33, 37]\n"
          ],
          "name": "stdout"
        }
      ]
    },
    {
      "cell_type": "markdown",
      "metadata": {
        "id": "-Y7WTObQbtBg"
      },
      "source": [
        "Strips every vowel from a string provided (tsai>>t s)"
      ]
    },
    {
      "cell_type": "code",
      "metadata": {
        "id": "k_GqNCB9Z_u0",
        "outputId": "85a9fb6a-05b6-4da2-ede0-d96791bec7c5",
        "colab": {
          "base_uri": "https://localhost:8080/"
        }
      },
      "source": [
        "\n",
        "str = \"tsai\"\n",
        "vowels = [\"a\",\"e\",\"i\",\"o\",\"u\"]\n",
        "result = \"\".join([x for x in str.lower() if x not in vowels])\n",
        "print(f\"Result strip of word :: {str} >> {result}\")\n",
        "\n"
      ],
      "execution_count": 108,
      "outputs": [
        {
          "output_type": "stream",
          "text": [
            "Result strip of word :: tsai >> ts\n"
          ],
          "name": "stdout"
        }
      ]
    },
    {
      "cell_type": "markdown",
      "metadata": {
        "id": "vF-WNfqEbqF4"
      },
      "source": [
        "Acts like a ReLU function for a 1D array"
      ]
    },
    {
      "cell_type": "code",
      "metadata": {
        "id": "6vMwXK1gGxNC",
        "outputId": "88506491-2f58-4136-ca56-fdcaff1b8b62",
        "colab": {
          "base_uri": "https://localhost:8080/"
        }
      },
      "source": [
        "\n",
        "lst = [0,-1,1,5,-8,-7,-0.5,0.0,0.15,23]\n",
        "\n",
        "# Using List Comprehension\n",
        "result = [x if x >= 0 else 0 for x in lst]\n",
        "print(\"List Comprehension: \", result)\n"
      ],
      "execution_count": 110,
      "outputs": [
        {
          "output_type": "stream",
          "text": [
            "List Comprehension:  [0, 0, 1, 5, 0, 0, 0, 0.0, 0.15, 23]\n"
          ],
          "name": "stdout"
        }
      ]
    },
    {
      "cell_type": "markdown",
      "metadata": {
        "id": "wna4IVxVbmHB"
      },
      "source": [
        "Acts like a sigmoid function for a 1D array"
      ]
    },
    {
      "cell_type": "code",
      "metadata": {
        "id": "FxCZITd6bfE5",
        "outputId": "72cf2b84-6ae4-455d-9f45-5da9cb8bfd5d",
        "colab": {
          "base_uri": "https://localhost:8080/"
        }
      },
      "source": [
        "import math\n",
        "lst = [0,-1,1,5,-8,-7,-0.5,0.0,0.15,23]\n",
        "\n",
        "result = [math.exp(x)/(math.exp(x)+1) for x in lst]\n",
        "print(result)\n"
      ],
      "execution_count": 111,
      "outputs": [
        {
          "output_type": "stream",
          "text": [
            "[0.5, 0.2689414213699951, 0.7310585786300049, 0.9933071490757152, 0.00033535013046647816, 0.0009110511944006454, 0.37754066879814546, 0.5, 0.5374298453437495, 0.9999999998973812]\n"
          ],
          "name": "stdout"
        }
      ]
    },
    {
      "cell_type": "markdown",
      "metadata": {
        "id": "1JkRCH9ochFe"
      },
      "source": [
        "Takes a small character string and shifts all characters by 5 (handle boundary conditions) tsai>>yxfn"
      ]
    },
    {
      "cell_type": "code",
      "metadata": {
        "id": "-pynd6kKFbgK",
        "outputId": "3e805dfb-0e00-44a5-d7a8-a2ddb23df701",
        "colab": {
          "base_uri": "https://localhost:8080/"
        }
      },
      "source": [
        "import string\n",
        "\n",
        "alphabets = string.ascii_lowercase\n",
        "str = \"tsai\"\n",
        "\n",
        "result = lambda str: \"\".join([alphabets[(alphabets.index(x) + 5) % len(alphabets)] for x in str])\n",
        "print(result(str))"
      ],
      "execution_count": 112,
      "outputs": [
        {
          "output_type": "stream",
          "text": [
            "yxfn\n"
          ],
          "name": "stdout"
        }
      ]
    },
    {
      "cell_type": "markdown",
      "metadata": {
        "id": "-nY7XYXYkEJH"
      },
      "source": [
        "Q3 A list comprehension expression that takes a ~200 word paragraph (write your own paragraph to check), and checks whether it has any of the swear words mentioned in https://github.com/RobertJGabriel/Google-profanity-words/blob/master/list.txt PTS:200\n",
        "\n"
      ]
    },
    {
      "cell_type": "code",
      "metadata": {
        "id": "i4v6QPEKLrVH"
      },
      "source": [
        "Text=\"When we come to India’s history of independence from the British, the Dawn of the 15 August 1947, was the beginning of an era of ending from British colonialism of more than 200 years. Pandit Jawaharlal Nehru had persuing in his first speech that India’s gaining of independence was a ‘tryst with destiny’ in his freedom speech. He also said that struggle for freedom from long years of slavery is a tiresome one as witnessing the sacrifices of many freedom fighters who laid down their lives on the line. So it’s time to take a pledge. British rule began in India in the 17th century. At the beginning of the East India Company, it subdued local kingdoms. It made themselves after the Battle of Plassey as a dominant force and control over the country by the 18th century. After that, East India Company was replaced by the British crown. In the wake of Indian Mutiny, it had direct control over Indian. The period of world war 1st was considered as reform of British rule. It began Mohandas Karamchand Gandhi led the Independence movement. Gandhi jee led the nationwide non-violent, non-cooperation movement, and civil-disobedience movement.Get Independence Day Essay in English from here. In 1929, before the independence day 15 August 1947, at the Lahore session of India, national Congress declared the “Purna Swaraj.” Later on 26 January 1930, the INC again declared as Independence Day at that time. The Congress called on people to pledge themselves to civil disobedience and “to carry out the Congress instructions issued from time to time” until India attained complete independence. The grand celebration of Independence Day created the stroke of nationalistic fervor among Indian citizens. And it forces or relinquishes the British government to granting freedom.\""
      ],
      "execution_count": 118,
      "outputs": []
    },
    {
      "cell_type": "code",
      "metadata": {
        "id": "JvrG2wrrkelX",
        "outputId": "e5226f90-d53e-47c8-aa1d-19b3d71a014e",
        "colab": {
          "base_uri": "https://localhost:8080/"
        }
      },
      "source": [
        "\n",
        "!wget https://github.com/RobertJGabriel/Google-profanity-words/blob/master/list.txt -O swear_words\n",
        "with open(\"swear_words\",\"r\") as file:\n",
        "  swear_words = [x.strip() for x in file.readlines()]\n"
      ],
      "execution_count": 117,
      "outputs": [
        {
          "output_type": "stream",
          "text": [
            "--2020-11-05 17:31:48--  https://github.com/RobertJGabriel/Google-profanity-words/blob/master/list.txt\n",
            "Resolving github.com (github.com)... 140.82.114.4\n",
            "Connecting to github.com (github.com)|140.82.114.4|:443... connected.\n",
            "HTTP request sent, awaiting response... 200 OK\n",
            "Length: unspecified [text/html]\n",
            "Saving to: ‘swear_words’\n",
            "\n",
            "\rswear_words             [<=>                 ]       0  --.-KB/s               \rswear_words             [ <=>                ] 170.66K  --.-KB/s    in 0.04s   \n",
            "\n",
            "2020-11-05 17:31:48 (4.06 MB/s) - ‘swear_words’ saved [174751]\n",
            "\n"
          ],
          "name": "stdout"
        }
      ]
    },
    {
      "cell_type": "code",
      "metadata": {
        "id": "awdL_nmLnyfP",
        "outputId": "ba63fbe0-e0bf-4a2c-d55d-d727522cbb6b",
        "colab": {
          "base_uri": "https://localhost:8080/"
        }
      },
      "source": [
        "read_list = lambda Text : any([True for i in swear_words if i in Text])\n",
        "\n",
        "read_word = lambda Text : f\"Paragraph contains {len([True for i in swear_words if i in Text])} swear words.\" if len([True for i in swear_words if i in Text]) > 0 else \"No swear words\"\n",
        "\n",
        "Text = \"\"\"When we come to India’s history of independence from the British, the Dawn of the 15 August 1947, was the beginning of an era of ending from British colonialism of more than 200 years. Pandit Jawaharlal Nehru had persuing in his first speech that India’s gaining of independence was a ‘tryst with destiny’ in his freedom speech. He also said that struggle for freedom from long years of slavery is a tiresome one as witnessing the sacrifices of many freedom fighters who laid down their lives on the line. So it’s time to take a pledge. British rule began in India in the 17th century. At the beginning of the East India Company, it subdued local kingdoms. It made themselves after the Battle of Plassey as a dominant force and control over the country by the 18th century. After that, East India Company was replaced by the British crown. In the wake of Indian Mutiny, it had direct control over Indian. The period of world war 1st was considered as reform of British rule. It began Mohandas Karamchand Gandhi led the Independence movement. Gandhi jee led the nationwide non-violent, non-cooperation movement, and civil-disobedience movement.Get Independence Day Essay in English from here. In 1929, before the independence day 15 August 1947, at the Lahore session of India, national Congress declared the “Purna Swaraj.” Later on 26 January 1930, the INC again declared as Independence Day at that time. The Congress called on people to pledge themselves to civil disobedience and “to carry out the Congress instructions issued from time to time” until India attained complete independence. The grand celebration of Independence Day created the stroke of nationalistic fervor among Indian citizens. And it forces or relinquishes the British government to granting freedom.\"\"\"\n",
        "text1=\"dominant force and control over the country\"\n",
        "print(read_list(text1))"
      ],
      "execution_count": 130,
      "outputs": [
        {
          "output_type": "stream",
          "text": [
            "True\n"
          ],
          "name": "stdout"
        }
      ]
    },
    {
      "cell_type": "code",
      "metadata": {
        "id": "dBtoBlhtn14r",
        "outputId": "998234ae-5763-4d37-8b61-7c20671d8250",
        "colab": {
          "base_uri": "https://localhost:8080/",
          "height": 210
        }
      },
      "source": [
        "Text"
      ],
      "execution_count": 12,
      "outputs": [
        {
          "output_type": "execute_result",
          "data": {
            "application/vnd.google.colaboratory.intrinsic+json": {
              "type": "string"
            },
            "text/plain": [
              "'When we come to India’s history of independence from the British, the Dawn of the 15 August 1947, was the beginning of an era of ending from British colonialism of more than 200 years. Pandit Jawaharlal Nehru had persuing in his first speech that India’s gaining of independence was a ‘tryst with destiny’ in his freedom speech. He also said that struggle for freedom from long years of slavery is a tiresome one as witnessing the sacrifices of many freedom fighters who laid down their lives on the line. So it’s time to take a pledge. British rule began in India in the 17th century. At the beginning of the East India Company, it subdued local kingdoms. It made themselves after the Battle of Plassey as a dominant force and control over the country by the 18th century. After that, East India Company was replaced by the British crown. In the wake of Indian Mutiny, it had direct control over Indian. The period of world war 1st was considered as reform of British rule. It began Mohandas Karamchand Gandhi led the Independence movement. Gandhi jee led the nationwide non-violent, non-cooperation movement, and civil-disobedience movement.Get Independence Day Essay in English from here. In 1929, before the independence day 15 August 1947, at the Lahore session of India, national Congress declared the “Purna Swaraj.” Later on 26 January 1930, the INC again declared as Independence Day at that time. The Congress called on people to pledge themselves to civil disobedience and “to carry out the Congress instructions issued from time to time” until India attained complete independence. The grand celebration of Independence Day created the stroke of nationalistic fervor among Indian citizens. And it forces or relinquishes the British government to granting freedom.'"
            ]
          },
          "metadata": {
            "tags": []
          },
          "execution_count": 12
        }
      ]
    },
    {
      "cell_type": "markdown",
      "metadata": {
        "id": "beRZJIwq27LD"
      },
      "source": [
        "Q4 Using reduce functions: PTS:100\n",
        "\n",
        "Add only even numbers in a list \n",
        "\n",
        "find the biggest character in a string (printable ascii characters)\n",
        "\n",
        "adds every 3rd number in a list\n",
        "\n"
      ]
    },
    {
      "cell_type": "code",
      "metadata": {
        "id": "MHCiZE2OgaWB",
        "outputId": "710f48f5-6942-4d95-f6c9-43a4fe1a408e",
        "colab": {
          "base_uri": "https://localhost:8080/",
          "height": 234
        }
      },
      "source": [
        "#Add only even numbers in a list \n",
        "\n",
        "#result = list(filter(lambda x: x%2 ==0 ,range(30)))\n",
        "#result = list(map(sum(filter(lambda x: x%2 ==0 ,range(30)))))\n",
        "result = list(map(sum(filter(lambda x: x%2 ==0,range(20)))))\n",
        "\n",
        "print(\"Adding only Even number in list : \", result)"
      ],
      "execution_count": 135,
      "outputs": [
        {
          "output_type": "error",
          "ename": "TypeError",
          "evalue": "ignored",
          "traceback": [
            "\u001b[0;31m---------------------------------------------------------------------------\u001b[0m",
            "\u001b[0;31mTypeError\u001b[0m                                 Traceback (most recent call last)",
            "\u001b[0;32m<ipython-input-135-e41e504d5684>\u001b[0m in \u001b[0;36m<module>\u001b[0;34m()\u001b[0m\n\u001b[1;32m      3\u001b[0m \u001b[0;31m#result = list(filter(lambda x: x%2 ==0 ,range(30)))\u001b[0m\u001b[0;34m\u001b[0m\u001b[0;34m\u001b[0m\u001b[0;34m\u001b[0m\u001b[0m\n\u001b[1;32m      4\u001b[0m \u001b[0;31m#result = list(map(sum(filter(lambda x: x%2 ==0 ,range(30)))))\u001b[0m\u001b[0;34m\u001b[0m\u001b[0;34m\u001b[0m\u001b[0;34m\u001b[0m\u001b[0m\n\u001b[0;32m----> 5\u001b[0;31m \u001b[0mresult\u001b[0m \u001b[0;34m=\u001b[0m \u001b[0mlist\u001b[0m\u001b[0;34m(\u001b[0m\u001b[0mmap\u001b[0m\u001b[0;34m(\u001b[0m\u001b[0msum\u001b[0m\u001b[0;34m(\u001b[0m\u001b[0mfilter\u001b[0m\u001b[0;34m(\u001b[0m\u001b[0;32mlambda\u001b[0m \u001b[0mx\u001b[0m\u001b[0;34m:\u001b[0m \u001b[0mx\u001b[0m\u001b[0;34m%\u001b[0m\u001b[0;36m2\u001b[0m \u001b[0;34m==\u001b[0m\u001b[0;36m0\u001b[0m\u001b[0;34m,\u001b[0m\u001b[0mrange\u001b[0m\u001b[0;34m(\u001b[0m\u001b[0;36m20\u001b[0m\u001b[0;34m)\u001b[0m\u001b[0;34m)\u001b[0m\u001b[0;34m)\u001b[0m\u001b[0;34m)\u001b[0m\u001b[0;34m)\u001b[0m\u001b[0;34m\u001b[0m\u001b[0;34m\u001b[0m\u001b[0m\n\u001b[0m\u001b[1;32m      6\u001b[0m \u001b[0;34m\u001b[0m\u001b[0m\n\u001b[1;32m      7\u001b[0m \u001b[0mprint\u001b[0m\u001b[0;34m(\u001b[0m\u001b[0;34m\"Adding only Even number in list : \"\u001b[0m\u001b[0;34m,\u001b[0m \u001b[0mresult\u001b[0m\u001b[0;34m)\u001b[0m\u001b[0;34m\u001b[0m\u001b[0;34m\u001b[0m\u001b[0m\n",
            "\u001b[0;31mTypeError\u001b[0m: map() must have at least two arguments."
          ]
        }
      ]
    },
    {
      "cell_type": "markdown",
      "metadata": {
        "id": "I4LFNRKepRv5"
      },
      "source": [
        "Find the biggest character in a string (printable ascii characters)"
      ]
    },
    {
      "cell_type": "code",
      "metadata": {
        "id": "J2My0vSK8YA7",
        "outputId": "d2c4b1b1-f0ad-4fd5-8c5a-96751a7e9175",
        "colab": {
          "base_uri": "https://localhost:8080/"
        }
      },
      "source": [
        "\n",
        "str = \"find the biggest character in a string\"\n",
        "y=max(str)\n",
        "res = [ord(y) for sub in y] \n",
        "print(f\"Biggest Character in a string = {y} and ascii value for it = {res}\")"
      ],
      "execution_count": 92,
      "outputs": [
        {
          "output_type": "stream",
          "text": [
            "Biggest Character in a string = t and ascii value for it = [116]\n"
          ],
          "name": "stdout"
        }
      ]
    },
    {
      "cell_type": "markdown",
      "metadata": {
        "id": "HQgT84JTpMSz"
      },
      "source": [
        "Adds every 3rd number in a list"
      ]
    },
    {
      "cell_type": "code",
      "metadata": {
        "id": "Z1iWqpu69OF5",
        "outputId": "28be682d-8ca7-4879-e8f8-93883558b4bf",
        "colab": {
          "base_uri": "https://localhost:8080/"
        }
      },
      "source": [
        "result = lambda inp : reduce(lambda x,y: x+y, inp[2::3])\n",
        "\n",
        "lst = range(12)\n",
        "print(result(lst))"
      ],
      "execution_count": 136,
      "outputs": [
        {
          "output_type": "stream",
          "text": [
            "26\n"
          ],
          "name": "stdout"
        }
      ]
    },
    {
      "cell_type": "markdown",
      "metadata": {
        "id": "QKC5NYjQ3Fjr"
      },
      "source": [
        "Q5. Using randint, random.choice and list comprehensions, write an expression that generates 15 random KADDAADDDD number plates, where KA is fixed, D stands for a digit, and A stands for Capital alphabets. 10<<DD<<99 & 1000<<DDDD<<9999 PTS:100\n",
        "\n"
      ]
    },
    {
      "cell_type": "code",
      "metadata": {
        "id": "FJCbW1i83K0x",
        "outputId": "4a1f1fc4-4773-4233-8277-ff20b61ce8dc",
        "colab": {
          "base_uri": "https://localhost:8080/"
        }
      },
      "source": [
        "import string\n",
        "import random\n",
        "\n",
        "dd = list(range(10,100))\n",
        "dddd = list(range(1000, 10000))\n",
        "alphabet_list = list(string.ascii_uppercase)\n",
        "\n",
        "def gen_KA_vehicle_num(n=15):\n",
        "    results = []\n",
        "    for i in range(n):\n",
        "        cur_dd = random.choice(dd)\n",
        "        cur_a1 = random.choice(alphabet_list)\n",
        "        cur_a2 = random.choice(alphabet_list)\n",
        "        cur_dddd = random.choice(dddd)\n",
        "        results.append(f\"KA{cur_dd}{cur_a1}{cur_a2}{cur_dddd}\")\n",
        "    return results\n",
        "\n",
        "results = gen_KA_vehicle_num(n=15)\n",
        "\n",
        "for vehicle_num in results:\n",
        "    print(vehicle_num)\n",
        "        "
      ],
      "execution_count": 71,
      "outputs": [
        {
          "output_type": "stream",
          "text": [
            "KA39WP3215\n",
            "KA18ZM4331\n",
            "KA28UR2227\n",
            "KA45QC3367\n",
            "KA33SH1020\n",
            "KA39ZY6864\n",
            "KA35YD6084\n",
            "KA58KN7824\n",
            "KA73FN6319\n",
            "KA28JZ2776\n",
            "KA41MB3725\n",
            "KA86XC9972\n",
            "KA69NJ2259\n",
            "KA73DH8025\n",
            "KA74IJ1774\n"
          ],
          "name": "stdout"
        }
      ]
    },
    {
      "cell_type": "markdown",
      "metadata": {
        "id": "5d9nsfgZ3LQt"
      },
      "source": [
        "Q6 Write the above again from scratch where KA can be changed to DL, and 1000/9999 ranges can be provided.  PTS:100\n",
        "\n"
      ]
    },
    {
      "cell_type": "code",
      "metadata": {
        "id": "-0Vud1Vp3OIF",
        "outputId": "9be48ce8-5e40-4c2b-b3a6-6da4d536be79",
        "colab": {
          "base_uri": "https://localhost:8080/"
        }
      },
      "source": [
        "import string\n",
        "import random\n",
        "\n",
        "dd = list(range(10,100))\n",
        "dddd = list(range(1000, 10000))\n",
        "alphabet_list = list(string.ascii_uppercase)\n",
        "\n",
        "def gen_DL_vehicle_num(n=15):\n",
        "    results = []\n",
        "    for i in range(n):\n",
        "        cur_dd = random.choice(dd)\n",
        "        cur_a1 = random.choice(alphabet_list)\n",
        "        cur_a2 = random.choice(alphabet_list)\n",
        "        cur_dddd = random.choice(dddd)\n",
        "        results.append(f\"DL{cur_dd}{cur_a1}{cur_a2}{cur_dddd}\")\n",
        "    return results\n",
        "\n",
        "results = gen_DL_vehicle_num(n=15)\n",
        "\n",
        "for vehicle_num in results:\n",
        "    print(vehicle_num)"
      ],
      "execution_count": 72,
      "outputs": [
        {
          "output_type": "stream",
          "text": [
            "DL37KM2257\n",
            "DL48WO9761\n",
            "DL31GF6726\n",
            "DL59HJ6674\n",
            "DL16PA6100\n",
            "DL55VB1490\n",
            "DL67EN1637\n",
            "DL29VU6321\n",
            "DL98ZV3046\n",
            "DL39OY7277\n",
            "DL45EW5821\n",
            "DL62WO9793\n",
            "DL68QY2904\n",
            "DL75AI7080\n",
            "DL57JX6751\n"
          ],
          "name": "stdout"
        }
      ]
    }
  ]
}