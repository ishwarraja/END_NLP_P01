{
  "nbformat": 4,
  "nbformat_minor": 0,
  "metadata": {
    "colab": {
      "name": "Assignment03.ipynb",
      "provenance": [],
      "collapsed_sections": []
    },
    "kernelspec": {
      "name": "python3",
      "display_name": "Python 3"
    }
  },
  "cells": [
    {
      "cell_type": "markdown",
      "metadata": {
        "id": "gHMcPrWIApCt"
      },
      "source": [
        "Q1. Write a function using only list filter lambda that can tell whether a number is a Fibonacci number or not. You can use a pre-calculated list/dict to store fab numbers till 10000 PTS:100"
      ]
    },
    {
      "cell_type": "code",
      "metadata": {
        "id": "M4kkR-BaD6nz",
        "outputId": "dd707d6c-364a-43ef-e237-2185a89ac8f3",
        "colab": {
          "base_uri": "https://localhost:8080/"
        }
      },
      "source": [
        "from functools import reduce\n",
        "\n",
        "result = lambda n: reduce(lambda x, _: x+[x[-1] + x[-2]],range(n-2),[0,1])\n",
        "c = (result(10000))\n",
        "\n",
        "a = int(input(\"Enter number to check ? \"))\n",
        "\n",
        "print(f\"Evaluating whether number {a} is a fibonacci ? {a in c}\")\n"
      ],
      "execution_count": 81,
      "outputs": [
        {
          "output_type": "stream",
          "text": [
            "Enter number to check ? 10\n",
            "Evaluating whether number 10 is a fibonacci ? False\n"
          ],
          "name": "stdout"
        }
      ]
    },
    {
      "cell_type": "markdown",
      "metadata": {
        "id": "5vtcGZ3KD7Hb"
      },
      "source": [
        "Q2. Using list comprehension (and zip/lambda/etc if required) write five different expressions that: PTS:100\n",
        "\n",
        "\n",
        "    Add 2 iterables a and b such that a is even and b is odd\n",
        "    Strips every vowel from a string provided (tsai>>t s)\n",
        "    Acts like a ReLU function for a 1D array\n",
        "    Acts like a sigmoid function for a 1D array\n",
        "    Takes a small character string and shifts all characters by 5 (handle boundary conditions) tsai>>yxfn\n"
      ]
    },
    {
      "cell_type": "markdown",
      "metadata": {
        "id": "G1o_lu9Gj8ZZ"
      },
      "source": [
        ""
      ]
    },
    {
      "cell_type": "code",
      "metadata": {
        "id": "B4oYE8nsEFDF",
        "outputId": "d7cf073c-423e-43fa-f2e3-3fda50fd651a",
        "colab": {
          "base_uri": "https://localhost:8080/"
        }
      },
      "source": [
        "#Add 2 iterables a and b such that a is even and b is odd\n",
        "a = range(20)\n",
        "b = range(20)\n",
        "\n",
        "result = list(map(sum,zip(filter(lambda x: x%2 ==0,a),filter(lambda y:y%2,b))))\n",
        "print(result)\n",
        "\n"
      ],
      "execution_count": 100,
      "outputs": [
        {
          "output_type": "stream",
          "text": [
            "[1, 5, 9, 13, 17, 21, 25, 29, 33, 37]\n"
          ],
          "name": "stdout"
        }
      ]
    },
    {
      "cell_type": "markdown",
      "metadata": {
        "id": "-Y7WTObQbtBg"
      },
      "source": [
        "Strips every vowel from a string provided (tsai>>t s)"
      ]
    },
    {
      "cell_type": "code",
      "metadata": {
        "id": "k_GqNCB9Z_u0",
        "outputId": "85a9fb6a-05b6-4da2-ede0-d96791bec7c5",
        "colab": {
          "base_uri": "https://localhost:8080/"
        }
      },
      "source": [
        "\n",
        "str = \"tsai\"\n",
        "vowels = [\"a\",\"e\",\"i\",\"o\",\"u\"]\n",
        "result = \"\".join([x for x in str.lower() if x not in vowels])\n",
        "print(f\"Result strip of word :: {str} >> {result}\")\n",
        "\n"
      ],
      "execution_count": 108,
      "outputs": [
        {
          "output_type": "stream",
          "text": [
            "Result strip of word :: tsai >> ts\n"
          ],
          "name": "stdout"
        }
      ]
    },
    {
      "cell_type": "markdown",
      "metadata": {
        "id": "vF-WNfqEbqF4"
      },
      "source": [
        "Acts like a ReLU function for a 1D array"
      ]
    },
    {
      "cell_type": "code",
      "metadata": {
        "id": "6vMwXK1gGxNC",
        "outputId": "88506491-2f58-4136-ca56-fdcaff1b8b62",
        "colab": {
          "base_uri": "https://localhost:8080/"
        }
      },
      "source": [
        "\n",
        "lst = [0,-1,1,5,-8,-7,-0.5,0.0,0.15,23]\n",
        "\n",
        "# Using List Comprehension\n",
        "result = [x if x >= 0 else 0 for x in lst]\n",
        "print(\"List Comprehension: \", result)\n"
      ],
      "execution_count": 110,
      "outputs": [
        {
          "output_type": "stream",
          "text": [
            "List Comprehension:  [0, 0, 1, 5, 0, 0, 0, 0.0, 0.15, 23]\n"
          ],
          "name": "stdout"
        }
      ]
    },
    {
      "cell_type": "markdown",
      "metadata": {
        "id": "wna4IVxVbmHB"
      },
      "source": [
        "Acts like a sigmoid function for a 1D array"
      ]
    },
    {
      "cell_type": "code",
      "metadata": {
        "id": "FxCZITd6bfE5",
        "outputId": "72cf2b84-6ae4-455d-9f45-5da9cb8bfd5d",
        "colab": {
          "base_uri": "https://localhost:8080/"
        }
      },
      "source": [
        "import math\n",
        "lst = [0,-1,1,5,-8,-7,-0.5,0.0,0.15,23]\n",
        "\n",
        "result = [math.exp(x)/(math.exp(x)+1) for x in lst]\n",
        "print(result)\n"
      ],
      "execution_count": 111,
      "outputs": [
        {
          "output_type": "stream",
          "text": [
            "[0.5, 0.2689414213699951, 0.7310585786300049, 0.9933071490757152, 0.00033535013046647816, 0.0009110511944006454, 0.37754066879814546, 0.5, 0.5374298453437495, 0.9999999998973812]\n"
          ],
          "name": "stdout"
        }
      ]
    },
    {
      "cell_type": "markdown",
      "metadata": {
        "id": "1JkRCH9ochFe"
      },
      "source": [
        "Takes a small character string and shifts all characters by 5 (handle boundary conditions) tsai>>yxfn"
      ]
    },
    {
      "cell_type": "code",
      "metadata": {
        "id": "-pynd6kKFbgK",
        "outputId": "3e805dfb-0e00-44a5-d7a8-a2ddb23df701",
        "colab": {
          "base_uri": "https://localhost:8080/"
        }
      },
      "source": [
        "import string\n",
        "\n",
        "alphabets = string.ascii_lowercase\n",
        "str = \"tsai\"\n",
        "\n",
        "result = lambda str: \"\".join([alphabets[(alphabets.index(x) + 5) % len(alphabets)] for x in str])\n",
        "print(result(str))"
      ],
      "execution_count": 112,
      "outputs": [
        {
          "output_type": "stream",
          "text": [
            "yxfn\n"
          ],
          "name": "stdout"
        }
      ]
    },
    {
      "cell_type": "markdown",
      "metadata": {
        "id": "-nY7XYXYkEJH"
      },
      "source": [
        "Q3 A list comprehension expression that takes a ~200 word paragraph (write your own paragraph to check), and checks whether it has any of the swear words mentioned in https://github.com/RobertJGabriel/Google-profanity-words/blob/master/list.txt PTS:200\n",
        "\n"
      ]
    },
    {
      "cell_type": "code",
      "metadata": {
        "id": "i4v6QPEKLrVH"
      },
      "source": [
        "Text=\"When we come to India’s history of independence from the British, the Dawn of the 15 August 1947, was the beginning of an era of ending from British colonialism of more than 200 years. Pandit Jawaharlal Nehru had persuing in his first speech that India’s gaining of independence was a ‘tryst with destiny’ in his freedom speech. He also said that struggle for freedom from long years of slavery is a tiresome one as witnessing the sacrifices of many freedom fighters who laid down their lives on the line. So it’s time to take a pledge. British rule began in India in the 17th century. At the beginning of the East India Company, it subdued local kingdoms. It made themselves after the Battle of Plassey as a dominant force and control over the country by the 18th century. After that, East India Company was replaced by the British crown. In the wake of Indian Mutiny, it had direct control over Indian. The period of world war 1st was considered as reform of British rule. It began Mohandas Karamchand Gandhi led the Independence movement. Gandhi jee led the nationwide non-violent, non-cooperation movement, and civil-disobedience movement.Get Independence Day Essay in English from here. In 1929, before the independence day 15 August 1947, at the Lahore session of India, national Congress declared the “Purna Swaraj.” Later on 26 January 1930, the INC again declared as Independence Day at that time. The Congress called on people to pledge themselves to civil disobedience and “to carry out the Congress instructions issued from time to time” until India attained complete independence. The grand celebration of Independence Day created the stroke of nationalistic fervor among Indian citizens. And it forces or relinquishes the British government to granting freedom.\""
      ],
      "execution_count": 118,
      "outputs": []
    },
    {
      "cell_type": "code",
      "metadata": {
        "id": "IQ_sFqkRzyGd",
        "outputId": "0c45881d-bf37-45b9-9a94-46eb87217113",
        "colab": {
          "base_uri": "https://localhost:8080/"
        }
      },
      "source": [
        "!wget https://raw.githubusercontent.com/RobertJGabriel/Google-profanity-words/master/list.txt -O swear_words\n",
        "with open(\"swear_words\", \"r\") as file:\n",
        "    swear_words = [x.strip() for x in file.readlines()]"
      ],
      "execution_count": 2,
      "outputs": [
        {
          "output_type": "stream",
          "text": [
            "--2020-11-05 19:21:55--  https://raw.githubusercontent.com/RobertJGabriel/Google-profanity-words/master/list.txt\n",
            "Resolving raw.githubusercontent.com (raw.githubusercontent.com)... 151.101.0.133, 151.101.64.133, 151.101.128.133, ...\n",
            "Connecting to raw.githubusercontent.com (raw.githubusercontent.com)|151.101.0.133|:443... connected.\n",
            "HTTP request sent, awaiting response... 200 OK\n",
            "Length: 3622 (3.5K) [text/plain]\n",
            "Saving to: ‘swear_words’\n",
            "\n",
            "\rswear_words           0%[                    ]       0  --.-KB/s               \rswear_words         100%[===================>]   3.54K  --.-KB/s    in 0s      \n",
            "\n",
            "2020-11-05 19:21:55 (36.2 MB/s) - ‘swear_words’ saved [3622/3622]\n",
            "\n"
          ],
          "name": "stdout"
        }
      ]
    },
    {
      "cell_type": "code",
      "metadata": {
        "id": "awdL_nmLnyfP",
        "outputId": "606d227b-6e6b-42fb-f3f4-b6c2c83fe548",
        "colab": {
          "base_uri": "https://localhost:8080/"
        }
      },
      "source": [
        "#Checks if an word exist in paragraph\n",
        "check_list = lambda paragraph : any([True for i in swear_words if i in paragraph])\n",
        "\n",
        "# Returns a response with text displaying how many words found.\n",
        "check_list1 = lambda paragraph: f\"Text contains {len([True for w in swear_words if w in paragraph])} Swear Words.\" if len([True for w in swear_words if w in paragraph]) > 0 else \"Text Does not contain any Swear words.\"\n",
        "\n",
        "paragraph = \"\"\"As the billionaire Mistry clan and the Tata conglomerate head for a bitter split, they are already preparing for their next battle: the value of a stake in Tata Sons Pvt., which is at the center of India’s biggest corporate feud.\n",
        "The Mistry family-owned Shapoorji Pallonji Group holds 18.4% of the holding company of the software-to-trucks Tata empire, and wants to sell it and raise funds for its own cash-strapped businesses. It had previously sought to pledge the shares as collateral, but was blocked this week when Tata told the Supreme Court it was open to buying the stock itself if Mistrys needed money.\n",
        "But the focus of the years-long dispute could now shift to what each party thinks is the fair valuation of the stake. While court filings peg it at more than 1.5 trillion rupees ($20.3 billion), the eventual deal value will depend on which side can drive a hard bargain.\n",
        "The indebted SP Group, with upcoming debt maturities, may prefer a quick deal. Even at depressed valuations, it won’t be easy for the Tata Group or any other investor to fork out such a sum at a time when many economies, including India’s, have been ravaged by the coronavirus pandemic.\n",
        "“The parting of ways will lie in the details as it is not clear they will quickly agree to a valuation,” said Shriram Subramanian, founder of proxy advisory firm InGovern Research Services Pvt. in Bangalore. “Additionally, Tata group is in no hurry while the SP group is hard-pressed for funding.”.\n",
        "Easy exit For outside investors, the initial charm of buying into the holding company of the $113 billion conglomerate quickly fades when they see Tata Sons is closely held. The lack of an easy exit may make it less appealing to private equity investors or sovereign funds that keep a sharp eye on returns.\n",
        "Any stakeholder in Tata Sons, under the amended Articles of Association, may be first required to offer its equity to the Tatas before seeking out other investors, according to a person familiar with the matter and court documents.\n",
        "Tata Sons declined to comment on the possible stake sale while SP Group did not offer any immediate comments.\n",
        "The potential disagreement over the stake value is the latest chapter in a four-year-old wrangle that started with a boardroom coup in 2016 at Tata Sons. It led to the abrupt ouster of Cyrus Mistry as Tata Group chairman and sparked India’s biggest corporate battle. Cyrus, 52, is the son of billionaire Pallonji Mistry, 91, who controls the 155-year-old SP Group.\n",
        "After succeeding Ratan Tata in 2012 as chairman of Tata Sons, Cyrus Mistry sought to reduce the conglomerate’s debt in ways that threatened to undo the legacy of the Tata patriarch — who spearheaded the purchases of Jaguar Land Rover and British steelmaker Corus Group — resulting in his removal.\n",
        "Tata Trusts — a collective of charities headed by Tata Sons Chairman Emeritus Ratan Tata — owns 66% in Tata Sons but isn’t legally allowed to buy more shares on their own.\n",
        "Tata, 82, is drawing up plans to seek out potential partners that could buy out the Mistry family’s stake in Tata Sons, people familiar with the matter said, asking not to be identified as the information is private.\n",
        "Back in 2016, days after Cyrus Mistry’s removal, the Tata family trusts were assessing the interest of sovereign wealth funds and other long-term investors, but the Mistry family wasn’t keen to sell at the time, people familiar with the matter said then.\n",
        "Despite the challenges, the possibility of the Tata stake sale has buoyed the stocks of SP Group’s listed firms. Sterling & Wilson Solar Ltd. has jumped 20% in Mumbai since the Mistry family announced its intention to sell while Forbes & Co. has advanced almost 16%.\n",
        "Shock expulsion makes films porn movie this was the worst shit movie pube and poop\n",
        "Since his shock expulsion, Cyrus has filed legal challenges to his dismissal from the board of Tata Sons and argued against Tata Sons turning into a private limited company — a move that has restricted the Mistry family’s ability to sell its stake freely.\n",
        "Pallonji Mistry has a net worth of $21.4 billion, most of it due to his holding in the Tata Group, according to the Bloomberg Billionaires Index.\n",
        "In a legal battle over the status of the Tata stake, India’s Supreme Court on Sept. 22 barred the Mistrys from pledging or selling any Tata shares until Oct. 28, after Tata told the court it can buy the Mistry family’s holdings if the latter needed funds.\n",
        "Hours later, the SP Group signaled its intent to sell, calling the Tata move “vindictive” and saying it “believes that a separation of interests would best serve all stakeholder groups.”\n",
        "The SP Group had 92.8 billion rupees in external debt at its main holding vehicle, Shapoorji Pallonji and Company Pvt., as of end-February, according to Care Ratings Ltd., while the group-wide debt was estimated to be more than 300 billion rupees as of March 2019. – Bloomberg\n",
        "Disclosure: Tata Group’s chairman emeritus Ratan Tata is among the distinguished founder-investors of ThePrint. Please click here for details on investors.\"\"\"\n",
        "\n",
        "text1=\"What a shit movie pube\"\n",
        "print(check_list(text1))\n",
        "print(check_list1(text1))"
      ],
      "execution_count": 33,
      "outputs": [
        {
          "output_type": "stream",
          "text": [
            "True\n",
            "Text contains 2 Swear Words.\n"
          ],
          "name": "stdout"
        }
      ]
    },
    {
      "cell_type": "code",
      "metadata": {
        "id": "S6IYNqoas0YB",
        "outputId": "08cb4e77-c1f4-469a-dbba-6f1fc85f21ce",
        "colab": {
          "base_uri": "https://localhost:8080/",
          "height": 140
        }
      },
      "source": [
        "Text"
      ],
      "execution_count": 144,
      "outputs": [
        {
          "output_type": "execute_result",
          "data": {
            "application/vnd.google.colaboratory.intrinsic+json": {
              "type": "string"
            },
            "text/plain": [
              "'When we come to India’s history of independence from the British, the Dawn of the 15 August 1947, was the beginning of an era of ending from British colonialism of more than 200 years. Pandit Jawaharlal Nehru had persuing in his first speech that India’s gaining of independence was a ‘tryst with destiny’ in his freedom speech. He also said that struggle for freedom from long years of slavery is a tiresome one as witnessing the sacrifices of many freedom fighters who laid down their lives on the line. So it’s time to take a pledge. British rule began in India in the 17th century. At the beginning of the East India Company, it subdued local kingdoms. It made themselves after the Battle of Plassey as a dominant force and control over the country by the 18th century. After that, East India Company was replaced by the British crown. In the wake of Indian Mutiny, it had direct control over Indian. The period of world war 1st was considered as reform of British rule. It began Mohandas Karamchand Gandhi led the Independence movement. Gandhi jee led the nationwide non-violent, non-cooperation movement, and civil-disobedience movement.Get Independence Day Essay in English from here. In 1929, before the independence day 15 August 1947, at the Lahore session of India, national Congress declared the “Purna Swaraj.” Later on 26 January 1930, the INC again declared as Independence Day at that time. The Congress called on people to pledge themselves to civil disobedience and “to carry out the Congress instructions issued from time to time” until India attained complete independence. The grand celebration of Independence Day created the stroke of nationalistic fervor among Indian citizens. And it forces or relinquishes the British government to granting freedom.'"
            ]
          },
          "metadata": {
            "tags": []
          },
          "execution_count": 144
        }
      ]
    },
    {
      "cell_type": "markdown",
      "metadata": {
        "id": "beRZJIwq27LD"
      },
      "source": [
        "Q4 Using reduce functions: PTS:100\n",
        "\n",
        " \n"
      ]
    },
    {
      "cell_type": "markdown",
      "metadata": {
        "id": "QzH40QEorJtp"
      },
      "source": [
        "Add only even numbers in a list"
      ]
    },
    {
      "cell_type": "code",
      "metadata": {
        "id": "MHCiZE2OgaWB",
        "outputId": "d5eae531-e09c-4170-b27d-b1ec8677ff71",
        "colab": {
          "base_uri": "https://localhost:8080/"
        }
      },
      "source": [
        "\n",
        "result = sum(filter(lambda x: x%2 ==0,range(20)))\n",
        "\n",
        "print(\"Adding only Even number from the list : \", result)"
      ],
      "execution_count": 34,
      "outputs": [
        {
          "output_type": "stream",
          "text": [
            "Adding only Even number from the list :  90\n"
          ],
          "name": "stdout"
        }
      ]
    },
    {
      "cell_type": "markdown",
      "metadata": {
        "id": "I4LFNRKepRv5"
      },
      "source": [
        "Find the biggest character in a string (printable ascii characters)"
      ]
    },
    {
      "cell_type": "code",
      "metadata": {
        "id": "J2My0vSK8YA7",
        "outputId": "d2c4b1b1-f0ad-4fd5-8c5a-96751a7e9175",
        "colab": {
          "base_uri": "https://localhost:8080/"
        }
      },
      "source": [
        "\n",
        "str = \"find the biggest character in a string\"\n",
        "y=max(str)\n",
        "res = [ord(y) for sub in y] \n",
        "print(f\"Biggest Character in a string = {y} and ascii value for it = {res}\")"
      ],
      "execution_count": 92,
      "outputs": [
        {
          "output_type": "stream",
          "text": [
            "Biggest Character in a string = t and ascii value for it = [116]\n"
          ],
          "name": "stdout"
        }
      ]
    },
    {
      "cell_type": "markdown",
      "metadata": {
        "id": "HQgT84JTpMSz"
      },
      "source": [
        "Adds every 3rd number in a list"
      ]
    },
    {
      "cell_type": "code",
      "metadata": {
        "id": "Z1iWqpu69OF5",
        "outputId": "e4281935-1d15-4c76-e4ce-00eacb2db422",
        "colab": {
          "base_uri": "https://localhost:8080/"
        }
      },
      "source": [
        "from functools import reduce\n",
        "output = lambda n : reduce(lambda a,b: a+b, n[2::3])\n",
        "print(output(range(12)))\n",
        "\n",
        "\n"
      ],
      "execution_count": 63,
      "outputs": [
        {
          "output_type": "stream",
          "text": [
            "26\n"
          ],
          "name": "stdout"
        }
      ]
    },
    {
      "cell_type": "markdown",
      "metadata": {
        "id": "QKC5NYjQ3Fjr"
      },
      "source": [
        "Q5. Using randint, random.choice and list comprehensions, write an expression that generates 15 random KADDAADDDD number plates, where KA is fixed, D stands for a digit, and A stands for Capital alphabets. 10<<DD<<99 & 1000<<DDDD<<9999 PTS:100\n",
        "\n"
      ]
    },
    {
      "cell_type": "code",
      "metadata": {
        "id": "FJCbW1i83K0x",
        "outputId": "4a1f1fc4-4773-4233-8277-ff20b61ce8dc",
        "colab": {
          "base_uri": "https://localhost:8080/"
        }
      },
      "source": [
        "import string\n",
        "import random\n",
        "\n",
        "dd = list(range(10,100))\n",
        "dddd = list(range(1000, 10000))\n",
        "alphabet_list = list(string.ascii_uppercase)\n",
        "\n",
        "def gen_KA_vehicle_num(n=15):\n",
        "    results = []\n",
        "    for i in range(n):\n",
        "        cur_dd = random.choice(dd)\n",
        "        cur_a1 = random.choice(alphabet_list)\n",
        "        cur_a2 = random.choice(alphabet_list)\n",
        "        cur_dddd = random.choice(dddd)\n",
        "        results.append(f\"KA{cur_dd}{cur_a1}{cur_a2}{cur_dddd}\")\n",
        "    return results\n",
        "\n",
        "results = gen_KA_vehicle_num(n=15)\n",
        "\n",
        "for vehicle_num in results:\n",
        "    print(vehicle_num)\n",
        "        "
      ],
      "execution_count": 71,
      "outputs": [
        {
          "output_type": "stream",
          "text": [
            "KA39WP3215\n",
            "KA18ZM4331\n",
            "KA28UR2227\n",
            "KA45QC3367\n",
            "KA33SH1020\n",
            "KA39ZY6864\n",
            "KA35YD6084\n",
            "KA58KN7824\n",
            "KA73FN6319\n",
            "KA28JZ2776\n",
            "KA41MB3725\n",
            "KA86XC9972\n",
            "KA69NJ2259\n",
            "KA73DH8025\n",
            "KA74IJ1774\n"
          ],
          "name": "stdout"
        }
      ]
    },
    {
      "cell_type": "markdown",
      "metadata": {
        "id": "5d9nsfgZ3LQt"
      },
      "source": [
        "Q6 Write the above again from scratch where KA can be changed to DL, and 1000/9999 ranges can be provided.  PTS:100\n",
        "\n"
      ]
    },
    {
      "cell_type": "code",
      "metadata": {
        "id": "-0Vud1Vp3OIF",
        "outputId": "9be48ce8-5e40-4c2b-b3a6-6da4d536be79",
        "colab": {
          "base_uri": "https://localhost:8080/"
        }
      },
      "source": [
        "import string\n",
        "import random\n",
        "\n",
        "dd = list(range(10,100))\n",
        "dddd = list(range(1000, 10000))\n",
        "alphabet_list = list(string.ascii_uppercase)\n",
        "\n",
        "def gen_DL_vehicle_num(n=15):\n",
        "    results = []\n",
        "    for i in range(n):\n",
        "        cur_dd = random.choice(dd)\n",
        "        cur_a1 = random.choice(alphabet_list)\n",
        "        cur_a2 = random.choice(alphabet_list)\n",
        "        cur_dddd = random.choice(dddd)\n",
        "        results.append(f\"DL{cur_dd}{cur_a1}{cur_a2}{cur_dddd}\")\n",
        "    return results\n",
        "\n",
        "results = gen_DL_vehicle_num(n=15)\n",
        "\n",
        "for vehicle_num in results:\n",
        "    print(vehicle_num)"
      ],
      "execution_count": 72,
      "outputs": [
        {
          "output_type": "stream",
          "text": [
            "DL37KM2257\n",
            "DL48WO9761\n",
            "DL31GF6726\n",
            "DL59HJ6674\n",
            "DL16PA6100\n",
            "DL55VB1490\n",
            "DL67EN1637\n",
            "DL29VU6321\n",
            "DL98ZV3046\n",
            "DL39OY7277\n",
            "DL45EW5821\n",
            "DL62WO9793\n",
            "DL68QY2904\n",
            "DL75AI7080\n",
            "DL57JX6751\n"
          ],
          "name": "stdout"
        }
      ]
    }
  ]
}