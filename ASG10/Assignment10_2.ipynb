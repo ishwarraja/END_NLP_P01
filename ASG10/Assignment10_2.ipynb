{
  "nbformat": 4,
  "nbformat_minor": 0,
  "metadata": {
    "colab": {
      "name": "Assignment10_2.ipynb",
      "provenance": []
    },
    "kernelspec": {
      "name": "python3",
      "display_name": "Python 3"
    },
    "accelerator": "GPU"
  },
  "cells": [
    {
      "cell_type": "code",
      "metadata": {
        "colab": {
          "base_uri": "https://localhost:8080/"
        },
        "id": "8uRsrPeP0LwI",
        "outputId": "ee8c7378-4e67-4d1d-991c-90f24898c039"
      },
      "source": [
        "!python -m spacy download de\n",
        "!python -m spacy download en"
      ],
      "execution_count": 1,
      "outputs": [
        {
          "output_type": "stream",
          "text": [
            "Collecting de_core_news_sm==2.2.5\n",
            "\u001b[?25l  Downloading https://github.com/explosion/spacy-models/releases/download/de_core_news_sm-2.2.5/de_core_news_sm-2.2.5.tar.gz (14.9MB)\n",
            "\u001b[K     |████████████████████████████████| 14.9MB 1.1MB/s \n",
            "\u001b[?25hRequirement already satisfied: spacy>=2.2.2 in /usr/local/lib/python3.6/dist-packages (from de_core_news_sm==2.2.5) (2.2.4)\n",
            "Requirement already satisfied: srsly<1.1.0,>=1.0.2 in /usr/local/lib/python3.6/dist-packages (from spacy>=2.2.2->de_core_news_sm==2.2.5) (1.0.5)\n",
            "Requirement already satisfied: thinc==7.4.0 in /usr/local/lib/python3.6/dist-packages (from spacy>=2.2.2->de_core_news_sm==2.2.5) (7.4.0)\n",
            "Requirement already satisfied: setuptools in /usr/local/lib/python3.6/dist-packages (from spacy>=2.2.2->de_core_news_sm==2.2.5) (51.1.1)\n",
            "Requirement already satisfied: numpy>=1.15.0 in /usr/local/lib/python3.6/dist-packages (from spacy>=2.2.2->de_core_news_sm==2.2.5) (1.19.5)\n",
            "Requirement already satisfied: wasabi<1.1.0,>=0.4.0 in /usr/local/lib/python3.6/dist-packages (from spacy>=2.2.2->de_core_news_sm==2.2.5) (0.8.0)\n",
            "Requirement already satisfied: blis<0.5.0,>=0.4.0 in /usr/local/lib/python3.6/dist-packages (from spacy>=2.2.2->de_core_news_sm==2.2.5) (0.4.1)\n",
            "Requirement already satisfied: catalogue<1.1.0,>=0.0.7 in /usr/local/lib/python3.6/dist-packages (from spacy>=2.2.2->de_core_news_sm==2.2.5) (1.0.0)\n",
            "Requirement already satisfied: tqdm<5.0.0,>=4.38.0 in /usr/local/lib/python3.6/dist-packages (from spacy>=2.2.2->de_core_news_sm==2.2.5) (4.41.1)\n",
            "Requirement already satisfied: requests<3.0.0,>=2.13.0 in /usr/local/lib/python3.6/dist-packages (from spacy>=2.2.2->de_core_news_sm==2.2.5) (2.23.0)\n",
            "Requirement already satisfied: murmurhash<1.1.0,>=0.28.0 in /usr/local/lib/python3.6/dist-packages (from spacy>=2.2.2->de_core_news_sm==2.2.5) (1.0.5)\n",
            "Requirement already satisfied: preshed<3.1.0,>=3.0.2 in /usr/local/lib/python3.6/dist-packages (from spacy>=2.2.2->de_core_news_sm==2.2.5) (3.0.5)\n",
            "Requirement already satisfied: plac<1.2.0,>=0.9.6 in /usr/local/lib/python3.6/dist-packages (from spacy>=2.2.2->de_core_news_sm==2.2.5) (1.1.3)\n",
            "Requirement already satisfied: cymem<2.1.0,>=2.0.2 in /usr/local/lib/python3.6/dist-packages (from spacy>=2.2.2->de_core_news_sm==2.2.5) (2.0.5)\n",
            "Requirement already satisfied: importlib-metadata>=0.20; python_version < \"3.8\" in /usr/local/lib/python3.6/dist-packages (from catalogue<1.1.0,>=0.0.7->spacy>=2.2.2->de_core_news_sm==2.2.5) (3.3.0)\n",
            "Requirement already satisfied: urllib3!=1.25.0,!=1.25.1,<1.26,>=1.21.1 in /usr/local/lib/python3.6/dist-packages (from requests<3.0.0,>=2.13.0->spacy>=2.2.2->de_core_news_sm==2.2.5) (1.24.3)\n",
            "Requirement already satisfied: certifi>=2017.4.17 in /usr/local/lib/python3.6/dist-packages (from requests<3.0.0,>=2.13.0->spacy>=2.2.2->de_core_news_sm==2.2.5) (2020.12.5)\n",
            "Requirement already satisfied: idna<3,>=2.5 in /usr/local/lib/python3.6/dist-packages (from requests<3.0.0,>=2.13.0->spacy>=2.2.2->de_core_news_sm==2.2.5) (2.10)\n",
            "Requirement already satisfied: chardet<4,>=3.0.2 in /usr/local/lib/python3.6/dist-packages (from requests<3.0.0,>=2.13.0->spacy>=2.2.2->de_core_news_sm==2.2.5) (3.0.4)\n",
            "Requirement already satisfied: zipp>=0.5 in /usr/local/lib/python3.6/dist-packages (from importlib-metadata>=0.20; python_version < \"3.8\"->catalogue<1.1.0,>=0.0.7->spacy>=2.2.2->de_core_news_sm==2.2.5) (3.4.0)\n",
            "Requirement already satisfied: typing-extensions>=3.6.4; python_version < \"3.8\" in /usr/local/lib/python3.6/dist-packages (from importlib-metadata>=0.20; python_version < \"3.8\"->catalogue<1.1.0,>=0.0.7->spacy>=2.2.2->de_core_news_sm==2.2.5) (3.7.4.3)\n",
            "Building wheels for collected packages: de-core-news-sm\n",
            "  Building wheel for de-core-news-sm (setup.py) ... \u001b[?25l\u001b[?25hdone\n",
            "  Created wheel for de-core-news-sm: filename=de_core_news_sm-2.2.5-cp36-none-any.whl size=14907057 sha256=81c9bffedceb4ad3b189ae3c932859eaf783a952ae24b716d750ea54c669ac6d\n",
            "  Stored in directory: /tmp/pip-ephem-wheel-cache-8r74dfmt/wheels/ba/3f/ed/d4aa8e45e7191b7f32db4bfad565e7da1edbf05c916ca7a1ca\n",
            "Successfully built de-core-news-sm\n",
            "Installing collected packages: de-core-news-sm\n",
            "Successfully installed de-core-news-sm-2.2.5\n",
            "\u001b[38;5;2m✔ Download and installation successful\u001b[0m\n",
            "You can now load the model via spacy.load('de_core_news_sm')\n",
            "\u001b[38;5;2m✔ Linking successful\u001b[0m\n",
            "/usr/local/lib/python3.6/dist-packages/de_core_news_sm -->\n",
            "/usr/local/lib/python3.6/dist-packages/spacy/data/de\n",
            "You can now load the model via spacy.load('de')\n",
            "Requirement already satisfied: en_core_web_sm==2.2.5 from https://github.com/explosion/spacy-models/releases/download/en_core_web_sm-2.2.5/en_core_web_sm-2.2.5.tar.gz#egg=en_core_web_sm==2.2.5 in /usr/local/lib/python3.6/dist-packages (2.2.5)\n",
            "Requirement already satisfied: spacy>=2.2.2 in /usr/local/lib/python3.6/dist-packages (from en_core_web_sm==2.2.5) (2.2.4)\n",
            "Requirement already satisfied: thinc==7.4.0 in /usr/local/lib/python3.6/dist-packages (from spacy>=2.2.2->en_core_web_sm==2.2.5) (7.4.0)\n",
            "Requirement already satisfied: setuptools in /usr/local/lib/python3.6/dist-packages (from spacy>=2.2.2->en_core_web_sm==2.2.5) (51.1.1)\n",
            "Requirement already satisfied: murmurhash<1.1.0,>=0.28.0 in /usr/local/lib/python3.6/dist-packages (from spacy>=2.2.2->en_core_web_sm==2.2.5) (1.0.5)\n",
            "Requirement already satisfied: srsly<1.1.0,>=1.0.2 in /usr/local/lib/python3.6/dist-packages (from spacy>=2.2.2->en_core_web_sm==2.2.5) (1.0.5)\n",
            "Requirement already satisfied: requests<3.0.0,>=2.13.0 in /usr/local/lib/python3.6/dist-packages (from spacy>=2.2.2->en_core_web_sm==2.2.5) (2.23.0)\n",
            "Requirement already satisfied: cymem<2.1.0,>=2.0.2 in /usr/local/lib/python3.6/dist-packages (from spacy>=2.2.2->en_core_web_sm==2.2.5) (2.0.5)\n",
            "Requirement already satisfied: blis<0.5.0,>=0.4.0 in /usr/local/lib/python3.6/dist-packages (from spacy>=2.2.2->en_core_web_sm==2.2.5) (0.4.1)\n",
            "Requirement already satisfied: numpy>=1.15.0 in /usr/local/lib/python3.6/dist-packages (from spacy>=2.2.2->en_core_web_sm==2.2.5) (1.19.5)\n",
            "Requirement already satisfied: wasabi<1.1.0,>=0.4.0 in /usr/local/lib/python3.6/dist-packages (from spacy>=2.2.2->en_core_web_sm==2.2.5) (0.8.0)\n",
            "Requirement already satisfied: plac<1.2.0,>=0.9.6 in /usr/local/lib/python3.6/dist-packages (from spacy>=2.2.2->en_core_web_sm==2.2.5) (1.1.3)\n",
            "Requirement already satisfied: preshed<3.1.0,>=3.0.2 in /usr/local/lib/python3.6/dist-packages (from spacy>=2.2.2->en_core_web_sm==2.2.5) (3.0.5)\n",
            "Requirement already satisfied: tqdm<5.0.0,>=4.38.0 in /usr/local/lib/python3.6/dist-packages (from spacy>=2.2.2->en_core_web_sm==2.2.5) (4.41.1)\n",
            "Requirement already satisfied: catalogue<1.1.0,>=0.0.7 in /usr/local/lib/python3.6/dist-packages (from spacy>=2.2.2->en_core_web_sm==2.2.5) (1.0.0)\n",
            "Requirement already satisfied: chardet<4,>=3.0.2 in /usr/local/lib/python3.6/dist-packages (from requests<3.0.0,>=2.13.0->spacy>=2.2.2->en_core_web_sm==2.2.5) (3.0.4)\n",
            "Requirement already satisfied: idna<3,>=2.5 in /usr/local/lib/python3.6/dist-packages (from requests<3.0.0,>=2.13.0->spacy>=2.2.2->en_core_web_sm==2.2.5) (2.10)\n",
            "Requirement already satisfied: urllib3!=1.25.0,!=1.25.1,<1.26,>=1.21.1 in /usr/local/lib/python3.6/dist-packages (from requests<3.0.0,>=2.13.0->spacy>=2.2.2->en_core_web_sm==2.2.5) (1.24.3)\n",
            "Requirement already satisfied: certifi>=2017.4.17 in /usr/local/lib/python3.6/dist-packages (from requests<3.0.0,>=2.13.0->spacy>=2.2.2->en_core_web_sm==2.2.5) (2020.12.5)\n",
            "Requirement already satisfied: importlib-metadata>=0.20; python_version < \"3.8\" in /usr/local/lib/python3.6/dist-packages (from catalogue<1.1.0,>=0.0.7->spacy>=2.2.2->en_core_web_sm==2.2.5) (3.3.0)\n",
            "Requirement already satisfied: typing-extensions>=3.6.4; python_version < \"3.8\" in /usr/local/lib/python3.6/dist-packages (from importlib-metadata>=0.20; python_version < \"3.8\"->catalogue<1.1.0,>=0.0.7->spacy>=2.2.2->en_core_web_sm==2.2.5) (3.7.4.3)\n",
            "Requirement already satisfied: zipp>=0.5 in /usr/local/lib/python3.6/dist-packages (from importlib-metadata>=0.20; python_version < \"3.8\"->catalogue<1.1.0,>=0.0.7->spacy>=2.2.2->en_core_web_sm==2.2.5) (3.4.0)\n",
            "\u001b[38;5;2m✔ Download and installation successful\u001b[0m\n",
            "You can now load the model via spacy.load('en_core_web_sm')\n",
            "\u001b[38;5;2m✔ Linking successful\u001b[0m\n",
            "/usr/local/lib/python3.6/dist-packages/en_core_web_sm -->\n",
            "/usr/local/lib/python3.6/dist-packages/spacy/data/en\n",
            "You can now load the model via spacy.load('en')\n"
          ],
          "name": "stdout"
        }
      ]
    },
    {
      "cell_type": "code",
      "metadata": {
        "id": "Vg8f-0F0-oLr"
      },
      "source": [
        "import torch\n",
        "import torch.nn\n",
        "import torch.optim as optim\n",
        "import torch.nn.functional as F\n",
        "\n",
        "from torchtext.datasets import Multi30k\n",
        "from torchtext.data import Field, BucketIterator\n",
        "\n",
        "import spacy\n",
        "import numpy as np\n",
        "\n",
        "import random\n",
        "import math\n",
        "import time"
      ],
      "execution_count": 2,
      "outputs": []
    },
    {
      "cell_type": "code",
      "metadata": {
        "id": "5ba-JQ-5-oO8"
      },
      "source": [
        "\n",
        "\n",
        "SEED = 1234\n",
        "\n",
        "random.seed(SEED)\n",
        "np.random.seed(SEED)\n",
        "torch.manual_seed(SEED)\n",
        "torch.cuda.manual_seed(SEED)\n",
        "torch.backends.cudnn.deterministic = True\n",
        "\n"
      ],
      "execution_count": 3,
      "outputs": []
    },
    {
      "cell_type": "code",
      "metadata": {
        "id": "NaRSSvPd-oSb"
      },
      "source": [
        "spacy_en = spacy.load('en')\n",
        "spacy_de = spacy.load('de')"
      ],
      "execution_count": 4,
      "outputs": []
    },
    {
      "cell_type": "code",
      "metadata": {
        "id": "RteMyE6q-oVp"
      },
      "source": [
        "def tokenize_en(text):\n",
        "    \"\"\"\n",
        "    Tokenizes German text from a string into a list of strings\n",
        "    \"\"\"\n",
        "    return [tok.text for tok in spacy_en.tokenizer(text)]\n",
        "\n",
        "def tokenize_de(text):\n",
        "    \"\"\"\n",
        "    Tokenizes English text from a string into a list of strings\n",
        "    \"\"\"\n",
        "    return [tok.text for tok in spacy_de.tokenizer(text)]"
      ],
      "execution_count": 5,
      "outputs": []
    },
    {
      "cell_type": "code",
      "metadata": {
        "id": "hFfZuFBw_DzX"
      },
      "source": [
        "SRC = Field(tokenize = tokenize_en, \n",
        "            init_token = '<sos>', \n",
        "            eos_token = '<eos>', \n",
        "            lower = True,\n",
        "            include_lengths = True)\n",
        "\n",
        "TRG = Field(tokenize = tokenize_en, \n",
        "            init_token = '<sos>', \n",
        "            eos_token = '<eos>', \n",
        "            lower = True)"
      ],
      "execution_count": 6,
      "outputs": []
    },
    {
      "cell_type": "code",
      "metadata": {
        "id": "-RYcpm1s_D20",
        "outputId": "e0cd4b6c-fd49-429a-cdfd-5f77636c002c",
        "colab": {
          "base_uri": "https://localhost:8080/"
        }
      },
      "source": [
        "train_data, valid_data, test_data = Multi30k.splits(exts=('.en', '.de'), fields=(SRC, TRG))"
      ],
      "execution_count": 7,
      "outputs": [
        {
          "output_type": "stream",
          "text": [
            "downloading training.tar.gz\n"
          ],
          "name": "stdout"
        },
        {
          "output_type": "stream",
          "text": [
            "training.tar.gz: 100%|██████████| 1.21M/1.21M [00:02<00:00, 492kB/s]\n"
          ],
          "name": "stderr"
        },
        {
          "output_type": "stream",
          "text": [
            "downloading validation.tar.gz\n"
          ],
          "name": "stdout"
        },
        {
          "output_type": "stream",
          "text": [
            "validation.tar.gz: 100%|██████████| 46.3k/46.3k [00:00<00:00, 169kB/s]\n"
          ],
          "name": "stderr"
        },
        {
          "output_type": "stream",
          "text": [
            "downloading mmt_task1_test2016.tar.gz\n"
          ],
          "name": "stdout"
        },
        {
          "output_type": "stream",
          "text": [
            "mmt_task1_test2016.tar.gz: 100%|██████████| 66.2k/66.2k [00:00<00:00, 161kB/s]\n"
          ],
          "name": "stderr"
        }
      ]
    },
    {
      "cell_type": "code",
      "metadata": {
        "id": "rR1CZcJP_D5z"
      },
      "source": [
        "SRC.build_vocab(train_data, min_freq=2)\n",
        "TRG.build_vocab(train_data, min_freq=2)"
      ],
      "execution_count": 8,
      "outputs": []
    },
    {
      "cell_type": "code",
      "metadata": {
        "id": "62oIAGxy_D8p"
      },
      "source": [
        "BATCH_SIZE = 128\n",
        "device = torch.device('cuda' if torch.cuda.is_available() else 'cpu')\n",
        "\n",
        "train_iterator, valid_iterator, test_iterator = BucketIterator.splits(\n",
        "    (train_data, valid_data, test_data),\n",
        "    batch_size = BATCH_SIZE,\n",
        "    device = device,\n",
        "    sort = True,\n",
        "    sort_key = lambda x: len(x.src)\n",
        ")"
      ],
      "execution_count": 9,
      "outputs": []
    },
    {
      "cell_type": "code",
      "metadata": {
        "id": "qrbIUh4v_D_n",
        "outputId": "61db88d0-4a13-4401-9559-36ee60d30811",
        "colab": {
          "base_uri": "https://localhost:8080/"
        }
      },
      "source": [
        "device"
      ],
      "execution_count": 10,
      "outputs": [
        {
          "output_type": "execute_result",
          "data": {
            "text/plain": [
              "device(type='cuda')"
            ]
          },
          "metadata": {
            "tags": []
          },
          "execution_count": 10
        }
      ]
    },
    {
      "cell_type": "code",
      "metadata": {
        "id": "tgumo79S_ECn"
      },
      "source": [
        "class Encoder(torch.nn.Module):\n",
        "  def __init__(self, input_dim, emb_dim, enc_hid_dim, dec_hid_dim, dropout):\n",
        "    super().__init__()\n",
        "    self.embedding = torch.nn.Embedding(input_dim, emb_dim)\n",
        "    self.rnn = torch.nn.GRU(emb_dim, enc_hid_dim, bidirectional = True)\n",
        "    self.fc = torch.nn.Linear(enc_hid_dim * 2, dec_hid_dim)\n",
        "    self.dropout = torch.nn.Dropout(dropout)\n",
        "\n",
        "  def forward(self, src, src_len):\n",
        "    # src -> [src len, batch size]\n",
        "    embedded = self.dropout(self.embedding(src))\n",
        "    # embedded -> [src len, batch size, emb_dim]\n",
        "\n",
        "    packed_embedded = torch.nn.utils.rnn.pack_padded_sequence(embedded, src_len.cpu())\n",
        "    packed_outputs, hidden = self.rnn(packed_embedded)\n",
        "    outputs, _ = torch.nn.utils.rnn.pad_packed_sequence(packed_outputs)\n",
        "    # outputs -> [src len, batch size, enc_hid_dim * num_directions]\n",
        "    #         -> [src len, batch size, enc_hid_dim * 2]\n",
        "    # hidden -> [num_layers * num_directions, batch size, enc_hid_dim]\n",
        "    #        -> [2, batch size, enc_hid_dim]\n",
        "\n",
        "    concatenated = torch.cat((hidden[-2, :, :], hidden[-1, :, :]),dim=1)\n",
        "    # concatenated -> [batch size, enc_hid_dim * 2]\n",
        "\n",
        "    hidden = torch.tanh(self.fc(concatenated))\n",
        "    # hidden -> [batch size, dec_hid_him]\n",
        "\n",
        "    return outputs, hidden\n"
      ],
      "execution_count": 11,
      "outputs": []
    },
    {
      "cell_type": "code",
      "metadata": {
        "id": "UN14XZP0_EFr"
      },
      "source": [
        "class Attention(torch.nn.Module):\n",
        "  def __init__(self, enc_hid_dim, dec_hid_dim):\n",
        "    super().__init__()\n",
        "    self.attn = torch.nn.Linear((enc_hid_dim * 2) + dec_hid_dim, dec_hid_dim)\n",
        "    self.v = torch.nn.Linear(dec_hid_dim, 1, bias=False)\n",
        "\n",
        "  def forward(self, encoder_outputs, hidden, mask):\n",
        "    # encoder_outputs -> [src len, batch size, enc_hid_dim * 2]\n",
        "    # hidden -> [batch size, dec_hid_dim]\n",
        "\n",
        "    src_len = encoder_outputs.shape[0]\n",
        "    batch_size = encoder_outputs.shape[1]\n",
        "\n",
        "    # Repeat hidden state for each time step in src len\n",
        "    hidden = hidden.unsqueeze(0).repeat(src_len, 1, 1)\n",
        "    # hidden -> [src len, batch size, dec_hid_dim]\n",
        "\n",
        "    concatenated = torch.cat((encoder_outputs, hidden), dim=2)\n",
        "    # concatenated -> [src len, batch size, (enc_hid_dim * 2) + dec_hid_dim]\n",
        "\n",
        "    energy = torch.tanh(self.attn(concatenated))\n",
        "    # energy -> [src len, batch size, dec_hid_dim]\n",
        "\n",
        "    attention = self.v(energy).squeeze(2)\n",
        "    attention = attention.masked_fill(mask == 0, -1e10)\n",
        "    # attention -> [src len, batch size]\n",
        "\n",
        "    return F.softmax(attention, dim=0)\n",
        "    # return dim -> [src len, batch size]\n",
        "    # the `src len` values of each item in batch add up to 1 (because of softmax)"
      ],
      "execution_count": 12,
      "outputs": []
    },
    {
      "cell_type": "code",
      "metadata": {
        "id": "J8rioJdP_EIO"
      },
      "source": [
        "class Decoder(torch.nn.Module):\n",
        "\n",
        "  def __init__(self, output_dim, emb_dim, enc_hid_dim, dec_hid_dim, dropout, attention):\n",
        "    super().__init__()\n",
        "\n",
        "    self.output_dim = output_dim\n",
        "\n",
        "    self.embedding = torch.nn.Embedding(output_dim, emb_dim)\n",
        "    self.rnn = torch.nn.GRU(emb_dim + (2 * enc_hid_dim), dec_hid_dim)\n",
        "    self.fc = torch.nn.Linear(emb_dim + dec_hid_dim + (2 * enc_hid_dim), output_dim)\n",
        "    self.dropout = torch.nn.Dropout(dropout)\n",
        "    self.attn = attention\n",
        "\n",
        "  def forward(self, input, encoder_outputs, hidden, mask):\n",
        "    \n",
        "    # input -> [batch size]\n",
        "    # encoder_outputs -> [src len, batch size, enc_hid_dim * 2]\n",
        "    # hidden -> [batch size, dec_hid_dim]\n",
        "\n",
        "    input = input.unsqueeze(0)\n",
        "    # input -> [1, batch size]\n",
        "\n",
        "    embedded = self.dropout(self.embedding(input))\n",
        "    # embedded -> [1, batch size, emb_dim]\n",
        "\n",
        "    a = self.attn(encoder_outputs, hidden, mask)\n",
        "    # a -> [src len, batch size]\n",
        "\n",
        "    encoder_outputs = encoder_outputs.permute(1, 0, 2)\n",
        "    # encoder_outputs -> [batch size, src len, enc_hid_dim * 2]\n",
        "\n",
        "    a = a.permute(1, 0).unsqueeze(1)\n",
        "    # a -> [batch size, 1, src len]\n",
        "\n",
        "    weighted = torch.bmm(a, encoder_outputs).permute(1, 0, 2)\n",
        "    # weighted -> [1, batch size, enc_hid_dim * 2]\n",
        "\n",
        "    outputs, hidden = self.rnn(torch.cat((embedded, weighted), dim=2), hidden.unsqueeze(0))\n",
        "    # outputs -> [1, batch size, dec_hid_dim]\n",
        "    # hidden -> [1, batch size, dec_hid_dim]\n",
        "\n",
        "    fc_input = torch.cat((embedded, outputs, weighted), dim=2)\n",
        "    # fc_input -> [1, batch size, emb_dim + dec_hid_dim + (2 * enc_hid_dim)]\n",
        "\n",
        "    predictions = self.fc(fc_input).squeeze(0)\n",
        "    # predictions -> [batch size, output_dim]\n",
        "\n",
        "    return predictions, hidden.squeeze(0), a.squeeze(1)\n",
        "    # return dimensions\n",
        "    # predictions -> [batch size, output_dim]\n",
        "    # hidden -> [batch size, dec_hid_dim]\n",
        "    # a -> [batch size, src len]"
      ],
      "execution_count": 14,
      "outputs": []
    },
    {
      "cell_type": "code",
      "metadata": {
        "id": "Zz2AjVaL_ELa"
      },
      "source": [
        "class Seq2Seq(torch.nn.Module):\n",
        "\n",
        "  def __init__(self, encoder, decoder, src_pad_idx, device):\n",
        "    super().__init__()\n",
        "\n",
        "    self.encoder = encoder\n",
        "    self.decoder = decoder\n",
        "    self.device = device\n",
        "\n",
        "    self.src_pad_idx = src_pad_idx\n",
        "\n",
        "  def create_mask(self, src):\n",
        "    mask = (src != self.src_pad_idx)\n",
        "    # mask -> [src len, batch size]\n",
        "    return mask\n",
        "\n",
        "  def forward(self, src, src_len, trg, teacher_forcing_ratio=0.5):\n",
        "\n",
        "    # src -> [src len, batch size]\n",
        "    # trg -> [trg len, batch size]\n",
        "\n",
        "    batch_size = trg.shape[1]\n",
        "    trg_len = trg.shape[0]\n",
        "    trg_vocab_size = self.decoder.output_dim\n",
        "\n",
        "    # decoder outputs\n",
        "    outputs = torch.zeros(trg_len, batch_size, trg_vocab_size).to(self.device)\n",
        "\n",
        "    # pass src through encoder\n",
        "    encoder_outputs, hidden = self.encoder(src, src_len)\n",
        "    # encoder_outputs -> [src len, batch size, enc_hid_dim * 2]\n",
        "    # hidden -> [batch size, dec_hid_him]\n",
        "\n",
        "    input = trg[0, :]\n",
        "    # input -> [batch size]\n",
        "\n",
        "    mask = self.create_mask(src)\n",
        "\n",
        "    for t in range(1, trg_len):\n",
        "\n",
        "      output, hidden, attn = self.decoder(input, encoder_outputs, hidden, mask)\n",
        "      # output -> [batch size, output_dim]\n",
        "      # hidden -> [batch size, dec_hid_dim]\n",
        "      # attn -> [batch size, src len]\n",
        "\n",
        "      outputs[t] = output\n",
        "\n",
        "      teacher_force = random.random() < teacher_forcing_ratio\n",
        "\n",
        "      top1 = output.argmax(1)\n",
        "      # top1 -> [batch size]\n",
        "\n",
        "      input = trg[t] if teacher_force else top1\n",
        "\n",
        "    return outputs"
      ],
      "execution_count": 15,
      "outputs": []
    },
    {
      "cell_type": "code",
      "metadata": {
        "id": "q9WHNiSt_EOS"
      },
      "source": [
        "def init_weights(m):\n",
        "  for name, param in m.named_parameters():\n",
        "    if 'weight' in name:\n",
        "      torch.nn.init.normal_(param.data, mean=0, std=0.01)\n",
        "    else:\n",
        "      torch.nn.init.constant_(param.data, 0)"
      ],
      "execution_count": 16,
      "outputs": []
    },
    {
      "cell_type": "code",
      "metadata": {
        "id": "8LAdtA01_ERQ"
      },
      "source": [
        "def count_parameters(model):\n",
        "  return sum(p.numel() for p in model.parameters() if p.requires_grad)"
      ],
      "execution_count": 17,
      "outputs": []
    },
    {
      "cell_type": "code",
      "metadata": {
        "id": "BYbVzQmt_EVC",
        "outputId": "756918e4-25ae-4745-b9fd-4b814083fcbe",
        "colab": {
          "base_uri": "https://localhost:8080/"
        }
      },
      "source": [
        "INPUT_DIM = len(SRC.vocab)\n",
        "OUTPUT_DIM = len(TRG.vocab)\n",
        "ENC_EMB_DIM = 128\n",
        "DEC_EMB_DIM = 128\n",
        "ENC_HID_DIM = 128\n",
        "DEC_HID_HIM = 128\n",
        "\n",
        "DROPOUT = 0.3\n",
        "\n",
        "src_pad_idx = SRC.vocab.stoi[SRC.pad_token]\n",
        "\n",
        "enc = Encoder(INPUT_DIM, ENC_EMB_DIM, ENC_HID_DIM, DEC_HID_HIM, DROPOUT)\n",
        "attn = Attention(ENC_HID_DIM, DEC_HID_HIM)\n",
        "dec = Decoder(OUTPUT_DIM, DEC_EMB_DIM, ENC_HID_DIM, DEC_HID_HIM, DROPOUT, attn)\n",
        "\n",
        "model = Seq2Seq(enc, dec, src_pad_idx, device).to(device)\n",
        "model.apply(init_weights)"
      ],
      "execution_count": 18,
      "outputs": [
        {
          "output_type": "execute_result",
          "data": {
            "text/plain": [
              "Seq2Seq(\n",
              "  (encoder): Encoder(\n",
              "    (embedding): Embedding(5893, 128)\n",
              "    (rnn): GRU(128, 128, bidirectional=True)\n",
              "    (fc): Linear(in_features=256, out_features=128, bias=True)\n",
              "    (dropout): Dropout(p=0.3, inplace=False)\n",
              "  )\n",
              "  (decoder): Decoder(\n",
              "    (embedding): Embedding(7873, 128)\n",
              "    (rnn): GRU(384, 128)\n",
              "    (fc): Linear(in_features=512, out_features=7873, bias=True)\n",
              "    (dropout): Dropout(p=0.3, inplace=False)\n",
              "    (attn): Attention(\n",
              "      (attn): Linear(in_features=384, out_features=128, bias=True)\n",
              "      (v): Linear(in_features=128, out_features=1, bias=False)\n",
              "    )\n",
              "  )\n",
              ")"
            ]
          },
          "metadata": {
            "tags": []
          },
          "execution_count": 18
        }
      ]
    },
    {
      "cell_type": "code",
      "metadata": {
        "id": "9GgYL07i_EZM"
      },
      "source": [
        "optimizer = optim.Adam(model.parameters())"
      ],
      "execution_count": 21,
      "outputs": []
    },
    {
      "cell_type": "code",
      "metadata": {
        "id": "hZAMRUf8_EuH"
      },
      "source": [
        "TRG_PAD_IDX = TRG.vocab.stoi[TRG.pad_token]\n",
        "criterion = torch.nn.CrossEntropyLoss(ignore_index=TRG_PAD_IDX)"
      ],
      "execution_count": 20,
      "outputs": []
    },
    {
      "cell_type": "code",
      "metadata": {
        "id": "sH1DTN6s_Exb"
      },
      "source": [
        "def train(model, iterator, optimizer, criterion, clip):\n",
        "    \n",
        "    model.train()\n",
        "    \n",
        "    epoch_loss = 0\n",
        "    \n",
        "    for i, batch in enumerate(iterator):\n",
        "        \n",
        "        src, src_len = batch.src\n",
        "        trg = batch.trg\n",
        "        \n",
        "        optimizer.zero_grad()\n",
        "        \n",
        "        output = model(src, src_len, trg)\n",
        "        \n",
        "        #trg = [trg len, batch size]\n",
        "        #output = [trg len, batch size, output dim]\n",
        "        \n",
        "        output_dim = output.shape[-1]\n",
        "        \n",
        "        output = output[1:].view(-1, output_dim)\n",
        "        trg = trg[1:].view(-1)\n",
        "        \n",
        "        #trg = [(trg len - 1) * batch size]\n",
        "        #output = [(trg len - 1) * batch size, output dim]\n",
        "        \n",
        "        loss = criterion(output, trg)\n",
        "        \n",
        "        loss.backward()\n",
        "        \n",
        "        torch.nn.utils.clip_grad_norm_(model.parameters(), clip)\n",
        "        \n",
        "        optimizer.step()\n",
        "        \n",
        "        epoch_loss += loss.item()\n",
        "        \n",
        "    return epoch_loss / len(iterator)\n"
      ],
      "execution_count": 22,
      "outputs": []
    },
    {
      "cell_type": "code",
      "metadata": {
        "id": "Ih7Y1LcrAWQv"
      },
      "source": [
        "def evaluate(model, iterator, criterion):\n",
        "    \n",
        "    model.eval()\n",
        "    \n",
        "    epoch_loss = 0\n",
        "    \n",
        "    with torch.no_grad():\n",
        "    \n",
        "        for i, batch in enumerate(iterator):\n",
        "\n",
        "            src, src_len = batch.src\n",
        "            trg = batch.trg\n",
        "\n",
        "            output = model(src, src_len, trg, 0) #turn off teacher forcing\n",
        "\n",
        "            #trg = [trg len, batch size]\n",
        "            #output = [trg len, batch size, output dim]\n",
        "\n",
        "            output_dim = output.shape[-1]\n",
        "            \n",
        "            output = output[1:].view(-1, output_dim)\n",
        "            trg = trg[1:].view(-1)\n",
        "\n",
        "            #trg = [(trg len - 1) * batch size]\n",
        "            #output = [(trg len - 1) * batch size, output dim]\n",
        "\n",
        "            loss = criterion(output, trg)\n",
        "\n",
        "            epoch_loss += loss.item()\n",
        "        \n",
        "    return epoch_loss / len(iterator)\n"
      ],
      "execution_count": 23,
      "outputs": []
    },
    {
      "cell_type": "code",
      "metadata": {
        "id": "3qD1KDR8BCgr"
      },
      "source": [
        "def epoch_time(start_time, end_time):\n",
        "    elapsed_time = end_time - start_time\n",
        "    elapsed_mins = int(elapsed_time / 60)\n",
        "    elapsed_secs = int(elapsed_time - (elapsed_mins * 60))\n",
        "    return elapsed_mins, elapsed_secs"
      ],
      "execution_count": 25,
      "outputs": []
    },
    {
      "cell_type": "code",
      "metadata": {
        "id": "BUvmt4KIAazk",
        "outputId": "e9b4b9bb-c41d-4925-ac70-a10f2f99c2d2",
        "colab": {
          "base_uri": "https://localhost:8080/"
        }
      },
      "source": [
        "N_EPOCHS = 20\n",
        "CLIP = 1\n",
        "\n",
        "best_valid_loss = float('inf')\n",
        "\n",
        "for epoch in range(N_EPOCHS):\n",
        "    \n",
        "    start_time = time.time()\n",
        "    \n",
        "    train_loss = train(model, train_iterator, optimizer, criterion, CLIP)\n",
        "    valid_loss = evaluate(model, valid_iterator, criterion)\n",
        "    \n",
        "    end_time = time.time()\n",
        "    \n",
        "    epoch_mins, epoch_secs = epoch_time(start_time, end_time)\n",
        "    \n",
        "    if valid_loss < best_valid_loss:\n",
        "        best_valid_loss = valid_loss\n",
        "        torch.save(model.state_dict(), 'tut3-model.pt')\n",
        "    \n",
        "    print(f'Epoch: {epoch+1:02} | Time: {epoch_mins}m {epoch_secs}s')\n",
        "    print(f'\\tTrain Loss: {train_loss:.3f} | Train PPL: {math.exp(train_loss):7.3f}')\n",
        "    print(f'\\t Val. Loss: {valid_loss:.3f} |  Val. PPL: {math.exp(valid_loss):7.3f}')"
      ],
      "execution_count": 26,
      "outputs": [
        {
          "output_type": "stream",
          "text": [
            "Epoch: 01 | Time: 0m 24s\n",
            "\tTrain Loss: 4.566 | Train PPL:  96.139\n",
            "\t Val. Loss: 5.706 |  Val. PPL: 300.717\n",
            "Epoch: 02 | Time: 0m 24s\n",
            "\tTrain Loss: 4.309 | Train PPL:  74.386\n",
            "\t Val. Loss: 5.438 |  Val. PPL: 229.969\n",
            "Epoch: 03 | Time: 0m 24s\n",
            "\tTrain Loss: 4.059 | Train PPL:  57.913\n",
            "\t Val. Loss: 5.256 |  Val. PPL: 191.641\n",
            "Epoch: 04 | Time: 0m 24s\n",
            "\tTrain Loss: 3.744 | Train PPL:  42.261\n",
            "\t Val. Loss: 4.904 |  Val. PPL: 134.859\n",
            "Epoch: 05 | Time: 0m 24s\n",
            "\tTrain Loss: 3.441 | Train PPL:  31.220\n",
            "\t Val. Loss: 4.543 |  Val. PPL:  94.010\n",
            "Epoch: 06 | Time: 0m 24s\n",
            "\tTrain Loss: 3.156 | Train PPL:  23.478\n",
            "\t Val. Loss: 4.254 |  Val. PPL:  70.400\n",
            "Epoch: 07 | Time: 0m 24s\n",
            "\tTrain Loss: 2.908 | Train PPL:  18.324\n",
            "\t Val. Loss: 4.043 |  Val. PPL:  56.980\n",
            "Epoch: 08 | Time: 0m 24s\n",
            "\tTrain Loss: 2.694 | Train PPL:  14.784\n",
            "\t Val. Loss: 3.890 |  Val. PPL:  48.911\n",
            "Epoch: 09 | Time: 0m 24s\n",
            "\tTrain Loss: 2.522 | Train PPL:  12.448\n",
            "\t Val. Loss: 3.674 |  Val. PPL:  39.391\n",
            "Epoch: 10 | Time: 0m 24s\n",
            "\tTrain Loss: 2.355 | Train PPL:  10.540\n",
            "\t Val. Loss: 3.755 |  Val. PPL:  42.739\n",
            "Epoch: 11 | Time: 0m 24s\n",
            "\tTrain Loss: 2.240 | Train PPL:   9.396\n",
            "\t Val. Loss: 3.481 |  Val. PPL:  32.488\n",
            "Epoch: 12 | Time: 0m 24s\n",
            "\tTrain Loss: 2.103 | Train PPL:   8.193\n",
            "\t Val. Loss: 3.436 |  Val. PPL:  31.077\n",
            "Epoch: 13 | Time: 0m 24s\n",
            "\tTrain Loss: 1.997 | Train PPL:   7.368\n",
            "\t Val. Loss: 3.346 |  Val. PPL:  28.391\n",
            "Epoch: 14 | Time: 0m 24s\n",
            "\tTrain Loss: 1.913 | Train PPL:   6.776\n",
            "\t Val. Loss: 3.374 |  Val. PPL:  29.185\n",
            "Epoch: 15 | Time: 0m 24s\n",
            "\tTrain Loss: 1.838 | Train PPL:   6.284\n",
            "\t Val. Loss: 3.346 |  Val. PPL:  28.383\n",
            "Epoch: 16 | Time: 0m 24s\n",
            "\tTrain Loss: 1.771 | Train PPL:   5.875\n",
            "\t Val. Loss: 3.438 |  Val. PPL:  31.135\n",
            "Epoch: 17 | Time: 0m 23s\n",
            "\tTrain Loss: 1.715 | Train PPL:   5.558\n",
            "\t Val. Loss: 3.381 |  Val. PPL:  29.405\n",
            "Epoch: 18 | Time: 0m 23s\n",
            "\tTrain Loss: 1.662 | Train PPL:   5.268\n",
            "\t Val. Loss: 3.340 |  Val. PPL:  28.208\n",
            "Epoch: 19 | Time: 0m 23s\n",
            "\tTrain Loss: 1.606 | Train PPL:   4.981\n",
            "\t Val. Loss: 3.207 |  Val. PPL:  24.715\n",
            "Epoch: 20 | Time: 0m 23s\n",
            "\tTrain Loss: 1.559 | Train PPL:   4.755\n",
            "\t Val. Loss: 3.263 |  Val. PPL:  26.139\n"
          ],
          "name": "stdout"
        }
      ]
    },
    {
      "cell_type": "code",
      "metadata": {
        "id": "noGPl5v7AnEx",
        "outputId": "63de993d-e0bc-4774-b4fe-3aea036e4bdd",
        "colab": {
          "base_uri": "https://localhost:8080/"
        }
      },
      "source": [
        "model.load_state_dict(torch.load('tut3-model.pt'))\n",
        "\n",
        "test_loss = evaluate(model, test_iterator, criterion)\n",
        "\n",
        "print(f'| Test Loss: {test_loss:.3f} |  Test PPL: {math.exp(test_loss):7.3f} |')"
      ],
      "execution_count": 27,
      "outputs": [
        {
          "output_type": "stream",
          "text": [
            "| Test Loss: 3.185 |  Test PPL:  24.158 |\n"
          ],
          "name": "stdout"
        }
      ]
    },
    {
      "cell_type": "code",
      "metadata": {
        "id": "OB_CUb5lAsnP"
      },
      "source": [
        "import matplotlib.pyplot as plt\n",
        "from matplotlib import ticker\n",
        "\n",
        "def display_attention(sentence, translation, attention):\n",
        "\n",
        "  fig = plt.figure(figsize=(10, 10))\n",
        "  ax = fig.add_subplot(111)\n",
        "\n",
        "  attention = attention.squeeze(1).cpu().detach().numpy()\n",
        "\n",
        "  cax = ax.matshow(attention, cmap='bone')\n",
        "\n",
        "  ax.tick_params(labelsize=15)\n",
        "  ax.set_xticklabels(['']+['<sos>']+[t.lower() for t in sentence]+['<eos>'], rotation=45)\n",
        "  ax.set_yticklabels(['']+translation)\n",
        "\n",
        "  ax.xaxis.set_major_locator(ticker.MultipleLocator(1))\n",
        "  ax.yaxis.set_major_locator(ticker.MultipleLocator(1))\n",
        "\n",
        "  plt.show()\n",
        "  plt.close()\n"
      ],
      "execution_count": 28,
      "outputs": []
    },
    {
      "cell_type": "code",
      "metadata": {
        "id": "O4nZP0nfEKD0"
      },
      "source": [
        "def translate_sentence(sentence, src_field, trg_field, model, device, max_len=50):\n",
        "\n",
        "  model.eval()\n",
        "\n",
        "  if isinstance(sentence, str):\n",
        "    spacy_en = spacy.load('en')\n",
        "    tokens = [token.text.lower() for token in spacy_en(sentence)]\n",
        "  else:\n",
        "    tokens = [token.lower() for token in sentence]\n",
        "\n",
        "  tokens = [src_field.init_token] + tokens + [src_field.eos_token]\n",
        "\n",
        "  src_indexes = [src_field.vocab.stoi[token] for token in tokens]\n",
        "\n",
        "  src_tensor = torch.LongTensor(src_indexes).unsqueeze(1).to(device)\n",
        "\n",
        "  src_len = torch.LongTensor([len(src_indexes)]).to(device)\n",
        "\n",
        "  with torch.no_grad():\n",
        "    encoder_outputs, hidden = model.encoder(src_tensor, src_len)\n",
        "\n",
        "  mask = model.create_mask(src_tensor)\n",
        "\n",
        "  trg_indexes = [trg_field.vocab.stoi[trg_field.init_token]]\n",
        "\n",
        "  attentions = torch.zeros(max_len, 1, len(src_indexes)).to(device)\n",
        "\n",
        "  for i in range(max_len):\n",
        "\n",
        "    trg_tensor = torch.LongTensor([trg_indexes[-1]]).to(device)\n",
        "\n",
        "    with torch.no_grad():\n",
        "      output, hidden, attention = model.decoder(trg_tensor, encoder_outputs, hidden, mask)\n",
        "\n",
        "      attentions[i] = attention\n",
        "\n",
        "      pred_token = output.argmax(1).item()\n",
        "\n",
        "      trg_indexes.append(pred_token)\n",
        "\n",
        "      if pred_token == trg_field.vocab.stoi[trg_field.eos_token]:\n",
        "        break\n",
        "\n",
        "  trg_tokens = [trg_field.vocab.itos[i] for i in trg_indexes]\n",
        "\n",
        "  return trg_tokens[1:], attentions[:len(trg_tokens)-1]\n"
      ],
      "execution_count": 35,
      "outputs": []
    },
    {
      "cell_type": "code",
      "metadata": {
        "id": "7m0ZUyF9C8Kk"
      },
      "source": [
        "\n",
        "\n",
        "def translate_and_display_attention(idx):\n",
        "\n",
        "  src = vars(train_data.examples[idx])['src']\n",
        "  trg = vars(train_data.examples[idx])['trg']\n",
        "\n",
        "  print(f'src: ${src}')\n",
        "  print(f'trg: ${trg}')\n",
        "\n",
        "  translation, attention = translate_sentence(src, SRC, TRG, model, device)\n",
        "\n",
        "  print(f'predicted: {translation}')\n",
        "\n",
        "  display_attention(src, translation, attention)\n",
        "\n"
      ],
      "execution_count": 36,
      "outputs": []
    },
    {
      "cell_type": "code",
      "metadata": {
        "id": "Lv2NJtoJDGv4",
        "outputId": "fafbd1b5-a057-483b-8ac3-1f1ecbec22b1",
        "colab": {
          "base_uri": "https://localhost:8080/",
          "height": 554
        }
      },
      "source": [
        "translate_and_display_attention(1)"
      ],
      "execution_count": 37,
      "outputs": [
        {
          "output_type": "stream",
          "text": [
            "src: $['several', 'men', 'in', 'hard', 'hats', 'are', 'operating', 'a', 'giant', 'pulley', 'system', '.']\n",
            "trg: $['mehrere', 'männer', 'mit', 'schutzhelmen', 'bedienen', 'ein', 'antriebsradsystem', '.']\n",
            "predicted: ['mehrere', 'männer', 'mit', 'schutzhelmen', 'bedienen', 'ein', '<unk>', '<unk>', '.', '<eos>']\n"
          ],
          "name": "stdout"
        },
        {
          "output_type": "display_data",
          "data": {
            "image/png": "[encoded data removed]",
            "text/plain": [
              "<Figure size 720x720 with 1 Axes>"
            ]
          },
          "metadata": {
            "tags": [],
            "needs_background": "light"
          }
        }
      ]
    },
    {
      "cell_type": "code",
      "metadata": {
        "id": "UfMTyRv7DK9j"
      },
      "source": [
        ""
      ],
      "execution_count": null,
      "outputs": []
    }
  ]
}