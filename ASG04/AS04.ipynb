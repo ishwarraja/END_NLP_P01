{
  "nbformat": 4,
  "nbformat_minor": 0,
  "metadata": {
    "accelerator": "GPU",
    "colab": {
      "name": "AS04.ipynb",
      "provenance": [],
      "collapsed_sections": []
    },
    "kernelspec": {
      "display_name": "Python 3",
      "language": "python",
      "name": "python3"
    },
    "language_info": {
      "codemirror_mode": {
        "name": "ipython",
        "version": 3
      },
      "file_extension": ".py",
      "mimetype": "text/x-python",
      "name": "python",
      "nbconvert_exporter": "python",
      "pygments_lexer": "ipython3",
      "version": "3.7.0"
    }
  },
  "cells": [
    {
      "cell_type": "markdown",
      "metadata": {
        "id": "CeSsk6c8_SEL"
      },
      "source": [
        "## Preparing Data\n"
      ]
    },
    {
      "cell_type": "code",
      "metadata": {
        "id": "0Hq1IVTJ_SEN"
      },
      "source": [
        "import torch\n",
        "from torchtext import data\n",
        "from torchtext import datasets\n",
        "\n",
        "SEED = 1234\n",
        "\n",
        "torch.manual_seed(SEED)\n",
        "torch.backends.cudnn.deterministic = True\n",
        "\n",
        "TEXT = data.Field(tokenize = 'spacy', include_lengths = True)\n",
        "LABEL = data.LabelField(dtype = torch.float)"
      ],
      "execution_count": 2,
      "outputs": []
    },
    {
      "cell_type": "markdown",
      "metadata": {
        "id": "euYid_II_SEX"
      },
      "source": [
        "We then load the IMDb dataset."
      ]
    },
    {
      "cell_type": "code",
      "metadata": {
        "colab": {
          "base_uri": "https://localhost:8080/"
        },
        "id": "e1GEqZgz_SEZ",
        "outputId": "a1dc90ce-ad4a-48b4-eb98-ebf3df6ff184"
      },
      "source": [
        "from torchtext import datasets\n",
        "\n",
        "train_data, test_data = datasets.IMDB.splits(TEXT, LABEL)\n",
        "\n",
        "print(vars(train_data.examples[0]))\n",
        "\n",
        "#print(vars(train_data.examples[i]).get('text').reverse())\n",
        "for i in train_data:\n",
        "  i.text=i.text[::-1]\n",
        "\n",
        "print(vars(train_data.examples[0]))"
      ],
      "execution_count": 3,
      "outputs": [
        {
          "output_type": "stream",
          "text": [
            "aclImdb_v1.tar.gz:   0%|          | 98.3k/84.1M [00:00<01:26, 970kB/s]"
          ],
          "name": "stderr"
        },
        {
          "output_type": "stream",
          "text": [
            "downloading aclImdb_v1.tar.gz\n"
          ],
          "name": "stdout"
        },
        {
          "output_type": "stream",
          "text": [
            "aclImdb_v1.tar.gz: 100%|██████████| 84.1M/84.1M [00:01<00:00, 51.6MB/s]\n"
          ],
          "name": "stderr"
        },
        {
          "output_type": "stream",
          "text": [
            "{'text': ['After', 'losing', 'the', 'Emmy', 'for', 'her', 'performance', 'as', 'Mama', 'Rose', 'in', 'the', 'television', 'version', 'of', 'GYPSY', ',', 'Bette', 'won', 'an', 'Emmy', 'the', 'following', 'year', 'for', 'BETTE', 'MIDLER', ':', 'DIVA', 'LAS', 'VEGAS', ',', 'a', 'live', 'concert', 'special', 'filmed', 'for', 'HBO', 'from', 'Las', 'Vegas', '.', 'Midler', ',', 'who', 'has', 'been', 'performing', 'live', 'on', 'stage', 'since', 'the', '1970', \"'s\", ',', 'proves', 'that', 'she', 'is', 'still', 'one', 'of', 'the', 'most', 'electrifying', 'live', 'performers', 'in', 'the', 'business', '.', 'From', 'her', 'opening', 'number', ',', 'her', 'classic', '\"', 'Friends', '\"', ',', 'where', 'she', 'descends', 'from', 'the', 'wings', 'atop', 'a', 'beautiful', 'prop', 'cloud', ',', 'Bette', 'commands', 'the', 'stage', 'with', 'style', 'and', 'charisma', 'from', 'a', 'rap', '-', 'styled', 'number', 'called', '\"', 'I', 'Look', 'Good', '\"', 'she', 'then', 'proves', 'that', 'she', 'has', 'a', 'way', 'with', 'a', 'joke', 'like', 'few', 'other', 'performers', 'in', 'this', 'business', 'as', 'she', 'segues', 'her', 'way', 'through', 'a', 'variety', 'of', 'musical', 'selections', '.', 'The', 'section', 'of', 'the', 'show', 'where', 'she', 'salutes', 'burlesque', 'goes', 'on', 'a', 'little', 'too', 'long', 'but', 'she', 'does', 'manage', 'to', 'incorporate', 'her', 'old', 'Sophie', 'Tucker', 'jokes', 'here', 'to', 'good', 'advantage', '(', 'even', 'though', 'she', 'actually', 'forgets', 'one', 'joke', 'in', 'the', 'middle', 'of', 'telling', 'it', ',', 'but', 'her', 'ad', '-', 'libbing', 'until', 'she', 'remembers', 'it', 'is', 'hysterical', ')', '.', 'Bette', 'also', 'treats', 'us', 'to', '\"', 'Rose', \"'s\", 'Turn', '\"', 'from', 'GYPSY', 'and', 'the', 'title', 'tune', 'from', 'her', 'smash', 'film', 'THE', 'ROSE', 'as', 'well', 'as', 'a', 'shameless', 'plug', 'for', 'her', 'hit', 'movie', 'THE', 'FIRST', 'WIVES', 'CLUB', '.', 'She', 'brings', 'the', 'house', 'down', 'near', 'the', 'end', 'with', '\"', 'Stay', 'with', 'Me', ',', 'Baby', '\"', 'from', 'THE', 'ROSE', 'and', 'her', 'only', '#', '1', 'hit', 'record', ',', '\"', 'Wind', 'Beneath', 'My', 'Wings', '\"', 'from', 'BEACHES', '.', 'It', \"'s\", 'a', 'dazzling', 'evening', 'of', 'musical', 'comedy', 'entertainment', 'and', 'for', 'Midler', 'fans', ',', 'it', \"'s\", 'a', 'must', '.'], 'label': 'pos'}\n",
            "{'text': ['.', 'must', 'a', \"'s\", 'it', ',', 'fans', 'Midler', 'for', 'and', 'entertainment', 'comedy', 'musical', 'of', 'evening', 'dazzling', 'a', \"'s\", 'It', '.', 'BEACHES', 'from', '\"', 'Wings', 'My', 'Beneath', 'Wind', '\"', ',', 'record', 'hit', '1', '#', 'only', 'her', 'and', 'ROSE', 'THE', 'from', '\"', 'Baby', ',', 'Me', 'with', 'Stay', '\"', 'with', 'end', 'the', 'near', 'down', 'house', 'the', 'brings', 'She', '.', 'CLUB', 'WIVES', 'FIRST', 'THE', 'movie', 'hit', 'her', 'for', 'plug', 'shameless', 'a', 'as', 'well', 'as', 'ROSE', 'THE', 'film', 'smash', 'her', 'from', 'tune', 'title', 'the', 'and', 'GYPSY', 'from', '\"', 'Turn', \"'s\", 'Rose', '\"', 'to', 'us', 'treats', 'also', 'Bette', '.', ')', 'hysterical', 'is', 'it', 'remembers', 'she', 'until', 'libbing', '-', 'ad', 'her', 'but', ',', 'it', 'telling', 'of', 'middle', 'the', 'in', 'joke', 'one', 'forgets', 'actually', 'she', 'though', 'even', '(', 'advantage', 'good', 'to', 'here', 'jokes', 'Tucker', 'Sophie', 'old', 'her', 'incorporate', 'to', 'manage', 'does', 'she', 'but', 'long', 'too', 'little', 'a', 'on', 'goes', 'burlesque', 'salutes', 'she', 'where', 'show', 'the', 'of', 'section', 'The', '.', 'selections', 'musical', 'of', 'variety', 'a', 'through', 'way', 'her', 'segues', 'she', 'as', 'business', 'this', 'in', 'performers', 'other', 'few', 'like', 'joke', 'a', 'with', 'way', 'a', 'has', 'she', 'that', 'proves', 'then', 'she', '\"', 'Good', 'Look', 'I', '\"', 'called', 'number', 'styled', '-', 'rap', 'a', 'from', 'charisma', 'and', 'style', 'with', 'stage', 'the', 'commands', 'Bette', ',', 'cloud', 'prop', 'beautiful', 'a', 'atop', 'wings', 'the', 'from', 'descends', 'she', 'where', ',', '\"', 'Friends', '\"', 'classic', 'her', ',', 'number', 'opening', 'her', 'From', '.', 'business', 'the', 'in', 'performers', 'live', 'electrifying', 'most', 'the', 'of', 'one', 'still', 'is', 'she', 'that', 'proves', ',', \"'s\", '1970', 'the', 'since', 'stage', 'on', 'live', 'performing', 'been', 'has', 'who', ',', 'Midler', '.', 'Vegas', 'Las', 'from', 'HBO', 'for', 'filmed', 'special', 'concert', 'live', 'a', ',', 'VEGAS', 'LAS', 'DIVA', ':', 'MIDLER', 'BETTE', 'for', 'year', 'following', 'the', 'Emmy', 'an', 'won', 'Bette', ',', 'GYPSY', 'of', 'version', 'television', 'the', 'in', 'Rose', 'Mama', 'as', 'performance', 'her', 'for', 'Emmy', 'the', 'losing', 'After'], 'label': 'pos'}\n"
          ],
          "name": "stdout"
        }
      ]
    },
    {
      "cell_type": "code",
      "metadata": {
        "id": "KavVRcf9_SEf"
      },
      "source": [
        "import random\n",
        "\n",
        "train_data, valid_data = train_data.split(random_state = random.seed(SEED))"
      ],
      "execution_count": 4,
      "outputs": []
    },
    {
      "cell_type": "code",
      "metadata": {
        "colab": {
          "base_uri": "https://localhost:8080/"
        },
        "id": "izIiC4KN_SEm",
        "outputId": "d12cc961-9918-4024-9bd4-9271aecf4877"
      },
      "source": [
        "MAX_VOCAB_SIZE = 25_000\n",
        "\n",
        "TEXT.build_vocab(train_data, \n",
        "                 max_size = MAX_VOCAB_SIZE, \n",
        "                 vectors = \"glove.6B.100d\", \n",
        "                 unk_init = torch.Tensor.normal_)\n",
        "\n",
        "LABEL.build_vocab(train_data)"
      ],
      "execution_count": 5,
      "outputs": [
        {
          "output_type": "stream",
          "text": [
            ".vector_cache/glove.6B.zip: 862MB [06:26, 2.23MB/s]                           \n",
            "100%|█████████▉| 399458/400000 [00:18<00:00, 22320.10it/s]"
          ],
          "name": "stderr"
        }
      ]
    },
    {
      "cell_type": "code",
      "metadata": {
        "id": "CgtEzDgi_SEr"
      },
      "source": [
        "BATCH_SIZE = 64\n",
        "\n",
        "device = torch.device('cuda' if torch.cuda.is_available() else 'cpu')\n",
        "\n",
        "train_iterator, valid_iterator, test_iterator = data.BucketIterator.splits(\n",
        "    (train_data, valid_data, test_data), \n",
        "    batch_size = BATCH_SIZE,\n",
        "    sort_within_batch = True,\n",
        "    device = device)"
      ],
      "execution_count": 19,
      "outputs": []
    },
    {
      "cell_type": "markdown",
      "metadata": {
        "id": "f-Z5oAYG_SEw"
      },
      "source": [
        "## Build the Model\n",
        "\n"
      ]
    },
    {
      "cell_type": "code",
      "metadata": {
        "id": "uYsV-KVu_SEx"
      },
      "source": [
        "import torch.nn as nn\n",
        "\n",
        "class RNN(nn.Module):\n",
        "    def __init__(self, vocab_size, embedding_dim, hidden_dim, output_dim,n_layers, \n",
        "                 bidirectional, dropout, pad_idx):\n",
        "        \n",
        "        super().__init__()\n",
        "        \n",
        "        self.embedding = nn.Embedding(vocab_size, embedding_dim, padding_idx = pad_idx)\n",
        "        self.rnn = nn.LSTM(embedding_dim, \n",
        "                           hidden_dim, \n",
        "                           num_layers=n_layers, \n",
        "                           bidirectional=bidirectional, \n",
        "                           dropout=dropout)\n",
        "        \n",
        "        self.fc = nn.Linear(hidden_dim * 2, output_dim)\n",
        "        self.fc2 = nn.Linear(512, 100)\n",
        "        self.fc3 = nn.Linear(100,512)\n",
        "        self.relu = nn.ReLU()\n",
        "        self.dropout = nn.Dropout(dropout)\n",
        "        \n",
        "    def forward(self, text, text_lengths):\n",
        "        \n",
        "        #text = [sent len, batch size]\n",
        "        \n",
        "        embedded = self.dropout(self.embedding(text))\n",
        "        \n",
        "        #embedded = [sent len, batch size, emb dim]\n",
        "        \n",
        "        #pack sequence\n",
        "        packed_embedded = nn.utils.rnn.pack_padded_sequence(embedded, text_lengths)\n",
        "        \n",
        "        for i in range(3):\n",
        "          packed_output, (hidden,cell) = self.rnn(packed_embedded)\n",
        "          packed_embedded = torch.cat((hidden[-2,:,:], hidden[-1,:,:]), dim = 1)\n",
        "          packed_embedded = packed_embedded.unsqueeze(0)\n",
        "          packed_embedded = self.fc2(packed_embedded)\n",
        "          packed_embedded = self.relu(packed_embedded)\n",
        "          #print(f\"Packed_EMBEDDED : {packed_embedded.shape}\")\n",
        "\n",
        "\n",
        "        hidden = self.dropout(self.relu(self.fc3(packed_embedded)))\n",
        "        #hidden = self.fc3(packed_embedded)\n",
        "        #packed_output, (hidden, cell) = self.rnn(packed_embedded) #Co\n",
        "        \n",
        "        #unpack sequence\n",
        "        #output, output_lengths = nn.utils.rnn.pad_packed_sequence(packed_output) #Co\n",
        "\n",
        "        #output = [sent len, batch size, hid dim * num directions]\n",
        "        #output over padding tokens are zero tensors\n",
        "        \n",
        "        #hidden = [num layers * num directions, batch size, hid dim]\n",
        "        #cell = [num layers * num directions, batch size, hid dim]\n",
        "        \n",
        "        #concat the final forward (hidden[-2,:,:]) and backward (hidden[-1,:,:]) hidden layers\n",
        "        #and apply dropout\n",
        "        \n",
        "        #hidden = self.dropout(torch.cat((hidden[-2,:,:], hidden[-1,:,:]), dim = 1)) #Co\n",
        "                \n",
        "        #hidden = [batch size, hid dim * num directions]\n",
        "            \n",
        "        return self.fc(hidden)"
      ],
      "execution_count": 20,
      "outputs": []
    },
    {
      "cell_type": "code",
      "metadata": {
        "id": "tFErZyOM_SE1"
      },
      "source": [
        "INPUT_DIM = len(TEXT.vocab)\n",
        "EMBEDDING_DIM = 100\n",
        "HIDDEN_DIM = 256\n",
        "OUTPUT_DIM = 1\n",
        "N_LAYERS = 2\n",
        "BIDIRECTIONAL = True\n",
        "DROPOUT = 0.2\n",
        "PAD_IDX = TEXT.vocab.stoi[TEXT.pad_token]\n",
        "\n",
        "model = RNN(INPUT_DIM, \n",
        "            EMBEDDING_DIM, \n",
        "            HIDDEN_DIM, \n",
        "            OUTPUT_DIM, \n",
        "            N_LAYERS, \n",
        "            BIDIRECTIONAL, \n",
        "            DROPOUT, \n",
        "            PAD_IDX)"
      ],
      "execution_count": 28,
      "outputs": []
    },
    {
      "cell_type": "code",
      "metadata": {
        "colab": {
          "base_uri": "https://localhost:8080/"
        },
        "id": "_QbJ-Xlf_SE6",
        "outputId": "ad15dd26-f398-40ab-8d73-4ef4a499b7c1"
      },
      "source": [
        "def count_parameters(model):\n",
        "    return sum(p.numel() for p in model.parameters() if p.requires_grad)\n",
        "\n",
        "print(f'The model has {count_parameters(model):,} trainable parameters')"
      ],
      "execution_count": 29,
      "outputs": [
        {
          "output_type": "stream",
          "text": [
            "The model has 4,913,869 trainable parameters\n"
          ],
          "name": "stdout"
        }
      ]
    },
    {
      "cell_type": "code",
      "metadata": {
        "colab": {
          "base_uri": "https://localhost:8080/"
        },
        "id": "BtFXrBq-_SE_",
        "outputId": "62fc0027-d321-47d3-d600-2075d7a69f9a"
      },
      "source": [
        "pretrained_embeddings = TEXT.vocab.vectors\n",
        "\n",
        "print(pretrained_embeddings.shape)"
      ],
      "execution_count": 30,
      "outputs": [
        {
          "output_type": "stream",
          "text": [
            "torch.Size([25002, 100])\n"
          ],
          "name": "stdout"
        }
      ]
    },
    {
      "cell_type": "code",
      "metadata": {
        "colab": {
          "base_uri": "https://localhost:8080/"
        },
        "id": "95Vo0NV3_SFD",
        "outputId": "7188696a-6c25-4a18-d4ec-b7d6e7f5e465"
      },
      "source": [
        "model.embedding.weight.data.copy_(pretrained_embeddings)"
      ],
      "execution_count": 31,
      "outputs": [
        {
          "output_type": "execute_result",
          "data": {
            "text/plain": [
              "tensor([[-0.1117, -0.4966,  0.1631,  ...,  1.2647, -0.2753, -0.1325],\n",
              "        [-0.8555, -0.7208,  1.3755,  ...,  0.0825, -1.1314,  0.3997],\n",
              "        [-0.0382, -0.2449,  0.7281,  ..., -0.1459,  0.8278,  0.2706],\n",
              "        ...,\n",
              "        [-0.2307, -0.7766,  0.9134,  ..., -0.7217,  0.0664, -0.7596],\n",
              "        [-0.5702, -0.0414,  1.0065,  ..., -0.5042, -1.1177,  0.1139],\n",
              "        [-1.5217, -1.2295,  2.3400,  ..., -0.1066, -1.5500,  1.2515]])"
            ]
          },
          "metadata": {
            "tags": []
          },
          "execution_count": 31
        }
      ]
    },
    {
      "cell_type": "code",
      "metadata": {
        "colab": {
          "base_uri": "https://localhost:8080/"
        },
        "id": "Rb8QNNhy_SFH",
        "outputId": "f101f596-4d62-4efc-bb6a-253908e9f65c"
      },
      "source": [
        "UNK_IDX = TEXT.vocab.stoi[TEXT.unk_token]\n",
        "\n",
        "model.embedding.weight.data[UNK_IDX] = torch.zeros(EMBEDDING_DIM)\n",
        "model.embedding.weight.data[PAD_IDX] = torch.zeros(EMBEDDING_DIM)\n",
        "\n",
        "print(model.embedding.weight.data)"
      ],
      "execution_count": 32,
      "outputs": [
        {
          "output_type": "stream",
          "text": [
            "tensor([[ 0.0000,  0.0000,  0.0000,  ...,  0.0000,  0.0000,  0.0000],\n",
            "        [ 0.0000,  0.0000,  0.0000,  ...,  0.0000,  0.0000,  0.0000],\n",
            "        [-0.0382, -0.2449,  0.7281,  ..., -0.1459,  0.8278,  0.2706],\n",
            "        ...,\n",
            "        [-0.2307, -0.7766,  0.9134,  ..., -0.7217,  0.0664, -0.7596],\n",
            "        [-0.5702, -0.0414,  1.0065,  ..., -0.5042, -1.1177,  0.1139],\n",
            "        [-1.5217, -1.2295,  2.3400,  ..., -0.1066, -1.5500,  1.2515]])\n"
          ],
          "name": "stdout"
        }
      ]
    },
    {
      "cell_type": "markdown",
      "metadata": {
        "id": "ZvxwhSF7_SFN"
      },
      "source": [
        "## Train the Model"
      ]
    },
    {
      "cell_type": "code",
      "metadata": {
        "id": "OteWZzKl_SFN"
      },
      "source": [
        "import torch.optim as optim\n",
        "\n",
        "optimizer = optim.Adam(model.parameters())"
      ],
      "execution_count": 33,
      "outputs": []
    },
    {
      "cell_type": "code",
      "metadata": {
        "id": "dnr18Wdm_SFR"
      },
      "source": [
        "criterion = nn.BCEWithLogitsLoss()\n",
        "\n",
        "model = model.to(device)\n",
        "criterion = criterion.to(device)"
      ],
      "execution_count": 34,
      "outputs": []
    },
    {
      "cell_type": "code",
      "metadata": {
        "id": "_BpYYdc3_SFU"
      },
      "source": [
        "def binary_accuracy(preds, y):\n",
        "    \"\"\"\n",
        "    Returns accuracy per batch, i.e. if you get 8/10 right, this returns 0.8, NOT 8\n",
        "    \"\"\"\n",
        "\n",
        "    #round predictions to the closest integer\n",
        "    rounded_preds = torch.round(torch.sigmoid(preds))\n",
        "    correct = (rounded_preds == y).float() #convert into float for division \n",
        "    acc = correct.sum() / len(correct)\n",
        "    return acc"
      ],
      "execution_count": 35,
      "outputs": []
    },
    {
      "cell_type": "code",
      "metadata": {
        "id": "8LMVDpRa_SFX"
      },
      "source": [
        "\n",
        "def train(model, iterator, optimizer, criterion):\n",
        "    \n",
        "    epoch_loss = 0\n",
        "    epoch_acc = 0\n",
        "    \n",
        "    model.train()\n",
        "    \n",
        "    for batch in iterator:\n",
        "        \n",
        "        optimizer.zero_grad()\n",
        "        \n",
        "        text, text_lengths = batch.text\n",
        "        \n",
        "        predictions = model(text, text_lengths.cpu()).squeeze()\n",
        "        \n",
        "        loss = criterion(predictions, batch.label)\n",
        "        \n",
        "        acc = binary_accuracy(predictions, batch.label)\n",
        "        \n",
        "        loss.backward()\n",
        "        \n",
        "        optimizer.step()\n",
        "        \n",
        "        epoch_loss += loss.item()\n",
        "        epoch_acc += acc.item()\n",
        "        \n",
        "    return epoch_loss / len(iterator), epoch_acc / len(iterator)"
      ],
      "execution_count": 36,
      "outputs": []
    },
    {
      "cell_type": "code",
      "metadata": {
        "id": "vzHWEF10_SFa"
      },
      "source": [
        "def evaluate(model, iterator, criterion):\n",
        "    \n",
        "    epoch_loss = 0\n",
        "    epoch_acc = 0\n",
        "    \n",
        "    model.eval()\n",
        "    \n",
        "    with torch.no_grad():\n",
        "    \n",
        "        for batch in iterator:\n",
        "\n",
        "            text, text_lengths = batch.text\n",
        "            \n",
        "            predictions = model(text, text_lengths.cpu()).squeeze()\n",
        "            \n",
        "            loss = criterion(predictions, batch.label)\n",
        "            \n",
        "            acc = binary_accuracy(predictions, batch.label)\n",
        "\n",
        "            epoch_loss += loss.item()\n",
        "            epoch_acc += acc.item()\n",
        "        \n",
        "    return epoch_loss / len(iterator), epoch_acc / len(iterator)"
      ],
      "execution_count": 37,
      "outputs": []
    },
    {
      "cell_type": "code",
      "metadata": {
        "id": "Y7l74uki_SFd"
      },
      "source": [
        "\n",
        "import time\n",
        "\n",
        "def epoch_time(start_time, end_time):\n",
        "    elapsed_time = end_time - start_time\n",
        "    elapsed_mins = int(elapsed_time / 60)\n",
        "    elapsed_secs = int(elapsed_time - (elapsed_mins * 60))\n",
        "    return elapsed_mins, elapsed_secs"
      ],
      "execution_count": 38,
      "outputs": []
    },
    {
      "cell_type": "code",
      "metadata": {
        "colab": {
          "base_uri": "https://localhost:8080/"
        },
        "id": "UMCiY_O1_SFh",
        "outputId": "5e92202b-73c2-4cf3-ae9d-368b39faa979"
      },
      "source": [
        "N_EPOCHS = 5\n",
        "\n",
        "best_valid_loss = float('inf')\n",
        "\n",
        "for epoch in range(N_EPOCHS):\n",
        "\n",
        "    start_time = time.time()\n",
        "    \n",
        "    train_loss, train_acc = train(model, train_iterator, optimizer, criterion)\n",
        "    valid_loss, valid_acc = evaluate(model, valid_iterator, criterion)\n",
        "    \n",
        "    end_time = time.time()\n",
        "\n",
        "    epoch_mins, epoch_secs = epoch_time(start_time, end_time)\n",
        "    \n",
        "    if valid_loss < best_valid_loss:\n",
        "        best_valid_loss = valid_loss\n",
        "        torch.save(model.state_dict(), 'tut2-model.pt')\n",
        "    \n",
        "    print(f'Epoch: {epoch+1:02} | Epoch Time: {epoch_mins}m {epoch_secs}s')\n",
        "    print(f'\\tTrain Loss: {train_loss:.3f} | Train Acc: {train_acc*100:.2f}%')\n",
        "    print(f'\\t Val. Loss: {valid_loss:.3f} |  Val. Acc: {valid_acc*100:.2f}%')"
      ],
      "execution_count": 39,
      "outputs": [
        {
          "output_type": "stream",
          "text": [
            "Epoch: 01 | Epoch Time: 0m 38s\n",
            "\tTrain Loss: 0.629 | Train Acc: 63.09%\n",
            "\t Val. Loss: 0.568 |  Val. Acc: 70.47%\n",
            "Epoch: 02 | Epoch Time: 0m 39s\n",
            "\tTrain Loss: 0.539 | Train Acc: 73.01%\n",
            "\t Val. Loss: 0.623 |  Val. Acc: 64.93%\n",
            "Epoch: 03 | Epoch Time: 0m 39s\n",
            "\tTrain Loss: 0.409 | Train Acc: 81.21%\n",
            "\t Val. Loss: 0.352 |  Val. Acc: 84.45%\n",
            "Epoch: 04 | Epoch Time: 0m 40s\n",
            "\tTrain Loss: 0.280 | Train Acc: 88.46%\n",
            "\t Val. Loss: 0.312 |  Val. Acc: 88.04%\n",
            "Epoch: 05 | Epoch Time: 0m 41s\n",
            "\tTrain Loss: 0.221 | Train Acc: 91.54%\n",
            "\t Val. Loss: 0.277 |  Val. Acc: 88.78%\n"
          ],
          "name": "stdout"
        }
      ]
    },
    {
      "cell_type": "code",
      "metadata": {
        "colab": {
          "base_uri": "https://localhost:8080/"
        },
        "id": "WUhaTySG_SFl",
        "outputId": "f3feae49-8066-4808-dccc-acf4a3a45c62"
      },
      "source": [
        "model.load_state_dict(torch.load('tut2-model.pt'))\n",
        "\n",
        "test_loss, test_acc = evaluate(model, test_iterator, criterion)\n",
        "\n",
        "print(f'Test Loss: {test_loss:.3f} | Test Acc: {test_acc*100:.2f}%')"
      ],
      "execution_count": 40,
      "outputs": [
        {
          "output_type": "stream",
          "text": [
            "Test Loss: 0.340 | Test Acc: 85.51%\n"
          ],
          "name": "stdout"
        }
      ]
    },
    {
      "cell_type": "code",
      "metadata": {
        "id": "tHG0bSJib296"
      },
      "source": [
        "import spacy\n",
        "nlp = spacy.load('en')\n",
        "\n",
        "def predict_sentiment(model, sentence):\n",
        "    model.eval()\n",
        "    tokenized = [tok.text for tok in nlp.tokenizer(sentence)]\n",
        "    indexed = [TEXT.vocab.stoi[t] for t in tokenized]\n",
        "    length = [len(indexed)]\n",
        "    tensor = torch.LongTensor(indexed).to(device)\n",
        "    tensor = tensor.unsqueeze(1)\n",
        "    length_tensor = torch.LongTensor(length)\n",
        "    prediction = torch.sigmoid(model(tensor, length_tensor))\n",
        "    return prediction.item()"
      ],
      "execution_count": 41,
      "outputs": []
    },
    {
      "cell_type": "code",
      "metadata": {
        "id": "gn1ISQWXdXy3",
        "colab": {
          "base_uri": "https://localhost:8080/"
        },
        "outputId": "8cddd448-50f8-49d6-9dae-f5b3399d6c49"
      },
      "source": [
        "predict_sentiment(model, \"This film is terrible\")"
      ],
      "execution_count": 44,
      "outputs": [
        {
          "output_type": "execute_result",
          "data": {
            "text/plain": [
              "0.002912783296778798"
            ]
          },
          "metadata": {
            "tags": []
          },
          "execution_count": 44
        }
      ]
    },
    {
      "cell_type": "code",
      "metadata": {
        "id": "xQeNL3UyVkFg",
        "colab": {
          "base_uri": "https://localhost:8080/"
        },
        "outputId": "a8ff385a-e8ef-4b0e-de43-d2968e32b09e"
      },
      "source": [
        "predict_sentiment(model, \"This film is great\")"
      ],
      "execution_count": 45,
      "outputs": [
        {
          "output_type": "execute_result",
          "data": {
            "text/plain": [
              "0.874282717704773"
            ]
          },
          "metadata": {
            "tags": []
          },
          "execution_count": 45
        }
      ]
    }
  ]
}