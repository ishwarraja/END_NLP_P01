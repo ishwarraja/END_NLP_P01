{
  "nbformat": 4,
  "nbformat_minor": 0,
  "metadata": {
    "colab": {
      "name": "PythonGeneration.ipynb",
      "provenance": [],
      "collapsed_sections": []
    },
    "kernelspec": {
      "display_name": "Python 3",
      "name": "python3"
    }
  },
  "cells": [
    {
      "cell_type": "code",
      "metadata": {
        "colab": {
          "base_uri": "https://localhost:8080/"
        },
        "id": "Z20mHv19jajb",
        "outputId": "965e7b22-1d1f-4d8f-df67-850e4aa901f0"
      },
      "source": [
        "# Given a string, find the length of the longest substring without repeating characters.\r\n",
        "str = \"IshwarVenugopal\"\r\n",
        "\r\n",
        "def longest_non_repeat(str):   \r\n",
        "    i=0\r\n",
        "    max_length = 1\r\n",
        "\r\n",
        "    for i,c in enumerate(str):       \r\n",
        "        start_at = i\r\n",
        "        sub_str=[]         \r\n",
        "        while (start_at < len(str)) and (str[start_at] not in sub_str):\r\n",
        "            sub_str.append(str[start_at])\r\n",
        "            start_at = start_at + 1\r\n",
        "            \r\n",
        "        if len(sub_str) > max_length:\r\n",
        "            max_length = len(sub_str)\r\n",
        "\r\n",
        "        print(sub_str)\r\n",
        "        \r\n",
        "    return max_length\r\n",
        "\r\n",
        "longest_non_repeat(str)"
      ],
      "execution_count": null,
      "outputs": [
        {
          "output_type": "stream",
          "text": [
            "['I', 's', 'h', 'w', 'a', 'r', 'V', 'e', 'n', 'u', 'g', 'o', 'p']\n",
            "['s', 'h', 'w', 'a', 'r', 'V', 'e', 'n', 'u', 'g', 'o', 'p']\n",
            "['h', 'w', 'a', 'r', 'V', 'e', 'n', 'u', 'g', 'o', 'p']\n",
            "['w', 'a', 'r', 'V', 'e', 'n', 'u', 'g', 'o', 'p']\n",
            "['a', 'r', 'V', 'e', 'n', 'u', 'g', 'o', 'p']\n",
            "['r', 'V', 'e', 'n', 'u', 'g', 'o', 'p', 'a', 'l']\n",
            "['V', 'e', 'n', 'u', 'g', 'o', 'p', 'a', 'l']\n",
            "['e', 'n', 'u', 'g', 'o', 'p', 'a', 'l']\n",
            "['n', 'u', 'g', 'o', 'p', 'a', 'l']\n",
            "['u', 'g', 'o', 'p', 'a', 'l']\n",
            "['g', 'o', 'p', 'a', 'l']\n",
            "['o', 'p', 'a', 'l']\n",
            "['p', 'a', 'l']\n",
            "['a', 'l']\n",
            "['l']\n"
          ],
          "name": "stdout"
        },
        {
          "output_type": "execute_result",
          "data": {
            "text/plain": [
              "13"
            ]
          },
          "metadata": {
            "tags": []
          },
          "execution_count": 1
        }
      ]
    },
    {
      "cell_type": "code",
      "metadata": {
        "colab": {
          "background_save": true
        },
        "id": "zFX8t5gcjabq",
        "outputId": "ec20bb10-d04b-44a9-fb22-d4611e8be1a9"
      },
      "source": [
        "# Given an array of integers, return indices of the two numbers such that they add up to a specific target.\r\n",
        "input_array = [2, 7, 11, 15]\r\n",
        "target = 26\r\n",
        "result = []\r\n",
        "\r\n",
        "for i, num in enumerate(input_array):\r\n",
        "    for j in range(i+1, len(input_array)):\r\n",
        "        print(i,j)"
      ],
      "execution_count": null,
      "outputs": [
        {
          "output_type": "stream",
          "text": [
            "0 1\n",
            "0 2\n",
            "0 3\n",
            "1 2\n",
            "1 3\n",
            "2 3\n"
          ],
          "name": "stdout"
        }
      ]
    },
    {
      "cell_type": "code",
      "metadata": {
        "colab": {
          "background_save": true
        },
        "id": "jUPBz4owjaTO",
        "outputId": "7d4d2ac1-20f1-4c5a-dc32-dc1b96b2024f"
      },
      "source": [
        "# Given a sorted integer array without duplicates, return the summary of its ranges.\r\n",
        "input_array = [0,1,2,4,5,7]\r\n",
        "start=0\r\n",
        "result = []\r\n",
        "while start < len(input_array):\r\n",
        "    end = start \r\n",
        "    while end+1<len(input_array) and ((input_array[end+1] - input_array[end]) == 1):\r\n",
        "        end = end + 1\r\n",
        "    if end!=start:\r\n",
        "        result.append(\"{0}-->{1}\".format(input_array[start], input_array[end]))\r\n",
        "        print(result)\r\n",
        "    else:\r\n",
        "        result.append(\"{0}\".format(input_array[start]))\r\n",
        "        print(result)\r\n",
        "    start = end+1\r\n",
        "\r\n",
        "print(result)"
      ],
      "execution_count": null,
      "outputs": [
        {
          "output_type": "stream",
          "text": [
            "['0-->2']\n",
            "['0-->2', '4-->5']\n",
            "['0-->2', '4-->5', '7']\n",
            "['0-->2', '4-->5', '7']\n"
          ],
          "name": "stdout"
        }
      ]
    },
    {
      "cell_type": "code",
      "metadata": {
        "colab": {
          "background_save": true
        },
        "id": "V-hUvng_jaLa",
        "outputId": "a0cea702-4538-4ec3-ca01-c0a2d5444a3b"
      },
      "source": [
        "# Rotate an array of n elements to the right by k steps.\r\n",
        "org = [1,2,3,4,5,6,7]\r\n",
        "result = org[:]\r\n",
        "steps = 3\r\n",
        "\r\n",
        "for idx,num in enumerate(org):\r\n",
        "    if idx+steps < len(org):\r\n",
        "        result[idx+steps] = org[idx]\r\n",
        "    else:\r\n",
        "        result[idx+steps-len(org)] = org[idx]\r\n",
        "\r\n",
        "print(result)"
      ],
      "execution_count": null,
      "outputs": [
        {
          "output_type": "stream",
          "text": [
            "[5, 6, 7, 1, 2, 3, 4]\n"
          ],
          "name": "stdout"
        }
      ]
    },
    {
      "cell_type": "code",
      "metadata": {
        "colab": {
          "background_save": true
        },
        "id": "FIPVAkkdjaBB",
        "outputId": "1f7f4700-cdb0-4bc7-d37a-0c784ee70864"
      },
      "source": [
        "# Consider an array of non-negative integers. A second array is formed by shuffling the elements of the first array and deleting a random element. Given these two arrays, find which element is missing in the second array.\r\n",
        "first_array = [1,2,3,4,5,6,7]\r\n",
        "second_array = [3,7,2,1,4,6]\r\n",
        "\r\n",
        "def finder(first_array, second_array):\r\n",
        "    return(sum(first_array) - sum(second_array))\r\n",
        "\r\n",
        "missing_number = finder(first_array, second_array)\r\n",
        "\r\n",
        "print(missing_number)"
      ],
      "execution_count": null,
      "outputs": [
        {
          "output_type": "stream",
          "text": [
            "5\n"
          ],
          "name": "stdout"
        }
      ]
    },
    {
      "cell_type": "code",
      "metadata": {
        "colab": {
          "background_save": true
        },
        "id": "jzYUqvGLjl2f",
        "outputId": "a8b53b1c-e4b9-4af1-8148-b382f8adeeaa"
      },
      "source": [
        "# Given a collection of intervals which are already sorted by start number, merge all overlapping intervals.\r\n",
        "org_intervals = [[1,3],[2,6],[5,10],[11,16],[15,18],[19,22]]\r\n",
        "i = 0\r\n",
        "while i < len(org_intervals)-1:\r\n",
        "    if org_intervals[i+1][0] < org_intervals[i][1]:\r\n",
        "        org_intervals[i][1]=org_intervals[i+1][1]\r\n",
        "        del org_intervals[i+1]\r\n",
        "        i = i - 1\r\n",
        "    i = i + 1\r\n",
        "print(org_intervals)"
      ],
      "execution_count": null,
      "outputs": [
        {
          "output_type": "stream",
          "text": [
            "[[1, 10], [11, 18], [19, 22]]\n"
          ],
          "name": "stdout"
        }
      ]
    },
    {
      "cell_type": "code",
      "metadata": {
        "colab": {
          "background_save": true
        },
        "id": "2u_5F4EsvJYv",
        "outputId": "fc44928c-39cf-45d5-8aa0-24c8e4206cd7"
      },
      "source": [
        "# Given a list slice it into a 3 equal chunks and revert each list\r\n",
        "sampleList = [11, 45, 8, 23, 14, 12, 78, 45, 89]\r\n",
        "\r\n",
        "length = len(sampleList)\r\n",
        "chunkSize  = int(length/3)\r\n",
        "start = 0\r\n",
        "end = chunkSize\r\n",
        "for i in range(1, 4, 1):\r\n",
        "  indexes = slice(start, end, 1)\r\n",
        "  listChunk = sampleList[indexes]\r\n",
        "  mylist = [i for i in listChunk]\r\n",
        "  print(\"After reversing it \", mylist)\r\n",
        "  start = end\r\n",
        "  if(i != 2):\r\n",
        "    end +=chunkSize\r\n",
        "  else:\r\n",
        "    end += length - chunkSize"
      ],
      "execution_count": null,
      "outputs": [
        {
          "output_type": "stream",
          "text": [
            "After reversing it  [11, 45, 8]\n",
            "After reversing it  [23, 14, 12]\n",
            "After reversing it  [78, 45, 89]\n"
          ],
          "name": "stdout"
        }
      ]
    },
    {
      "cell_type": "code",
      "metadata": {
        "colab": {
          "background_save": true
        },
        "id": "9fWQvL4mvjMC",
        "outputId": "36cf7f87-0c09-40ab-876c-1ba982bc7a6d"
      },
      "source": [
        "# write a program to calculate exponents of an input\r\n",
        "input = 9\r\n",
        "exponent = 2\r\n",
        "final = pow(input, exponent)\r\n",
        "print(f'Exponent Value is:{final}')"
      ],
      "execution_count": null,
      "outputs": [
        {
          "output_type": "stream",
          "text": [
            "Exponent Value is:81\n"
          ],
          "name": "stdout"
        }
      ]
    },
    {
      "cell_type": "code",
      "metadata": {
        "colab": {
          "background_save": true
        },
        "id": "2gaJwM2IvlMo",
        "outputId": "f0d52670-b0aa-4bf6-af77-36a45bc7f5e7"
      },
      "source": [
        "# write a program to multiply two Matrix \r\n",
        "# 3x3 matrix\r\n",
        "X = [[12,7,3],\r\n",
        "    [4 ,5,6],\r\n",
        "    [7 ,8,9]]\r\n",
        "# 3x4 matrix\r\n",
        "Y = [[5,8,1,2],\r\n",
        "    [6,7,3,0],\r\n",
        "    [4,5,9,1]]\r\n",
        "# result is 3x4\r\n",
        "result = [[0,0,0,0],\r\n",
        "         [0,0,0,0],\r\n",
        "         [0,0,0,0]]\r\n",
        "\r\n",
        "# iterate through rows of X\r\n",
        "for i in range(len(X)):\r\n",
        "   # iterate through columns of Y\r\n",
        "   for j in range(len(Y[0])):\r\n",
        "       # iterate through rows of Y\r\n",
        "       for k in range(len(Y)):\r\n",
        "           result[i][j] += X[i][k] * Y[k][j]\r\n",
        "print(f\"Final Result is{result}\")"
      ],
      "execution_count": null,
      "outputs": [
        {
          "output_type": "stream",
          "text": [
            "Final Result is[[114, 160, 60, 27], [74, 97, 73, 14], [119, 157, 112, 23]]\n"
          ],
          "name": "stdout"
        }
      ]
    },
    {
      "cell_type": "code",
      "metadata": {
        "colab": {
          "background_save": true
        },
        "id": "JCIobW3pvnFi",
        "outputId": "16874259-3a5c-41aa-8659-c003a1a3ee16"
      },
      "source": [
        "# write a program to find and print the remainder of two number\r\n",
        "\r\n",
        "num1 = 12\r\n",
        "num2 = 10\r\n",
        "\r\n",
        "ratio = num1 % num2\r\n",
        "print(f'remainder:{ratio}')"
      ],
      "execution_count": null,
      "outputs": [
        {
          "output_type": "stream",
          "text": [
            "remainder:2\n"
          ],
          "name": "stdout"
        }
      ]
    },
    {
      "cell_type": "code",
      "metadata": {
        "colab": {
          "background_save": true
        },
        "id": "02u7nlbqyOtD",
        "outputId": "79f5743b-d209-4b09-fa12-f26d37f26b73"
      },
      "source": [
        "# reverse a number in Python\r\n",
        "number = 1367891\r\n",
        "revs_number = 0  \r\n",
        "while (number > 0):\r\n",
        "  remainder = number % 10\r\n",
        "  revs_number = (revs_number * 10) + remainder\r\n",
        "  number = number // 10\r\n",
        "print(\"The reverse number is : {}\".format(revs_number)) "
      ],
      "execution_count": null,
      "outputs": [
        {
          "output_type": "stream",
          "text": [
            "The reverse number is : 1987631\n"
          ],
          "name": "stdout"
        }
      ]
    },
    {
      "cell_type": "code",
      "metadata": {
        "colab": {
          "background_save": true
        },
        "id": "blMhOuu2zETy",
        "outputId": "19fbca1c-b55f-4b43-eb86-6f635b2dbee0"
      },
      "source": [
        "# Python program to compute sum of digits in number\r\n",
        "def sumDigits(no):  \r\n",
        "    return 0 if no == 0 else int(no % 10) + sumDigits(int(no / 10))   \r\n",
        "n = 1234511\r\n",
        "print(sumDigits(n))"
      ],
      "execution_count": null,
      "outputs": [
        {
          "output_type": "stream",
          "text": [
            "17\n"
          ],
          "name": "stdout"
        }
      ]
    },
    {
      "cell_type": "code",
      "metadata": {
        "colab": {
          "background_save": true
        },
        "id": "o1QTe4Uo0MI3",
        "outputId": "e42b2aba-359c-4030-dd81-07c0a66acbc7"
      },
      "source": [
        "# Find the middle element of a random number list\r\n",
        "my_list = [4,3,2,9,10,44,1]\r\n",
        "print(\"mid value is \",my_list[int(len(my_list)/2)])"
      ],
      "execution_count": null,
      "outputs": [
        {
          "output_type": "stream",
          "text": [
            "mid value is  9\n"
          ],
          "name": "stdout"
        }
      ]
    },
    {
      "cell_type": "code",
      "metadata": {
        "colab": {
          "background_save": true
        },
        "id": "TFWKkKiE0tyH",
        "outputId": "b4247503-75b1-4261-8871-629084ad9203"
      },
      "source": [
        "# Sort the list in ascending order\r\n",
        "my_list = [4,3,2,9,10,44,1]\r\n",
        "my_list.sort()\r\n",
        "print(f\"Ascending Order list:,{my_list}\")"
      ],
      "execution_count": null,
      "outputs": [
        {
          "output_type": "stream",
          "text": [
            "Ascending Order list:,[1, 2, 3, 4, 9, 10, 44]\n"
          ],
          "name": "stdout"
        }
      ]
    },
    {
      "cell_type": "code",
      "metadata": {
        "colab": {
          "background_save": true
        },
        "id": "M0cQh1Cj1N_T",
        "outputId": "38832fdc-3e6f-4ed0-c3ee-97f8ac931f13"
      },
      "source": [
        "# Sort the list in descending order\r\n",
        "my_list = [4,3,2,9,10,44,1]\r\n",
        "my_list.sort(reverse=True)\r\n",
        "print(f\"Descending Order list:,{my_list}\")"
      ],
      "execution_count": null,
      "outputs": [
        {
          "output_type": "stream",
          "text": [
            "Descending Order list:,[44, 10, 9, 4, 3, 2, 1]\n"
          ],
          "name": "stdout"
        }
      ]
    },
    {
      "cell_type": "code",
      "metadata": {
        "colab": {
          "background_save": true
        },
        "id": "H3Jv_ZMz1t3W",
        "outputId": "1fc7567b-9d76-4d16-ee90-bf6a2981c89d"
      },
      "source": [
        "# Concatenation of two List\r\n",
        "my_list1 = [4,3,2,9,10,44,1]\r\n",
        "my_list2 = [5,6,2,8,15,14,12]\r\n",
        "print(f\"Sum of two list:,{my_list1+my_list2}\")"
      ],
      "execution_count": null,
      "outputs": [
        {
          "output_type": "stream",
          "text": [
            "Sum of two list:,[4, 3, 2, 9, 10, 44, 1, 5, 6, 2, 8, 15, 14, 12]\n"
          ],
          "name": "stdout"
        }
      ]
    },
    {
      "cell_type": "code",
      "metadata": {
        "colab": {
          "background_save": true
        },
        "id": "pZCnHvwD2UB6",
        "outputId": "b5633fd7-7306-497a-f603-4baf93435e68"
      },
      "source": [
        "# Removes the item at the given index from the list and returns the removed item\r\n",
        "my_list1 = [4,3,2,9,10,44,1,9,12]\r\n",
        "index = 4\r\n",
        "print(f\"Sum of two list:,{my_list1.pop(index)}\")"
      ],
      "execution_count": null,
      "outputs": [
        {
          "output_type": "stream",
          "text": [
            "Sum of two list:,10\n"
          ],
          "name": "stdout"
        }
      ]
    },
    {
      "cell_type": "code",
      "metadata": {
        "colab": {
          "background_save": true
        },
        "id": "4ih_hhr45bcO",
        "outputId": "658d7c78-8603-4105-b422-050fd8f4e4c7"
      },
      "source": [
        "# Adding Element to a List\r\n",
        "animals = ['cat', 'dog', 'rabbit']\r\n",
        "animals.append('guinea pig')\r\n",
        "print('Updated animals list: ', animals)"
      ],
      "execution_count": null,
      "outputs": [
        {
          "output_type": "stream",
          "text": [
            "Updated animals list:  ['cat', 'dog', 'rabbit', 'guinea pig']\n"
          ],
          "name": "stdout"
        }
      ]
    },
    {
      "cell_type": "code",
      "metadata": {
        "colab": {
          "background_save": true
        },
        "id": "ac7G132q6HWe",
        "outputId": "855513a9-b61d-446f-a6b8-443a5e51863c"
      },
      "source": [
        "# Returns the number of times the specified element appears in the list\r\n",
        "vowels = ['a', 'e', 'i', 'o', 'i', 'u']\r\n",
        "count = vowels.count('i')\r\n",
        "print('The count of i is:', count)"
      ],
      "execution_count": null,
      "outputs": [
        {
          "output_type": "stream",
          "text": [
            "The count of i is: 2\n"
          ],
          "name": "stdout"
        }
      ]
    },
    {
      "cell_type": "code",
      "metadata": {
        "colab": {
          "background_save": true
        },
        "id": "7tuSTeN66c2e",
        "outputId": "17585494-441e-4e4a-c3d2-f5949b8f273d"
      },
      "source": [
        "# Count Tuple Elements Inside List\r\n",
        "random = ['a', ('a', 'b'), ('a', 'b'), [3, 4]]\r\n",
        "count = random.count(('a', 'b'))\r\n",
        "print(\"The count of ('a', 'b') is:\", count)"
      ],
      "execution_count": null,
      "outputs": [
        {
          "output_type": "stream",
          "text": [
            "The count of ('a', 'b') is: 2\n"
          ],
          "name": "stdout"
        }
      ]
    },
    {
      "cell_type": "code",
      "metadata": {
        "colab": {
          "background_save": true
        },
        "id": "Hvr4jvfh6w2G",
        "outputId": "a5b48e43-dab5-4dd0-cfbf-f781d507b9a3"
      },
      "source": [
        "# Removes all items from the list\r\n",
        "list = [{1, 2}, ('a'), ['1.1', '2.2']]\r\n",
        "list.clear()\r\n",
        "print('List:', list)"
      ],
      "execution_count": null,
      "outputs": [
        {
          "output_type": "stream",
          "text": [
            "List: []\n"
          ],
          "name": "stdout"
        }
      ]
    },
    {
      "cell_type": "code",
      "metadata": {
        "colab": {
          "background_save": true
        },
        "id": "SDjQ3L5-7aw2",
        "outputId": "019ec0ec-9f2e-46c1-8e30-4ccb3dd9c086"
      },
      "source": [
        "# access first characters in a string\r\n",
        "word = \"Hello World\"\r\n",
        "letter=word[0]\r\n",
        "print(f\"First Charecter in String:{letter}\")"
      ],
      "execution_count": null,
      "outputs": [
        {
          "output_type": "stream",
          "text": [
            "First Charecter in String:H\n"
          ],
          "name": "stdout"
        }
      ]
    },
    {
      "cell_type": "code",
      "metadata": {
        "colab": {
          "background_save": true
        },
        "id": "S9lfOM4c7rsn",
        "outputId": "1e9d084c-529a-4998-d80f-25dd14e99835"
      },
      "source": [
        "# access Last characters in a string\r\n",
        "word = \"Hello World\"\r\n",
        "letter=word[-1]\r\n",
        "print(f\"First Charecter in String:{letter}\")"
      ],
      "execution_count": null,
      "outputs": [
        {
          "output_type": "stream",
          "text": [
            "First Charecter in String:d\n"
          ],
          "name": "stdout"
        }
      ]
    },
    {
      "cell_type": "code",
      "metadata": {
        "colab": {
          "background_save": true
        },
        "id": "OpFVLvY47w3t",
        "outputId": "0cf0a8d0-ef29-41d7-aa44-46b006a618a3"
      },
      "source": [
        "# Generate a list by list comprehension\r\n",
        "list = [x for x in range(10)]\r\n",
        "print(f\"List Generated by list comprehension:{list}\")"
      ],
      "execution_count": null,
      "outputs": [
        {
          "output_type": "stream",
          "text": [
            "List Generated by list comprehension:[0, 1, 2, 3, 4, 5, 6, 7, 8, 9]\n"
          ],
          "name": "stdout"
        }
      ]
    },
    {
      "cell_type": "code",
      "metadata": {
        "colab": {
          "background_save": true
        },
        "id": "qX8ODtaK8swm",
        "outputId": "386978ef-3c7a-4226-f866-9666a696c019"
      },
      "source": [
        "# Set the values in the new list to upper case\r\n",
        "list = \"AMITKAYAL\"\r\n",
        "newlist = [x.upper() for x in list]\r\n",
        "print(f\"New list to upper case:{newlist}\")"
      ],
      "execution_count": null,
      "outputs": [
        {
          "output_type": "stream",
          "text": [
            "New list to upper case:['A', 'M', 'I', 'T', 'K', 'A', 'Y', 'A', 'L']\n"
          ],
          "name": "stdout"
        }
      ]
    },
    {
      "cell_type": "code",
      "metadata": {
        "colab": {
          "background_save": true
        },
        "id": "vg0YqZRs9Q85",
        "outputId": "69ed7be0-c99a-4e9b-ac4e-762fdbb68836"
      },
      "source": [
        "# Sort the string list alphabetically\r\n",
        "\r\n",
        "thislist = [\"orange\", \"mango\", \"kiwi\", \"pineapple\", \"banana\"]\r\n",
        "thislist.sort()\r\n",
        "print(f\"Sorted List:{thislist}\")"
      ],
      "execution_count": null,
      "outputs": [
        {
          "output_type": "stream",
          "text": [
            "Sorted List:['banana', 'kiwi', 'mango', 'orange', 'pineapple']\n"
          ],
          "name": "stdout"
        }
      ]
    },
    {
      "cell_type": "code",
      "metadata": {
        "colab": {
          "background_save": true
        },
        "id": "uCgWLR6F-QqO",
        "outputId": "c322b2f0-3af2-4a81-cbf9-b364507e55e6"
      },
      "source": [
        "# Join Two Sets\r\n",
        "set1 = {\"a\", \"b\" , \"c\"}\r\n",
        "set2 = {1, 2, 3}\r\n",
        "set3 = set2.union(set1)\r\n",
        "print(f\"Joined Set:{set3}\")"
      ],
      "execution_count": null,
      "outputs": [
        {
          "output_type": "stream",
          "text": [
            "Joined Set:{1, 2, 3, 'a', 'b', 'c'}\n"
          ],
          "name": "stdout"
        }
      ]
    },
    {
      "cell_type": "code",
      "metadata": {
        "colab": {
          "background_save": true
        },
        "id": "ChzuZVLp-8af",
        "outputId": "d9f34170-4fc8-476d-dd62-f0104a0b0aa4"
      },
      "source": [
        "# keep only the items that are present in both sets\r\n",
        "x = {\"apple\", \"banana\", \"cherry\"}\r\n",
        "y = {\"google\", \"microsoft\", \"apple\"}\r\n",
        "\r\n",
        "x.intersection_update(y)\r\n",
        "print(f\"Duplicate Value in Two set:{x}\")"
      ],
      "execution_count": null,
      "outputs": [
        {
          "output_type": "stream",
          "text": [
            "Duplicate Value in Two set:{'apple'}\n"
          ],
          "name": "stdout"
        }
      ]
    },
    {
      "cell_type": "code",
      "metadata": {
        "colab": {
          "background_save": true
        },
        "id": "tkw8tDTB_slX",
        "outputId": "3fb85d05-fd33-4603-c630-18e443c2a57a"
      },
      "source": [
        "# Keep All items from List But NOT the Duplicates\r\n",
        "x = {\"apple\", \"banana\", \"cherry\"}\r\n",
        "y = {\"google\", \"microsoft\", \"apple\"}\r\n",
        "\r\n",
        "x.symmetric_difference_update(y)\r\n",
        "print(f\"Duplicate Value in Two set:{x}\")"
      ],
      "execution_count": null,
      "outputs": [
        {
          "output_type": "stream",
          "text": [
            "Duplicate Value in Two set:{'google', 'cherry', 'microsoft', 'banana'}\n"
          ],
          "name": "stdout"
        }
      ]
    },
    {
      "cell_type": "code",
      "metadata": {
        "colab": {
          "background_save": true
        },
        "id": "T6xkqBrsAMre",
        "outputId": "0acad9e4-2b51-41dd-d5d9-302fd8cd7dd4"
      },
      "source": [
        "# Create and print a dictionary\r\n",
        "thisdict = {\r\n",
        "  \"brand\": \"Ford\",\r\n",
        "  \"model\": \"Mustang\",\r\n",
        "  \"year\": 1964\r\n",
        "}\r\n",
        "print(f\"Sample Dictionary:{thisdict}\")"
      ],
      "execution_count": null,
      "outputs": [
        {
          "output_type": "stream",
          "text": [
            "Sample Dictionary:{'brand': 'Ford', 'model': 'Mustang', 'year': 1964}\n"
          ],
          "name": "stdout"
        }
      ]
    },
    {
      "cell_type": "code",
      "metadata": {
        "colab": {
          "background_save": true
        },
        "id": "WXyUdU2VAaSN",
        "outputId": "40e9a132-2d5d-42f8-bb70-8cf95ab949c3"
      },
      "source": [
        "# Calculate the length of dictionary\r\n",
        "thisdict = {\r\n",
        "  \"brand\": \"Ford\",\r\n",
        "  \"model\": \"Mustang\",\r\n",
        "  \"year\": 1964\r\n",
        "}\r\n",
        "\r\n",
        "print(f\"Length of Dictionary:{len(thisdict)}\")"
      ],
      "execution_count": null,
      "outputs": [
        {
          "output_type": "stream",
          "text": [
            "Length of Dictionary:3\n"
          ],
          "name": "stdout"
        }
      ]
    },
    {
      "cell_type": "code",
      "metadata": {
        "colab": {
          "background_save": true
        },
        "id": "oS0mimKMBBBF",
        "outputId": "e9d24259-036e-458a-a5ee-4d62e37ffea0"
      },
      "source": [
        "# Evaluate a string and a number\r\n",
        "print(bool(\"Hello\"))\r\n",
        "print(bool(15))"
      ],
      "execution_count": null,
      "outputs": [
        {
          "output_type": "stream",
          "text": [
            "True\n",
            "True\n"
          ],
          "name": "stdout"
        }
      ]
    },
    {
      "cell_type": "code",
      "metadata": {
        "colab": {
          "background_save": true
        },
        "id": "KhP7RlGqJLFR",
        "outputId": "448a28a2-418b-45c7-ead5-ad36e75bf693"
      },
      "source": [
        "# Calculate length of a string\r\n",
        "word = \"Hello World\"\r\n",
        "print(f\"Length of string: {len(word)}\")"
      ],
      "execution_count": null,
      "outputs": [
        {
          "output_type": "stream",
          "text": [
            "Length of string: 11\n"
          ],
          "name": "stdout"
        }
      ]
    },
    {
      "cell_type": "code",
      "metadata": {
        "colab": {
          "background_save": true
        },
        "id": "8je7D2NhJagl",
        "outputId": "4763dc75-3944-4c95-e271-50f047934b82"
      },
      "source": [
        "# Count the number of spaces in a sring\r\n",
        "s = \"Count, the number of spaces\"\r\n",
        "lenx = s.count(' ')\r\n",
        "print(f\"number of spaces in sring: {lenx}\")"
      ],
      "execution_count": null,
      "outputs": [
        {
          "output_type": "stream",
          "text": [
            "number of spaces in sring: 4\n"
          ],
          "name": "stdout"
        }
      ]
    },
    {
      "cell_type": "code",
      "metadata": {
        "colab": {
          "background_save": true
        },
        "id": "sM7EWGa1JtBp",
        "outputId": "c862de7d-6484-430f-85ce-deaa66180859"
      },
      "source": [
        "# Split Strings\r\n",
        "word = \"Hello World\"\r\n",
        "ksplit = word.split(' ') \r\n",
        "print(f\"Splited Strings: {ksplit}\")"
      ],
      "execution_count": null,
      "outputs": [
        {
          "output_type": "stream",
          "text": [
            "Splited Strings: ['Hello', 'World']\n"
          ],
          "name": "stdout"
        }
      ]
    },
    {
      "cell_type": "code",
      "metadata": {
        "colab": {
          "background_save": true
        },
        "id": "OQRApMA1J55m",
        "outputId": "94feba5e-ed44-4c26-d024-9124517a17d5"
      },
      "source": [
        "# Prints ten dots\r\n",
        "ten = \".\" * 10\r\n",
        "print(f\"Ten dots: {ten}\")"
      ],
      "execution_count": null,
      "outputs": [
        {
          "output_type": "stream",
          "text": [
            "Ten dots: ..........\n"
          ],
          "name": "stdout"
        }
      ]
    },
    {
      "cell_type": "code",
      "metadata": {
        "colab": {
          "background_save": true
        },
        "id": "Klo7ojItKFgD",
        "outputId": "4f36eea5-3958-46ed-fa5b-d86d2c033577"
      },
      "source": [
        "# Replacing a string with another string\r\n",
        "word = \"Hello World\"\r\n",
        "replace = \"Bye\"\r\n",
        "input = \"Hello\"\r\n",
        "after_replace = word.replace(input, replace)\r\n",
        "print(f\"String ater replacement: {after_replace}\")"
      ],
      "execution_count": null,
      "outputs": [
        {
          "output_type": "stream",
          "text": [
            "String ater replacement: Bye World\n"
          ],
          "name": "stdout"
        }
      ]
    },
    {
      "cell_type": "code",
      "metadata": {
        "colab": {
          "background_save": true
        },
        "id": "0A4AUprQKvb-",
        "outputId": "ac2f5260-b4c5-450c-dc41-c60a069aca77"
      },
      "source": [
        "#removes leading characters\r\n",
        "word = \" xyz \"\r\n",
        "lstrip = word.lstrip()\r\n",
        "print(f\"String ater removal of leading characters:{lstrip}\")"
      ],
      "execution_count": null,
      "outputs": [
        {
          "output_type": "stream",
          "text": [
            "String ater removal of leading characters:xyz \n"
          ],
          "name": "stdout"
        }
      ]
    },
    {
      "cell_type": "code",
      "metadata": {
        "colab": {
          "background_save": true
        },
        "id": "fHUeiKVJK6Sj",
        "outputId": "a2c29edc-11c0-4cea-d5c1-4d02828539d2"
      },
      "source": [
        "#removes trailing characters\r\n",
        "word = \" xyz \"\r\n",
        "rstrip = word.rstrip()\r\n",
        "print(f\"String ater removal of trailing characters:{rstrip}\")"
      ],
      "execution_count": null,
      "outputs": [
        {
          "output_type": "stream",
          "text": [
            "String ater removal of trailing characters: xyz\n"
          ],
          "name": "stdout"
        }
      ]
    },
    {
      "cell_type": "code",
      "metadata": {
        "colab": {
          "background_save": true
        },
        "id": "zn5etCdiLVBo",
        "outputId": "890b0b08-e632-46be-f518-ad6f47bb8e5e"
      },
      "source": [
        "# check if all char are alphanumeric\r\n",
        "word = \"Hello World\"\r\n",
        "check = word.isalnum()\r\n",
        "print(f\"All char are alphanumeric?:{check}\")"
      ],
      "execution_count": null,
      "outputs": [
        {
          "output_type": "stream",
          "text": [
            "All char are alphanumeric?:False\n"
          ],
          "name": "stdout"
        }
      ]
    },
    {
      "cell_type": "code",
      "metadata": {
        "colab": {
          "background_save": true
        },
        "id": "E1bIjoVLLjRv",
        "outputId": "b84d87ea-ef54-49ff-8f36-de8d62934ca7"
      },
      "source": [
        "# check if all char in the string are alphabetic\r\n",
        "word = \"Hello World\"\r\n",
        "check = word.isalpha()\r\n",
        "print(f\"All char are alphabetic?:{check}\")"
      ],
      "execution_count": null,
      "outputs": [
        {
          "output_type": "stream",
          "text": [
            "All char are alphabetic?:False\n"
          ],
          "name": "stdout"
        }
      ]
    },
    {
      "cell_type": "code",
      "metadata": {
        "colab": {
          "background_save": true
        },
        "id": "C0rmcrJALxAv",
        "outputId": "08e72b54-a80c-4d95-8a7a-31c10f0226d1"
      },
      "source": [
        "# test if string contains digits\r\n",
        "word = \"Hello World\"\r\n",
        "check = word.isdigit()\r\n",
        "print(f\"String contains digits?:{check}\")"
      ],
      "execution_count": null,
      "outputs": [
        {
          "output_type": "stream",
          "text": [
            "String contains digits?:False\n"
          ],
          "name": "stdout"
        }
      ]
    },
    {
      "cell_type": "code",
      "metadata": {
        "colab": {
          "background_save": true
        },
        "id": "OlrWUF5bMANg",
        "outputId": "df490f45-307e-474b-86a6-11d7ad821f21"
      },
      "source": [
        "# Test if string contains upper case\r\n",
        "word = \"Hello World\"\r\n",
        "check = word.isupper()\r\n",
        "print(f\"String contains upper case?:{check}\")"
      ],
      "execution_count": null,
      "outputs": [
        {
          "output_type": "stream",
          "text": [
            "String contains upper case?:False\n"
          ],
          "name": "stdout"
        }
      ]
    },
    {
      "cell_type": "code",
      "metadata": {
        "colab": {
          "background_save": true
        },
        "id": "ST-NkE1hMPoS",
        "outputId": "533196f5-4b70-4f6e-db36-9eb5d11360b4"
      },
      "source": [
        "# Test if string starts with H\r\n",
        "word = \"Hello World\"\r\n",
        "check = word.startswith('H')\r\n",
        "print(f\"String starts with H?:{check}\")"
      ],
      "execution_count": null,
      "outputs": [
        {
          "output_type": "stream",
          "text": [
            "String starts with H?:True\n"
          ],
          "name": "stdout"
        }
      ]
    },
    {
      "cell_type": "code",
      "metadata": {
        "colab": {
          "background_save": true
        },
        "id": "9pSfWoV4T50A",
        "outputId": "d4655c8b-cb7b-4d93-8638-35294c59eeb5"
      },
      "source": [
        "# Returns an integer value for the given character\r\n",
        "str = \"A\"\r\n",
        "val = ord(str)\r\n",
        "print(f\"Integer value for the given character?:{val}\")"
      ],
      "execution_count": null,
      "outputs": [
        {
          "output_type": "stream",
          "text": [
            "Integer value for the given character?:65\n"
          ],
          "name": "stdout"
        }
      ]
    },
    {
      "cell_type": "code",
      "metadata": {
        "colab": {
          "background_save": true
        },
        "id": "0YZ0JETqXXVy",
        "outputId": "cab3d6e3-4e9a-4cc9-a3b4-2d8e8a771f84"
      },
      "source": [
        "#  Fibonacci series up to 100\r\n",
        "n = 100\r\n",
        "result = []\r\n",
        "a, b = 0 , 1\r\n",
        "while b < n:\r\n",
        "  result. append( b)\r\n",
        "  a, b = b, a + b\r\n",
        "final = result\r\n",
        "print(f\"Fibonacci series up to 100:{final}\")"
      ],
      "execution_count": null,
      "outputs": [
        {
          "output_type": "stream",
          "text": [
            "Fibonacci series up to 100:[1, 1, 2, 3, 5, 8, 13, 21, 34, 55, 89]\n"
          ],
          "name": "stdout"
        }
      ]
    },
    {
      "cell_type": "code",
      "metadata": {
        "colab": {
          "background_save": true
        },
        "id": "oSo4tEWVXsuC",
        "outputId": "4973ba34-16cf-4c20-a1d2-77fb90224660"
      },
      "source": [
        "# Counting total Digits in a string\r\n",
        "str1 = \"abc4234AFde\"\r\n",
        "digitCount = 0\r\n",
        "for i in range(0,len(str1)):\r\n",
        "  char = str1[i]\r\n",
        "  if(char.isdigit()):\r\n",
        "    digitCount += 1\r\n",
        "print('Number of digits: ',digitCount)"
      ],
      "execution_count": null,
      "outputs": [
        {
          "output_type": "stream",
          "text": [
            "Number of digits:  4\n"
          ],
          "name": "stdout"
        }
      ]
    },
    {
      "cell_type": "code",
      "metadata": {
        "colab": {
          "background_save": true
        },
        "id": "ld8EUdoIb3-C",
        "outputId": "1194a3f7-0114-42e6-cfc7-4545c0705bb5"
      },
      "source": [
        "# Counting total alphanumeric in a string\r\n",
        "str1 = \"abc4234AFde\"\r\n",
        "digitCount = 0\r\n",
        "for i in range(0,len(str1)):\r\n",
        "  char = str1[i]\r\n",
        "  if(char.isalpha()):\r\n",
        "    digitCount += 1\r\n",
        "print('Number of alphanumeric: ',digitCount)"
      ],
      "execution_count": null,
      "outputs": [
        {
          "output_type": "stream",
          "text": [
            "Number of alphanumeric:  7\n"
          ],
          "name": "stdout"
        }
      ]
    },
    {
      "cell_type": "code",
      "metadata": {
        "colab": {
          "background_save": true
        },
        "id": "dL4vwpfMcG0N",
        "outputId": "177b58b9-af0a-4d63-80bd-ba2e5c3b91c7"
      },
      "source": [
        "# Counting total Upper Case in a string\r\n",
        "str1 = \"abc4234AFde\"\r\n",
        "digitCount = 0\r\n",
        "for i in range(0,len(str1)):\r\n",
        "  char = str1[i]\r\n",
        "  if(char.upper()):\r\n",
        "    digitCount += 1\r\n",
        "print('Number total Upper Case: ',digitCount)"
      ],
      "execution_count": null,
      "outputs": [
        {
          "output_type": "stream",
          "text": [
            "Number total Upper Case:  11\n"
          ],
          "name": "stdout"
        }
      ]
    },
    {
      "cell_type": "code",
      "metadata": {
        "colab": {
          "background_save": true
        },
        "id": "zPZPcW8GcRAx",
        "outputId": "684576e9-d50d-422b-c564-29b747e5247f"
      },
      "source": [
        "# Counting total lower Case in a string\r\n",
        "str1 = \"abc4234AFdeaa\"\r\n",
        "digitCount = 0\r\n",
        "for i in range(0,len(str1)):\r\n",
        "  char = str1[i]\r\n",
        "  if(char.lower()):\r\n",
        "    digitCount += 1\r\n",
        "print('Number total lower Case: ',digitCount)"
      ],
      "execution_count": null,
      "outputs": [
        {
          "output_type": "stream",
          "text": [
            "Number total lower Case:  13\n"
          ],
          "name": "stdout"
        }
      ]
    },
    {
      "cell_type": "code",
      "metadata": {
        "colab": {
          "background_save": true
        },
        "id": "Jssit9ntZWhr",
        "outputId": "220be51a-eb93-4787-af37-acdee29b0656"
      },
      "source": [
        "# Bubble sort in python\r\n",
        "list1 = [1, 5, 3, 4]\r\n",
        "\r\n",
        "for i in range(len(list1)-1):\r\n",
        "  for j in range(i+1,len(list1)):\r\n",
        "    if(list1[i] > list1[j]):\r\n",
        "      temp = list1[i]\r\n",
        "      list1[i] = list1[j]\r\n",
        "      list1[j] = temp\r\n",
        "print(\"Bubble Sorted list: \",list1)"
      ],
      "execution_count": null,
      "outputs": [
        {
          "output_type": "stream",
          "text": [
            "Bubble Sorted list:  [1, 3, 4, 5]\n"
          ],
          "name": "stdout"
        }
      ]
    },
    {
      "cell_type": "code",
      "metadata": {
        "colab": {
          "background_save": true
        },
        "id": "7ukjrt1sdG_5",
        "outputId": "e993764b-c85c-4c27-a75e-83be263ffd6b"
      },
      "source": [
        "# Compute the product of every pair of numbers from two lists\r\n",
        "list1 = [1, 2, 3]\r\n",
        "list2 = [5, 6, 7] \r\n",
        "final = [a*b for a in list1 for b in list2]\r\n",
        "print(f\"Product of every pair of numbers from two lists:{final}\")"
      ],
      "execution_count": null,
      "outputs": [
        {
          "output_type": "stream",
          "text": [
            "Product of every pair of numbers from two lists:[5, 6, 7, 10, 12, 14, 15, 18, 21]\n"
          ],
          "name": "stdout"
        }
      ]
    },
    {
      "cell_type": "code",
      "metadata": {
        "colab": {
          "background_save": true
        },
        "id": "f0OKt9uBddrL",
        "outputId": "d7d75b99-c03e-403b-de0f-c6b56928eeb8"
      },
      "source": [
        "# Calculate the sum of every pair of numbers from two lists\r\n",
        "list1 = [1, 2, 3]\r\n",
        "list2 = [5, 6, 7] \r\n",
        "final = [a+b for a in list1 for b in list2]\r\n",
        "print(f\"sum of every pair of numbers from two lists:{final}\")"
      ],
      "execution_count": null,
      "outputs": [
        {
          "output_type": "stream",
          "text": [
            "sum of every pair of numbers from two lists:[6, 7, 8, 7, 8, 9, 8, 9, 10]\n"
          ],
          "name": "stdout"
        }
      ]
    },
    {
      "cell_type": "code",
      "metadata": {
        "colab": {
          "background_save": true
        },
        "id": "EesriNnAd5Wh",
        "outputId": "58dadc5b-e5d4-4574-de3d-8163d00d8448"
      },
      "source": [
        "# Calculate the pair-wise product of two lists\r\n",
        "list1 = [1, 2, 3]\r\n",
        "list2 = [5, 6, 7] \r\n",
        "final = [list1[i]*list2[i] for i in range(len(list1))]\r\n",
        "print(f\"pair-wise product of two lists:{final}\")"
      ],
      "execution_count": null,
      "outputs": [
        {
          "output_type": "stream",
          "text": [
            "pair-wise product of two lists:[5, 12, 21]\n"
          ],
          "name": "stdout"
        }
      ]
    },
    {
      "cell_type": "code",
      "metadata": {
        "colab": {
          "background_save": true
        },
        "id": "60mBYdrceI-R",
        "outputId": "0b50afc7-c73c-44b5-973b-3665a012e8f0"
      },
      "source": [
        "# Remove the last element from the stack\r\n",
        "s = [1,2,3,4]\r\n",
        "print(f\"last element from the stack:{s.pop()}\")"
      ],
      "execution_count": null,
      "outputs": [
        {
          "output_type": "stream",
          "text": [
            "last element from the stack:4\n"
          ],
          "name": "stdout"
        }
      ]
    },
    {
      "cell_type": "code",
      "metadata": {
        "colab": {
          "background_save": true
        },
        "id": "TQvDjj97eVUM",
        "outputId": "0a027bcb-4237-4b2a-8660-e76e76ffeb58"
      },
      "source": [
        "# Insert a number at the beginning of the queue\r\n",
        "q = [1,2,3,4]\r\n",
        "q.insert(0,5)\r\n",
        "print(f\"Revised List:{q}\")"
      ],
      "execution_count": null,
      "outputs": [
        {
          "output_type": "stream",
          "text": [
            "Revised List:[5, 1, 2, 3, 4]\n"
          ],
          "name": "stdout"
        }
      ]
    },
    {
      "cell_type": "code",
      "metadata": {
        "colab": {
          "background_save": true
        },
        "id": "YWKwdnufeppZ",
        "outputId": "7594ad00-082a-4d4d-88b3-964807509494"
      },
      "source": [
        "# Addition of two vector\r\n",
        "v1 = [1,2,3]\r\n",
        "v2 = [1,2,3]\r\n",
        "s1 = [0,0,0]\r\n",
        "\r\n",
        "for i in range(len(v1)):\r\n",
        "  s1[i] = v1[i] + v2[i]\r\n",
        "print(f\"New Vector:{s1}\")"
      ],
      "execution_count": null,
      "outputs": [
        {
          "output_type": "stream",
          "text": [
            "New Vector:[2, 4, 6]\n"
          ],
          "name": "stdout"
        }
      ]
    },
    {
      "cell_type": "code",
      "metadata": {
        "colab": {
          "background_save": true
        },
        "id": "ZCdij3dijcnI",
        "outputId": "178ee868-b826-44f1-9369-354b39f2d611"
      },
      "source": [
        "# Replace negative prices with 0 and leave the positive values unchanged in a list\r\n",
        "original_prices = [1.25, -9.45, 10.22, 3.78, -5.92, 1.16]\r\n",
        "prices = [i if i > 0 else 0 for i in original_prices]\r\n",
        "print(f\"Final List:{prices}\")"
      ],
      "execution_count": null,
      "outputs": [
        {
          "output_type": "stream",
          "text": [
            "Final List:[1.25, 0, 10.22, 3.78, 0, 1.16]\n"
          ],
          "name": "stdout"
        }
      ]
    },
    {
      "cell_type": "code",
      "metadata": {
        "colab": {
          "background_save": true
        },
        "id": "E_OoSpw83U3S",
        "outputId": "786f5621-f140-4253-d517-379f04465a03"
      },
      "source": [
        "# Convert dictionary to JSON\r\n",
        "import json\r\n",
        "person_dict = {'name': 'Bob',\r\n",
        "'age': 12,\r\n",
        "'children': None\r\n",
        "}\r\n",
        "person_json = json.dumps(person_dict)\r\n",
        "print(person_json)"
      ],
      "execution_count": null,
      "outputs": [
        {
          "output_type": "stream",
          "text": [
            "{\"name\": \"Bob\", \"age\": 12, \"children\": null}\n"
          ],
          "name": "stdout"
        }
      ]
    },
    {
      "cell_type": "code",
      "metadata": {
        "colab": {
          "background_save": true
        },
        "id": "fHv5WL2Kn4gx"
      },
      "source": [
        "# Writing JSON to a file\r\n",
        "import json\r\n",
        "person_dict = {\"name\": \"Bob\",\r\n",
        "\"languages\": [\"English\", \"Fench\"],\r\n",
        "\"married\": True,\r\n",
        "\"age\": 32\r\n",
        "}\r\n",
        "with open('person.txt', 'w') as json_file:\r\n",
        "  json.dump(person_dict, json_file)"
      ],
      "execution_count": null,
      "outputs": []
    },
    {
      "cell_type": "code",
      "metadata": {
        "colab": {
          "background_save": true
        },
        "id": "0_VrDzR5n5f4",
        "outputId": "cd9a06b2-08d8-4983-a7a0-02e485f6a14f"
      },
      "source": [
        "# Pretty print JSON\r\n",
        "import json\r\n",
        "person_string = '{\"name\": \"Bob\", \"languages\": \"English\", \"numbers\": [2, 1.6, null]}'\r\n",
        "person_dict = json.loads(person_string)\r\n",
        "print(json.dumps(person_dict, indent = 4, sort_keys=True))"
      ],
      "execution_count": null,
      "outputs": [
        {
          "output_type": "stream",
          "text": [
            "{\n",
            "    \"languages\": \"English\",\n",
            "    \"name\": \"Bob\",\n",
            "    \"numbers\": [\n",
            "        2,\n",
            "        1.6,\n",
            "        null\n",
            "    ]\n",
            "}\n"
          ],
          "name": "stdout"
        }
      ]
    },
    {
      "cell_type": "code",
      "metadata": {
        "colab": {
          "background_save": true
        },
        "id": "7Xf0dksi8SZx",
        "outputId": "ecca5c1a-0747-439f-ee2c-c668f5b85b9f"
      },
      "source": [
        "# Check if the key exists or not in JSON\r\n",
        "import json\r\n",
        "\r\n",
        "studentJson =\"\"\"{\r\n",
        "   \"id\": 1,\r\n",
        "   \"name\": \"john wick\",\r\n",
        "   \"class\": 8,\r\n",
        "   \"percentage\": 75,\r\n",
        "   \"email\": \"jhon@pynative.com\"\r\n",
        "}\"\"\"\r\n",
        "\r\n",
        "print(\"Checking if percentage key exists in JSON\")\r\n",
        "student = json.loads(studentJson)\r\n",
        "if \"percentage\" in student:\r\n",
        "    print(\"Key exist in JSON data\")\r\n",
        "    print(student[\"name\"], \"marks is: \", student[\"percentage\"])\r\n",
        "else:\r\n",
        "    print(\"Key doesn't exist in JSON data\")"
      ],
      "execution_count": null,
      "outputs": [
        {
          "output_type": "stream",
          "text": [
            "Checking if percentage key exists in JSON\n",
            "Key exist in JSON data\n",
            "john wick marks is:  75\n"
          ],
          "name": "stdout"
        }
      ]
    },
    {
      "cell_type": "code",
      "metadata": {
        "colab": {
          "background_save": true
        },
        "id": "9s2go-2s8dXy",
        "outputId": "e864b344-6948-4347-b88e-08e8dcb4612b"
      },
      "source": [
        "# Check if there is a value for a key in JSON\r\n",
        "import json\r\n",
        "\r\n",
        "studentJson =\"\"\"{\r\n",
        "   \"id\": 1,\r\n",
        "   \"name\": \"Ishwar Venugopal\",\r\n",
        "   \"class\": null,\r\n",
        "   \"percentage\": 35,\r\n",
        "   \"email\": \"ishwarraja@gmail.com\"\r\n",
        "}\"\"\"\r\n",
        "student = json.loads(studentJson)\r\n",
        "if not (student.get('email') is None):\r\n",
        "     print(\"value is present for given JSON key\")\r\n",
        "     print(student.get('email'))\r\n",
        "else:\r\n",
        "    print(\"value is not present for given JSON key\")"
      ],
      "execution_count": null,
      "outputs": [
        {
          "output_type": "stream",
          "text": [
            "value is present for given JSON key\n",
            "ishwarraja@gmail.com\n"
          ],
          "name": "stdout"
        }
      ]
    },
    {
      "cell_type": "code",
      "metadata": {
        "colab": {
          "background_save": true
        },
        "id": "YAzlHYs58wTZ",
        "outputId": "570db4cf-2c4f-499a-9d45-30b08e69aaf5"
      },
      "source": [
        "# Sort JSON keys in Python and write it into a file\r\n",
        "import json\r\n",
        "sampleJson = {\"id\" : 1, \"name\" : \"value2\", \"age\" : 29}\r\n",
        "\r\n",
        "with open(\"sampleJson.json\", \"w\") as write_file:\r\n",
        "    json.dump(sampleJson, write_file, indent=4, sort_keys=True)\r\n",
        "print(\"Done writing JSON data into a file\")"
      ],
      "execution_count": null,
      "outputs": [
        {
          "output_type": "stream",
          "text": [
            "Done writing JSON data into a file\n"
          ],
          "name": "stdout"
        }
      ]
    },
    {
      "cell_type": "code",
      "metadata": {
        "colab": {
          "background_save": true
        },
        "id": "byDcvp2G894Z",
        "outputId": "6af2b504-ba00-4989-e40f-9556d4c47f64"
      },
      "source": [
        "#  Given a Python list. Turn every item of a list into its square\r\n",
        "aList = [1, 2, 3, 4, 5, 6, 7]\r\n",
        "aList =  [x * x for x in aList]\r\n",
        "print(aList)"
      ],
      "execution_count": null,
      "outputs": [
        {
          "output_type": "stream",
          "text": [
            "[1, 4, 9, 16, 25, 36, 49]\n"
          ],
          "name": "stdout"
        }
      ]
    },
    {
      "cell_type": "code",
      "metadata": {
        "colab": {
          "background_save": true
        },
        "id": "26EQZnN_9ICg",
        "outputId": "acbcbf99-046d-4698-e5fd-3261aa681ded"
      },
      "source": [
        "# Remove empty strings from the list of strings\r\n",
        "list1 = [\"Mike\", \"\", \"Emma\", \"Kelly\", \"\", \"Brad\"]\r\n",
        "resList = [i for i in (filter(None, list1))]\r\n",
        "print(resList)"
      ],
      "execution_count": null,
      "outputs": [
        {
          "output_type": "stream",
          "text": [
            "['Mike', 'Emma', 'Kelly', 'Brad']\n"
          ],
          "name": "stdout"
        }
      ]
    },
    {
      "cell_type": "code",
      "metadata": {
        "colab": {
          "background_save": true
        },
        "id": "2rhx9-Fg-ClA",
        "outputId": "3fdacda3-8445-4902-99d8-aeab5f7c890b"
      },
      "source": [
        "# Write a program which will achieve given a Python list, remove all occurrence of an input from the list\r\n",
        "list1 = [5, 20, 15, 20, 25, 50, 20]\r\n",
        "\r\n",
        "def removeValue(sampleList, val):\r\n",
        "   return [value for value in sampleList if value != val]\r\n",
        "   \r\n",
        "resList = removeValue(list1, 20)\r\n",
        "print(resList)"
      ],
      "execution_count": null,
      "outputs": [
        {
          "output_type": "stream",
          "text": [
            "[5, 15, 25, 50]\n"
          ],
          "name": "stdout"
        }
      ]
    },
    {
      "cell_type": "code",
      "metadata": {
        "colab": {
          "background_save": true
        },
        "id": "s2UWe94m-URa",
        "outputId": "c5511bdb-36ef-4951-84be-1cb97eeb76cf"
      },
      "source": [
        "#  Generate 3 random integers between 100 and 999 which is divisible by 5\r\n",
        "import random\r\n",
        "\r\n",
        "print(\"Generating 3 random integer number between 100 and 999 divisible by 5\")\r\n",
        "for num in range(3):\r\n",
        "    print(random.randrange(100, 999, 5), end=', ')"
      ],
      "execution_count": null,
      "outputs": [
        {
          "output_type": "stream",
          "text": [
            "Generating 3 random integer number between 100 and 999 divisible by 5\n",
            "695, 665, 635, "
          ],
          "name": "stdout"
        }
      ]
    },
    {
      "cell_type": "code",
      "metadata": {
        "colab": {
          "background_save": true
        },
        "id": "tvyNQgz4-bno",
        "outputId": "f9d22feb-5884-4daa-8aa1-95df8743424f"
      },
      "source": [
        "# Pick a random character from a given String\r\n",
        "import random\r\n",
        "\r\n",
        "name = 'pynative'\r\n",
        "char = random.choice(name)\r\n",
        "print(\"random char is \", char)"
      ],
      "execution_count": null,
      "outputs": [
        {
          "output_type": "stream",
          "text": [
            "random char is  p\n"
          ],
          "name": "stdout"
        }
      ]
    },
    {
      "cell_type": "code",
      "metadata": {
        "colab": {
          "background_save": true
        },
        "id": "WAecM1HB-hN4",
        "outputId": "23c7af34-8ee0-4113-893b-1b97fc8cdbe4"
      },
      "source": [
        "# Generate  random String of length 5\r\n",
        "import random\r\n",
        "import string\r\n",
        "\r\n",
        "def randomString(stringLength):\r\n",
        "    \"\"\"Generate a random string of 5 charcters\"\"\"\r\n",
        "    letters = string.ascii_letters\r\n",
        "    return ''.join(random.choice(letters) for i in range(stringLength))\r\n",
        "\r\n",
        "print (\"Random String is \", randomString(5) )"
      ],
      "execution_count": null,
      "outputs": [
        {
          "output_type": "stream",
          "text": [
            "Random String is  hkeQb\n"
          ],
          "name": "stdout"
        }
      ]
    },
    {
      "cell_type": "code",
      "metadata": {
        "colab": {
          "background_save": true
        },
        "id": "2ibJq1fD-saP",
        "outputId": "7d4cc730-9438-443a-d4f5-12c5fd9eef35"
      },
      "source": [
        "# Generate a random date between given start and end dates\r\n",
        "import random\r\n",
        "import time\r\n",
        "\r\n",
        "def getRandomDate(startDate, endDate ):\r\n",
        "    print(\"Printing random date between\", startDate, \" and \", endDate)\r\n",
        "    randomGenerator = random.random()\r\n",
        "    dateFormat = '%m/%d/%Y'\r\n",
        "\r\n",
        "    startTime = time.mktime(time.strptime(startDate, dateFormat))\r\n",
        "    endTime = time.mktime(time.strptime(endDate, dateFormat))\r\n",
        "\r\n",
        "    randomTime = startTime + randomGenerator * (endTime - startTime)\r\n",
        "    randomDate = time.strftime(dateFormat, time.localtime(randomTime))\r\n",
        "    return randomDate\r\n",
        "\r\n",
        "print (\"Random Date = \", getRandomDate(\"1/1/2016\", \"12/12/2018\"))"
      ],
      "execution_count": null,
      "outputs": [
        {
          "output_type": "stream",
          "text": [
            "Printing random date between 1/1/2016  and  12/12/2018\n",
            "Random Date =  08/03/2017\n"
          ],
          "name": "stdout"
        }
      ]
    },
    {
      "cell_type": "code",
      "metadata": {
        "colab": {
          "background_save": true
        },
        "id": "_3DfaOER-2qj",
        "outputId": "70b5b1d2-167f-49b7-c13b-fd94ffa9f4a6"
      },
      "source": [
        "# Write a program which will create a new string by appending s2 in the middle of s1 given two strings, s1 and s2\r\n",
        "def appendMiddle(s1, s2):\r\n",
        "  middleIndex = int(len(s1) /2)\r\n",
        "  middleThree = s1[:middleIndex:]+ s2 +s1[middleIndex:]\r\n",
        "  print(\"After appending new string in middle\", middleThree)\r\n",
        "  \r\n",
        "appendMiddle(\"Ault\", \"Kelly\")"
      ],
      "execution_count": null,
      "outputs": [
        {
          "output_type": "stream",
          "text": [
            "After appending new string in middle AuKellylt\n"
          ],
          "name": "stdout"
        }
      ]
    },
    {
      "cell_type": "code",
      "metadata": {
        "colab": {
          "background_save": true
        },
        "id": "jnFcueJ7_Fhb",
        "outputId": "3d33b619-3a09-4c56-b7a2-bec6e7af7a43"
      },
      "source": [
        "# Arrange string characters such that lowercase letters should come first\r\n",
        "str1 = \"PyNaTive\"\r\n",
        "lower = []\r\n",
        "upper = []\r\n",
        "for char in str1:\r\n",
        "    if char.islower():\r\n",
        "        lower.append(char)\r\n",
        "    else:\r\n",
        "        upper.append(char)\r\n",
        "sorted_string = ''.join(lower + upper)\r\n",
        "print(sorted_string)"
      ],
      "execution_count": null,
      "outputs": [
        {
          "output_type": "stream",
          "text": [
            "yaivePNT\n"
          ],
          "name": "stdout"
        }
      ]
    },
    {
      "cell_type": "code",
      "metadata": {
        "colab": {
          "background_save": true
        },
        "id": "VpqiqHwS_d4P",
        "outputId": "8b05b5b3-5e4b-4987-d6a7-59460896adab"
      },
      "source": [
        "# Given a string, return the sum and average of the digits that appear in the string, ignoring all other characters\r\n",
        "import re\r\n",
        "\r\n",
        "inputStr = \"English = 78 Science = 83 Math = 68 History = 65\"\r\n",
        "markList = [int(num) for num in re.findall(r'\\b\\d+\\b', inputStr)]\r\n",
        "totalMarks = 0\r\n",
        "for mark in markList:\r\n",
        "  totalMarks+=mark\r\n",
        "\r\n",
        "percentage = totalMarks/len(markList)  \r\n",
        "print(\"Total Marks is:\", totalMarks, \"Percentage is \", percentage)"
      ],
      "execution_count": null,
      "outputs": [
        {
          "output_type": "stream",
          "text": [
            "Total Marks is: 294 Percentage is  73.5\n"
          ],
          "name": "stdout"
        }
      ]
    },
    {
      "cell_type": "code",
      "metadata": {
        "colab": {
          "background_save": true
        },
        "id": "tkINVSrB_ktK",
        "outputId": "b0e9b193-e85e-476e-c43f-76fe92cb0eab"
      },
      "source": [
        "# Given an input string, count occurrences of all characters within a string\r\n",
        "str1 = \"Apple\"\r\n",
        "countDict = dict()\r\n",
        "for char in str1:\r\n",
        "  count = str1.count(char)\r\n",
        "  countDict[char]=count\r\n",
        "print(countDict)"
      ],
      "execution_count": null,
      "outputs": [
        {
          "output_type": "stream",
          "text": [
            "{'A': 1, 'p': 2, 'l': 1, 'e': 1}\n"
          ],
          "name": "stdout"
        }
      ]
    },
    {
      "cell_type": "code",
      "metadata": {
        "colab": {
          "background_save": true
        },
        "id": "ZmtxGzMF_qXt",
        "outputId": "f0aedfe2-2102-4cca-d2cb-11453ffc660d"
      },
      "source": [
        "# Reverse a given string\r\n",
        "str1 = \"PYnative\"\r\n",
        "print(\"Original String is:\", str1)\r\n",
        "\r\n",
        "str1 = str1[::-1]\r\n",
        "print(\"Reversed String is:\", str1)"
      ],
      "execution_count": null,
      "outputs": [
        {
          "output_type": "stream",
          "text": [
            "Original String is: PYnative\n",
            "Reversed String is: evitanYP\n"
          ],
          "name": "stdout"
        }
      ]
    },
    {
      "cell_type": "code",
      "metadata": {
        "colab": {
          "background_save": true
        },
        "id": "nn055r2I_zBm",
        "outputId": "8e611bfc-f3e7-4a89-ccc9-d75f655597b3"
      },
      "source": [
        "# Remove special symbols/Punctuation from a given string\r\n",
        "import string\r\n",
        "\r\n",
        "str1 = \"/*Jon is @developer & musician\"\r\n",
        "new_str = str1.translate(str.maketrans('', '', string.punctuation))\r\n",
        "print(\"New string is \", new_str)"
      ],
      "execution_count": null,
      "outputs": [
        {
          "output_type": "stream",
          "text": [
            "New string is  Jon is developer  musician\n"
          ],
          "name": "stdout"
        }
      ]
    },
    {
      "cell_type": "code",
      "metadata": {
        "colab": {
          "background_save": true
        },
        "id": "iTu0KvOm_-5z",
        "outputId": "0bb6bd80-a3ca-4998-9aea-59c551422816"
      },
      "source": [
        "# Removal all the characters other than integers from string\r\n",
        "str1 = 'I am 25 years and 10 months old'\r\n",
        "res = \"\".join([item for item in str1 if item.isdigit()])\r\n",
        "print(res)"
      ],
      "execution_count": null,
      "outputs": [
        {
          "output_type": "stream",
          "text": [
            "2510\n"
          ],
          "name": "stdout"
        }
      ]
    },
    {
      "cell_type": "code",
      "metadata": {
        "colab": {
          "background_save": true
        },
        "id": "LQmf7VtBAI6k",
        "outputId": "bfbdd793-5bbf-4e36-e8af-10963f845d90"
      },
      "source": [
        "# From given string replace each punctuation with #\r\n",
        "from string import punctuation\r\n",
        "\r\n",
        "str1 = '/*Jon is @developer & musician!!'\r\n",
        "replace_char = '#'\r\n",
        "for char in punctuation:\r\n",
        "    str1 = str1.replace(char, replace_char)\r\n",
        "\r\n",
        "print(\"The strings after replacement : \", str1)"
      ],
      "execution_count": null,
      "outputs": [
        {
          "output_type": "stream",
          "text": [
            "The strings after replacement :  ##Jon is #developer # musician##\n"
          ],
          "name": "stdout"
        }
      ]
    },
    {
      "cell_type": "code",
      "metadata": {
        "colab": {
          "background_save": true
        },
        "id": "ExoonkswAni8",
        "outputId": "38697fd3-874f-4542-92c1-f6d7a8d594bd"
      },
      "source": [
        "# Given a list iterate it and count the occurrence of each element and create a dictionary to show the count of each elemen\r\n",
        "sampleList = [11, 45, 8, 11, 23, 45, 23, 45, 89]\r\n",
        "countDict = dict()\r\n",
        "for item in sampleList:\r\n",
        "  if(item in countDict):\r\n",
        "    countDict[item] += 1\r\n",
        "  else:\r\n",
        "    countDict[item] = 1\r\n",
        "  \r\n",
        "print(\"Printing count of each item  \",countDict)"
      ],
      "execution_count": null,
      "outputs": [
        {
          "output_type": "stream",
          "text": [
            "Printing count of each item   {11: 2, 45: 3, 8: 1, 23: 2, 89: 1}\n"
          ],
          "name": "stdout"
        }
      ]
    },
    {
      "cell_type": "code",
      "metadata": {
        "colab": {
          "background_save": true
        },
        "id": "D-6xalkRBrmc",
        "outputId": "aa5973bf-e5aa-4fe3-fbc7-ea41b6880f48"
      },
      "source": [
        "# Given a two list of equal size create a set such that it shows the element from both lists in the pair\r\n",
        "firstList = [2, 3, 4, 5, 6, 7, 8]\r\n",
        "secondList = [4, 9, 16, 25, 36, 49, 64]\r\n",
        "result = zip(firstList, secondList)\r\n",
        "resultSet = set(result)\r\n",
        "print(resultSet)"
      ],
      "execution_count": null,
      "outputs": [
        {
          "output_type": "stream",
          "text": [
            "{(6, 36), (8, 64), (4, 16), (5, 25), (3, 9), (7, 49), (2, 4)}\n"
          ],
          "name": "stdout"
        }
      ]
    },
    {
      "cell_type": "code",
      "metadata": {
        "colab": {
          "background_save": true
        },
        "id": "mpYxkTTPKeTC",
        "outputId": "070faf0b-7e56-4e81-aec9-60a4acfe5ae9"
      },
      "source": [
        "# Given a two sets find the intersection and remove those elements from the first set\r\n",
        "firstSet  = {23, 42, 65, 57, 78, 83, 29}\r\n",
        "secondSet = {57, 83, 29, 67, 73, 43, 48}\r\n",
        "\r\n",
        "intersection = firstSet.intersection(secondSet)\r\n",
        "for item in intersection:\r\n",
        "  firstSet.remove(item)\r\n",
        "print(\"First Set after removing common element \", firstSet)"
      ],
      "execution_count": null,
      "outputs": [
        {
          "output_type": "stream",
          "text": [
            "First Set after removing common element  {65, 42, 78, 23}\n"
          ],
          "name": "stdout"
        }
      ]
    },
    {
      "cell_type": "code",
      "metadata": {
        "colab": {
          "background_save": true
        },
        "id": "QWBAKvSGKrhM",
        "outputId": "418fb228-10b8-466f-c78a-9fffc1a326a3"
      },
      "source": [
        "# Given a dictionary get all values from the dictionary and add it in a list but don’t add duplicates\r\n",
        "speed  ={'jan':47, 'feb':52, 'march':47, 'April':44, 'May':52, 'June':53,\r\n",
        "          'july':54, 'Aug':44, 'Sept':54} \r\n",
        "\r\n",
        "speedList = []\r\n",
        "for item in speed.values():\r\n",
        "  if item not in speedList:\r\n",
        "    speedList.append(item)\r\n",
        "print(\"unique list\", speedList)"
      ],
      "execution_count": null,
      "outputs": [
        {
          "output_type": "stream",
          "text": [
            "unique list [47, 52, 44, 53, 54]\n"
          ],
          "name": "stdout"
        }
      ]
    },
    {
      "cell_type": "code",
      "metadata": {
        "colab": {
          "background_save": true
        },
        "id": "ornCCtbZLBP0",
        "outputId": "e6821b02-ed37-4ac3-806e-7cdee08678e8"
      },
      "source": [
        "# Convert decimal number to octal\r\n",
        "print('%o,' % (8))"
      ],
      "execution_count": null,
      "outputs": [
        {
          "output_type": "stream",
          "text": [
            "10,\n"
          ],
          "name": "stdout"
        }
      ]
    },
    {
      "cell_type": "code",
      "metadata": {
        "colab": {
          "background_save": true
        },
        "id": "qTg6M-y4LN4J",
        "outputId": "ed40f249-eca3-46cc-9560-3acebb8008f3"
      },
      "source": [
        "# Convert string into a datetime object\r\n",
        "from datetime import datetime\r\n",
        "date_string = \"Feb 25 2020  4:20PM\"\r\n",
        "datetime_object = datetime.strptime(date_string, '%b %d %Y %I:%M%p')\r\n",
        "print(datetime_object)"
      ],
      "execution_count": null,
      "outputs": [
        {
          "output_type": "stream",
          "text": [
            "2020-02-25 16:20:00\n"
          ],
          "name": "stdout"
        }
      ]
    },
    {
      "cell_type": "code",
      "metadata": {
        "colab": {
          "background_save": true
        },
        "id": "lPM3hzdzLU0t",
        "outputId": "700c2478-b71d-4728-848e-d763aa0ef148"
      },
      "source": [
        "# Subtract a week from a given date\r\n",
        "from datetime import datetime, timedelta\r\n",
        "given_date = datetime(2020, 2, 25)\r\n",
        "days_to_subtract = 7\r\n",
        "res_date = given_date - timedelta(days=days_to_subtract)\r\n",
        "print(res_date)"
      ],
      "execution_count": null,
      "outputs": [
        {
          "output_type": "stream",
          "text": [
            "2020-02-18 00:00:00\n"
          ],
          "name": "stdout"
        }
      ]
    },
    {
      "cell_type": "code",
      "metadata": {
        "colab": {
          "background_save": true
        },
        "id": "J5QIXtXxLfKr",
        "outputId": "4ad90794-6ca1-45f8-e891-143669d52988"
      },
      "source": [
        "# Find the day of week of a given date?\r\n",
        "from datetime import datetime\r\n",
        "given_date = datetime(2020, 7, 26)\r\n",
        "print(given_date.strftime('%A'))"
      ],
      "execution_count": null,
      "outputs": [
        {
          "output_type": "stream",
          "text": [
            "Sunday\n"
          ],
          "name": "stdout"
        }
      ]
    },
    {
      "cell_type": "code",
      "metadata": {
        "colab": {
          "background_save": true
        },
        "id": "1g_XYabuLt2B",
        "outputId": "db94acd2-048e-4c6a-8e74-eff4c6a1246f"
      },
      "source": [
        "#  Add week (7 days) and 12 hours to a given date\r\n",
        "from datetime import datetime, timedelta\r\n",
        "given_date = datetime(2020, 3, 22, 10, 00, 00)\r\n",
        "days_to_add = 7\r\n",
        "res_date = given_date + timedelta(days=days_to_add, hours=12)\r\n",
        "print(res_date)"
      ],
      "execution_count": null,
      "outputs": [
        {
          "output_type": "stream",
          "text": [
            "2020-03-29 22:00:00\n"
          ],
          "name": "stdout"
        }
      ]
    },
    {
      "cell_type": "code",
      "metadata": {
        "colab": {
          "background_save": true
        },
        "id": "pxaqppksL381",
        "outputId": "0cf34890-d78c-4ddb-a472-cf8d043f9b07"
      },
      "source": [
        "# Calculate number of days between two given dates\r\n",
        "from datetime import datetime\r\n",
        "\r\n",
        "date_1 = datetime(2020, 2, 25).date()\r\n",
        "date_2 = datetime(2020, 9, 17).date()\r\n",
        "delta = None\r\n",
        "if date_1 > date_2:\r\n",
        "    delta = date_1 - date_2\r\n",
        "else:\r\n",
        "    delta = date_2 - date_1\r\n",
        "print(\"Difference is\", delta.days, \"days\")"
      ],
      "execution_count": null,
      "outputs": [
        {
          "output_type": "stream",
          "text": [
            "Difference is 205 days\n"
          ],
          "name": "stdout"
        }
      ]
    },
    {
      "cell_type": "code",
      "metadata": {
        "colab": {
          "background_save": true
        },
        "id": "YOvpIUtKMIuJ",
        "outputId": "47f640ab-fa76-49f1-e8dd-24b110e5b7ab"
      },
      "source": [
        "# Write a recursive function to calculate the sum of numbers from 0 to 10\r\n",
        "def calculateSum(num):\r\n",
        "    if num:\r\n",
        "        return num + calculateSum(num-1)\r\n",
        "    else:\r\n",
        "        return 0\r\n",
        "res = calculateSum(10)\r\n",
        "print(res)"
      ],
      "execution_count": null,
      "outputs": [
        {
          "output_type": "stream",
          "text": [
            "55\n"
          ],
          "name": "stdout"
        }
      ]
    },
    {
      "cell_type": "code",
      "metadata": {
        "colab": {
          "background_save": true
        },
        "id": "P0BA3kcvMVo3",
        "outputId": "a3c74a3a-8b17-4882-e974-d1ebb1269582"
      },
      "source": [
        "# Generate a Python list of all the even numbers between two given numbers\r\n",
        "num1 = 4\r\n",
        "num2 = 30\r\n",
        "myval = [i for i in range(num1, num2, 2)]\r\n",
        "print(myval)"
      ],
      "execution_count": null,
      "outputs": [
        {
          "output_type": "stream",
          "text": [
            "[4, 6, 8, 10, 12, 14, 16, 18, 20, 22, 24, 26, 28]\n"
          ],
          "name": "stdout"
        }
      ]
    },
    {
      "cell_type": "code",
      "metadata": {
        "colab": {
          "background_save": true
        },
        "id": "sc1Q89nzMixF",
        "outputId": "70cdfa06-a6fd-4892-fce3-2e5b790ffce0"
      },
      "source": [
        "# Return the largest item from the given list\r\n",
        "aList = [4, 6, 8, 24, 12, 2]\r\n",
        "print(max(aList))"
      ],
      "execution_count": null,
      "outputs": [
        {
          "output_type": "stream",
          "text": [
            "24\n"
          ],
          "name": "stdout"
        }
      ]
    },
    {
      "cell_type": "code",
      "metadata": {
        "colab": {
          "background_save": true
        },
        "id": "nqIasXLRMq89",
        "outputId": "c884e54f-a24e-4d7c-82a8-3d49f7ad4969"
      },
      "source": [
        "# Write a program to extract each digit from an integer, in the reverse order\r\n",
        "number = 7536\r\n",
        "while (number > 0):\r\n",
        "    digit = number % 10\r\n",
        "    number = number // 10\r\n",
        "    print(digit, end=\" \")"
      ],
      "execution_count": null,
      "outputs": [
        {
          "output_type": "stream",
          "text": [
            "6 3 5 7 "
          ],
          "name": "stdout"
        }
      ]
    },
    {
      "cell_type": "code",
      "metadata": {
        "colab": {
          "background_save": true
        },
        "id": "nlv9kMXbNA28",
        "outputId": "44c13887-4cb4-4f13-dcbf-ba0becc35ca5"
      },
      "source": [
        "#  Given a Python list, remove all occurrence of a given number from the list\r\n",
        "num1 = 20\r\n",
        "list1 = [5, 20, 15, 20, 25, 50, 20]\r\n",
        "\r\n",
        "def removeValue(sampleList, val):\r\n",
        "   return [value for value in sampleList if value != val]\r\n",
        "resList = removeValue(list1, num1)\r\n",
        "print(resList)"
      ],
      "execution_count": null,
      "outputs": [
        {
          "output_type": "stream",
          "text": [
            "[5, 15, 25, 50]\n"
          ],
          "name": "stdout"
        }
      ]
    },
    {
      "cell_type": "code",
      "metadata": {
        "colab": {
          "background_save": true
        },
        "id": "KJ3kt7R9NxAb",
        "outputId": "4eb6638a-9280-4225-82dc-e17368b9fc1a"
      },
      "source": [
        "# Shuffle a list randomly\r\n",
        "import random\r\n",
        "list = [2,5,8,9,12]\r\n",
        "random.shuffle(list)\r\n",
        "print (\"Printing shuffled list \", list)"
      ],
      "execution_count": null,
      "outputs": [
        {
          "output_type": "stream",
          "text": [
            "Printing shuffled list  [5, 12, 8, 9, 2]\n"
          ],
          "name": "stdout"
        }
      ]
    },
    {
      "cell_type": "code",
      "metadata": {
        "colab": {
          "background_save": true
        },
        "id": "tDvmqNpzR_nE",
        "outputId": "16295b09-5172-4b8d-aaec-835604b62336"
      },
      "source": [
        "# Generate a random n-dimensional array of float numbers\r\n",
        "import numpy\r\n",
        "random_float_array = numpy.random.rand(2, 2)\r\n",
        "print(\"2 X 2 random float array in [0.0, 1.0] \\n\", random_float_array,\"\\n\")"
      ],
      "execution_count": null,
      "outputs": [
        {
          "output_type": "stream",
          "text": [
            "2 X 2 random float array in [0.0, 1.0] \n",
            " [[0.84510861 0.62895444]\n",
            " [0.91032493 0.32227642]] \n",
            "\n"
          ],
          "name": "stdout"
        }
      ]
    },
    {
      "cell_type": "code",
      "metadata": {
        "colab": {
          "background_save": true
        },
        "id": "VY-a_-kySJwm",
        "outputId": "a6cefa3c-3d6a-4f84-8e7c-2fdbb4874d51"
      },
      "source": [
        "# Generate random Universally unique IDs\r\n",
        "import uuid\r\n",
        "safeId = uuid.uuid4()\r\n",
        "print(\"safe unique id is \", safeId)"
      ],
      "execution_count": null,
      "outputs": [
        {
          "output_type": "stream",
          "text": [
            "safe unique id is  87d60740-77b2-4925-9690-015c12ec7105\n"
          ],
          "name": "stdout"
        }
      ]
    },
    {
      "cell_type": "code",
      "metadata": {
        "colab": {
          "background_save": true
        },
        "id": "kIEl4NwfSada",
        "outputId": "027afcca-1e4d-4543-8146-3519d5b8daa4"
      },
      "source": [
        "# Choose given number of elements from the list with different probability\r\n",
        "import random\r\n",
        "num1 =5\r\n",
        "numberList = [111, 222, 333, 444, 555]\r\n",
        "print(random.choices(numberList, weights=(10, 20, 30, 40, 50), k=num1))"
      ],
      "execution_count": null,
      "outputs": [
        {
          "output_type": "stream",
          "text": [
            "[444, 444, 222, 555, 333]\n"
          ],
          "name": "stdout"
        }
      ]
    },
    {
      "cell_type": "code",
      "metadata": {
        "colab": {
          "background_save": true
        },
        "id": "A6s7z4VsSoLl",
        "outputId": "7e0d5140-e7fb-489b-ba23-f9c6d1cf368a"
      },
      "source": [
        "# Generate weighted random numbers\r\n",
        "import random\r\n",
        "randomList = random.choices(range(10, 40, 5), cum_weights=(5, 15, 10, 25, 40, 65), k=6)\r\n",
        "print(randomList)"
      ],
      "execution_count": null,
      "outputs": [
        {
          "output_type": "stream",
          "text": [
            "[25, 25, 35, 35, 30, 10]\n"
          ],
          "name": "stdout"
        }
      ]
    },
    {
      "cell_type": "code",
      "metadata": {
        "colab": {
          "background_save": true
        },
        "id": "eQ74NzcES2-X",
        "outputId": "94589f9a-286b-47af-beec-a18f5d591e1a"
      },
      "source": [
        "# generating a reliable secure random number\r\n",
        "import secrets\r\n",
        "print(\"Random integer number generated using secrets module is \")\r\n",
        "number = secrets.randbelow(30)\r\n",
        "print(number)"
      ],
      "execution_count": null,
      "outputs": [
        {
          "output_type": "stream",
          "text": [
            "Random integer number generated using secrets module is \n",
            "8\n"
          ],
          "name": "stdout"
        }
      ]
    },
    {
      "cell_type": "code",
      "metadata": {
        "colab": {
          "background_save": true
        },
        "id": "OY1SGjR-TI1V",
        "outputId": "0b34177d-65e3-49ec-e881-b194e11acf78"
      },
      "source": [
        "# Calculate memory is being used by an list in Python\r\n",
        "import sys\r\n",
        "list1 = ['Scott', 'Eric', 'Kelly', 'Emma', 'Smith']\r\n",
        "print(\"size of list = \",sys.getsizeof(list1))"
      ],
      "execution_count": null,
      "outputs": [
        {
          "output_type": "stream",
          "text": [
            "size of list =  104\n"
          ],
          "name": "stdout"
        }
      ]
    },
    {
      "cell_type": "code",
      "metadata": {
        "colab": {
          "background_save": true
        },
        "id": "UmJhGrmlTYH9",
        "outputId": "451d75f2-259a-42ac-9c39-1117332041b6"
      },
      "source": [
        "# Find if all elements in a list are identical\r\n",
        "listOne = [20, 20, 20, 20]\r\n",
        "print(\"All element are duplicate in listOne:\", listOne.count(listOne[0]) == len(listOne))"
      ],
      "execution_count": null,
      "outputs": [
        {
          "output_type": "stream",
          "text": [
            "All element are duplicate in listOne: True\n"
          ],
          "name": "stdout"
        }
      ]
    },
    {
      "cell_type": "code",
      "metadata": {
        "colab": {
          "background_save": true
        },
        "id": "a_knszkUTlBP",
        "outputId": "f63b30c1-1066-47d0-eab3-57ad2fb3820a"
      },
      "source": [
        "# Merge two dictionaries in a single expression\r\n",
        "currentEmployee = {1: 'Scott', 2: \"Eric\", 3:\"Kelly\"}\r\n",
        "formerEmployee  = {2: 'Eric', 4: \"Emma\"}\r\n",
        "allEmployee = {**currentEmployee, **formerEmployee}\r\n",
        "print(allEmployee)"
      ],
      "execution_count": null,
      "outputs": [
        {
          "output_type": "stream",
          "text": [
            "{1: 'Scott', 2: 'Eric', 3: 'Kelly', 4: 'Emma'}\n"
          ],
          "name": "stdout"
        }
      ]
    },
    {
      "cell_type": "code",
      "metadata": {
        "colab": {
          "background_save": true
        },
        "id": "bnHLDrNSTtqp",
        "outputId": "0660c817-f14e-413b-8031-78fe0b87fd8a"
      },
      "source": [
        "# Convert two lists into a dictionary\r\n",
        "ItemId = [54, 65, 76]\r\n",
        "names = [\"Hard Disk\", \"Laptop\", \"RAM\"]\r\n",
        "itemDictionary = dict(zip(ItemId, names))\r\n",
        "print(itemDictionary)"
      ],
      "execution_count": null,
      "outputs": [
        {
          "output_type": "stream",
          "text": [
            "{54: 'Hard Disk', 65: 'Laptop', 76: 'RAM'}\n"
          ],
          "name": "stdout"
        }
      ]
    },
    {
      "cell_type": "code",
      "metadata": {
        "colab": {
          "background_save": true
        },
        "id": "KNAcSz5giDMw",
        "outputId": "5be088e9-76d0-4ee7-b2a2-663f4fc7ee40"
      },
      "source": [
        "# Alternate cases in String \r\n",
        "test_str = \"geeksforgeeks\"\r\n",
        "res = \"\" \r\n",
        "for idx in range(len(test_str)): \r\n",
        "    if not idx % 2 : \r\n",
        "       res = res + test_str[idx].upper() \r\n",
        "    else: \r\n",
        "       res = res + test_str[idx].lower() \r\n",
        "print(res)"
      ],
      "execution_count": null,
      "outputs": [
        {
          "output_type": "stream",
          "text": [
            "GeEkSfOrGeEkS\n"
          ],
          "name": "stdout"
        }
      ]
    },
    {
      "cell_type": "code",
      "metadata": {
        "colab": {
          "background_save": true
        },
        "id": "6uvckAmUiJD4",
        "outputId": "5e196763-4e68-4136-95ab-f39accd187cf"
      },
      "source": [
        "# Write a Python program to validate an Email \r\n",
        "import re \r\n",
        "regex = '^[a-z0-9]+[\\._]?[a-z0-9]+[@]\\w+[.]\\w{2,3}$'\r\n",
        "def check(email):\r\n",
        "  if(re.search(regex,email)):\r\n",
        "    print(\"Valid Email\")\r\n",
        "  else:\r\n",
        "    print(\"Invalid Email\")\r\n",
        "\r\n",
        "email = \"ankitrai326@gmail.com\"\r\n",
        "check(email) "
      ],
      "execution_count": null,
      "outputs": [
        {
          "output_type": "stream",
          "text": [
            "Valid Email\n"
          ],
          "name": "stdout"
        }
      ]
    },
    {
      "cell_type": "code",
      "metadata": {
        "colab": {
          "background_save": true
        },
        "id": "sO8eY0C8R8G2",
        "outputId": "1339e13b-7be5-4f67-bfde-bf13b3feca07"
      },
      "source": [
        "# Write a Program to implement validation of a Password\r\n",
        "class Password:\r\n",
        "    def __init__(self, password):\r\n",
        "        self.password = password\r\n",
        "\r\n",
        "    def validate(self):        \r\n",
        "        vals = {\r\n",
        "        'Password must contain an uppercase letter.': lambda s: any(x.isupper() for x in s),\r\n",
        "        'Password must contain a lowercase letter.': lambda s: any(x.islower() for x in s),\r\n",
        "        'Password must contain a digit.': lambda s: any(x.isdigit() for x in s),\r\n",
        "        'Password must be at least 8 characters.': lambda s: len(s) >= 8,\r\n",
        "        'Password cannot contain white spaces.': lambda s: not any(x.isspace() for x in s)            \r\n",
        "        } \r\n",
        "        valid = True  \r\n",
        "        for n, val in vals.items():                         \r\n",
        "           if not val(self.password):                   \r\n",
        "               valid = False\r\n",
        "               return n\r\n",
        "        return valid                \r\n",
        "\r\n",
        "\r\n",
        "input_password = \"Amit@12Su@ 1'\"\r\n",
        "p = Password(input_password)\r\n",
        "if p.validate() is True:\r\n",
        "  print('Password Valid')\r\n",
        "else:\r\n",
        "  print(p.validate())"
      ],
      "execution_count": null,
      "outputs": [
        {
          "output_type": "stream",
          "text": [
            "Password cannot contain white spaces.\n"
          ],
          "name": "stdout"
        }
      ]
    }
  ]
}