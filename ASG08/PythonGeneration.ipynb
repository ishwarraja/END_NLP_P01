{
  "nbformat": 4,
  "nbformat_minor": 0,
  "metadata": {
    "colab": {
      "name": "PythonGeneration.ipynb",
      "provenance": [],
      "collapsed_sections": []
    },
    "kernelspec": {
      "display_name": "Python 3",
      "name": "python3"
    }
  },
  "cells": [
    {
      "cell_type": "code",
      "metadata": {
        "colab": {
          "base_uri": "https://localhost:8080/"
        },
        "id": "Z20mHv19jajb",
        "outputId": "f0cfc3ad-1c2c-409e-9cef-b27bbee56496"
      },
      "source": [
        "# Given a string, find the length of the longest substring without repeating characters.\r\n",
        "str = \"IshwarVenugopal\"\r\n",
        "\r\n",
        "def longest_non_repeat(str):   \r\n",
        "    i=0\r\n",
        "    max_length = 1\r\n",
        "\r\n",
        "    for i,c in enumerate(str):       \r\n",
        "        start_at = i\r\n",
        "        sub_str=[]         \r\n",
        "        while (start_at < len(str)) and (str[start_at] not in sub_str):\r\n",
        "            sub_str.append(str[start_at])\r\n",
        "            start_at = start_at + 1\r\n",
        "            \r\n",
        "        if len(sub_str) > max_length:\r\n",
        "            max_length = len(sub_str)\r\n",
        "\r\n",
        "        print(sub_str)\r\n",
        "        \r\n",
        "    return max_length\r\n",
        "\r\n",
        "longest_non_repeat(str)"
      ],
      "execution_count": 1,
      "outputs": [
        {
          "output_type": "stream",
          "text": [
            "['I', 's', 'h', 'w', 'a', 'r', 'V', 'e', 'n', 'u', 'g', 'o', 'p']\n",
            "['s', 'h', 'w', 'a', 'r', 'V', 'e', 'n', 'u', 'g', 'o', 'p']\n",
            "['h', 'w', 'a', 'r', 'V', 'e', 'n', 'u', 'g', 'o', 'p']\n",
            "['w', 'a', 'r', 'V', 'e', 'n', 'u', 'g', 'o', 'p']\n",
            "['a', 'r', 'V', 'e', 'n', 'u', 'g', 'o', 'p']\n",
            "['r', 'V', 'e', 'n', 'u', 'g', 'o', 'p', 'a', 'l']\n",
            "['V', 'e', 'n', 'u', 'g', 'o', 'p', 'a', 'l']\n",
            "['e', 'n', 'u', 'g', 'o', 'p', 'a', 'l']\n",
            "['n', 'u', 'g', 'o', 'p', 'a', 'l']\n",
            "['u', 'g', 'o', 'p', 'a', 'l']\n",
            "['g', 'o', 'p', 'a', 'l']\n",
            "['o', 'p', 'a', 'l']\n",
            "['p', 'a', 'l']\n",
            "['a', 'l']\n",
            "['l']\n"
          ],
          "name": "stdout"
        },
        {
          "output_type": "execute_result",
          "data": {
            "text/plain": [
              "13"
            ]
          },
          "metadata": {
            "tags": []
          },
          "execution_count": 1
        }
      ]
    },
    {
      "cell_type": "code",
      "metadata": {
        "colab": {
          "base_uri": "https://localhost:8080/"
        },
        "id": "zFX8t5gcjabq",
        "outputId": "9f2cd635-7236-44c5-f4f8-2fe30041ecd3"
      },
      "source": [
        "# Given an array of integers, return indices of the two numbers such that they add up to a specific target.\r\n",
        "input_array = [2, 7, 11, 15]\r\n",
        "target = 26\r\n",
        "result = []\r\n",
        "\r\n",
        "for i, num in enumerate(input_array):\r\n",
        "    for j in range(i+1, len(input_array)):\r\n",
        "        print(i,j)"
      ],
      "execution_count": 2,
      "outputs": [
        {
          "output_type": "stream",
          "text": [
            "0 1\n",
            "0 2\n",
            "0 3\n",
            "1 2\n",
            "1 3\n",
            "2 3\n"
          ],
          "name": "stdout"
        }
      ]
    },
    {
      "cell_type": "code",
      "metadata": {
        "colab": {
          "base_uri": "https://localhost:8080/"
        },
        "id": "jUPBz4owjaTO",
        "outputId": "2e4bc9c8-00f7-4aa8-c5af-ef9c01ab07aa"
      },
      "source": [
        "# Given a sorted integer array without duplicates, return the summary of its ranges.\r\n",
        "input_array = [0,1,2,4,5,7]\r\n",
        "start=0\r\n",
        "result = []\r\n",
        "while start < len(input_array):\r\n",
        "    end = start \r\n",
        "    while end+1<len(input_array) and ((input_array[end+1] - input_array[end]) == 1):\r\n",
        "        end = end + 1\r\n",
        "    if end!=start:\r\n",
        "        result.append(\"{0}-->{1}\".format(input_array[start], input_array[end]))\r\n",
        "        print(result)\r\n",
        "    else:\r\n",
        "        result.append(\"{0}\".format(input_array[start]))\r\n",
        "        print(result)\r\n",
        "    start = end+1\r\n",
        "\r\n",
        "print(result)"
      ],
      "execution_count": 3,
      "outputs": [
        {
          "output_type": "stream",
          "text": [
            "['0-->2']\n",
            "['0-->2', '4-->5']\n",
            "['0-->2', '4-->5', '7']\n",
            "['0-->2', '4-->5', '7']\n"
          ],
          "name": "stdout"
        }
      ]
    },
    {
      "cell_type": "code",
      "metadata": {
        "colab": {
          "base_uri": "https://localhost:8080/"
        },
        "id": "V-hUvng_jaLa",
        "outputId": "ea143ed6-66ea-44c6-fabb-36507ed2ffb5"
      },
      "source": [
        "# Rotate an array of n elements to the right by k steps.\r\n",
        "org = [1,2,3,4,5,6,7]\r\n",
        "result = org[:]\r\n",
        "steps = 3\r\n",
        "\r\n",
        "for idx,num in enumerate(org):\r\n",
        "    if idx+steps < len(org):\r\n",
        "        result[idx+steps] = org[idx]\r\n",
        "    else:\r\n",
        "        result[idx+steps-len(org)] = org[idx]\r\n",
        "\r\n",
        "print(result)"
      ],
      "execution_count": 4,
      "outputs": [
        {
          "output_type": "stream",
          "text": [
            "[5, 6, 7, 1, 2, 3, 4]\n"
          ],
          "name": "stdout"
        }
      ]
    },
    {
      "cell_type": "code",
      "metadata": {
        "colab": {
          "base_uri": "https://localhost:8080/"
        },
        "id": "FIPVAkkdjaBB",
        "outputId": "43f29ba7-5433-4c83-ba67-2182f350df51"
      },
      "source": [
        "# Consider an array of non-negative integers. A second array is formed by shuffling the elements of the first array and deleting a random element. Given these two arrays, find which element is missing in the second array.\r\n",
        "first_array = [1,2,3,4,5,6,7]\r\n",
        "second_array = [3,7,2,1,4,6]\r\n",
        "\r\n",
        "def finder(first_array, second_array):\r\n",
        "    return(sum(first_array) - sum(second_array))\r\n",
        "\r\n",
        "missing_number = finder(first_array, second_array)\r\n",
        "\r\n",
        "print(missing_number)"
      ],
      "execution_count": 5,
      "outputs": [
        {
          "output_type": "stream",
          "text": [
            "5\n"
          ],
          "name": "stdout"
        }
      ]
    },
    {
      "cell_type": "code",
      "metadata": {
        "colab": {
          "base_uri": "https://localhost:8080/"
        },
        "id": "jzYUqvGLjl2f",
        "outputId": "0f0832eb-9af9-4f85-d368-3aff73f53276"
      },
      "source": [
        "# Given a collection of intervals which are already sorted by start number, merge all overlapping intervals.\r\n",
        "org_intervals = [[1,3],[2,6],[5,10],[11,16],[15,18],[19,22]]\r\n",
        "i = 0\r\n",
        "while i < len(org_intervals)-1:\r\n",
        "    if org_intervals[i+1][0] < org_intervals[i][1]:\r\n",
        "        org_intervals[i][1]=org_intervals[i+1][1]\r\n",
        "        del org_intervals[i+1]\r\n",
        "        i = i - 1\r\n",
        "    i = i + 1\r\n",
        "print(org_intervals)"
      ],
      "execution_count": 6,
      "outputs": [
        {
          "output_type": "stream",
          "text": [
            "[[1, 10], [11, 18], [19, 22]]\n"
          ],
          "name": "stdout"
        }
      ]
    },
    {
      "cell_type": "code",
      "metadata": {
        "colab": {
          "base_uri": "https://localhost:8080/"
        },
        "id": "2u_5F4EsvJYv",
        "outputId": "82e1ddf7-f616-4e02-c07e-98e9a36d131d"
      },
      "source": [
        "# Given a list slice it into a 3 equal chunks and revert each list\r\n",
        "sampleList = [11, 45, 8, 23, 14, 12, 78, 45, 89]\r\n",
        "\r\n",
        "length = len(sampleList)\r\n",
        "chunkSize  = int(length/3)\r\n",
        "start = 0\r\n",
        "end = chunkSize\r\n",
        "for i in range(1, 4, 1):\r\n",
        "  indexes = slice(start, end, 1)\r\n",
        "  listChunk = sampleList[indexes]\r\n",
        "  mylist = [i for i in listChunk]\r\n",
        "  print(\"After reversing it \", mylist)\r\n",
        "  start = end\r\n",
        "  if(i != 2):\r\n",
        "    end +=chunkSize\r\n",
        "  else:\r\n",
        "    end += length - chunkSize"
      ],
      "execution_count": 7,
      "outputs": [
        {
          "output_type": "stream",
          "text": [
            "After reversing it  [11, 45, 8]\n",
            "After reversing it  [23, 14, 12]\n",
            "After reversing it  [78, 45, 89]\n"
          ],
          "name": "stdout"
        }
      ]
    },
    {
      "cell_type": "code",
      "metadata": {
        "colab": {
          "base_uri": "https://localhost:8080/"
        },
        "id": "9fWQvL4mvjMC",
        "outputId": "a0b31223-46df-4a47-cbd4-868f78b12c55"
      },
      "source": [
        "# write a program to calculate exponents of an input\r\n",
        "input = 9\r\n",
        "exponent = 2\r\n",
        "final = pow(input, exponent)\r\n",
        "print(f'Exponent Value is:{final}')"
      ],
      "execution_count": 8,
      "outputs": [
        {
          "output_type": "stream",
          "text": [
            "Exponent Value is:81\n"
          ],
          "name": "stdout"
        }
      ]
    },
    {
      "cell_type": "code",
      "metadata": {
        "colab": {
          "base_uri": "https://localhost:8080/"
        },
        "id": "2gaJwM2IvlMo",
        "outputId": "663a886e-6462-459a-ccef-9274f6738e9e"
      },
      "source": [
        "# write a program to multiply two Matrix \r\n",
        "# 3x3 matrix\r\n",
        "X = [[12,7,3],\r\n",
        "    [4 ,5,6],\r\n",
        "    [7 ,8,9]]\r\n",
        "# 3x4 matrix\r\n",
        "Y = [[5,8,1,2],\r\n",
        "    [6,7,3,0],\r\n",
        "    [4,5,9,1]]\r\n",
        "# result is 3x4\r\n",
        "result = [[0,0,0,0],\r\n",
        "         [0,0,0,0],\r\n",
        "         [0,0,0,0]]\r\n",
        "\r\n",
        "# iterate through rows of X\r\n",
        "for i in range(len(X)):\r\n",
        "   # iterate through columns of Y\r\n",
        "   for j in range(len(Y[0])):\r\n",
        "       # iterate through rows of Y\r\n",
        "       for k in range(len(Y)):\r\n",
        "           result[i][j] += X[i][k] * Y[k][j]\r\n",
        "print(f\"Final Result is{result}\")"
      ],
      "execution_count": 9,
      "outputs": [
        {
          "output_type": "stream",
          "text": [
            "Final Result is[[114, 160, 60, 27], [74, 97, 73, 14], [119, 157, 112, 23]]\n"
          ],
          "name": "stdout"
        }
      ]
    },
    {
      "cell_type": "code",
      "metadata": {
        "colab": {
          "base_uri": "https://localhost:8080/"
        },
        "id": "JCIobW3pvnFi",
        "outputId": "bffe4755-cab1-4918-c190-3df8f211e86f"
      },
      "source": [
        "# write a program to find and print the remainder of two number\r\n",
        "\r\n",
        "num1 = 12\r\n",
        "num2 = 10\r\n",
        "\r\n",
        "ratio = num1 % num2\r\n",
        "print(f'remainder:{ratio}')"
      ],
      "execution_count": 10,
      "outputs": [
        {
          "output_type": "stream",
          "text": [
            "remainder:2\n"
          ],
          "name": "stdout"
        }
      ]
    },
    {
      "cell_type": "code",
      "metadata": {
        "colab": {
          "base_uri": "https://localhost:8080/"
        },
        "id": "02u7nlbqyOtD",
        "outputId": "897d9dd2-da85-4df4-8fa9-bff03ddf44df"
      },
      "source": [
        "# reverse a number in Python\r\n",
        "number = 1367891\r\n",
        "revs_number = 0  \r\n",
        "while (number > 0):\r\n",
        "  remainder = number % 10\r\n",
        "  revs_number = (revs_number * 10) + remainder\r\n",
        "  number = number // 10\r\n",
        "print(\"The reverse number is : {}\".format(revs_number)) "
      ],
      "execution_count": 11,
      "outputs": [
        {
          "output_type": "stream",
          "text": [
            "The reverse number is : 1987631\n"
          ],
          "name": "stdout"
        }
      ]
    },
    {
      "cell_type": "code",
      "metadata": {
        "colab": {
          "base_uri": "https://localhost:8080/"
        },
        "id": "blMhOuu2zETy",
        "outputId": "23e283c1-f7c2-4179-c9dc-5b43f36152c7"
      },
      "source": [
        "# Python program to compute sum of digits in number\r\n",
        "def sumDigits(no):  \r\n",
        "    return 0 if no == 0 else int(no % 10) + sumDigits(int(no / 10))   \r\n",
        "n = 1234511\r\n",
        "print(sumDigits(n))"
      ],
      "execution_count": 12,
      "outputs": [
        {
          "output_type": "stream",
          "text": [
            "17\n"
          ],
          "name": "stdout"
        }
      ]
    },
    {
      "cell_type": "code",
      "metadata": {
        "colab": {
          "base_uri": "https://localhost:8080/"
        },
        "id": "o1QTe4Uo0MI3",
        "outputId": "543d5e5c-bb2f-405c-c539-de03ba2c656d"
      },
      "source": [
        "# Find the middle element of a random number list\r\n",
        "my_list = [4,3,2,9,10,44,1]\r\n",
        "print(\"mid value is \",my_list[int(len(my_list)/2)])"
      ],
      "execution_count": 13,
      "outputs": [
        {
          "output_type": "stream",
          "text": [
            "mid value is  9\n"
          ],
          "name": "stdout"
        }
      ]
    },
    {
      "cell_type": "code",
      "metadata": {
        "colab": {
          "base_uri": "https://localhost:8080/"
        },
        "id": "TFWKkKiE0tyH",
        "outputId": "b3a18de1-14b1-4a89-eda0-b9e2e25a7917"
      },
      "source": [
        "# Sort the list in ascending order\r\n",
        "my_list = [4,3,2,9,10,44,1]\r\n",
        "my_list.sort()\r\n",
        "print(f\"Ascending Order list:,{my_list}\")"
      ],
      "execution_count": 14,
      "outputs": [
        {
          "output_type": "stream",
          "text": [
            "Ascending Order list:,[1, 2, 3, 4, 9, 10, 44]\n"
          ],
          "name": "stdout"
        }
      ]
    },
    {
      "cell_type": "code",
      "metadata": {
        "colab": {
          "base_uri": "https://localhost:8080/"
        },
        "id": "M0cQh1Cj1N_T",
        "outputId": "8084d2a1-d4b8-4a53-d980-07ca5064e3a7"
      },
      "source": [
        "# Sort the list in descending order\r\n",
        "my_list = [4,3,2,9,10,44,1]\r\n",
        "my_list.sort(reverse=True)\r\n",
        "print(f\"Descending Order list:,{my_list}\")"
      ],
      "execution_count": 15,
      "outputs": [
        {
          "output_type": "stream",
          "text": [
            "Descending Order list:,[44, 10, 9, 4, 3, 2, 1]\n"
          ],
          "name": "stdout"
        }
      ]
    },
    {
      "cell_type": "code",
      "metadata": {
        "colab": {
          "base_uri": "https://localhost:8080/"
        },
        "id": "H3Jv_ZMz1t3W",
        "outputId": "d6eca867-9d9e-4acd-974c-9ea500782b2b"
      },
      "source": [
        "# Concatenation of two List\r\n",
        "my_list1 = [4,3,2,9,10,44,1]\r\n",
        "my_list2 = [5,6,2,8,15,14,12]\r\n",
        "print(f\"Sum of two list:,{my_list1+my_list2}\")"
      ],
      "execution_count": 16,
      "outputs": [
        {
          "output_type": "stream",
          "text": [
            "Sum of two list:,[4, 3, 2, 9, 10, 44, 1, 5, 6, 2, 8, 15, 14, 12]\n"
          ],
          "name": "stdout"
        }
      ]
    },
    {
      "cell_type": "code",
      "metadata": {
        "colab": {
          "base_uri": "https://localhost:8080/"
        },
        "id": "pZCnHvwD2UB6",
        "outputId": "ddbb3191-4cbd-455a-ff17-051bfc1ba14c"
      },
      "source": [
        "# Removes the item at the given index from the list and returns the removed item\r\n",
        "my_list1 = [4,3,2,9,10,44,1,9,12]\r\n",
        "index = 4\r\n",
        "print(f\"Sum of two list:,{my_list1.pop(index)}\")"
      ],
      "execution_count": 17,
      "outputs": [
        {
          "output_type": "stream",
          "text": [
            "Sum of two list:,10\n"
          ],
          "name": "stdout"
        }
      ]
    },
    {
      "cell_type": "code",
      "metadata": {
        "colab": {
          "base_uri": "https://localhost:8080/"
        },
        "id": "4ih_hhr45bcO",
        "outputId": "ba1343a3-4d75-42f7-ef5f-e79c6ea0d79c"
      },
      "source": [
        "# Adding Element to a List\r\n",
        "animals = ['cat', 'dog', 'rabbit']\r\n",
        "animals.append('guinea pig')\r\n",
        "print('Updated animals list: ', animals)"
      ],
      "execution_count": 18,
      "outputs": [
        {
          "output_type": "stream",
          "text": [
            "Updated animals list:  ['cat', 'dog', 'rabbit', 'guinea pig']\n"
          ],
          "name": "stdout"
        }
      ]
    },
    {
      "cell_type": "code",
      "metadata": {
        "colab": {
          "base_uri": "https://localhost:8080/"
        },
        "id": "ac7G132q6HWe",
        "outputId": "6750f104-8f15-4a05-fe88-832dae5469bf"
      },
      "source": [
        "# Returns the number of times the specified element appears in the list\r\n",
        "vowels = ['a', 'e', 'i', 'o', 'i', 'u']\r\n",
        "count = vowels.count('i')\r\n",
        "print('The count of i is:', count)"
      ],
      "execution_count": 19,
      "outputs": [
        {
          "output_type": "stream",
          "text": [
            "The count of i is: 2\n"
          ],
          "name": "stdout"
        }
      ]
    },
    {
      "cell_type": "code",
      "metadata": {
        "colab": {
          "base_uri": "https://localhost:8080/"
        },
        "id": "7tuSTeN66c2e",
        "outputId": "df9e60a0-5b67-4e13-d90b-d344e9f1a936"
      },
      "source": [
        "# Count Tuple Elements Inside List\r\n",
        "random = ['a', ('a', 'b'), ('a', 'b'), [3, 4]]\r\n",
        "count = random.count(('a', 'b'))\r\n",
        "print(\"The count of ('a', 'b') is:\", count)"
      ],
      "execution_count": 20,
      "outputs": [
        {
          "output_type": "stream",
          "text": [
            "The count of ('a', 'b') is: 2\n"
          ],
          "name": "stdout"
        }
      ]
    },
    {
      "cell_type": "code",
      "metadata": {
        "colab": {
          "base_uri": "https://localhost:8080/"
        },
        "id": "Hvr4jvfh6w2G",
        "outputId": "53e6c484-0251-4adc-827a-74784509cb41"
      },
      "source": [
        "# Removes all items from the list\r\n",
        "list = [{1, 2}, ('a'), ['1.1', '2.2']]\r\n",
        "list.clear()\r\n",
        "print('List:', list)"
      ],
      "execution_count": 21,
      "outputs": [
        {
          "output_type": "stream",
          "text": [
            "List: []\n"
          ],
          "name": "stdout"
        }
      ]
    },
    {
      "cell_type": "code",
      "metadata": {
        "colab": {
          "base_uri": "https://localhost:8080/"
        },
        "id": "SDjQ3L5-7aw2",
        "outputId": "514cba7b-a8b8-407d-dc92-31a7a9bfbc51"
      },
      "source": [
        "# access first characters in a string\r\n",
        "word = \"Hello World\"\r\n",
        "letter=word[0]\r\n",
        "print(f\"First Charecter in String:{letter}\")"
      ],
      "execution_count": 22,
      "outputs": [
        {
          "output_type": "stream",
          "text": [
            "First Charecter in String:H\n"
          ],
          "name": "stdout"
        }
      ]
    },
    {
      "cell_type": "code",
      "metadata": {
        "colab": {
          "base_uri": "https://localhost:8080/"
        },
        "id": "S9lfOM4c7rsn",
        "outputId": "aa4b5b85-3aff-4297-9361-98eea0a2cc60"
      },
      "source": [
        "# access Last characters in a string\r\n",
        "word = \"Hello World\"\r\n",
        "letter=word[-1]\r\n",
        "print(f\"First Charecter in String:{letter}\")"
      ],
      "execution_count": 23,
      "outputs": [
        {
          "output_type": "stream",
          "text": [
            "First Charecter in String:d\n"
          ],
          "name": "stdout"
        }
      ]
    },
    {
      "cell_type": "code",
      "metadata": {
        "colab": {
          "base_uri": "https://localhost:8080/"
        },
        "id": "OpFVLvY47w3t",
        "outputId": "f147d81b-1ed1-4042-d149-17375b7cbf1c"
      },
      "source": [
        "# Generate a list by list comprehension\r\n",
        "list = [x for x in range(10)]\r\n",
        "print(f\"List Generated by list comprehension:{list}\")"
      ],
      "execution_count": 24,
      "outputs": [
        {
          "output_type": "stream",
          "text": [
            "List Generated by list comprehension:[0, 1, 2, 3, 4, 5, 6, 7, 8, 9]\n"
          ],
          "name": "stdout"
        }
      ]
    },
    {
      "cell_type": "code",
      "metadata": {
        "colab": {
          "base_uri": "https://localhost:8080/"
        },
        "id": "qX8ODtaK8swm",
        "outputId": "b260bb65-72b1-4f42-845e-870dcf04e24e"
      },
      "source": [
        "# Set the values in the new list to upper case\r\n",
        "list = \"AMITKAYAL\"\r\n",
        "newlist = [x.upper() for x in list]\r\n",
        "print(f\"New list to upper case:{newlist}\")"
      ],
      "execution_count": 25,
      "outputs": [
        {
          "output_type": "stream",
          "text": [
            "New list to upper case:['A', 'M', 'I', 'T', 'K', 'A', 'Y', 'A', 'L']\n"
          ],
          "name": "stdout"
        }
      ]
    },
    {
      "cell_type": "code",
      "metadata": {
        "colab": {
          "base_uri": "https://localhost:8080/"
        },
        "id": "vg0YqZRs9Q85",
        "outputId": "f20b47a0-864f-4261-98ba-39bd83baf014"
      },
      "source": [
        "# Sort the string list alphabetically\r\n",
        "\r\n",
        "thislist = [\"orange\", \"mango\", \"kiwi\", \"pineapple\", \"banana\"]\r\n",
        "thislist.sort()\r\n",
        "print(f\"Sorted List:{thislist}\")"
      ],
      "execution_count": 26,
      "outputs": [
        {
          "output_type": "stream",
          "text": [
            "Sorted List:['banana', 'kiwi', 'mango', 'orange', 'pineapple']\n"
          ],
          "name": "stdout"
        }
      ]
    },
    {
      "cell_type": "code",
      "metadata": {
        "colab": {
          "base_uri": "https://localhost:8080/"
        },
        "id": "uCgWLR6F-QqO",
        "outputId": "17df7b96-2bfe-4aa0-a411-ea9880cafb1a"
      },
      "source": [
        "# Join Two Sets\r\n",
        "set1 = {\"a\", \"b\" , \"c\"}\r\n",
        "set2 = {1, 2, 3}\r\n",
        "set3 = set2.union(set1)\r\n",
        "print(f\"Joined Set:{set3}\")"
      ],
      "execution_count": 27,
      "outputs": [
        {
          "output_type": "stream",
          "text": [
            "Joined Set:{'c', 1, 2, 3, 'b', 'a'}\n"
          ],
          "name": "stdout"
        }
      ]
    },
    {
      "cell_type": "code",
      "metadata": {
        "colab": {
          "base_uri": "https://localhost:8080/"
        },
        "id": "ChzuZVLp-8af",
        "outputId": "5e75e5b2-0fc1-40b8-9a6d-57bf79891df5"
      },
      "source": [
        "# keep only the items that are present in both sets\r\n",
        "x = {\"apple\", \"banana\", \"cherry\"}\r\n",
        "y = {\"google\", \"microsoft\", \"apple\"}\r\n",
        "\r\n",
        "x.intersection_update(y)\r\n",
        "print(f\"Duplicate Value in Two set:{x}\")"
      ],
      "execution_count": 28,
      "outputs": [
        {
          "output_type": "stream",
          "text": [
            "Duplicate Value in Two set:{'apple'}\n"
          ],
          "name": "stdout"
        }
      ]
    },
    {
      "cell_type": "code",
      "metadata": {
        "colab": {
          "base_uri": "https://localhost:8080/"
        },
        "id": "tkw8tDTB_slX",
        "outputId": "554deb30-63f1-4240-f03d-7ff09ed87f66"
      },
      "source": [
        "# Keep All items from List But NOT the Duplicates\r\n",
        "x = {\"apple\", \"banana\", \"cherry\"}\r\n",
        "y = {\"google\", \"microsoft\", \"apple\"}\r\n",
        "\r\n",
        "x.symmetric_difference_update(y)\r\n",
        "print(f\"Duplicate Value in Two set:{x}\")"
      ],
      "execution_count": 29,
      "outputs": [
        {
          "output_type": "stream",
          "text": [
            "Duplicate Value in Two set:{'cherry', 'banana', 'google', 'microsoft'}\n"
          ],
          "name": "stdout"
        }
      ]
    },
    {
      "cell_type": "code",
      "metadata": {
        "colab": {
          "base_uri": "https://localhost:8080/"
        },
        "id": "T6xkqBrsAMre",
        "outputId": "b04da44a-9fc4-432c-d4a6-250dd9b18765"
      },
      "source": [
        "# Create and print a dictionary\r\n",
        "thisdict = {\r\n",
        "  \"brand\": \"Ford\",\r\n",
        "  \"model\": \"Mustang\",\r\n",
        "  \"year\": 1964\r\n",
        "}\r\n",
        "print(f\"Sample Dictionary:{thisdict}\")"
      ],
      "execution_count": 30,
      "outputs": [
        {
          "output_type": "stream",
          "text": [
            "Sample Dictionary:{'brand': 'Ford', 'model': 'Mustang', 'year': 1964}\n"
          ],
          "name": "stdout"
        }
      ]
    },
    {
      "cell_type": "code",
      "metadata": {
        "colab": {
          "base_uri": "https://localhost:8080/"
        },
        "id": "WXyUdU2VAaSN",
        "outputId": "489fda78-a3de-4698-cc5b-4b4a21b235d9"
      },
      "source": [
        "# Calculate the length of dictionary\r\n",
        "thisdict = {\r\n",
        "  \"brand\": \"Ford\",\r\n",
        "  \"model\": \"Mustang\",\r\n",
        "  \"year\": 1964\r\n",
        "}\r\n",
        "\r\n",
        "print(f\"Length of Dictionary:{len(thisdict)}\")"
      ],
      "execution_count": 31,
      "outputs": [
        {
          "output_type": "stream",
          "text": [
            "Length of Dictionary:3\n"
          ],
          "name": "stdout"
        }
      ]
    },
    {
      "cell_type": "code",
      "metadata": {
        "colab": {
          "base_uri": "https://localhost:8080/"
        },
        "id": "oS0mimKMBBBF",
        "outputId": "94c2de1b-a2e7-4e48-d597-bc961118cf4e"
      },
      "source": [
        "# Evaluate a string and a number\r\n",
        "print(bool(\"Hello\"))\r\n",
        "print(bool(15))"
      ],
      "execution_count": 32,
      "outputs": [
        {
          "output_type": "stream",
          "text": [
            "True\n",
            "True\n"
          ],
          "name": "stdout"
        }
      ]
    },
    {
      "cell_type": "code",
      "metadata": {
        "colab": {
          "base_uri": "https://localhost:8080/"
        },
        "id": "KhP7RlGqJLFR",
        "outputId": "2a3d26d5-8dbc-4e7e-b132-17e51ddd8143"
      },
      "source": [
        "# Calculate length of a string\r\n",
        "word = \"Hello World\"\r\n",
        "print(f\"Length of string: {len(word)}\")"
      ],
      "execution_count": 33,
      "outputs": [
        {
          "output_type": "stream",
          "text": [
            "Length of string: 11\n"
          ],
          "name": "stdout"
        }
      ]
    },
    {
      "cell_type": "code",
      "metadata": {
        "colab": {
          "base_uri": "https://localhost:8080/"
        },
        "id": "8je7D2NhJagl",
        "outputId": "f1aab871-aaa5-4a04-d863-a043376a95d4"
      },
      "source": [
        "# Count the number of spaces in a sring\r\n",
        "s = \"Count, the number of spaces\"\r\n",
        "lenx = s.count(' ')\r\n",
        "print(f\"number of spaces in sring: {lenx}\")"
      ],
      "execution_count": 34,
      "outputs": [
        {
          "output_type": "stream",
          "text": [
            "number of spaces in sring: 4\n"
          ],
          "name": "stdout"
        }
      ]
    },
    {
      "cell_type": "code",
      "metadata": {
        "colab": {
          "base_uri": "https://localhost:8080/"
        },
        "id": "sM7EWGa1JtBp",
        "outputId": "5fb99374-c672-4ba7-c037-680f8e5647a9"
      },
      "source": [
        "# Split Strings\r\n",
        "word = \"Hello World\"\r\n",
        "ksplit = word.split(' ') \r\n",
        "print(f\"Splited Strings: {ksplit}\")"
      ],
      "execution_count": 35,
      "outputs": [
        {
          "output_type": "stream",
          "text": [
            "Splited Strings: ['Hello', 'World']\n"
          ],
          "name": "stdout"
        }
      ]
    },
    {
      "cell_type": "code",
      "metadata": {
        "colab": {
          "base_uri": "https://localhost:8080/"
        },
        "id": "OQRApMA1J55m",
        "outputId": "b306fb30-8a18-494c-cffb-1538fbd7d9f6"
      },
      "source": [
        "# Prints ten dots\r\n",
        "ten = \".\" * 10\r\n",
        "print(f\"Ten dots: {ten}\")"
      ],
      "execution_count": 36,
      "outputs": [
        {
          "output_type": "stream",
          "text": [
            "Ten dots: ..........\n"
          ],
          "name": "stdout"
        }
      ]
    },
    {
      "cell_type": "code",
      "metadata": {
        "colab": {
          "base_uri": "https://localhost:8080/"
        },
        "id": "Klo7ojItKFgD",
        "outputId": "89c67f2a-ce18-439b-f124-5ac2a957c147"
      },
      "source": [
        "# Replacing a string with another string\r\n",
        "word = \"Hello World\"\r\n",
        "replace = \"Bye\"\r\n",
        "input = \"Hello\"\r\n",
        "after_replace = word.replace(input, replace)\r\n",
        "print(f\"String ater replacement: {after_replace}\")"
      ],
      "execution_count": 37,
      "outputs": [
        {
          "output_type": "stream",
          "text": [
            "String ater replacement: Bye World\n"
          ],
          "name": "stdout"
        }
      ]
    },
    {
      "cell_type": "code",
      "metadata": {
        "colab": {
          "base_uri": "https://localhost:8080/"
        },
        "id": "0A4AUprQKvb-",
        "outputId": "697ff58b-0946-430e-db1d-244233c80169"
      },
      "source": [
        "#removes leading characters\r\n",
        "word = \" xyz \"\r\n",
        "lstrip = word.lstrip()\r\n",
        "print(f\"String ater removal of leading characters:{lstrip}\")"
      ],
      "execution_count": 38,
      "outputs": [
        {
          "output_type": "stream",
          "text": [
            "String ater removal of leading characters:xyz \n"
          ],
          "name": "stdout"
        }
      ]
    },
    {
      "cell_type": "code",
      "metadata": {
        "colab": {
          "base_uri": "https://localhost:8080/"
        },
        "id": "fHUeiKVJK6Sj",
        "outputId": "4edaa5f3-2f94-46db-a16f-981fa1d0001c"
      },
      "source": [
        "#removes trailing characters\r\n",
        "word = \" xyz \"\r\n",
        "rstrip = word.rstrip()\r\n",
        "print(f\"String ater removal of trailing characters:{rstrip}\")"
      ],
      "execution_count": 39,
      "outputs": [
        {
          "output_type": "stream",
          "text": [
            "String ater removal of trailing characters: xyz\n"
          ],
          "name": "stdout"
        }
      ]
    },
    {
      "cell_type": "code",
      "metadata": {
        "colab": {
          "base_uri": "https://localhost:8080/"
        },
        "id": "zn5etCdiLVBo",
        "outputId": "a39b734e-0db6-45e3-abda-dda303083a3c"
      },
      "source": [
        "# check if all char are alphanumeric\r\n",
        "word = \"Hello World\"\r\n",
        "check = word.isalnum()\r\n",
        "print(f\"All char are alphanumeric?:{check}\")"
      ],
      "execution_count": 40,
      "outputs": [
        {
          "output_type": "stream",
          "text": [
            "All char are alphanumeric?:False\n"
          ],
          "name": "stdout"
        }
      ]
    },
    {
      "cell_type": "code",
      "metadata": {
        "colab": {
          "base_uri": "https://localhost:8080/"
        },
        "id": "E1bIjoVLLjRv",
        "outputId": "646ac7fb-d15b-4ae5-84e8-952d47e49bf1"
      },
      "source": [
        "# check if all char in the string are alphabetic\r\n",
        "word = \"Hello World\"\r\n",
        "check = word.isalpha()\r\n",
        "print(f\"All char are alphabetic?:{check}\")"
      ],
      "execution_count": 41,
      "outputs": [
        {
          "output_type": "stream",
          "text": [
            "All char are alphabetic?:False\n"
          ],
          "name": "stdout"
        }
      ]
    },
    {
      "cell_type": "code",
      "metadata": {
        "colab": {
          "base_uri": "https://localhost:8080/"
        },
        "id": "C0rmcrJALxAv",
        "outputId": "eddd4f8e-25b7-40b2-8377-0fa81e733dcc"
      },
      "source": [
        "# test if string contains digits\r\n",
        "word = \"Hello World\"\r\n",
        "check = word.isdigit()\r\n",
        "print(f\"String contains digits?:{check}\")"
      ],
      "execution_count": 42,
      "outputs": [
        {
          "output_type": "stream",
          "text": [
            "String contains digits?:False\n"
          ],
          "name": "stdout"
        }
      ]
    },
    {
      "cell_type": "code",
      "metadata": {
        "colab": {
          "base_uri": "https://localhost:8080/"
        },
        "id": "OlrWUF5bMANg",
        "outputId": "a0887428-07dc-40b7-b0fd-46e0d36687b7"
      },
      "source": [
        "# Test if string contains upper case\r\n",
        "word = \"Hello World\"\r\n",
        "check = word.isupper()\r\n",
        "print(f\"String contains upper case?:{check}\")"
      ],
      "execution_count": 43,
      "outputs": [
        {
          "output_type": "stream",
          "text": [
            "String contains upper case?:False\n"
          ],
          "name": "stdout"
        }
      ]
    },
    {
      "cell_type": "code",
      "metadata": {
        "colab": {
          "base_uri": "https://localhost:8080/"
        },
        "id": "ST-NkE1hMPoS",
        "outputId": "6e767e3b-6b6a-48f4-b7f4-0b83e0eed1ae"
      },
      "source": [
        "# Test if string starts with H\r\n",
        "word = \"Hello World\"\r\n",
        "check = word.startswith('H')\r\n",
        "print(f\"String starts with H?:{check}\")"
      ],
      "execution_count": 44,
      "outputs": [
        {
          "output_type": "stream",
          "text": [
            "String starts with H?:True\n"
          ],
          "name": "stdout"
        }
      ]
    },
    {
      "cell_type": "code",
      "metadata": {
        "colab": {
          "base_uri": "https://localhost:8080/"
        },
        "id": "9pSfWoV4T50A",
        "outputId": "2081346b-c176-46d5-ea84-377d0f33a978"
      },
      "source": [
        "# Returns an integer value for the given character\r\n",
        "str = \"A\"\r\n",
        "val = ord(str)\r\n",
        "print(f\"Integer value for the given character?:{val}\")"
      ],
      "execution_count": 45,
      "outputs": [
        {
          "output_type": "stream",
          "text": [
            "Integer value for the given character?:65\n"
          ],
          "name": "stdout"
        }
      ]
    },
    {
      "cell_type": "code",
      "metadata": {
        "colab": {
          "base_uri": "https://localhost:8080/"
        },
        "id": "0YZ0JETqXXVy",
        "outputId": "1e832ed5-bd99-4da6-a747-af9717536f2a"
      },
      "source": [
        "#  Fibonacci series up to 100\r\n",
        "n = 100\r\n",
        "result = []\r\n",
        "a, b = 0 , 1\r\n",
        "while b < n:\r\n",
        "  result. append( b)\r\n",
        "  a, b = b, a + b\r\n",
        "final = result\r\n",
        "print(f\"Fibonacci series up to 100:{final}\")"
      ],
      "execution_count": 46,
      "outputs": [
        {
          "output_type": "stream",
          "text": [
            "Fibonacci series up to 100:[1, 1, 2, 3, 5, 8, 13, 21, 34, 55, 89]\n"
          ],
          "name": "stdout"
        }
      ]
    },
    {
      "cell_type": "code",
      "metadata": {
        "colab": {
          "base_uri": "https://localhost:8080/"
        },
        "id": "oSo4tEWVXsuC",
        "outputId": "8ee7fdb9-48e7-4099-dc37-bd7de2b1839f"
      },
      "source": [
        "# Counting total Digits in a string\r\n",
        "str1 = \"abc4234AFde\"\r\n",
        "digitCount = 0\r\n",
        "for i in range(0,len(str1)):\r\n",
        "  char = str1[i]\r\n",
        "  if(char.isdigit()):\r\n",
        "    digitCount += 1\r\n",
        "print('Number of digits: ',digitCount)"
      ],
      "execution_count": 47,
      "outputs": [
        {
          "output_type": "stream",
          "text": [
            "Number of digits:  4\n"
          ],
          "name": "stdout"
        }
      ]
    },
    {
      "cell_type": "code",
      "metadata": {
        "colab": {
          "base_uri": "https://localhost:8080/"
        },
        "id": "ld8EUdoIb3-C",
        "outputId": "ec59ee0f-058b-4d49-a07c-7b8ed77f43b1"
      },
      "source": [
        "# Counting total alphanumeric in a string\r\n",
        "str1 = \"abc4234AFde\"\r\n",
        "digitCount = 0\r\n",
        "for i in range(0,len(str1)):\r\n",
        "  char = str1[i]\r\n",
        "  if(char.isalpha()):\r\n",
        "    digitCount += 1\r\n",
        "print('Number of alphanumeric: ',digitCount)"
      ],
      "execution_count": 48,
      "outputs": [
        {
          "output_type": "stream",
          "text": [
            "Number of alphanumeric:  7\n"
          ],
          "name": "stdout"
        }
      ]
    },
    {
      "cell_type": "code",
      "metadata": {
        "colab": {
          "base_uri": "https://localhost:8080/"
        },
        "id": "dL4vwpfMcG0N",
        "outputId": "4018a50a-3a0c-49b5-cf79-c76b0f7fe619"
      },
      "source": [
        "# Counting total Upper Case in a string\r\n",
        "str1 = \"abc4234AFde\"\r\n",
        "digitCount = 0\r\n",
        "for i in range(0,len(str1)):\r\n",
        "  char = str1[i]\r\n",
        "  if(char.upper()):\r\n",
        "    digitCount += 1\r\n",
        "print('Number total Upper Case: ',digitCount)"
      ],
      "execution_count": 49,
      "outputs": [
        {
          "output_type": "stream",
          "text": [
            "Number total Upper Case:  11\n"
          ],
          "name": "stdout"
        }
      ]
    },
    {
      "cell_type": "code",
      "metadata": {
        "colab": {
          "base_uri": "https://localhost:8080/"
        },
        "id": "zPZPcW8GcRAx",
        "outputId": "15d40c48-f078-4e9f-c2f5-29877a955a81"
      },
      "source": [
        "# Counting total lower Case in a string\r\n",
        "str1 = \"abc4234AFdeaa\"\r\n",
        "digitCount = 0\r\n",
        "for i in range(0,len(str1)):\r\n",
        "  char = str1[i]\r\n",
        "  if(char.lower()):\r\n",
        "    digitCount += 1\r\n",
        "print('Number total lower Case: ',digitCount)"
      ],
      "execution_count": 50,
      "outputs": [
        {
          "output_type": "stream",
          "text": [
            "Number total lower Case:  13\n"
          ],
          "name": "stdout"
        }
      ]
    },
    {
      "cell_type": "code",
      "metadata": {
        "colab": {
          "base_uri": "https://localhost:8080/"
        },
        "id": "Jssit9ntZWhr",
        "outputId": "7629bc3d-db3c-4faf-ba15-59638ec7b77b"
      },
      "source": [
        "# Bubble sort in python\r\n",
        "list1 = [1, 5, 3, 4]\r\n",
        "\r\n",
        "for i in range(len(list1)-1):\r\n",
        "  for j in range(i+1,len(list1)):\r\n",
        "    if(list1[i] > list1[j]):\r\n",
        "      temp = list1[i]\r\n",
        "      list1[i] = list1[j]\r\n",
        "      list1[j] = temp\r\n",
        "print(\"Bubble Sorted list: \",list1)"
      ],
      "execution_count": 51,
      "outputs": [
        {
          "output_type": "stream",
          "text": [
            "Bubble Sorted list:  [1, 3, 4, 5]\n"
          ],
          "name": "stdout"
        }
      ]
    },
    {
      "cell_type": "code",
      "metadata": {
        "colab": {
          "base_uri": "https://localhost:8080/"
        },
        "id": "7ukjrt1sdG_5",
        "outputId": "224d796b-438b-4026-c179-d8aa80914f50"
      },
      "source": [
        "# Compute the product of every pair of numbers from two lists\r\n",
        "list1 = [1, 2, 3]\r\n",
        "list2 = [5, 6, 7] \r\n",
        "final = [a*b for a in list1 for b in list2]\r\n",
        "print(f\"Product of every pair of numbers from two lists:{final}\")"
      ],
      "execution_count": 52,
      "outputs": [
        {
          "output_type": "stream",
          "text": [
            "Product of every pair of numbers from two lists:[5, 6, 7, 10, 12, 14, 15, 18, 21]\n"
          ],
          "name": "stdout"
        }
      ]
    },
    {
      "cell_type": "code",
      "metadata": {
        "colab": {
          "base_uri": "https://localhost:8080/"
        },
        "id": "f0OKt9uBddrL",
        "outputId": "e7de64fb-2b9b-44b2-83f8-1ba30962a514"
      },
      "source": [
        "# Calculate the sum of every pair of numbers from two lists\r\n",
        "list1 = [1, 2, 3]\r\n",
        "list2 = [5, 6, 7] \r\n",
        "final = [a+b for a in list1 for b in list2]\r\n",
        "print(f\"sum of every pair of numbers from two lists:{final}\")"
      ],
      "execution_count": 53,
      "outputs": [
        {
          "output_type": "stream",
          "text": [
            "sum of every pair of numbers from two lists:[6, 7, 8, 7, 8, 9, 8, 9, 10]\n"
          ],
          "name": "stdout"
        }
      ]
    },
    {
      "cell_type": "code",
      "metadata": {
        "colab": {
          "base_uri": "https://localhost:8080/"
        },
        "id": "EesriNnAd5Wh",
        "outputId": "5e9e8479-c3ca-4abc-a993-471be7663fc4"
      },
      "source": [
        "# Calculate the pair-wise product of two lists\r\n",
        "list1 = [1, 2, 3]\r\n",
        "list2 = [5, 6, 7] \r\n",
        "final = [list1[i]*list2[i] for i in range(len(list1))]\r\n",
        "print(f\"pair-wise product of two lists:{final}\")"
      ],
      "execution_count": 54,
      "outputs": [
        {
          "output_type": "stream",
          "text": [
            "pair-wise product of two lists:[5, 12, 21]\n"
          ],
          "name": "stdout"
        }
      ]
    },
    {
      "cell_type": "code",
      "metadata": {
        "colab": {
          "base_uri": "https://localhost:8080/"
        },
        "id": "60mBYdrceI-R",
        "outputId": "5ff95f61-89ce-4b37-8456-e3aafef4b8be"
      },
      "source": [
        "# Remove the last element from the stack\r\n",
        "s = [1,2,3,4]\r\n",
        "print(f\"last element from the stack:{s.pop()}\")"
      ],
      "execution_count": 55,
      "outputs": [
        {
          "output_type": "stream",
          "text": [
            "last element from the stack:4\n"
          ],
          "name": "stdout"
        }
      ]
    },
    {
      "cell_type": "code",
      "metadata": {
        "colab": {
          "base_uri": "https://localhost:8080/"
        },
        "id": "TQvDjj97eVUM",
        "outputId": "bd713180-0b32-4276-bf09-7a970951e1d6"
      },
      "source": [
        "# Insert a number at the beginning of the queue\r\n",
        "q = [1,2,3,4]\r\n",
        "q.insert(0,5)\r\n",
        "print(f\"Revised List:{q}\")"
      ],
      "execution_count": 56,
      "outputs": [
        {
          "output_type": "stream",
          "text": [
            "Revised List:[5, 1, 2, 3, 4]\n"
          ],
          "name": "stdout"
        }
      ]
    },
    {
      "cell_type": "code",
      "metadata": {
        "colab": {
          "base_uri": "https://localhost:8080/"
        },
        "id": "YWKwdnufeppZ",
        "outputId": "f717d4ac-0a43-407e-c1e1-e6a8bd49e381"
      },
      "source": [
        "# Addition of two vector\r\n",
        "v1 = [1,2,3]\r\n",
        "v2 = [1,2,3]\r\n",
        "s1 = [0,0,0]\r\n",
        "\r\n",
        "for i in range(len(v1)):\r\n",
        "  s1[i] = v1[i] + v2[i]\r\n",
        "print(f\"New Vector:{s1}\")"
      ],
      "execution_count": 57,
      "outputs": [
        {
          "output_type": "stream",
          "text": [
            "New Vector:[2, 4, 6]\n"
          ],
          "name": "stdout"
        }
      ]
    },
    {
      "cell_type": "code",
      "metadata": {
        "colab": {
          "base_uri": "https://localhost:8080/"
        },
        "id": "ZCdij3dijcnI",
        "outputId": "a47606b1-2e36-45d7-c9d1-24ac903ff216"
      },
      "source": [
        "# Replace negative prices with 0 and leave the positive values unchanged in a list\r\n",
        "original_prices = [1.25, -9.45, 10.22, 3.78, -5.92, 1.16]\r\n",
        "prices = [i if i > 0 else 0 for i in original_prices]\r\n",
        "print(f\"Final List:{prices}\")"
      ],
      "execution_count": 58,
      "outputs": [
        {
          "output_type": "stream",
          "text": [
            "Final List:[1.25, 0, 10.22, 3.78, 0, 1.16]\n"
          ],
          "name": "stdout"
        }
      ]
    },
    {
      "cell_type": "code",
      "metadata": {
        "colab": {
          "base_uri": "https://localhost:8080/"
        },
        "id": "E_OoSpw83U3S",
        "outputId": "737684a1-5f11-4e10-9f6d-daa07b01b0af"
      },
      "source": [
        "# Convert dictionary to JSON\r\n",
        "import json\r\n",
        "person_dict = {'name': 'Bob',\r\n",
        "'age': 12,\r\n",
        "'children': None\r\n",
        "}\r\n",
        "person_json = json.dumps(person_dict)\r\n",
        "print(person_json)"
      ],
      "execution_count": 59,
      "outputs": [
        {
          "output_type": "stream",
          "text": [
            "{\"name\": \"Bob\", \"age\": 12, \"children\": null}\n"
          ],
          "name": "stdout"
        }
      ]
    },
    {
      "cell_type": "code",
      "metadata": {
        "id": "fHv5WL2Kn4gx"
      },
      "source": [
        "# Writing JSON to a file\r\n",
        "import json\r\n",
        "person_dict = {\"name\": \"Bob\",\r\n",
        "\"languages\": [\"English\", \"Fench\"],\r\n",
        "\"married\": True,\r\n",
        "\"age\": 32\r\n",
        "}\r\n",
        "with open('person.txt', 'w') as json_file:\r\n",
        "  json.dump(person_dict, json_file)"
      ],
      "execution_count": 60,
      "outputs": []
    },
    {
      "cell_type": "code",
      "metadata": {
        "colab": {
          "base_uri": "https://localhost:8080/"
        },
        "id": "0_VrDzR5n5f4",
        "outputId": "cd556c1e-07d1-4f98-da26-1cb09c1f90b5"
      },
      "source": [
        "# Pretty print JSON\r\n",
        "import json\r\n",
        "person_string = '{\"name\": \"Bob\", \"languages\": \"English\", \"numbers\": [2, 1.6, null]}'\r\n",
        "person_dict = json.loads(person_string)\r\n",
        "print(json.dumps(person_dict, indent = 4, sort_keys=True))"
      ],
      "execution_count": 61,
      "outputs": [
        {
          "output_type": "stream",
          "text": [
            "{\n",
            "    \"languages\": \"English\",\n",
            "    \"name\": \"Bob\",\n",
            "    \"numbers\": [\n",
            "        2,\n",
            "        1.6,\n",
            "        null\n",
            "    ]\n",
            "}\n"
          ],
          "name": "stdout"
        }
      ]
    },
    {
      "cell_type": "code",
      "metadata": {
        "colab": {
          "base_uri": "https://localhost:8080/"
        },
        "id": "7Xf0dksi8SZx",
        "outputId": "7e3dd4ae-2db1-4091-db94-531014928334"
      },
      "source": [
        "# Check if the key exists or not in JSON\r\n",
        "import json\r\n",
        "\r\n",
        "studentJson =\"\"\"{\r\n",
        "   \"id\": 1,\r\n",
        "   \"name\": \"john wick\",\r\n",
        "   \"class\": 8,\r\n",
        "   \"percentage\": 75,\r\n",
        "   \"email\": \"jhon@pynative.com\"\r\n",
        "}\"\"\"\r\n",
        "\r\n",
        "print(\"Checking if percentage key exists in JSON\")\r\n",
        "student = json.loads(studentJson)\r\n",
        "if \"percentage\" in student:\r\n",
        "    print(\"Key exist in JSON data\")\r\n",
        "    print(student[\"name\"], \"marks is: \", student[\"percentage\"])\r\n",
        "else:\r\n",
        "    print(\"Key doesn't exist in JSON data\")"
      ],
      "execution_count": 62,
      "outputs": [
        {
          "output_type": "stream",
          "text": [
            "Checking if percentage key exists in JSON\n",
            "Key exist in JSON data\n",
            "john wick marks is:  75\n"
          ],
          "name": "stdout"
        }
      ]
    },
    {
      "cell_type": "code",
      "metadata": {
        "colab": {
          "base_uri": "https://localhost:8080/"
        },
        "id": "9s2go-2s8dXy",
        "outputId": "cb704cc0-fe97-45c6-b734-165fb6aae96b"
      },
      "source": [
        "# Check if there is a value for a key in JSON\r\n",
        "import json\r\n",
        "\r\n",
        "studentJson =\"\"\"{\r\n",
        "   \"id\": 1,\r\n",
        "   \"name\": \"Ishwar Venugopal\",\r\n",
        "   \"class\": null,\r\n",
        "   \"percentage\": 35,\r\n",
        "   \"email\": \"ishwarraja@gmail.com\"\r\n",
        "}\"\"\"\r\n",
        "student = json.loads(studentJson)\r\n",
        "if not (student.get('email') is None):\r\n",
        "     print(\"value is present for given JSON key\")\r\n",
        "     print(student.get('email'))\r\n",
        "else:\r\n",
        "    print(\"value is not present for given JSON key\")"
      ],
      "execution_count": 63,
      "outputs": [
        {
          "output_type": "stream",
          "text": [
            "value is present for given JSON key\n",
            "ishwarraja@gmail.com\n"
          ],
          "name": "stdout"
        }
      ]
    },
    {
      "cell_type": "code",
      "metadata": {
        "colab": {
          "base_uri": "https://localhost:8080/"
        },
        "id": "YAzlHYs58wTZ",
        "outputId": "991320ad-2bda-478b-db09-1d17d394ef5c"
      },
      "source": [
        "# Sort JSON keys in Python and write it into a file\r\n",
        "import json\r\n",
        "sampleJson = {\"id\" : 1, \"name\" : \"value2\", \"age\" : 29}\r\n",
        "\r\n",
        "with open(\"sampleJson.json\", \"w\") as write_file:\r\n",
        "    json.dump(sampleJson, write_file, indent=4, sort_keys=True)\r\n",
        "print(\"Done writing JSON data into a file\")"
      ],
      "execution_count": 64,
      "outputs": [
        {
          "output_type": "stream",
          "text": [
            "Done writing JSON data into a file\n"
          ],
          "name": "stdout"
        }
      ]
    },
    {
      "cell_type": "code",
      "metadata": {
        "colab": {
          "base_uri": "https://localhost:8080/"
        },
        "id": "byDcvp2G894Z",
        "outputId": "450c620a-31c5-4a49-d2a1-99bda4e5598b"
      },
      "source": [
        "#  Given a Python list. Turn every item of a list into its square\r\n",
        "aList = [1, 2, 3, 4, 5, 6, 7]\r\n",
        "aList =  [x * x for x in aList]\r\n",
        "print(aList)"
      ],
      "execution_count": 65,
      "outputs": [
        {
          "output_type": "stream",
          "text": [
            "[1, 4, 9, 16, 25, 36, 49]\n"
          ],
          "name": "stdout"
        }
      ]
    },
    {
      "cell_type": "code",
      "metadata": {
        "colab": {
          "base_uri": "https://localhost:8080/"
        },
        "id": "26EQZnN_9ICg",
        "outputId": "ec256744-40f6-47d2-db24-0c9a4c099442"
      },
      "source": [
        "# Remove empty strings from the list of strings\r\n",
        "list1 = [\"Mike\", \"\", \"Emma\", \"Kelly\", \"\", \"Brad\"]\r\n",
        "resList = [i for i in (filter(None, list1))]\r\n",
        "print(resList)"
      ],
      "execution_count": 66,
      "outputs": [
        {
          "output_type": "stream",
          "text": [
            "['Mike', 'Emma', 'Kelly', 'Brad']\n"
          ],
          "name": "stdout"
        }
      ]
    },
    {
      "cell_type": "code",
      "metadata": {
        "colab": {
          "base_uri": "https://localhost:8080/"
        },
        "id": "2rhx9-Fg-ClA",
        "outputId": "315c8673-97ee-4e39-f3f9-fb4158da3610"
      },
      "source": [
        "# Write a program which will achieve given a Python list, remove all occurrence of an input from the list\r\n",
        "list1 = [5, 20, 15, 20, 25, 50, 20]\r\n",
        "\r\n",
        "def removeValue(sampleList, val):\r\n",
        "   return [value for value in sampleList if value != val]\r\n",
        "   \r\n",
        "resList = removeValue(list1, 20)\r\n",
        "print(resList)"
      ],
      "execution_count": 67,
      "outputs": [
        {
          "output_type": "stream",
          "text": [
            "[5, 15, 25, 50]\n"
          ],
          "name": "stdout"
        }
      ]
    },
    {
      "cell_type": "code",
      "metadata": {
        "colab": {
          "base_uri": "https://localhost:8080/"
        },
        "id": "s2UWe94m-URa",
        "outputId": "63dc1949-a607-4283-af64-67dce5de243e"
      },
      "source": [
        "#  Generate 3 random integers between 100 and 999 which is divisible by 5\r\n",
        "import random\r\n",
        "\r\n",
        "print(\"Generating 3 random integer number between 100 and 999 divisible by 5\")\r\n",
        "for num in range(3):\r\n",
        "    print(random.randrange(100, 999, 5), end=', ')"
      ],
      "execution_count": 68,
      "outputs": [
        {
          "output_type": "stream",
          "text": [
            "Generating 3 random integer number between 100 and 999 divisible by 5\n",
            "475, 690, 805, "
          ],
          "name": "stdout"
        }
      ]
    },
    {
      "cell_type": "code",
      "metadata": {
        "colab": {
          "base_uri": "https://localhost:8080/"
        },
        "id": "tvyNQgz4-bno",
        "outputId": "fd7c7cc4-efe0-4545-e2ff-1b9eaface39f"
      },
      "source": [
        "# Pick a random character from a given String\r\n",
        "import random\r\n",
        "\r\n",
        "name = 'pynative'\r\n",
        "char = random.choice(name)\r\n",
        "print(\"random char is \", char)"
      ],
      "execution_count": 69,
      "outputs": [
        {
          "output_type": "stream",
          "text": [
            "random char is  t\n"
          ],
          "name": "stdout"
        }
      ]
    },
    {
      "cell_type": "code",
      "metadata": {
        "colab": {
          "base_uri": "https://localhost:8080/"
        },
        "id": "WAecM1HB-hN4",
        "outputId": "53400a71-64de-4088-c4bf-af697c84820a"
      },
      "source": [
        "# Generate  random String of length 5\r\n",
        "import random\r\n",
        "import string\r\n",
        "\r\n",
        "def randomString(stringLength):\r\n",
        "    \"\"\"Generate a random string of 5 charcters\"\"\"\r\n",
        "    letters = string.ascii_letters\r\n",
        "    return ''.join(random.choice(letters) for i in range(stringLength))\r\n",
        "\r\n",
        "print (\"Random String is \", randomString(5) )"
      ],
      "execution_count": 70,
      "outputs": [
        {
          "output_type": "stream",
          "text": [
            "Random String is  AdmTv\n"
          ],
          "name": "stdout"
        }
      ]
    },
    {
      "cell_type": "code",
      "metadata": {
        "colab": {
          "base_uri": "https://localhost:8080/"
        },
        "id": "2ibJq1fD-saP",
        "outputId": "001098b1-e5a5-4ec8-d908-16029c47ff08"
      },
      "source": [
        "# Generate a random date between given start and end dates\r\n",
        "import random\r\n",
        "import time\r\n",
        "\r\n",
        "def getRandomDate(startDate, endDate ):\r\n",
        "    print(\"Printing random date between\", startDate, \" and \", endDate)\r\n",
        "    randomGenerator = random.random()\r\n",
        "    dateFormat = '%m/%d/%Y'\r\n",
        "\r\n",
        "    startTime = time.mktime(time.strptime(startDate, dateFormat))\r\n",
        "    endTime = time.mktime(time.strptime(endDate, dateFormat))\r\n",
        "\r\n",
        "    randomTime = startTime + randomGenerator * (endTime - startTime)\r\n",
        "    randomDate = time.strftime(dateFormat, time.localtime(randomTime))\r\n",
        "    return randomDate\r\n",
        "\r\n",
        "print (\"Random Date = \", getRandomDate(\"1/1/2016\", \"12/12/2018\"))"
      ],
      "execution_count": 71,
      "outputs": [
        {
          "output_type": "stream",
          "text": [
            "Printing random date between 1/1/2016  and  12/12/2018\n",
            "Random Date =  06/07/2016\n"
          ],
          "name": "stdout"
        }
      ]
    },
    {
      "cell_type": "code",
      "metadata": {
        "colab": {
          "base_uri": "https://localhost:8080/"
        },
        "id": "_3DfaOER-2qj",
        "outputId": "f6c9df31-0066-4922-8ede-fb86e270c64a"
      },
      "source": [
        "# Write a program which will create a new string by appending s2 in the middle of s1 given two strings, s1 and s2\r\n",
        "def appendMiddle(s1, s2):\r\n",
        "  middleIndex = int(len(s1) /2)\r\n",
        "  middleThree = s1[:middleIndex:]+ s2 +s1[middleIndex:]\r\n",
        "  print(\"After appending new string in middle\", middleThree)\r\n",
        "  \r\n",
        "appendMiddle(\"Ault\", \"Kelly\")"
      ],
      "execution_count": 72,
      "outputs": [
        {
          "output_type": "stream",
          "text": [
            "After appending new string in middle AuKellylt\n"
          ],
          "name": "stdout"
        }
      ]
    },
    {
      "cell_type": "code",
      "metadata": {
        "colab": {
          "base_uri": "https://localhost:8080/"
        },
        "id": "jnFcueJ7_Fhb",
        "outputId": "28f13889-d316-4dc3-f1d4-72e40a6c706d"
      },
      "source": [
        "# Arrange string characters such that lowercase letters should come first\r\n",
        "str1 = \"PyNaTive\"\r\n",
        "lower = []\r\n",
        "upper = []\r\n",
        "for char in str1:\r\n",
        "    if char.islower():\r\n",
        "        lower.append(char)\r\n",
        "    else:\r\n",
        "        upper.append(char)\r\n",
        "sorted_string = ''.join(lower + upper)\r\n",
        "print(sorted_string)"
      ],
      "execution_count": 73,
      "outputs": [
        {
          "output_type": "stream",
          "text": [
            "yaivePNT\n"
          ],
          "name": "stdout"
        }
      ]
    },
    {
      "cell_type": "code",
      "metadata": {
        "colab": {
          "base_uri": "https://localhost:8080/"
        },
        "id": "VpqiqHwS_d4P",
        "outputId": "b28a3e05-2307-499a-d2f9-b364fac6b11b"
      },
      "source": [
        "# Given a string, return the sum and average of the digits that appear in the string, ignoring all other characters\r\n",
        "import re\r\n",
        "\r\n",
        "inputStr = \"English = 78 Science = 83 Math = 68 History = 65\"\r\n",
        "markList = [int(num) for num in re.findall(r'\\b\\d+\\b', inputStr)]\r\n",
        "totalMarks = 0\r\n",
        "for mark in markList:\r\n",
        "  totalMarks+=mark\r\n",
        "\r\n",
        "percentage = totalMarks/len(markList)  \r\n",
        "print(\"Total Marks is:\", totalMarks, \"Percentage is \", percentage)"
      ],
      "execution_count": 74,
      "outputs": [
        {
          "output_type": "stream",
          "text": [
            "Total Marks is: 294 Percentage is  73.5\n"
          ],
          "name": "stdout"
        }
      ]
    },
    {
      "cell_type": "code",
      "metadata": {
        "colab": {
          "base_uri": "https://localhost:8080/"
        },
        "id": "tkINVSrB_ktK",
        "outputId": "45f8fcf9-db9b-44ed-8a5c-3508204bc01f"
      },
      "source": [
        "# Given an input string, count occurrences of all characters within a string\r\n",
        "str1 = \"Apple\"\r\n",
        "countDict = dict()\r\n",
        "for char in str1:\r\n",
        "  count = str1.count(char)\r\n",
        "  countDict[char]=count\r\n",
        "print(countDict)"
      ],
      "execution_count": 75,
      "outputs": [
        {
          "output_type": "stream",
          "text": [
            "{'A': 1, 'p': 2, 'l': 1, 'e': 1}\n"
          ],
          "name": "stdout"
        }
      ]
    },
    {
      "cell_type": "code",
      "metadata": {
        "colab": {
          "base_uri": "https://localhost:8080/"
        },
        "id": "ZmtxGzMF_qXt",
        "outputId": "fcbf69a5-8e60-48ff-b955-3ac2b37405a1"
      },
      "source": [
        "# Reverse a given string\r\n",
        "str1 = \"PYnative\"\r\n",
        "print(\"Original String is:\", str1)\r\n",
        "\r\n",
        "str1 = str1[::-1]\r\n",
        "print(\"Reversed String is:\", str1)"
      ],
      "execution_count": 76,
      "outputs": [
        {
          "output_type": "stream",
          "text": [
            "Original String is: PYnative\n",
            "Reversed String is: evitanYP\n"
          ],
          "name": "stdout"
        }
      ]
    },
    {
      "cell_type": "code",
      "metadata": {
        "colab": {
          "base_uri": "https://localhost:8080/"
        },
        "id": "nn055r2I_zBm",
        "outputId": "47ecc9d2-f216-48bf-f6a8-75b395591964"
      },
      "source": [
        "# Remove special symbols/Punctuation from a given string\r\n",
        "import string\r\n",
        "\r\n",
        "str1 = \"/*Jon is @developer & musician\"\r\n",
        "new_str = str1.translate(str.maketrans('', '', string.punctuation))\r\n",
        "print(\"New string is \", new_str)"
      ],
      "execution_count": 77,
      "outputs": [
        {
          "output_type": "stream",
          "text": [
            "New string is  Jon is developer  musician\n"
          ],
          "name": "stdout"
        }
      ]
    },
    {
      "cell_type": "code",
      "metadata": {
        "colab": {
          "base_uri": "https://localhost:8080/"
        },
        "id": "iTu0KvOm_-5z",
        "outputId": "c1eb1fc6-cf05-4d5a-f1a1-2d81fc582091"
      },
      "source": [
        "# Removal all the characters other than integers from string\r\n",
        "str1 = 'I am 25 years and 10 months old'\r\n",
        "res = \"\".join([item for item in str1 if item.isdigit()])\r\n",
        "print(res)"
      ],
      "execution_count": 78,
      "outputs": [
        {
          "output_type": "stream",
          "text": [
            "2510\n"
          ],
          "name": "stdout"
        }
      ]
    },
    {
      "cell_type": "code",
      "metadata": {
        "colab": {
          "base_uri": "https://localhost:8080/"
        },
        "id": "LQmf7VtBAI6k",
        "outputId": "84112255-7e8f-4b5c-f91d-d75c122cb08d"
      },
      "source": [
        "# From given string replace each punctuation with #\r\n",
        "from string import punctuation\r\n",
        "\r\n",
        "str1 = '/*Jon is @developer & musician!!'\r\n",
        "replace_char = '#'\r\n",
        "for char in punctuation:\r\n",
        "    str1 = str1.replace(char, replace_char)\r\n",
        "\r\n",
        "print(\"The strings after replacement : \", str1)"
      ],
      "execution_count": 79,
      "outputs": [
        {
          "output_type": "stream",
          "text": [
            "The strings after replacement :  ##Jon is #developer # musician##\n"
          ],
          "name": "stdout"
        }
      ]
    },
    {
      "cell_type": "code",
      "metadata": {
        "colab": {
          "base_uri": "https://localhost:8080/"
        },
        "id": "ExoonkswAni8",
        "outputId": "4e1c6e48-7ebc-4b9f-c4aa-aed5bc6f234e"
      },
      "source": [
        "# Given a list iterate it and count the occurrence of each element and create a dictionary to show the count of each elemen\r\n",
        "sampleList = [11, 45, 8, 11, 23, 45, 23, 45, 89]\r\n",
        "countDict = dict()\r\n",
        "for item in sampleList:\r\n",
        "  if(item in countDict):\r\n",
        "    countDict[item] += 1\r\n",
        "  else:\r\n",
        "    countDict[item] = 1\r\n",
        "  \r\n",
        "print(\"Printing count of each item  \",countDict)"
      ],
      "execution_count": 80,
      "outputs": [
        {
          "output_type": "stream",
          "text": [
            "Printing count of each item   {11: 2, 45: 3, 8: 1, 23: 2, 89: 1}\n"
          ],
          "name": "stdout"
        }
      ]
    },
    {
      "cell_type": "code",
      "metadata": {
        "colab": {
          "base_uri": "https://localhost:8080/"
        },
        "id": "D-6xalkRBrmc",
        "outputId": "d60390df-5c67-411b-d967-fdf24e209bf7"
      },
      "source": [
        "# Given a two list of equal size create a set such that it shows the element from both lists in the pair\r\n",
        "firstList = [2, 3, 4, 5, 6, 7, 8]\r\n",
        "secondList = [4, 9, 16, 25, 36, 49, 64]\r\n",
        "result = zip(firstList, secondList)\r\n",
        "resultSet = set(result)\r\n",
        "print(resultSet)"
      ],
      "execution_count": 81,
      "outputs": [
        {
          "output_type": "stream",
          "text": [
            "{(6, 36), (8, 64), (4, 16), (5, 25), (3, 9), (7, 49), (2, 4)}\n"
          ],
          "name": "stdout"
        }
      ]
    },
    {
      "cell_type": "code",
      "metadata": {
        "colab": {
          "base_uri": "https://localhost:8080/"
        },
        "id": "mpYxkTTPKeTC",
        "outputId": "65997a75-c5a9-4aef-ea0b-171b893944e2"
      },
      "source": [
        "# Given a two sets find the intersection and remove those elements from the first set\r\n",
        "firstSet  = {23, 42, 65, 57, 78, 83, 29}\r\n",
        "secondSet = {57, 83, 29, 67, 73, 43, 48}\r\n",
        "\r\n",
        "intersection = firstSet.intersection(secondSet)\r\n",
        "for item in intersection:\r\n",
        "  firstSet.remove(item)\r\n",
        "print(\"First Set after removing common element \", firstSet)"
      ],
      "execution_count": 82,
      "outputs": [
        {
          "output_type": "stream",
          "text": [
            "First Set after removing common element  {65, 42, 78, 23}\n"
          ],
          "name": "stdout"
        }
      ]
    },
    {
      "cell_type": "code",
      "metadata": {
        "colab": {
          "base_uri": "https://localhost:8080/"
        },
        "id": "QWBAKvSGKrhM",
        "outputId": "5a9dec20-c838-4b36-c48b-f1fbf468a6fe"
      },
      "source": [
        "# Given a dictionary get all values from the dictionary and add it in a list but don’t add duplicates\r\n",
        "speed  ={'jan':47, 'feb':52, 'march':47, 'April':44, 'May':52, 'June':53,\r\n",
        "          'july':54, 'Aug':44, 'Sept':54} \r\n",
        "\r\n",
        "speedList = []\r\n",
        "for item in speed.values():\r\n",
        "  if item not in speedList:\r\n",
        "    speedList.append(item)\r\n",
        "print(\"unique list\", speedList)"
      ],
      "execution_count": 83,
      "outputs": [
        {
          "output_type": "stream",
          "text": [
            "unique list [47, 52, 44, 53, 54]\n"
          ],
          "name": "stdout"
        }
      ]
    },
    {
      "cell_type": "code",
      "metadata": {
        "colab": {
          "base_uri": "https://localhost:8080/"
        },
        "id": "ornCCtbZLBP0",
        "outputId": "9c32c10a-faf4-4967-e26b-82341d4bfd5e"
      },
      "source": [
        "# Convert decimal number to octal\r\n",
        "print('%o,' % (8))"
      ],
      "execution_count": 84,
      "outputs": [
        {
          "output_type": "stream",
          "text": [
            "10,\n"
          ],
          "name": "stdout"
        }
      ]
    },
    {
      "cell_type": "code",
      "metadata": {
        "colab": {
          "base_uri": "https://localhost:8080/"
        },
        "id": "qTg6M-y4LN4J",
        "outputId": "7422bbd6-4665-4cb2-b924-310d985f776d"
      },
      "source": [
        "# Convert string into a datetime object\r\n",
        "from datetime import datetime\r\n",
        "date_string = \"Feb 25 2020  4:20PM\"\r\n",
        "datetime_object = datetime.strptime(date_string, '%b %d %Y %I:%M%p')\r\n",
        "print(datetime_object)"
      ],
      "execution_count": 85,
      "outputs": [
        {
          "output_type": "stream",
          "text": [
            "2020-02-25 16:20:00\n"
          ],
          "name": "stdout"
        }
      ]
    },
    {
      "cell_type": "code",
      "metadata": {
        "colab": {
          "base_uri": "https://localhost:8080/"
        },
        "id": "lPM3hzdzLU0t",
        "outputId": "cefdc337-6023-46a5-f4b2-ce62c4dc35ee"
      },
      "source": [
        "# Subtract a week from a given date\r\n",
        "from datetime import datetime, timedelta\r\n",
        "given_date = datetime(2020, 2, 25)\r\n",
        "days_to_subtract = 7\r\n",
        "res_date = given_date - timedelta(days=days_to_subtract)\r\n",
        "print(res_date)"
      ],
      "execution_count": 86,
      "outputs": [
        {
          "output_type": "stream",
          "text": [
            "2020-02-18 00:00:00\n"
          ],
          "name": "stdout"
        }
      ]
    },
    {
      "cell_type": "code",
      "metadata": {
        "colab": {
          "base_uri": "https://localhost:8080/"
        },
        "id": "J5QIXtXxLfKr",
        "outputId": "a44a4055-e02a-4999-cd56-6876720a02e6"
      },
      "source": [
        "# Find the day of week of a given date?\r\n",
        "from datetime import datetime\r\n",
        "given_date = datetime(2020, 7, 26)\r\n",
        "print(given_date.strftime('%A'))"
      ],
      "execution_count": 87,
      "outputs": [
        {
          "output_type": "stream",
          "text": [
            "Sunday\n"
          ],
          "name": "stdout"
        }
      ]
    },
    {
      "cell_type": "code",
      "metadata": {
        "colab": {
          "base_uri": "https://localhost:8080/"
        },
        "id": "1g_XYabuLt2B",
        "outputId": "caea8aff-5523-4ccd-e9be-3daba99f0d50"
      },
      "source": [
        "#  Add week (7 days) and 12 hours to a given date\r\n",
        "from datetime import datetime, timedelta\r\n",
        "given_date = datetime(2020, 3, 22, 10, 00, 00)\r\n",
        "days_to_add = 7\r\n",
        "res_date = given_date + timedelta(days=days_to_add, hours=12)\r\n",
        "print(res_date)"
      ],
      "execution_count": 88,
      "outputs": [
        {
          "output_type": "stream",
          "text": [
            "2020-03-29 22:00:00\n"
          ],
          "name": "stdout"
        }
      ]
    },
    {
      "cell_type": "code",
      "metadata": {
        "colab": {
          "base_uri": "https://localhost:8080/"
        },
        "id": "pxaqppksL381",
        "outputId": "377af40c-9a67-44eb-a1e4-ffa8e5cb339b"
      },
      "source": [
        "# Calculate number of days between two given dates\r\n",
        "from datetime import datetime\r\n",
        "\r\n",
        "date_1 = datetime(2020, 2, 25).date()\r\n",
        "date_2 = datetime(2020, 9, 17).date()\r\n",
        "delta = None\r\n",
        "if date_1 > date_2:\r\n",
        "    delta = date_1 - date_2\r\n",
        "else:\r\n",
        "    delta = date_2 - date_1\r\n",
        "print(\"Difference is\", delta.days, \"days\")"
      ],
      "execution_count": 89,
      "outputs": [
        {
          "output_type": "stream",
          "text": [
            "Difference is 205 days\n"
          ],
          "name": "stdout"
        }
      ]
    },
    {
      "cell_type": "code",
      "metadata": {
        "colab": {
          "base_uri": "https://localhost:8080/"
        },
        "id": "YOvpIUtKMIuJ",
        "outputId": "ba1f96c1-d88e-46c6-c9aa-06710c51755d"
      },
      "source": [
        "# Write a recursive function to calculate the sum of numbers from 0 to 10\r\n",
        "def calculateSum(num):\r\n",
        "    if num:\r\n",
        "        return num + calculateSum(num-1)\r\n",
        "    else:\r\n",
        "        return 0\r\n",
        "res = calculateSum(10)\r\n",
        "print(res)"
      ],
      "execution_count": 90,
      "outputs": [
        {
          "output_type": "stream",
          "text": [
            "55\n"
          ],
          "name": "stdout"
        }
      ]
    },
    {
      "cell_type": "code",
      "metadata": {
        "colab": {
          "base_uri": "https://localhost:8080/"
        },
        "id": "P0BA3kcvMVo3",
        "outputId": "12895a42-39a1-468a-eba5-3021fe3c73ae"
      },
      "source": [
        "# Generate a Python list of all the even numbers between two given numbers\r\n",
        "num1 = 4\r\n",
        "num2 = 30\r\n",
        "myval = [i for i in range(num1, num2, 2)]\r\n",
        "print(myval)"
      ],
      "execution_count": 91,
      "outputs": [
        {
          "output_type": "stream",
          "text": [
            "[4, 6, 8, 10, 12, 14, 16, 18, 20, 22, 24, 26, 28]\n"
          ],
          "name": "stdout"
        }
      ]
    },
    {
      "cell_type": "code",
      "metadata": {
        "colab": {
          "base_uri": "https://localhost:8080/"
        },
        "id": "sc1Q89nzMixF",
        "outputId": "d7058c14-91b3-488c-ff6f-f2fad7228c34"
      },
      "source": [
        "# Return the largest item from the given list\r\n",
        "aList = [4, 6, 8, 24, 12, 2]\r\n",
        "print(max(aList))"
      ],
      "execution_count": 92,
      "outputs": [
        {
          "output_type": "stream",
          "text": [
            "24\n"
          ],
          "name": "stdout"
        }
      ]
    },
    {
      "cell_type": "code",
      "metadata": {
        "colab": {
          "base_uri": "https://localhost:8080/"
        },
        "id": "nqIasXLRMq89",
        "outputId": "126f5a42-4698-442c-a3b6-58e619cd900a"
      },
      "source": [
        "# Write a program to extract each digit from an integer, in the reverse order\r\n",
        "number = 7536\r\n",
        "while (number > 0):\r\n",
        "    digit = number % 10\r\n",
        "    number = number // 10\r\n",
        "    print(digit, end=\" \")"
      ],
      "execution_count": 93,
      "outputs": [
        {
          "output_type": "stream",
          "text": [
            "6 3 5 7 "
          ],
          "name": "stdout"
        }
      ]
    },
    {
      "cell_type": "code",
      "metadata": {
        "colab": {
          "base_uri": "https://localhost:8080/"
        },
        "id": "nlv9kMXbNA28",
        "outputId": "484a0ac2-b6b7-40ec-8a9b-8b1cf6c35c8d"
      },
      "source": [
        "#  Given a Python list, remove all occurrence of a given number from the list\r\n",
        "num1 = 20\r\n",
        "list1 = [5, 20, 15, 20, 25, 50, 20]\r\n",
        "\r\n",
        "def removeValue(sampleList, val):\r\n",
        "   return [value for value in sampleList if value != val]\r\n",
        "resList = removeValue(list1, num1)\r\n",
        "print(resList)"
      ],
      "execution_count": 94,
      "outputs": [
        {
          "output_type": "stream",
          "text": [
            "[5, 15, 25, 50]\n"
          ],
          "name": "stdout"
        }
      ]
    },
    {
      "cell_type": "code",
      "metadata": {
        "colab": {
          "base_uri": "https://localhost:8080/"
        },
        "id": "KJ3kt7R9NxAb",
        "outputId": "b1c85369-1211-4730-989e-c6b0e6c916a8"
      },
      "source": [
        "# Shuffle a list randomly\r\n",
        "import random\r\n",
        "list = [2,5,8,9,12]\r\n",
        "random.shuffle(list)\r\n",
        "print (\"Printing shuffled list \", list)"
      ],
      "execution_count": 95,
      "outputs": [
        {
          "output_type": "stream",
          "text": [
            "Printing shuffled list  [12, 2, 8, 5, 9]\n"
          ],
          "name": "stdout"
        }
      ]
    },
    {
      "cell_type": "code",
      "metadata": {
        "colab": {
          "base_uri": "https://localhost:8080/"
        },
        "id": "tDvmqNpzR_nE",
        "outputId": "a9839b9a-e0dd-478b-99d2-563d868f0507"
      },
      "source": [
        "# Generate a random n-dimensional array of float numbers\r\n",
        "import numpy\r\n",
        "random_float_array = numpy.random.rand(2, 2)\r\n",
        "print(\"2 X 2 random float array in [0.0, 1.0] \\n\", random_float_array,\"\\n\")"
      ],
      "execution_count": 96,
      "outputs": [
        {
          "output_type": "stream",
          "text": [
            "2 X 2 random float array in [0.0, 1.0] \n",
            " [[0.04273667 0.76001007]\n",
            " [0.09523121 0.76889474]] \n",
            "\n"
          ],
          "name": "stdout"
        }
      ]
    },
    {
      "cell_type": "code",
      "metadata": {
        "colab": {
          "base_uri": "https://localhost:8080/"
        },
        "id": "VY-a_-kySJwm",
        "outputId": "d73db377-d01d-4428-8335-0ab8a2926303"
      },
      "source": [
        "# Generate random Universally unique IDs\r\n",
        "import uuid\r\n",
        "safeId = uuid.uuid4()\r\n",
        "print(\"safe unique id is \", safeId)"
      ],
      "execution_count": 97,
      "outputs": [
        {
          "output_type": "stream",
          "text": [
            "safe unique id is  b945463d-3161-4ad9-8e74-be0ee3b49dff\n"
          ],
          "name": "stdout"
        }
      ]
    },
    {
      "cell_type": "code",
      "metadata": {
        "colab": {
          "base_uri": "https://localhost:8080/"
        },
        "id": "kIEl4NwfSada",
        "outputId": "7a8c17bd-c082-48a2-a2d1-4ed6d5335ded"
      },
      "source": [
        "# Choose given number of elements from the list with different probability\r\n",
        "import random\r\n",
        "num1 =5\r\n",
        "numberList = [111, 222, 333, 444, 555]\r\n",
        "print(random.choices(numberList, weights=(10, 20, 30, 40, 50), k=num1))"
      ],
      "execution_count": 98,
      "outputs": [
        {
          "output_type": "stream",
          "text": [
            "[222, 555, 333, 555, 333]\n"
          ],
          "name": "stdout"
        }
      ]
    },
    {
      "cell_type": "code",
      "metadata": {
        "colab": {
          "base_uri": "https://localhost:8080/"
        },
        "id": "A6s7z4VsSoLl",
        "outputId": "a9492981-ec04-404a-d532-4a4879f17680"
      },
      "source": [
        "# Generate weighted random numbers\r\n",
        "import random\r\n",
        "randomList = random.choices(range(10, 40, 5), cum_weights=(5, 15, 10, 25, 40, 65), k=6)\r\n",
        "print(randomList)"
      ],
      "execution_count": 99,
      "outputs": [
        {
          "output_type": "stream",
          "text": [
            "[35, 25, 35, 30, 35, 30]\n"
          ],
          "name": "stdout"
        }
      ]
    },
    {
      "cell_type": "code",
      "metadata": {
        "colab": {
          "base_uri": "https://localhost:8080/"
        },
        "id": "eQ74NzcES2-X",
        "outputId": "934387e6-521d-44fc-aeb5-6a3798655dbb"
      },
      "source": [
        "# generating a reliable secure random number\r\n",
        "import secrets\r\n",
        "print(\"Random integer number generated using secrets module is \")\r\n",
        "number = secrets.randbelow(30)\r\n",
        "print(number)"
      ],
      "execution_count": 100,
      "outputs": [
        {
          "output_type": "stream",
          "text": [
            "Random integer number generated using secrets module is \n",
            "7\n"
          ],
          "name": "stdout"
        }
      ]
    },
    {
      "cell_type": "code",
      "metadata": {
        "colab": {
          "base_uri": "https://localhost:8080/"
        },
        "id": "OY1SGjR-TI1V",
        "outputId": "8dac6508-b3fd-49f3-83bb-f019a5292816"
      },
      "source": [
        "# Calculate memory is being used by an list in Python\r\n",
        "import sys\r\n",
        "list1 = ['Scott', 'Eric', 'Kelly', 'Emma', 'Smith']\r\n",
        "print(\"size of list = \",sys.getsizeof(list1))"
      ],
      "execution_count": 101,
      "outputs": [
        {
          "output_type": "stream",
          "text": [
            "size of list =  104\n"
          ],
          "name": "stdout"
        }
      ]
    },
    {
      "cell_type": "code",
      "metadata": {
        "colab": {
          "base_uri": "https://localhost:8080/"
        },
        "id": "UmJhGrmlTYH9",
        "outputId": "9d1a006c-77d4-4001-bce0-77391fd41276"
      },
      "source": [
        "# Find if all elements in a list are identical\r\n",
        "listOne = [20, 20, 20, 20]\r\n",
        "print(\"All element are duplicate in listOne:\", listOne.count(listOne[0]) == len(listOne))"
      ],
      "execution_count": 102,
      "outputs": [
        {
          "output_type": "stream",
          "text": [
            "All element are duplicate in listOne: True\n"
          ],
          "name": "stdout"
        }
      ]
    },
    {
      "cell_type": "code",
      "metadata": {
        "colab": {
          "base_uri": "https://localhost:8080/"
        },
        "id": "a_knszkUTlBP",
        "outputId": "87cd36a9-b5b1-434f-c4e8-9ddb6b1f7825"
      },
      "source": [
        "# Merge two dictionaries in a single expression\r\n",
        "currentEmployee = {1: 'Scott', 2: \"Eric\", 3:\"Kelly\"}\r\n",
        "formerEmployee  = {2: 'Eric', 4: \"Emma\"}\r\n",
        "allEmployee = {**currentEmployee, **formerEmployee}\r\n",
        "print(allEmployee)"
      ],
      "execution_count": 103,
      "outputs": [
        {
          "output_type": "stream",
          "text": [
            "{1: 'Scott', 2: 'Eric', 3: 'Kelly', 4: 'Emma'}\n"
          ],
          "name": "stdout"
        }
      ]
    },
    {
      "cell_type": "code",
      "metadata": {
        "colab": {
          "base_uri": "https://localhost:8080/"
        },
        "id": "bnHLDrNSTtqp",
        "outputId": "07bfbde0-260f-49c8-810a-f451f33e1278"
      },
      "source": [
        "# Convert two lists into a dictionary\r\n",
        "ItemId = [54, 65, 76]\r\n",
        "names = [\"Hard Disk\", \"Laptop\", \"RAM\"]\r\n",
        "itemDictionary = dict(zip(ItemId, names))\r\n",
        "print(itemDictionary)"
      ],
      "execution_count": 104,
      "outputs": [
        {
          "output_type": "stream",
          "text": [
            "{54: 'Hard Disk', 65: 'Laptop', 76: 'RAM'}\n"
          ],
          "name": "stdout"
        }
      ]
    },
    {
      "cell_type": "code",
      "metadata": {
        "colab": {
          "base_uri": "https://localhost:8080/"
        },
        "id": "KNAcSz5giDMw",
        "outputId": "e3eb2800-72d0-42ce-ddfd-d146dacd8c1f"
      },
      "source": [
        "# Alternate cases in String \r\n",
        "test_str = \"geeksforgeeks\"\r\n",
        "res = \"\" \r\n",
        "for idx in range(len(test_str)): \r\n",
        "    if not idx % 2 : \r\n",
        "       res = res + test_str[idx].upper() \r\n",
        "    else: \r\n",
        "       res = res + test_str[idx].lower() \r\n",
        "print(res)"
      ],
      "execution_count": 105,
      "outputs": [
        {
          "output_type": "stream",
          "text": [
            "GeEkSfOrGeEkS\n"
          ],
          "name": "stdout"
        }
      ]
    },
    {
      "cell_type": "code",
      "metadata": {
        "colab": {
          "base_uri": "https://localhost:8080/"
        },
        "id": "6uvckAmUiJD4",
        "outputId": "83d99023-4532-408d-f14a-190ceb2667db"
      },
      "source": [
        "# Write a Python program to validate an Email \r\n",
        "import re \r\n",
        "regex = '^[a-z0-9]+[\\._]?[a-z0-9]+[@]\\w+[.]\\w{2,3}$'\r\n",
        "def check(email):\r\n",
        "  if(re.search(regex,email)):\r\n",
        "    print(\"Valid Email\")\r\n",
        "  else:\r\n",
        "    print(\"Invalid Email\")\r\n",
        "\r\n",
        "email = \"ishwarraja@gmail.com\"\r\n",
        "check(email) "
      ],
      "execution_count": 106,
      "outputs": [
        {
          "output_type": "stream",
          "text": [
            "Valid Email\n"
          ],
          "name": "stdout"
        }
      ]
    },
    {
      "cell_type": "code",
      "metadata": {
        "colab": {
          "base_uri": "https://localhost:8080/"
        },
        "id": "sO8eY0C8R8G2",
        "outputId": "6485fc26-1555-4737-c3ea-e439c715ad87"
      },
      "source": [
        "# Write a Program to implement validation of a Password\r\n",
        "class Password:\r\n",
        "    def __init__(self, password):\r\n",
        "        self.password = password\r\n",
        "\r\n",
        "    def validate(self):        \r\n",
        "        vals = {\r\n",
        "        'Password must contain an uppercase letter.': lambda s: any(x.isupper() for x in s),\r\n",
        "        'Password must contain a lowercase letter.': lambda s: any(x.islower() for x in s),\r\n",
        "        'Password must contain a digit.': lambda s: any(x.isdigit() for x in s),\r\n",
        "        'Password must be at least 8 characters.': lambda s: len(s) >= 8,\r\n",
        "        'Password cannot contain white spaces.': lambda s: not any(x.isspace() for x in s)            \r\n",
        "        } \r\n",
        "        valid = True  \r\n",
        "        for n, val in vals.items():                         \r\n",
        "           if not val(self.password):                   \r\n",
        "               valid = False\r\n",
        "               return n\r\n",
        "        return valid                \r\n",
        "\r\n",
        "\r\n",
        "input_password = \"Ishwar@12Su@ 1'\"\r\n",
        "p = Password(input_password)\r\n",
        "if p.validate() is True:\r\n",
        "  print('Password Valid')\r\n",
        "else:\r\n",
        "  print(p.validate())"
      ],
      "execution_count": 107,
      "outputs": [
        {
          "output_type": "stream",
          "text": [
            "Password cannot contain white spaces.\n"
          ],
          "name": "stdout"
        }
      ]
    }
  ]
}