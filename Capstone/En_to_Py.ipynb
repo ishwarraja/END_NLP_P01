{
  "nbformat": 4,
  "nbformat_minor": 0,
  "metadata": {
    "colab": {
      "name": "En_to_Py.ipynb",
      "provenance": [],
      "collapsed_sections": [],
      "machine_shape": "hm",
      "include_colab_link": true
    },
    "kernelspec": {
      "name": "python3",
      "display_name": "Python 3"
    },
    "accelerator": "GPU"
  },
  "cells": [
    {
      "cell_type": "markdown",
      "metadata": {
        "id": "view-in-github",
        "colab_type": "text"
      },
      "source": [
        "<a href=\"https://colab.research.google.com/github/ishwarraja/END_NLP_P01/blob/main/Capstone/En_to_Py.ipynb\" target=\"_parent\"><img src=\"https://colab.research.google.com/assets/colab-badge.svg\" alt=\"Open In Colab\"/></a>"
      ]
    },
    {
      "cell_type": "code",
      "metadata": {
        "colab": {
          "base_uri": "https://localhost:8080/"
        },
        "id": "xpNTE2GhCY2V",
        "outputId": "98cbc5e4-844d-4073-e923-63479d77a313"
      },
      "source": [
        "!python -m spacy download en\n",
        "#!python -m spacy download de"
      ],
      "execution_count": 50,
      "outputs": [
        {
          "output_type": "stream",
          "text": [
            "Requirement already satisfied: en_core_web_sm==2.2.5 from https://github.com/explosion/spacy-models/releases/download/en_core_web_sm-2.2.5/en_core_web_sm-2.2.5.tar.gz#egg=en_core_web_sm==2.2.5 in /usr/local/lib/python3.7/dist-packages (2.2.5)\n",
            "Requirement already satisfied: spacy>=2.2.2 in /usr/local/lib/python3.7/dist-packages (from en_core_web_sm==2.2.5) (2.2.4)\n",
            "Requirement already satisfied: plac<1.2.0,>=0.9.6 in /usr/local/lib/python3.7/dist-packages (from spacy>=2.2.2->en_core_web_sm==2.2.5) (1.1.3)\n",
            "Requirement already satisfied: catalogue<1.1.0,>=0.0.7 in /usr/local/lib/python3.7/dist-packages (from spacy>=2.2.2->en_core_web_sm==2.2.5) (1.0.0)\n",
            "Requirement already satisfied: preshed<3.1.0,>=3.0.2 in /usr/local/lib/python3.7/dist-packages (from spacy>=2.2.2->en_core_web_sm==2.2.5) (3.0.5)\n",
            "Requirement already satisfied: requests<3.0.0,>=2.13.0 in /usr/local/lib/python3.7/dist-packages (from spacy>=2.2.2->en_core_web_sm==2.2.5) (2.23.0)\n",
            "Requirement already satisfied: srsly<1.1.0,>=1.0.2 in /usr/local/lib/python3.7/dist-packages (from spacy>=2.2.2->en_core_web_sm==2.2.5) (1.0.5)\n",
            "Requirement already satisfied: thinc==7.4.0 in /usr/local/lib/python3.7/dist-packages (from spacy>=2.2.2->en_core_web_sm==2.2.5) (7.4.0)\n",
            "Requirement already satisfied: numpy>=1.15.0 in /usr/local/lib/python3.7/dist-packages (from spacy>=2.2.2->en_core_web_sm==2.2.5) (1.19.5)\n",
            "Requirement already satisfied: setuptools in /usr/local/lib/python3.7/dist-packages (from spacy>=2.2.2->en_core_web_sm==2.2.5) (54.1.2)\n",
            "Requirement already satisfied: murmurhash<1.1.0,>=0.28.0 in /usr/local/lib/python3.7/dist-packages (from spacy>=2.2.2->en_core_web_sm==2.2.5) (1.0.5)\n",
            "Requirement already satisfied: wasabi<1.1.0,>=0.4.0 in /usr/local/lib/python3.7/dist-packages (from spacy>=2.2.2->en_core_web_sm==2.2.5) (0.8.2)\n",
            "Requirement already satisfied: cymem<2.1.0,>=2.0.2 in /usr/local/lib/python3.7/dist-packages (from spacy>=2.2.2->en_core_web_sm==2.2.5) (2.0.5)\n",
            "Requirement already satisfied: tqdm<5.0.0,>=4.38.0 in /usr/local/lib/python3.7/dist-packages (from spacy>=2.2.2->en_core_web_sm==2.2.5) (4.41.1)\n",
            "Requirement already satisfied: blis<0.5.0,>=0.4.0 in /usr/local/lib/python3.7/dist-packages (from spacy>=2.2.2->en_core_web_sm==2.2.5) (0.4.1)\n",
            "Requirement already satisfied: importlib-metadata>=0.20; python_version < \"3.8\" in /usr/local/lib/python3.7/dist-packages (from catalogue<1.1.0,>=0.0.7->spacy>=2.2.2->en_core_web_sm==2.2.5) (3.7.2)\n",
            "Requirement already satisfied: certifi>=2017.4.17 in /usr/local/lib/python3.7/dist-packages (from requests<3.0.0,>=2.13.0->spacy>=2.2.2->en_core_web_sm==2.2.5) (2020.12.5)\n",
            "Requirement already satisfied: urllib3!=1.25.0,!=1.25.1,<1.26,>=1.21.1 in /usr/local/lib/python3.7/dist-packages (from requests<3.0.0,>=2.13.0->spacy>=2.2.2->en_core_web_sm==2.2.5) (1.24.3)\n",
            "Requirement already satisfied: idna<3,>=2.5 in /usr/local/lib/python3.7/dist-packages (from requests<3.0.0,>=2.13.0->spacy>=2.2.2->en_core_web_sm==2.2.5) (2.10)\n",
            "Requirement already satisfied: chardet<4,>=3.0.2 in /usr/local/lib/python3.7/dist-packages (from requests<3.0.0,>=2.13.0->spacy>=2.2.2->en_core_web_sm==2.2.5) (3.0.4)\n",
            "Requirement already satisfied: zipp>=0.5 in /usr/local/lib/python3.7/dist-packages (from importlib-metadata>=0.20; python_version < \"3.8\"->catalogue<1.1.0,>=0.0.7->spacy>=2.2.2->en_core_web_sm==2.2.5) (3.4.1)\n",
            "Requirement already satisfied: typing-extensions>=3.6.4; python_version < \"3.8\" in /usr/local/lib/python3.7/dist-packages (from importlib-metadata>=0.20; python_version < \"3.8\"->catalogue<1.1.0,>=0.0.7->spacy>=2.2.2->en_core_web_sm==2.2.5) (3.7.4.3)\n",
            "\u001b[38;5;2m✔ Download and installation successful\u001b[0m\n",
            "You can now load the model via spacy.load('en_core_web_sm')\n",
            "\u001b[38;5;2m✔ Linking successful\u001b[0m\n",
            "/usr/local/lib/python3.7/dist-packages/en_core_web_sm -->\n",
            "/usr/local/lib/python3.7/dist-packages/spacy/data/en\n",
            "You can now load the model via spacy.load('en')\n",
            "Collecting de_core_news_sm==2.2.5\n",
            "\u001b[?25l  Downloading https://github.com/explosion/spacy-models/releases/download/de_core_news_sm-2.2.5/de_core_news_sm-2.2.5.tar.gz (14.9MB)\n",
            "\u001b[K     |████████████████████████████████| 14.9MB 5.3MB/s \n",
            "\u001b[?25hRequirement already satisfied: spacy>=2.2.2 in /usr/local/lib/python3.7/dist-packages (from de_core_news_sm==2.2.5) (2.2.4)\n",
            "Requirement already satisfied: wasabi<1.1.0,>=0.4.0 in /usr/local/lib/python3.7/dist-packages (from spacy>=2.2.2->de_core_news_sm==2.2.5) (0.8.2)\n",
            "Requirement already satisfied: cymem<2.1.0,>=2.0.2 in /usr/local/lib/python3.7/dist-packages (from spacy>=2.2.2->de_core_news_sm==2.2.5) (2.0.5)\n",
            "Requirement already satisfied: tqdm<5.0.0,>=4.38.0 in /usr/local/lib/python3.7/dist-packages (from spacy>=2.2.2->de_core_news_sm==2.2.5) (4.41.1)\n",
            "Requirement already satisfied: srsly<1.1.0,>=1.0.2 in /usr/local/lib/python3.7/dist-packages (from spacy>=2.2.2->de_core_news_sm==2.2.5) (1.0.5)\n",
            "Requirement already satisfied: setuptools in /usr/local/lib/python3.7/dist-packages (from spacy>=2.2.2->de_core_news_sm==2.2.5) (54.1.2)\n",
            "Requirement already satisfied: plac<1.2.0,>=0.9.6 in /usr/local/lib/python3.7/dist-packages (from spacy>=2.2.2->de_core_news_sm==2.2.5) (1.1.3)\n",
            "Requirement already satisfied: preshed<3.1.0,>=3.0.2 in /usr/local/lib/python3.7/dist-packages (from spacy>=2.2.2->de_core_news_sm==2.2.5) (3.0.5)\n",
            "Requirement already satisfied: numpy>=1.15.0 in /usr/local/lib/python3.7/dist-packages (from spacy>=2.2.2->de_core_news_sm==2.2.5) (1.19.5)\n",
            "Requirement already satisfied: murmurhash<1.1.0,>=0.28.0 in /usr/local/lib/python3.7/dist-packages (from spacy>=2.2.2->de_core_news_sm==2.2.5) (1.0.5)\n",
            "Requirement already satisfied: thinc==7.4.0 in /usr/local/lib/python3.7/dist-packages (from spacy>=2.2.2->de_core_news_sm==2.2.5) (7.4.0)\n",
            "Requirement already satisfied: requests<3.0.0,>=2.13.0 in /usr/local/lib/python3.7/dist-packages (from spacy>=2.2.2->de_core_news_sm==2.2.5) (2.23.0)\n",
            "Requirement already satisfied: blis<0.5.0,>=0.4.0 in /usr/local/lib/python3.7/dist-packages (from spacy>=2.2.2->de_core_news_sm==2.2.5) (0.4.1)\n",
            "Requirement already satisfied: catalogue<1.1.0,>=0.0.7 in /usr/local/lib/python3.7/dist-packages (from spacy>=2.2.2->de_core_news_sm==2.2.5) (1.0.0)\n",
            "Requirement already satisfied: certifi>=2017.4.17 in /usr/local/lib/python3.7/dist-packages (from requests<3.0.0,>=2.13.0->spacy>=2.2.2->de_core_news_sm==2.2.5) (2020.12.5)\n",
            "Requirement already satisfied: idna<3,>=2.5 in /usr/local/lib/python3.7/dist-packages (from requests<3.0.0,>=2.13.0->spacy>=2.2.2->de_core_news_sm==2.2.5) (2.10)\n",
            "Requirement already satisfied: urllib3!=1.25.0,!=1.25.1,<1.26,>=1.21.1 in /usr/local/lib/python3.7/dist-packages (from requests<3.0.0,>=2.13.0->spacy>=2.2.2->de_core_news_sm==2.2.5) (1.24.3)\n",
            "Requirement already satisfied: chardet<4,>=3.0.2 in /usr/local/lib/python3.7/dist-packages (from requests<3.0.0,>=2.13.0->spacy>=2.2.2->de_core_news_sm==2.2.5) (3.0.4)\n",
            "Requirement already satisfied: importlib-metadata>=0.20; python_version < \"3.8\" in /usr/local/lib/python3.7/dist-packages (from catalogue<1.1.0,>=0.0.7->spacy>=2.2.2->de_core_news_sm==2.2.5) (3.7.2)\n",
            "Requirement already satisfied: zipp>=0.5 in /usr/local/lib/python3.7/dist-packages (from importlib-metadata>=0.20; python_version < \"3.8\"->catalogue<1.1.0,>=0.0.7->spacy>=2.2.2->de_core_news_sm==2.2.5) (3.4.1)\n",
            "Requirement already satisfied: typing-extensions>=3.6.4; python_version < \"3.8\" in /usr/local/lib/python3.7/dist-packages (from importlib-metadata>=0.20; python_version < \"3.8\"->catalogue<1.1.0,>=0.0.7->spacy>=2.2.2->de_core_news_sm==2.2.5) (3.7.4.3)\n",
            "Building wheels for collected packages: de-core-news-sm\n",
            "  Building wheel for de-core-news-sm (setup.py) ... \u001b[?25l\u001b[?25hdone\n",
            "  Created wheel for de-core-news-sm: filename=de_core_news_sm-2.2.5-cp37-none-any.whl size=14907057 sha256=e836404699dee580c2c222fe9701c780ccb2e67131e992122a1435c70776313e\n",
            "  Stored in directory: /tmp/pip-ephem-wheel-cache-tw06qtpo/wheels/ba/3f/ed/d4aa8e45e7191b7f32db4bfad565e7da1edbf05c916ca7a1ca\n",
            "Successfully built de-core-news-sm\n",
            "Installing collected packages: de-core-news-sm\n",
            "Successfully installed de-core-news-sm-2.2.5\n",
            "\u001b[38;5;2m✔ Download and installation successful\u001b[0m\n",
            "You can now load the model via spacy.load('de_core_news_sm')\n",
            "\u001b[38;5;2m✔ Linking successful\u001b[0m\n",
            "/usr/local/lib/python3.7/dist-packages/de_core_news_sm -->\n",
            "/usr/local/lib/python3.7/dist-packages/spacy/data/de\n",
            "You can now load the model via spacy.load('de')\n"
          ],
          "name": "stdout"
        }
      ]
    },
    {
      "cell_type": "code",
      "metadata": {
        "id": "cgTxHeAvl3Er"
      },
      "source": [
        "import re\n",
        "import torch\n",
        "import torch.nn as nn\n",
        "import torch.optim as optim\n",
        "\n",
        "import torchtext\n",
        "from torchtext.legacy import data\n",
        "from torchtext.legacy.datasets import Multi30k\n",
        "from torchtext.legacy.data import Field, BucketIterator\n",
        "\n",
        "import matplotlib.pyplot as plt\n",
        "import matplotlib.ticker as ticker\n",
        "\n",
        "import spacy\n",
        "import numpy as np\n",
        "\n",
        "import random\n",
        "import math\n",
        "import time"
      ],
      "execution_count": 53,
      "outputs": []
    },
    {
      "cell_type": "code",
      "metadata": {
        "id": "j37U6a5OCi_M"
      },
      "source": [
        "\n",
        "spacy_en = spacy.load('en')\n",
        "spacy_de = spacy.load('de')"
      ],
      "execution_count": 54,
      "outputs": []
    },
    {
      "cell_type": "code",
      "metadata": {
        "id": "KwMMe5CQCU5g"
      },
      "source": [
        "SEED = 1234\n",
        "\n",
        "random.seed(SEED)\n",
        "np.random.seed(SEED)\n",
        "torch.manual_seed(SEED)\n",
        "torch.cuda.manual_seed(SEED)\n",
        "torch.backends.cudnn.deterministic = True"
      ],
      "execution_count": 55,
      "outputs": []
    },
    {
      "cell_type": "code",
      "metadata": {
        "colab": {
          "base_uri": "https://localhost:8080/"
        },
        "id": "2XONz6UrCwuh",
        "outputId": "a341da47-9be9-4df6-9855-9a2b960ed9be"
      },
      "source": [
        "device = torch.device('cuda' if torch.cuda.is_available() else 'cpu')\n",
        "device"
      ],
      "execution_count": 56,
      "outputs": [
        {
          "output_type": "execute_result",
          "data": {
            "text/plain": [
              "device(type='cuda')"
            ]
          },
          "metadata": {
            "tags": []
          },
          "execution_count": 56
        }
      ]
    },
    {
      "cell_type": "code",
      "metadata": {
        "id": "A0pfxntr2RLE"
      },
      "source": [
        "datas = []\n",
        "temp = {'input':'','output':''}\n",
        "with open ('english_python_data.txt', 'r') as openfile:\n",
        "  lines = openfile.readlines ()\n",
        "  #print (line)\n",
        "for line in lines:\n",
        "  #print (line)\n",
        "  try:\n",
        "    if line[0] == '#' or line[1] == '#':\n",
        "      datas.append (temp)\n",
        "      temp = {'input':'','output':''}\n",
        "      temp['input'] = re.sub('^[\\d]+', '', line.replace ('\\n', '').replace('#','').rstrip().lstrip()).rstrip().lstrip()\n",
        "    else:\n",
        "      temp['output'] += line.replace ('\\n', '<new_line>').replace (' ', '<space>')\n",
        "  except:\n",
        "    pass"
      ],
      "execution_count": 57,
      "outputs": []
    },
    {
      "cell_type": "code",
      "metadata": {
        "id": "QwQ_zYAl5pCO"
      },
      "source": [
        "n = len (datas)\n",
        "t = int (n * 0.8)\n",
        "v = int (n * 0.9)\n",
        "train = datas\n",
        "val = datas[t:v]\n",
        "test = datas[v:]\n",
        "\n",
        "counter = 0\n",
        "with open ('train.csv', 'w') as openfile:\n",
        "  for element in train:\n",
        "    if element['input'] == '' or element['output'] == '':\n",
        "      continue\n",
        "    openfile.write ('\"' + element['input'] + '\",\"' + element['output'] + '\"\\n')\n",
        "with open ('val.csv', 'w') as openfile:\n",
        "  for element in val:\n",
        "    if element['input'] == '' or element['output'] == '':\n",
        "      continue\n",
        "    openfile.write ('\"' + element['input'] + '\",\"' + element['output'] + '\"\\n')\n",
        "with open ('test.csv', 'w') as openfile:\n",
        "  for element in test:\n",
        "    if element['input'] == '' or element['output'] == '':\n",
        "      continue\n",
        "    openfile.write ('\"' + element['input'] + '\",\"' + element['output'] + '\"\\n')"
      ],
      "execution_count": 59,
      "outputs": []
    },
    {
      "cell_type": "code",
      "metadata": {
        "id": "15wydnnsCpH0"
      },
      "source": [
        "def tokenize_de (line):\n",
        "  split_points = ['<space>', ':', '<new_line>', '(', ')', '[', ']', '>', '<', '=', \"'\", '\"', '.', '%', ',', '+', '-', '*', '\\t', '{', '}', '/']\n",
        "\n",
        "  words = []\n",
        "  temp = ''\n",
        "  n = len(line)\n",
        "  i = 0\n",
        "\n",
        "  while i < n:\n",
        "    #print (i, line[i], temp, words)\n",
        "    if line[i:i+7] == '<space>':\n",
        "      if temp != '':\n",
        "        words.append (temp)\n",
        "        temp = ''\n",
        "      words.append ('<space>')\n",
        "      i = i + 7\n",
        "\n",
        "    elif line[i:i+10] == '<new_line>':\n",
        "      if temp != '':\n",
        "        words.append (temp)\n",
        "        temp = ''\n",
        "      words.append ('<new_line>')\n",
        "      i = i + 10\n",
        "\n",
        "    elif line[i] in split_points:\n",
        "      if temp != '':\n",
        "        words.append (temp)\n",
        "        temp = ''\n",
        "      words.append (line[i])\n",
        "      i += 1\n",
        "    else:\n",
        "      temp += line[i]\n",
        "      i += 1\n",
        "  return words\n",
        "\n",
        "def tokenize_en(text):\n",
        "    \"\"\"\n",
        "    Tokenizes English text from a string into a list of strings\n",
        "    \"\"\"\n",
        "    return [tok.text for tok in spacy_en.tokenizer(text)]"
      ],
      "execution_count": 60,
      "outputs": []
    },
    {
      "cell_type": "code",
      "metadata": {
        "id": "60O0YZ8eCrLd"
      },
      "source": [
        "SRC = Field(tokenize = tokenize_en, init_token = '<sos>', eos_token = '<eos>', lower = True, batch_first = True)\n",
        "TRG = Field(tokenize = tokenize_de, init_token = '<sos>', eos_token = '<eos>', lower = True, batch_first = True)"
      ],
      "execution_count": 61,
      "outputs": []
    },
    {
      "cell_type": "code",
      "metadata": {
        "id": "KKujfO3FqlNB"
      },
      "source": [
        "train_data, valid_data, test_data = data.TabularDataset.splits(\n",
        "        path='/content/', train='train.csv',\n",
        "        validation='val.csv', test='test.csv', format='csv',\n",
        "        fields=[('src', SRC), ('trg', TRG)])"
      ],
      "execution_count": 62,
      "outputs": []
    },
    {
      "cell_type": "code",
      "metadata": {
        "id": "eboFLnUMqmx9"
      },
      "source": [
        "SRC.build_vocab(train_data, min_freq = 2)\n",
        "TRG.build_vocab(train_data, min_freq = 2)"
      ],
      "execution_count": 63,
      "outputs": []
    },
    {
      "cell_type": "code",
      "metadata": {
        "id": "aBtCv6sACyZ8"
      },
      "source": [
        "BATCH_SIZE = 12\n",
        "#device = 'cpu'\n",
        "train_iterator, valid_iterator, test_iterator = BucketIterator.splits(\n",
        "    (train_data, valid_data, test_data), \n",
        "     batch_size = BATCH_SIZE,\n",
        "     device = device)"
      ],
      "execution_count": 64,
      "outputs": []
    },
    {
      "cell_type": "code",
      "metadata": {
        "id": "NE6JimgOCz-w"
      },
      "source": [
        "class Encoder(nn.Module):\n",
        "    def __init__(self, \n",
        "                 input_dim, \n",
        "                 hid_dim, \n",
        "                 n_layers, \n",
        "                 n_heads, \n",
        "                 pf_dim,\n",
        "                 dropout, \n",
        "                 device,\n",
        "                 max_length = 1700):\n",
        "        super().__init__()\n",
        "\n",
        "        self.device = device\n",
        "        \n",
        "        self.tok_embedding = nn.Embedding(input_dim, hid_dim)\n",
        "        self.pos_embedding = nn.Embedding(max_length, hid_dim)\n",
        "        \n",
        "        self.layers = nn.ModuleList([EncoderLayer(hid_dim, \n",
        "                                                  n_heads, \n",
        "                                                  pf_dim,\n",
        "                                                  dropout, \n",
        "                                                  device) \n",
        "                                     for _ in range(n_layers)])\n",
        "        \n",
        "        self.dropout = nn.Dropout(dropout)\n",
        "        \n",
        "        self.scale = torch.sqrt(torch.FloatTensor([hid_dim])).to(device)\n",
        "        \n",
        "    def forward(self, src, src_mask):\n",
        "        \n",
        "        #src = [batch size, src len]\n",
        "        #src_mask = [batch size, 1, 1, src len]\n",
        "        \n",
        "        batch_size = src.shape[0]\n",
        "        src_len = src.shape[1]\n",
        "        \n",
        "        pos = torch.arange(0, src_len).unsqueeze(0).repeat(batch_size, 1).to(self.device)\n",
        "        \n",
        "        #pos = [batch size, src len]\n",
        "        \n",
        "        src = self.dropout((self.tok_embedding(src) * self.scale) + self.pos_embedding(pos))\n",
        "        \n",
        "        #src = [batch size, src len, hid dim]\n",
        "        \n",
        "        for layer in self.layers:\n",
        "            src = layer(src, src_mask)\n",
        "            \n",
        "        #src = [batch size, src len, hid dim]\n",
        "            \n",
        "        return src"
      ],
      "execution_count": 65,
      "outputs": []
    },
    {
      "cell_type": "code",
      "metadata": {
        "id": "2LheiXWVFDEg"
      },
      "source": [
        "class EncoderLayer(nn.Module):\n",
        "    def __init__(self, \n",
        "                 hid_dim, \n",
        "                 n_heads, \n",
        "                 pf_dim,  \n",
        "                 dropout, \n",
        "                 device):\n",
        "        super().__init__()\n",
        "        \n",
        "        self.self_attn_layer_norm = nn.LayerNorm(hid_dim)\n",
        "        self.ff_layer_norm = nn.LayerNorm(hid_dim)\n",
        "        self.self_attention = MultiHeadAttentionLayer(hid_dim, n_heads, dropout, device)\n",
        "        self.positionwise_feedforward = PositionwiseFeedforwardLayer(hid_dim, \n",
        "                                                                     pf_dim, \n",
        "                                                                     dropout)\n",
        "        self.dropout = nn.Dropout(dropout)\n",
        "        \n",
        "    def forward(self, src, src_mask):\n",
        "        \n",
        "        #src = [batch size, src len, hid dim]\n",
        "        #src_mask = [batch size, 1, 1, src len] \n",
        "                \n",
        "        #self attention\n",
        "        _src, _ = self.self_attention(src, src, src, src_mask)\n",
        "        \n",
        "        #dropout, residual connection and layer norm\n",
        "        src = self.self_attn_layer_norm(src + self.dropout(_src))\n",
        "        \n",
        "        #src = [batch size, src len, hid dim]\n",
        "        \n",
        "        #positionwise feedforward\n",
        "        _src = self.positionwise_feedforward(src)\n",
        "        \n",
        "        #dropout, residual and layer norm\n",
        "        src = self.ff_layer_norm(src + self.dropout(_src))\n",
        "        \n",
        "        #src = [batch size, src len, hid dim]\n",
        "        \n",
        "        return src"
      ],
      "execution_count": 66,
      "outputs": []
    },
    {
      "cell_type": "code",
      "metadata": {
        "id": "ZZmeHfGhGzkN"
      },
      "source": [
        "class MultiHeadAttentionLayer(nn.Module):\n",
        "    def __init__(self, hid_dim, n_heads, dropout, device):\n",
        "        super().__init__()\n",
        "        \n",
        "        assert hid_dim % n_heads == 0\n",
        "        \n",
        "        self.hid_dim = hid_dim\n",
        "        self.n_heads = n_heads\n",
        "        self.head_dim = hid_dim // n_heads\n",
        "        \n",
        "        self.fc_q = nn.Linear(hid_dim, hid_dim)\n",
        "        self.fc_k = nn.Linear(hid_dim, hid_dim)\n",
        "        self.fc_v = nn.Linear(hid_dim, hid_dim)\n",
        "        \n",
        "        self.fc_o = nn.Linear(hid_dim, hid_dim)\n",
        "        \n",
        "        self.dropout = nn.Dropout(dropout)\n",
        "        \n",
        "        self.scale = torch.sqrt(torch.FloatTensor([self.head_dim])).to(device)\n",
        "        \n",
        "    def forward(self, query, key, value, mask = None):\n",
        "        \n",
        "        batch_size = query.shape[0]\n",
        "        \n",
        "        #query = [batch size, query len, hid dim]\n",
        "        #key = [batch size, key len, hid dim]\n",
        "        #value = [batch size, value len, hid dim]\n",
        "                \n",
        "        Q = self.fc_q(query)\n",
        "        K = self.fc_k(key)\n",
        "        V = self.fc_v(value)\n",
        "        \n",
        "        #Q = [batch size, query len, hid dim]\n",
        "        #K = [batch size, key len, hid dim]\n",
        "        #V = [batch size, value len, hid dim]\n",
        "                \n",
        "        Q = Q.view(batch_size, -1, self.n_heads, self.head_dim).permute(0, 2, 1, 3)\n",
        "        K = K.view(batch_size, -1, self.n_heads, self.head_dim).permute(0, 2, 1, 3)\n",
        "        V = V.view(batch_size, -1, self.n_heads, self.head_dim).permute(0, 2, 1, 3)\n",
        "        \n",
        "        #Q = [batch size, n heads, query len, head dim]\n",
        "        #K = [batch size, n heads, key len, head dim]\n",
        "        #V = [batch size, n heads, value len, head dim]\n",
        "                \n",
        "        energy = torch.matmul(Q, K.permute(0, 1, 3, 2)) / self.scale\n",
        "        \n",
        "        #energy = [batch size, n heads, query len, key len]\n",
        "        \n",
        "        if mask is not None:\n",
        "            energy = energy.masked_fill(mask == 0, -1e10)\n",
        "        \n",
        "        attention = torch.softmax(energy, dim = -1)\n",
        "                \n",
        "        #attention = [batch size, n heads, query len, key len]\n",
        "                \n",
        "        x = torch.matmul(self.dropout(attention), V)\n",
        "        \n",
        "        #x = [batch size, n heads, query len, head dim]\n",
        "        \n",
        "        x = x.permute(0, 2, 1, 3).contiguous()\n",
        "        \n",
        "        #x = [batch size, query len, n heads, head dim]\n",
        "        \n",
        "        x = x.view(batch_size, -1, self.hid_dim)\n",
        "        \n",
        "        #x = [batch size, query len, hid dim]\n",
        "        \n",
        "        x = self.fc_o(x)\n",
        "        \n",
        "        #x = [batch size, query len, hid dim]\n",
        "        \n",
        "        return x, attention"
      ],
      "execution_count": 67,
      "outputs": []
    },
    {
      "cell_type": "code",
      "metadata": {
        "id": "R9w9xDUKL7LU"
      },
      "source": [
        "class PositionwiseFeedforwardLayer(nn.Module):\n",
        "    def __init__(self, hid_dim, pf_dim, dropout):\n",
        "        super().__init__()\n",
        "        \n",
        "        self.fc_1 = nn.Linear(hid_dim, pf_dim)\n",
        "        self.fc_2 = nn.Linear(pf_dim, hid_dim)\n",
        "        \n",
        "        self.dropout = nn.Dropout(dropout)\n",
        "        \n",
        "    def forward(self, x):\n",
        "        \n",
        "        #x = [batch size, seq len, hid dim]\n",
        "        \n",
        "        x = self.dropout(torch.relu(self.fc_1(x)))\n",
        "        \n",
        "        #x = [batch size, seq len, pf dim]\n",
        "        \n",
        "        x = self.fc_2(x)\n",
        "        \n",
        "        #x = [batch size, seq len, hid dim]\n",
        "        \n",
        "        return x"
      ],
      "execution_count": 68,
      "outputs": []
    },
    {
      "cell_type": "code",
      "metadata": {
        "id": "iWBMMF45MMNS"
      },
      "source": [
        "class Decoder(nn.Module):\n",
        "    def __init__(self, \n",
        "                 output_dim, \n",
        "                 hid_dim, \n",
        "                 n_layers, \n",
        "                 n_heads, \n",
        "                 pf_dim, \n",
        "                 dropout, \n",
        "                 device,\n",
        "                 max_length = 1700):\n",
        "        super().__init__()\n",
        "        \n",
        "        self.device = device\n",
        "        \n",
        "        self.tok_embedding = nn.Embedding(output_dim, hid_dim)\n",
        "        self.pos_embedding = nn.Embedding(max_length, hid_dim)\n",
        "        \n",
        "        self.layers = nn.ModuleList([DecoderLayer(hid_dim, \n",
        "                                                  n_heads, \n",
        "                                                  pf_dim, \n",
        "                                                  dropout, \n",
        "                                                  device)\n",
        "                                     for _ in range(n_layers)])\n",
        "        \n",
        "        self.fc_out = nn.Linear(hid_dim, output_dim)\n",
        "        \n",
        "        self.dropout = nn.Dropout(dropout)\n",
        "        \n",
        "        self.scale = torch.sqrt(torch.FloatTensor([hid_dim])).to(device)\n",
        "        \n",
        "    def forward(self, trg, enc_src, trg_mask, src_mask):\n",
        "        \n",
        "        #trg = [batch size, trg len]\n",
        "        #enc_src = [batch size, src len, hid dim]\n",
        "        #trg_mask = [batch size, 1, trg len, trg len]\n",
        "        #src_mask = [batch size, 1, 1, src len]\n",
        "                \n",
        "        batch_size = trg.shape[0]\n",
        "        trg_len = trg.shape[1]\n",
        "        \n",
        "        pos = torch.arange(0, trg_len).unsqueeze(0).repeat(batch_size, 1).to(self.device)\n",
        "                            \n",
        "        #pos = [batch size, trg len]\n",
        "            \n",
        "        trg = self.dropout((self.tok_embedding(trg) * self.scale) + self.pos_embedding(pos))\n",
        "                \n",
        "        #trg = [batch size, trg len, hid dim]\n",
        "        \n",
        "        for layer in self.layers:\n",
        "            trg, attention = layer(trg, enc_src, trg_mask, src_mask)\n",
        "        \n",
        "        #trg = [batch size, trg len, hid dim]\n",
        "        #attention = [batch size, n heads, trg len, src len]\n",
        "        \n",
        "        output = self.fc_out(trg)\n",
        "        \n",
        "        #output = [batch size, trg len, output dim]\n",
        "            \n",
        "        return output, attention"
      ],
      "execution_count": 69,
      "outputs": []
    },
    {
      "cell_type": "code",
      "metadata": {
        "id": "CMEr1IFUMxco"
      },
      "source": [
        "class DecoderLayer(nn.Module):\n",
        "    def __init__(self, \n",
        "                 hid_dim, \n",
        "                 n_heads, \n",
        "                 pf_dim, \n",
        "                 dropout, \n",
        "                 device):\n",
        "        super().__init__()\n",
        "        \n",
        "        self.self_attn_layer_norm = nn.LayerNorm(hid_dim)\n",
        "        self.enc_attn_layer_norm = nn.LayerNorm(hid_dim)\n",
        "        self.ff_layer_norm = nn.LayerNorm(hid_dim)\n",
        "        self.self_attention = MultiHeadAttentionLayer(hid_dim, n_heads, dropout, device)\n",
        "        self.encoder_attention = MultiHeadAttentionLayer(hid_dim, n_heads, dropout, device)\n",
        "        self.positionwise_feedforward = PositionwiseFeedforwardLayer(hid_dim, \n",
        "                                                                     pf_dim, \n",
        "                                                                     dropout)\n",
        "        self.dropout = nn.Dropout(dropout)\n",
        "        \n",
        "    def forward(self, trg, enc_src, trg_mask, src_mask):\n",
        "        \n",
        "        #trg = [batch size, trg len, hid dim]\n",
        "        #enc_src = [batch size, src len, hid dim]\n",
        "        #trg_mask = [batch size, 1, trg len, trg len]\n",
        "        #src_mask = [batch size, 1, 1, src len]\n",
        "        \n",
        "        #self attention\n",
        "        _trg, _ = self.self_attention(trg, trg, trg, trg_mask)\n",
        "        \n",
        "        #dropout, residual connection and layer norm\n",
        "        trg = self.self_attn_layer_norm(trg + self.dropout(_trg))\n",
        "            \n",
        "        #trg = [batch size, trg len, hid dim]\n",
        "            \n",
        "        #encoder attention\n",
        "        _trg, attention = self.encoder_attention(trg, enc_src, enc_src, src_mask)\n",
        "        # query, key, value\n",
        "        \n",
        "        #dropout, residual connection and layer norm\n",
        "        trg = self.enc_attn_layer_norm(trg + self.dropout(_trg))\n",
        "                    \n",
        "        #trg = [batch size, trg len, hid dim]\n",
        "        \n",
        "        #positionwise feedforward\n",
        "        _trg = self.positionwise_feedforward(trg)\n",
        "        \n",
        "        #dropout, residual and layer norm\n",
        "        trg = self.ff_layer_norm(trg + self.dropout(_trg))\n",
        "        \n",
        "        #trg = [batch size, trg len, hid dim]\n",
        "        #attention = [batch size, n heads, trg len, src len]\n",
        "        \n",
        "        return trg, attention"
      ],
      "execution_count": 70,
      "outputs": []
    },
    {
      "cell_type": "markdown",
      "metadata": {
        "id": "udpPhQ2UN8oQ"
      },
      "source": [
        "10000\n",
        "11000\n",
        "11100\n",
        "11100\n",
        "11100"
      ]
    },
    {
      "cell_type": "code",
      "metadata": {
        "id": "Dr3Mg8OGN6ul"
      },
      "source": [
        "class Seq2Seq(nn.Module):\n",
        "    def __init__(self, \n",
        "                 encoder, \n",
        "                 decoder, \n",
        "                 src_pad_idx, \n",
        "                 trg_pad_idx, \n",
        "                 device):\n",
        "        super().__init__()\n",
        "        \n",
        "        self.encoder = encoder\n",
        "        self.decoder = decoder\n",
        "        self.src_pad_idx = src_pad_idx\n",
        "        self.trg_pad_idx = trg_pad_idx\n",
        "        self.device = device\n",
        "        \n",
        "    def make_src_mask(self, src):\n",
        "        \n",
        "        #src = [batch size, src len]\n",
        "        \n",
        "        src_mask = (src != self.src_pad_idx).unsqueeze(1).unsqueeze(2)\n",
        "\n",
        "        #src_mask = [batch size, 1, 1, src len]\n",
        "\n",
        "        return src_mask\n",
        "    \n",
        "    def make_trg_mask(self, trg):\n",
        "        \n",
        "        #trg = [batch size, trg len]\n",
        "        \n",
        "        trg_pad_mask = (trg != self.trg_pad_idx).unsqueeze(1).unsqueeze(2)\n",
        "        \n",
        "        #trg_pad_mask = [batch size, 1, 1, trg len]\n",
        "        \n",
        "        trg_len = trg.shape[1]\n",
        "        \n",
        "        trg_sub_mask = torch.tril(torch.ones((trg_len, trg_len), device = self.device)).bool()\n",
        "        \n",
        "        #trg_sub_mask = [trg len, trg len]\n",
        "            \n",
        "        trg_mask = trg_pad_mask & trg_sub_mask\n",
        "        \n",
        "        #trg_mask = [batch size, 1, trg len, trg len]\n",
        "        \n",
        "        return trg_mask\n",
        "\n",
        "    def forward(self, src, trg):\n",
        "        \n",
        "        #src = [batch size, src len]\n",
        "        #trg = [batch size, trg len]\n",
        "                \n",
        "        src_mask = self.make_src_mask(src)\n",
        "        trg_mask = self.make_trg_mask(trg)\n",
        "        \n",
        "        #src_mask = [batch size, 1, 1, src len]\n",
        "        #trg_mask = [batch size, 1, trg len, trg len]\n",
        "        \n",
        "        enc_src = self.encoder(src, src_mask)\n",
        "        \n",
        "        #enc_src = [batch size, src len, hid dim]\n",
        "                \n",
        "        output, attention = self.decoder(trg, enc_src, trg_mask, src_mask)\n",
        "        \n",
        "        #output = [batch size, trg len, output dim]\n",
        "        #attention = [batch size, n heads, trg len, src len]\n",
        "        \n",
        "        return output, attention"
      ],
      "execution_count": 71,
      "outputs": []
    },
    {
      "cell_type": "code",
      "metadata": {
        "id": "4zsZjSSWOSHc"
      },
      "source": [
        "INPUT_DIM = len(SRC.vocab)\n",
        "OUTPUT_DIM = len(TRG.vocab)\n",
        "HID_DIM = 256\n",
        "ENC_LAYERS = 3\n",
        "DEC_LAYERS = 3\n",
        "ENC_HEADS = 8\n",
        "DEC_HEADS = 8\n",
        "ENC_PF_DIM = 512\n",
        "DEC_PF_DIM = 512\n",
        "ENC_DROPOUT = 0.1\n",
        "DEC_DROPOUT = 0.1\n",
        "\n",
        "enc = Encoder(INPUT_DIM, \n",
        "              HID_DIM, \n",
        "              ENC_LAYERS, \n",
        "              ENC_HEADS, \n",
        "              ENC_PF_DIM, \n",
        "              ENC_DROPOUT, \n",
        "              device)\n",
        "\n",
        "dec = Decoder(OUTPUT_DIM, \n",
        "              HID_DIM, \n",
        "              DEC_LAYERS, \n",
        "              DEC_HEADS, \n",
        "              DEC_PF_DIM, \n",
        "              DEC_DROPOUT, \n",
        "              device)"
      ],
      "execution_count": 72,
      "outputs": []
    },
    {
      "cell_type": "code",
      "metadata": {
        "id": "iYVZYDVcOUGK"
      },
      "source": [
        "SRC_PAD_IDX = SRC.vocab.stoi[SRC.pad_token]\n",
        "TRG_PAD_IDX = TRG.vocab.stoi[TRG.pad_token]\n",
        "\n",
        "model = Seq2Seq(enc, dec, SRC_PAD_IDX, TRG_PAD_IDX, device).to(device)"
      ],
      "execution_count": 73,
      "outputs": []
    },
    {
      "cell_type": "code",
      "metadata": {
        "colab": {
          "base_uri": "https://localhost:8080/"
        },
        "id": "Qd0ePzj0OzLa",
        "outputId": "8e2a560b-9d16-4dd4-9905-5ab4dc65d589"
      },
      "source": [
        "def count_parameters(model):\n",
        "    return sum(p.numel() for p in model.parameters() if p.requires_grad)\n",
        "\n",
        "print(f'The model has {count_parameters(model):,} trainable parameters')"
      ],
      "execution_count": 74,
      "outputs": [
        {
          "output_type": "stream",
          "text": [
            "The model has 6,983,286 trainable parameters\n"
          ],
          "name": "stdout"
        }
      ]
    },
    {
      "cell_type": "code",
      "metadata": {
        "id": "fmZ0hyo8O0vE"
      },
      "source": [
        "def initialize_weights(m):\n",
        "    if hasattr(m, 'weight') and m.weight.dim() > 1:\n",
        "        nn.init.xavier_uniform_(m.weight.data)"
      ],
      "execution_count": 75,
      "outputs": []
    },
    {
      "cell_type": "code",
      "metadata": {
        "id": "NRtAM9Y4O2N2"
      },
      "source": [
        "model.apply(initialize_weights);"
      ],
      "execution_count": 76,
      "outputs": []
    },
    {
      "cell_type": "code",
      "metadata": {
        "id": "NEpApG3YO3ZE"
      },
      "source": [
        "LEARNING_RATE = 0.0005\n",
        "\n",
        "optimizer = torch.optim.Adam(model.parameters(), lr = LEARNING_RATE)"
      ],
      "execution_count": 77,
      "outputs": []
    },
    {
      "cell_type": "code",
      "metadata": {
        "id": "n9Dy_wWrO46l"
      },
      "source": [
        "criterion = nn.CrossEntropyLoss(ignore_index = TRG_PAD_IDX)\n"
      ],
      "execution_count": 78,
      "outputs": []
    },
    {
      "cell_type": "code",
      "metadata": {
        "id": "ycBBiEpuO6cG"
      },
      "source": [
        "def train(model, iterator, optimizer, criterion, clip):\n",
        "    model.train()   \n",
        "    epoch_loss = 0\n",
        "    \n",
        "    for i, batch in enumerate(iterator):\n",
        "        #print (i, batch)\n",
        "        src = batch.src\n",
        "        trg = batch.trg\n",
        "        #print (i, src, trg)\n",
        "        optimizer.zero_grad()\n",
        "        \n",
        "        output, _ = model(src, trg[:,:-1])\n",
        "                \n",
        "        #output = [batch size, trg len - 1, output dim]\n",
        "        #trg = [batch size, trg len]\n",
        "            \n",
        "        output_dim = output.shape[-1]\n",
        "            \n",
        "        output = output.contiguous().view(-1, output_dim)\n",
        "        trg = trg[:,1:].contiguous().view(-1)\n",
        "                \n",
        "        #output = [batch size * trg len - 1, output dim]\n",
        "        #trg = [batch size * trg len - 1]\n",
        "            \n",
        "        loss = criterion(output, trg)\n",
        "        \n",
        "        loss.backward()\n",
        "        \n",
        "        torch.nn.utils.clip_grad_norm_(model.parameters(), clip)\n",
        "        \n",
        "        optimizer.step()\n",
        "        \n",
        "        epoch_loss += loss.item()\n",
        "        \n",
        "    return epoch_loss / len(iterator)"
      ],
      "execution_count": 79,
      "outputs": []
    },
    {
      "cell_type": "code",
      "metadata": {
        "id": "zi3Ev8gaO79_"
      },
      "source": [
        "def evaluate(model, iterator, criterion):\n",
        "    \n",
        "    model.eval()\n",
        "    \n",
        "    epoch_loss = 0\n",
        "    \n",
        "    with torch.no_grad():\n",
        "    \n",
        "        for i, batch in enumerate(iterator):\n",
        "\n",
        "            src = batch.src\n",
        "            trg = batch.trg\n",
        "\n",
        "            output, _ = model(src, trg[:,:-1])\n",
        "            \n",
        "            #output = [batch size, trg len - 1, output dim]\n",
        "            #trg = [batch size, trg len]\n",
        "            \n",
        "            output_dim = output.shape[-1]\n",
        "            \n",
        "            output = output.contiguous().view(-1, output_dim)\n",
        "            trg = trg[:,1:].contiguous().view(-1)\n",
        "            \n",
        "            #output = [batch size * trg len - 1, output dim]\n",
        "            #trg = [batch size * trg len - 1]\n",
        "            \n",
        "            loss = criterion(output, trg)\n",
        "\n",
        "            epoch_loss += loss.item()\n",
        "        \n",
        "    return epoch_loss / len(iterator)"
      ],
      "execution_count": 80,
      "outputs": []
    },
    {
      "cell_type": "code",
      "metadata": {
        "id": "JuB4JqQRO9Wg"
      },
      "source": [
        "def epoch_time(start_time, end_time):\n",
        "    elapsed_time = end_time - start_time\n",
        "    elapsed_mins = int(elapsed_time / 60)\n",
        "    elapsed_secs = int(elapsed_time - (elapsed_mins * 60))\n",
        "    return elapsed_mins, elapsed_secs"
      ],
      "execution_count": 81,
      "outputs": []
    },
    {
      "cell_type": "code",
      "metadata": {
        "colab": {
          "base_uri": "https://localhost:8080/"
        },
        "id": "aax76Ie4O_Cr",
        "outputId": "7bdadb3c-7f37-47f4-d541-b93b380db410"
      },
      "source": [
        "N_EPOCHS = 10\n",
        "CLIP = 1\n",
        "\n",
        "best_valid_loss = float('inf')\n",
        "\n",
        "for epoch in range(N_EPOCHS):\n",
        "    \n",
        "    start_time = time.time()\n",
        "    \n",
        "    train_loss = train(model, train_iterator, optimizer, criterion, CLIP)\n",
        "    #valid_loss = evaluate(model, valid_iterator, criterion)\n",
        "    valid_loss = evaluate(model, train_iterator, criterion)\n",
        "    \n",
        "    end_time = time.time()\n",
        "    \n",
        "    epoch_mins, epoch_secs = epoch_time(start_time, end_time)\n",
        "    \n",
        "    if valid_loss < best_valid_loss:\n",
        "        best_valid_loss = valid_loss\n",
        "        torch.save(model.state_dict(), 'tut6-model.pt')\n",
        "    \n",
        "    print(f'Epoch: {epoch+1:02} | Time: {epoch_mins}m {epoch_secs}s')\n",
        "    print(f'\\tTrain Loss: {train_loss:.3f} | Train PPL: {math.exp(train_loss):7.3f}')\n",
        "    print(f'\\t Val. Loss: {valid_loss:.3f} |  Val. PPL: {math.exp(valid_loss):7.3f}')"
      ],
      "execution_count": 82,
      "outputs": [
        {
          "output_type": "stream",
          "text": [
            "Epoch: 01 | Time: 0m 27s\n",
            "\tTrain Loss: 2.825 | Train PPL:  16.869\n",
            "\t Val. Loss: 2.093 |  Val. PPL:   8.106\n",
            "Epoch: 02 | Time: 0m 27s\n",
            "\tTrain Loss: 2.011 | Train PPL:   7.468\n",
            "\t Val. Loss: 1.708 |  Val. PPL:   5.520\n",
            "Epoch: 03 | Time: 0m 27s\n",
            "\tTrain Loss: 1.725 | Train PPL:   5.612\n",
            "\t Val. Loss: 1.446 |  Val. PPL:   4.245\n",
            "Epoch: 04 | Time: 0m 28s\n",
            "\tTrain Loss: 1.521 | Train PPL:   4.578\n",
            "\t Val. Loss: 1.294 |  Val. PPL:   3.647\n",
            "Epoch: 05 | Time: 0m 28s\n",
            "\tTrain Loss: 1.363 | Train PPL:   3.907\n",
            "\t Val. Loss: 1.098 |  Val. PPL:   2.998\n",
            "Epoch: 06 | Time: 0m 27s\n",
            "\tTrain Loss: 1.232 | Train PPL:   3.428\n",
            "\t Val. Loss: 0.982 |  Val. PPL:   2.669\n",
            "Epoch: 07 | Time: 0m 27s\n",
            "\tTrain Loss: 1.116 | Train PPL:   3.053\n",
            "\t Val. Loss: 0.877 |  Val. PPL:   2.405\n",
            "Epoch: 08 | Time: 0m 27s\n",
            "\tTrain Loss: 1.025 | Train PPL:   2.787\n",
            "\t Val. Loss: 0.765 |  Val. PPL:   2.148\n",
            "Epoch: 09 | Time: 0m 27s\n",
            "\tTrain Loss: 0.939 | Train PPL:   2.558\n",
            "\t Val. Loss: 0.728 |  Val. PPL:   2.070\n",
            "Epoch: 10 | Time: 0m 27s\n",
            "\tTrain Loss: 0.874 | Train PPL:   2.397\n",
            "\t Val. Loss: 0.648 |  Val. PPL:   1.912\n"
          ],
          "name": "stdout"
        }
      ]
    },
    {
      "cell_type": "code",
      "metadata": {
        "colab": {
          "base_uri": "https://localhost:8080/"
        },
        "id": "f3_aq7QTPBFc",
        "outputId": "41e7b061-5341-4e6e-da15-ae0fd7e89970"
      },
      "source": [
        "model.load_state_dict(torch.load('tut6-model.pt'))\n",
        "\n",
        "test_loss = evaluate(model, train_iterator, criterion)\n",
        "\n",
        "print(f'| Test Loss: {test_loss:.3f} | Test PPL: {math.exp(test_loss):7.3f} |')"
      ],
      "execution_count": 83,
      "outputs": [
        {
          "output_type": "stream",
          "text": [
            "| Test Loss: 0.647 | Test PPL:   1.910 |\n"
          ],
          "name": "stdout"
        }
      ]
    },
    {
      "cell_type": "code",
      "metadata": {
        "id": "ieIjql9uPKH1"
      },
      "source": [
        "def translate_sentence(sentence, src_field, trg_field, model, device, max_len = 1700):\n",
        "    \n",
        "    model.eval()\n",
        "        \n",
        "    if isinstance(sentence, str):\n",
        "        nlp = spacy.load('de')\n",
        "        tokens = [token.text.lower() for token in nlp(sentence)]\n",
        "    else:\n",
        "        tokens = [token.lower() for token in sentence]\n",
        "\n",
        "    tokens = [src_field.init_token] + tokens + [src_field.eos_token]\n",
        "        \n",
        "    src_indexes = [src_field.vocab.stoi[token] for token in tokens]\n",
        "\n",
        "    src_tensor = torch.LongTensor(src_indexes).unsqueeze(0).to(device)\n",
        "    \n",
        "    src_mask = model.make_src_mask(src_tensor)\n",
        "    \n",
        "    with torch.no_grad():\n",
        "        enc_src = model.encoder(src_tensor, src_mask)\n",
        "\n",
        "    trg_indexes = [trg_field.vocab.stoi[trg_field.init_token]]\n",
        "\n",
        "    for i in range(max_len):\n",
        "\n",
        "        trg_tensor = torch.LongTensor(trg_indexes).unsqueeze(0).to(device)\n",
        "\n",
        "        trg_mask = model.make_trg_mask(trg_tensor)\n",
        "        \n",
        "        with torch.no_grad():\n",
        "            output, attention = model.decoder(trg_tensor, enc_src, trg_mask, src_mask)\n",
        "        \n",
        "        pred_token = output.argmax(2)[:,-1].item()\n",
        "        \n",
        "        trg_indexes.append(pred_token)\n",
        "\n",
        "        if pred_token == trg_field.vocab.stoi[trg_field.eos_token]:\n",
        "            break\n",
        "    \n",
        "    trg_tokens = [trg_field.vocab.itos[i] for i in trg_indexes]\n",
        "    \n",
        "    return trg_tokens[1:], attention"
      ],
      "execution_count": 84,
      "outputs": []
    },
    {
      "cell_type": "code",
      "metadata": {
        "id": "WTBipndfPOlX"
      },
      "source": [
        "def display_attention(sentence, translation, attention, n_heads = 8, n_rows = 4, n_cols = 2):\n",
        "    \n",
        "    assert n_rows * n_cols == n_heads\n",
        "    \n",
        "    fig = plt.figure(figsize=(15,25))\n",
        "    \n",
        "    for i in range(n_heads):\n",
        "        \n",
        "        ax = fig.add_subplot(n_rows, n_cols, i+1)\n",
        "        \n",
        "        _attention = attention.squeeze(0)[i].cpu().detach().numpy()\n",
        "\n",
        "        cax = ax.matshow(_attention, cmap='bone')\n",
        "\n",
        "        ax.tick_params(labelsize=12)\n",
        "        ax.set_xticklabels(['']+['<sos>']+[t.lower() for t in sentence]+['<eos>'], \n",
        "                           rotation=45)\n",
        "        ax.set_yticklabels(['']+translation)\n",
        "\n",
        "        ax.xaxis.set_major_locator(ticker.MultipleLocator(1))\n",
        "        ax.yaxis.set_major_locator(ticker.MultipleLocator(1))\n",
        "\n",
        "    plt.show()"
      ],
      "execution_count": 85,
      "outputs": []
    },
    {
      "cell_type": "code",
      "metadata": {
        "colab": {
          "base_uri": "https://localhost:8080/"
        },
        "id": "TJHNiBOoPQhG",
        "outputId": "c8dcd539-0bbd-4570-9c9b-c93f2ea58783"
      },
      "source": [
        "example_idx = 8\n",
        "\n",
        "src = vars(train_data.examples[example_idx])['src']\n",
        "trg = vars(train_data.examples[example_idx])['trg']\n",
        "\n",
        "print(f'src = {src}')\n",
        "print(f'trg = {trg}')"
      ],
      "execution_count": 86,
      "outputs": [
        {
          "output_type": "stream",
          "text": [
            "src = ['write', 'a', 'python', 'function', 'to', 'print', 'whether', 'a', 'number', 'is', 'negative', ',', 'positive', 'or', 'zero']\n",
            "trg = ['def', '<space>', 'check_pnz', '(', 'num', ')', ':', '<new_line>', '<space>', '<space>', '<space>', '<space>', 'if', '<space>', 'num', '<space>', '>', '<space>', '0', ':', '<new_line>', '<space>', '<space>', '<space>', '<space>', '<space>', '<space>', '<space>', 'print', '(', 'positive', '<space>', 'number', '\"', ')', '<new_line>', '<space>', '<space>', '<space>', '<space>', 'elif', '<space>', 'num', '<space>', '=', '=', '<space>', '0', ':', '<new_line>', '<space>', '<space>', '<space>', '<space>', '<space>', '<space>', '<space>', 'print', '(', '\"', 'zero', '\"', ')', '<new_line>', '<space>', '<space>', '<space>', '<space>', 'else', ':', '<new_line>', '<space>', '<space>', '<space>', '<space>', '<space>', '<space>', '<space>', 'print', '(', '\"', 'negative', '<space>', 'number', '\"', ')', '<new_line>', '\"']\n"
          ],
          "name": "stdout"
        }
      ]
    },
    {
      "cell_type": "code",
      "metadata": {
        "colab": {
          "base_uri": "https://localhost:8080/"
        },
        "id": "dZSai6VDPR3o",
        "outputId": "c193e237-f68b-4730-e3f5-3d67937ef069"
      },
      "source": [
        "translation, attention = translate_sentence(src, SRC, TRG, model, device)\n",
        "\n",
        "print(f'predicted trg = {translation}')"
      ],
      "execution_count": 87,
      "outputs": [
        {
          "output_type": "stream",
          "text": [
            "predicted trg = ['def', '<space>', '<unk>', '(', 'n', ')', ':', '<new_line>', '<space>', '<space>', '<space>', '<space>', 'if', '<space>', 'n', '<space>', '<', '=', '<space>', '0', ':', '<new_line>', '<space>', '<space>', '<space>', '<space>', '<space>', '<space>', '<space>', '<space>', 'return', '<space>', 'n', '<new_line>', '<space>', '<space>', '<space>', '<space>', 'else', ':', '<new_line>', '<space>', '<space>', '<space>', '<space>', '<space>', '<space>', '<space>', '<space>', '<space>', '<space>', '<space>', 'return', '<space>', 'n', '<space>', '%', '<space>', '2', '<space>', '=', '<space>', '0', '<new_line>', '<eos>']\n"
          ],
          "name": "stdout"
        }
      ]
    },
    {
      "cell_type": "code",
      "metadata": {
        "colab": {
          "base_uri": "https://localhost:8080/"
        },
        "id": "0YyJFiJXPVjr",
        "outputId": "b7ba29da-162a-476a-b5e5-ebbfbe0bc7ab"
      },
      "source": [
        "example_idx = 6\n",
        "\n",
        "src = vars(valid_data.examples[example_idx])['src']\n",
        "trg = vars(valid_data.examples[example_idx])['trg']\n",
        "\n",
        "print(f'src = {src}')\n",
        "print(f'trg = {trg}')"
      ],
      "execution_count": 88,
      "outputs": [
        {
          "output_type": "stream",
          "text": [
            "src = ['write', 'a', 'python', 'function', 'to', 'implement', 'linear', 'extrapolation']\n",
            "trg = ['def', '<space>', 'extrapolate', '(', 'd', ',', '<space>', 'x', ')', ':', '<new_line>', '<space>', '<space>', '<space>', '<space>', 'y', '<space>', '=', '<space>', '(', 'd', '[', '0', ']', '[', '1', ']', '<space>', '+', '<space>', '(', 'x', '<space>', '-', '<space>', 'd', '[', '0', ']', '[', '0', ']', ')', '<space>', '/', '<new_line>', '<space>', '<space>', '<space>', '<space>', '<space>', '<space>', '<space>', '<space>', '(', 'd', '[', '1', ']', '[', '0', ']', '<space>', '-', '<space>', 'd', '[', '0', ']', '[', '0', ']', ')', '<space>', '*', '<new_line>', '<space>', '<space>', '<space>', '<space>', '<space>', '<space>', '<space>', '<space>', '(', 'd', '[', '1', ']', '[', '1', ']', '<space>', '-', '<space>', 'd', '[', '0', ']', '[', '1', ']', ')', ')', ';', '<new_line>', '<space>', '<space>', '<space>', '<space>', 'return', '<space>', 'y;', '<new_line>']\n"
          ],
          "name": "stdout"
        }
      ]
    },
    {
      "cell_type": "code",
      "metadata": {
        "colab": {
          "base_uri": "https://localhost:8080/"
        },
        "id": "LDmsvAhoPWze",
        "outputId": "19bdbe55-36ed-4a5b-b07d-950287e39b9c"
      },
      "source": [
        "translation, attention = translate_sentence(src, SRC, TRG, model, device)\n",
        "\n",
        "print(f'predicted trg = {translation}')"
      ],
      "execution_count": 89,
      "outputs": [
        {
          "output_type": "stream",
          "text": [
            "predicted trg = ['def', '<space>', '<unk>', '(', 'd', ')', ':', '<new_line>', '<space>', '<space>', '<space>', '<space>', 'd', '<space>', '=', '<space>', '{', \"'\", ':', '<space>', \"'\", 'd', \"'\", ':', '<space>', \"'\", 'd', \"'\", ':', '<space>', '-', '<space>', \"'\", 'd', \"'\", ':', '<space>', '-', 'd', \"'\", 'd', \"'\", ':', '-', 'd', \"'\", ':', '-', 'd', \"'\", 'd', \"'\", ':', '-', 'd', \"'\", 'd', \"'\", 'd', \"'\", ':', '-', 'd', \"'\", 'd', \"'\", 'd', \"'\", ':', '-', 'd', \"'\", 'd', \"'\", 'd', \"'\", 'd', \"'\", 'd', \"'\", ':', '-', 'd', \"'\", 'd', \"'\", 'd', \"'\", 'd', \"'\", '<new_line>', '<space>', '<space>', 'd', \"'\", 'd', \"'\", 'd', \"'\", 'd', \"'\", 'd', \"'\", '<new_line>', 'd', '<space>', 'd', '<space>', 'd', '<space>', 'd', '<space>', 'd', '<space>', 'd', '<space>', 'd', '<space>', 'd', '<space>', 'd', '<space>', 'd', '<space>', 'd', '<space>', 'd', '<space>', 'd', '<space>', 'd', '<space>', 'd', '<space>', 'd', '<space>', 'd', '<space>', 'd', '<space>', 'd', '<space>', 'd', '<space>', 'd', '<space>', 'd', '<space>', 'd', '<space>', 'd', '<space>', 'd', '<space>', 'd', '<space>', 'd', '<space>', 'd', '<space>', 'd', '<space>', 'd', '<space>', 'd', '<space>', 'd', '<space>', 'd', '<space>', 'd', '<space>', 'd', '<space>', 'd', '<space>', 'd', '<space>', 'd', '<space>', 'd', '<space>', 'd', '<space>', 'd', '<space>', 'd', '<space>', 'd', '<space>', 'd', '<space>', 'd', '<space>', 'd', '<space>', 'd', '<space>', 'd', '<space>', 'd', '<space>', 'd', '<space>', 'd', '<space>', 'd', '<space>', 'd', '<space>', 'd', '<space>', 'd', '<space>', 'd', '<space>', 'd', '<space>', 'd', '<space>', 'd', '<space>', 'd', '<space>', 'd', '<space>', 'd', '<space>', 'd', '<space>', 'd', '<space>', 'd', '<space>', 'd', '<space>', 'd', '<space>', 'd', '<space>', 'd', '<space>', 'd', '<space>', 'd', '<space>', 'd', '<space>', 'd', '<space>', 'd', '<space>', 'd', '<space>', 'd', '<space>', 'd', '<space>', 'd', '<space>', 'd', '<space>', 'd', '<space>', 'd', '<space>', 'd', '<space>', 'd', '<space>', 'd', '<space>', 'd', '<space>', 'd', '<space>', 'd', '<space>', 'd', '<space>', 'd', '<space>', 'd', '<space>', 'd', '<space>', 'd', '<space>', 'd', '<space>', 'd', '<space>', 'd', '<space>', 'd', '<space>', 'd', '<space>', 'd', '<space>', 'd', '<space>', 'd', '<space>', 'd', '<space>', 'd', '<space>', 'd', '<space>', 'd', '<space>', 'd', '<space>', 'd', '<space>', 'd', '<space>', 'd', '<space>', 'd', '<space>', 'd', '<space>', 'd', '<space>', 'd', '<space>', 'd', '<space>', 'd', '<space>', 'd', '<space>', 'd', '<space>', 'd', '<space>', 'd', '<space>', 'd', '<space>', 'd', '<space>', 'd', '<space>', 'd', '<space>', 'd', '<space>', 'd', '<space>', 'd', '<space>', 'd', '<space>', 'd', '<space>', 'd', '<space>', 'd', '<space>', 'd', '<space>', 'd', '<space>', 'd', '<space>', 'd', '<space>', 'd', '<space>', 'd', '<space>', 'd', '<space>', 'd', '<space>', 'd', '<space>', 'd', '<space>', 'd', '<space>', 'd', '<space>', 'd', '<space>', 'd', '<space>', 'd', '<space>', 'd', '<space>', 'd', '<space>', 'd', '<space>', 'd', '<space>', 'd', '<space>', 'd', '<space>', 'd', '<space>', 'd', '<space>', 'd', '<space>', 'd', '<space>', 'd', '<space>', 'd', '<space>', 'd', '<space>', 'd', '<space>', 'd', '<space>', 'd', '<space>', 'd', '<space>', 'd', '<space>', 'd', '<space>', 'd', '<space>', 'd', '<space>', 'd', '<space>', 'd', '<space>', 'd', '<space>', 'd', '<space>', 'd', '<space>', 'd', '<space>', 'd', '<space>', 'd', '<space>', 'd', '<space>', 'd', '<space>', 'd', '<space>', 'd', '<space>', 'd', '<space>', 'd', '<space>', 'd', '<space>', 'd', '<space>', 'd', '<space>', 'd', '<space>', 'd', '<space>', 'd', '<space>', 'd', '<space>', 'd', '<space>', 'd', '<space>', 'd', '<space>', 'd', '<space>', 'd', '<space>', 'd', '<space>', 'd', '<space>', 'd', '<space>', 'd', '<space>', 'd', '<space>', 'd', '<space>', 'd', '<space>', 'd', '<space>', 'd', '<space>', 'd', '<space>', 'd', '<space>', 'd', '<space>', 'd', '<space>', 'd', '<space>', 'd', '<space>', 'd', '<space>', 'd', '<space>', 'd', '<space>', 'd', '<space>', 'd', '<space>', 'd', '<space>', 'd', '<space>', 'd', '<space>', 'd', '<space>', 'd', '<space>', 'd', '<space>', 'd', '<space>', 'd', '<space>', 'd', '<space>', 'd', '<space>', 'd', '<space>', 'd', '<space>', 'd', '<space>', 'd', '<space>', 'd', '<space>', 'd', '<space>', 'd', '<space>', 'd', '<space>', 'd', '<space>', 'd', '<space>', 'd', '<space>', 'd', '<space>', 'd', '<space>', 'd', '<space>', 'd', '<space>', 'd', '<space>', 'd', '<space>', 'd', '<space>', 'd', '<space>', 'd', '<space>', 'd', '<space>', 'd', '<space>', 'd', '<space>', 'd', '<space>', 'd', '<space>', 'd', '<space>', 'd', '<space>', 'd', '<space>', 'd', '<space>', 'd', '<space>', 'd', '<space>', 'd', '<space>', 'd', '<space>', 'd', '<space>', 'd', '<space>', 'd', '<space>', 'd', '<space>', 'd', '<space>', 'd', '<space>', 'd', '<space>', 'd', '<space>', 'd', '<space>', 'd', '<space>', 'd', '<space>', 'd', '<space>', 'd', '<space>', 'd', '<space>', 'd', '<space>', 'd', '<space>', 'd', '<space>', 'd', '<space>', 'd', '<space>', 'd', '<space>', 'd', '<space>', 'd', '<space>', 'd', '<space>', 'd', '<space>', 'd', '<space>', 'd', '<space>', 'd', '<space>', 'd', '<space>', 'd', '<space>', 'd', '<space>', 'd', '<space>', 'd', '<space>', 'd', '<space>', 'd', '<space>', 'd', '<space>', 'd', '<space>', 'd', '<space>', 'd', '<space>', 'd', '<space>', 'd', '<space>', 'd', '<space>', 'd', '<space>', 'd', '<space>', 'd', '<space>', 'd', '<space>', 'd', '<space>', 'd', '<space>', 'd', '<space>', 'd', '<space>', 'd', '<space>', 'd', '<space>', 'd', '<space>', 'd', '<space>', 'd', '<space>', 'd', '<space>', 'd', '<space>', 'd', '<space>', 'd', '<space>', 'd', '<space>', 'd', '<space>', 'd', '<space>', 'd', '<space>', 'd', '<space>', 'd', '<space>', 'd', '<space>', 'd', '<space>', 'd', '<space>', 'd', '<space>', 'd', '<space>', 'd', '<space>', 'd', '<space>', 'd', '<space>', 'd', '<space>', 'd', '<space>', 'd', '<space>', 'd', '<space>', 'd', '<space>', 'd', '<space>', 'd', '<space>', 'd', '<space>', 'd', '<space>', 'd', '<space>', 'd', '<space>', 'd', '<space>', 'd', '<space>', 'd', '<space>', 'd', '<space>', 'd', '<space>', 'd', '<space>', 'd', '<space>', 'd', '<space>', 'd', '<space>', 'd', '<space>', 'd', '<space>', 'd', '<space>', 'd', '<space>', 'd', '<space>', 'd', '<space>', 'd', '<space>', 'd', '<space>', 'd', '<space>', 'd', '<space>', 'd', '<space>', 'd', '<space>', 'd', '<space>', 'd', '<space>', 'd', '<space>', 'd', '<space>', 'd', '<space>', 'd', '<space>', 'd', '<space>', 'd', '<space>', 'd', '<space>', 'd', '<space>', 'd', '<space>', 'd', '<space>', 'd', '<space>', 'd', '<space>', 'd', '<space>', 'd', '<space>', 'd', '<space>', 'd', '<space>', 'd', '<space>', 'd', '<space>', 'd', '<space>', 'd', '<space>', 'd', '<space>', 'd', '<space>', 'd', '<space>', 'd', '<space>', 'd', '<space>', 'd', '<space>', 'd', '<space>', 'd', '<space>', 'd', '<space>', 'd', '<space>', 'd', '<space>', 'd', '<space>', 'd', '<space>', 'd', '<space>', 'd', '<space>', 'd', '<space>', 'd', '<space>', 'd', '<space>', 'd', '<space>', 'd', '<space>', 'd', '<space>', 'd', '<space>', 'd', '<space>', 'd', '<space>', 'd', '<space>', 'd', '<space>', 'd', '<space>', 'd', '<space>', 'd', '<space>', 'd', '<space>', 'd', '<space>', 'd', '<space>', 'd', '<space>', 'd', '<space>', 'd', '<space>', 'd', '<space>', 'd', '<space>', 'd', '<space>', 'd', '<space>', 'd', '<space>', 'd', '<space>', 'd', '<space>', 'd', '<space>', 'd', '<space>', 'd', '<space>', 'd', '<space>', 'd', '<space>', 'd', '<space>', 'd', '<space>', 'd', '<space>', 'd', '<space>', 'd', '<space>', 'd', '<space>', 'd', '<space>', 'd', '<space>', 'd', '<space>', 'd', '<space>', 'd', '<space>', 'd', '<space>', 'd', '<space>', 'd', '<space>', 'd', '<space>', 'd', '<space>', 'd', '<space>', 'd', '<space>', 'd', '<space>', 'd', '<space>', 'd', '<space>', 'd', '<space>', 'd', '<space>', 'd', '<space>', 'd', '<space>', 'd', '<space>', 'd', '<space>', 'd', '<space>', 'd', '<space>', 'd', '<space>', 'd', '<space>', 'd', '<space>', 'd', '<space>', 'd', '<space>', 'd', '<space>', 'd', '<space>', 'd', '<space>', 'd', '<space>', 'd', '<space>', 'd', '<space>', 'd', '<space>', 'd', '<space>', 'd', '<space>', 'd', '<space>', 'd', '<space>', 'd', '<space>', 'd', '<space>', 'd', '<space>', 'd', '<space>', 'd', '<space>', 'd', '<space>', 'd', '<space>', 'd', '<space>', 'd', '<space>', 'd', '<space>', 'd', '<space>', 'd', '<space>', 'd', '<space>', 'd', '<space>', 'd', '<space>', 'd', '<space>', 'd', '<space>', 'd', '<space>', 'd', '<space>', 'd', '<space>', 'd', '<space>', 'd', '<space>', 'd', '<space>', 'd', '<space>', 'd', '<space>', 'd', '<space>', 'd', '<space>', 'd', '<space>', 'd', '<space>', 'd', '<space>', 'd', '<space>', 'd', '<space>', 'd', '<space>', 'd', '<space>', 'd', '<space>', 'd', '<space>', 'd', '<space>', 'd', '<space>', 'd', '<space>', 'd', '<space>', 'd', '<space>', 'd', '<space>', 'd', '<space>', 'd', '<space>', 'd', '<space>', 'd', '<space>', 'd', '<space>', 'd', '<space>', 'd', '<space>', 'd', '<space>', 'd', '<space>', 'd', '<space>', 'd', '<space>', 'd', '<space>', 'd', '<space>', 'd', '<space>', 'd', '<space>', 'd', '<space>', 'd', '<space>', 'd', '<space>', 'd', '<space>', 'd', '<space>', 'd', '<space>', 'd', '<space>', 'd', '<space>', 'd', '<space>', 'd', '<space>', 'd', '<space>', 'd', '<space>', 'd', '<space>', 'd', '<space>', 'd', '<space>', 'd', '<space>', 'd', '<space>', 'd', '<space>', 'd', '<space>', 'd', '<space>', 'd', '<space>', 'd', '<space>', 'd', '<space>', 'd', '<space>', 'd', '<space>', 'd', '<space>', 'd', '<space>', 'd', '<space>', 'd', '<space>', 'd', '<space>', 'd', '<space>', 'd', '<space>', 'd', '<space>', 'd', '<space>', 'd', '<space>', 'd', '<space>', 'd', '<space>', 'd', '<space>', 'd', '<space>', 'd', '<space>', 'd', '<space>', 'd', '<space>', 'd', '<space>', 'd', '<space>', 'd', '<space>', 'd', '<space>', 'd', '<space>', 'd', '<space>', 'd', '<space>', 'd', '<space>', 'd', '<space>', 'd', '<space>', 'd', '<space>', 'd', '<space>', 'd', '<space>', 'd', '<space>', 'd', '<space>', 'd', '<space>', 'd', '<space>', 'd', '<space>', 'd', '<space>', 'd', '<space>', 'd', '<space>', 'd', '<space>', 'd', '<space>', 'd', '<space>', 'd', '<space>', 'd', '<space>', 'd', '<space>', 'd', '<space>', 'd', '<space>', 'd', '<space>', 'd', '<space>', 'd', '<space>', 'd', '<space>', 'd', '<space>', 'd', '<space>', 'd', '<space>', 'd', '<space>', 'd', '<space>', 'd', '<space>', 'd', '<space>', 'd', '<space>', 'd', '<space>', 'd', '<space>', 'd', '<space>', 'd', '<space>', 'd', '<space>', 'd', '<space>', 'd', '<space>', 'd', '<space>', 'd', '<space>', 'd', '<space>', 'd', '<space>', 'd', '<space>', 'd', '<space>', 'd', '<space>', 'd', '<space>', 'd', '<space>', 'd', '<space>', 'd', '<space>', 'd', '<space>', 'd', '<space>', 'd', '<space>', 'd', '<space>', 'd', '<space>', 'd', '<space>', 'd', '<space>', 'd', '<space>', 'd', '<space>', 'd', '<space>', 'd', '<space>', 'd', '<space>', 'd', '<space>', 'd', '<space>', 'd', '<space>', 'd', '<space>', 'd', '<space>', 'd', '<space>', 'd', '<space>', 'd', '<space>', 'd', '<space>', 'd', '<space>', 'd', '<space>', 'd', '<space>', 'd', '<space>', 'd', '<space>', 'd', '<space>', 'd', '<space>', 'd', '<space>', 'd', '<space>', 'd', '<space>', 'd', '<space>', 'd', '<space>', 'd', '<space>', 'd', '<space>', 'd', '<space>', 'd', '<space>', 'd', '<space>', 'd', '<space>', 'd', '<space>', 'd', '<space>', 'd', '<space>', 'd', '<space>', 'd', '<space>', 'd', '<space>', 'd', '<space>', 'd', '<space>', 'd', '<space>', 'd', '<space>', 'd', '<space>', 'd', '<space>', 'd', '<space>', 'd', '<space>', 'd', '<space>', 'd', '<space>', 'd', '<space>', 'd', '<space>', 'd', '<space>', 'd', '<space>', 'd', '<space>', 'd', '<space>', 'd', '<space>', 'd', '<space>', 'd', '<space>', 'd', '<space>', 'd', '<space>', 'd', '<space>', 'd', '<space>', 'd', '<space>', 'd', '<space>', 'd', '<space>', 'd', '<space>', 'd', '<space>', 'd', '<space>', 'd', '<space>', 'd', '<space>', 'd', '<space>', 'd', '<space>', 'd', '<space>', 'd', '<space>', 'd', '<space>', 'd', '<space>', 'd', '<space>', 'd', '<space>', 'd', '<space>', 'd', '<space>', 'd', '<space>', 'd', '<space>', 'd', '<space>', 'd', '<space>', 'd', '<space>', 'd', '<space>', 'd', '<space>', 'd', '<space>', 'd', '<space>', 'd', '<space>', 'd', '<space>', 'd', '<space>', 'd', '<space>', 'd', '<space>', 'd', '<space>', 'd', '<space>', 'd', '<space>', 'd', '<space>', 'd', '<space>', 'd', '<space>', 'd', '<space>', 'd', '<space>', 'd', '<space>', 'd', '<space>', 'd', '<space>', 'd', '<space>', 'd', '<space>', 'd', '<space>', 'd', '<space>', 'd', '<space>', 'd', '<space>', 'd', '<space>', 'd', '<space>', 'd', '<space>', 'd', '<space>', 'd', '<space>', 'd', '<space>', 'd', '<space>', 'd', '<space>', 'd', '<space>', 'd', '<space>', 'd', '<space>', 'd', '<space>', 'd', '<space>', 'd', '<space>', 'd', '<space>', 'd', '<space>', 'd', '<space>', 'd', '<space>', 'd', '<space>', 'd', '<space>', 'd', '<space>', 'd', '<space>', 'd', '<space>', 'd', '<space>', 'd', '<space>', 'd', '<space>', 'd', '<space>', 'd', '<space>', 'd', '<space>', 'd', '<space>', 'd', '<space>', 'd', '<space>', 'd', '<space>', 'd', '<space>', 'd', '<space>', 'd', '<space>', 'd', '<space>', 'd', '<space>', 'd', '<space>', 'd', '<space>', 'd', '<space>', 'd', '<space>', 'd', '<space>', 'd', '<space>', 'd', '<space>', 'd', '<space>', 'd', '<space>', 'd', '<space>', 'd', '<space>', 'd', '<space>', 'd', '<space>']\n"
          ],
          "name": "stdout"
        }
      ]
    },
    {
      "cell_type": "code",
      "metadata": {
        "colab": {
          "base_uri": "https://localhost:8080/",
          "height": 1000
        },
        "id": "9k_YvNBPPX02",
        "outputId": "e66367ad-8cd2-44c9-bee5-0b97afc1e23a"
      },
      "source": [
        "display_attention(src, translation, attention)\n"
      ],
      "execution_count": 90,
      "outputs": [
        {
          "output_type": "stream",
          "text": [
            "Locator attempting to generate 1702 ticks ([-1.0, ..., 1700.0]), which exceeds Locator.MAXTICKS (1000).\n",
            "Locator attempting to generate 1702 ticks ([-1.0, ..., 1700.0]), which exceeds Locator.MAXTICKS (1000).\n",
            "Locator attempting to generate 1702 ticks ([-1.0, ..., 1700.0]), which exceeds Locator.MAXTICKS (1000).\n",
            "Locator attempting to generate 1702 ticks ([-1.0, ..., 1700.0]), which exceeds Locator.MAXTICKS (1000).\n",
            "Locator attempting to generate 1702 ticks ([-1.0, ..., 1700.0]), which exceeds Locator.MAXTICKS (1000).\n",
            "Locator attempting to generate 1702 ticks ([-1.0, ..., 1700.0]), which exceeds Locator.MAXTICKS (1000).\n",
            "Locator attempting to generate 1702 ticks ([-1.0, ..., 1700.0]), which exceeds Locator.MAXTICKS (1000).\n",
            "Locator attempting to generate 1702 ticks ([-1.0, ..., 1700.0]), which exceeds Locator.MAXTICKS (1000).\n",
            "Locator attempting to generate 1702 ticks ([-1.0, ..., 1700.0]), which exceeds Locator.MAXTICKS (1000).\n",
            "Locator attempting to generate 1702 ticks ([-1.0, ..., 1700.0]), which exceeds Locator.MAXTICKS (1000).\n",
            "Locator attempting to generate 1702 ticks ([-1.0, ..., 1700.0]), which exceeds Locator.MAXTICKS (1000).\n",
            "Locator attempting to generate 1702 ticks ([-1.0, ..., 1700.0]), which exceeds Locator.MAXTICKS (1000).\n",
            "Locator attempting to generate 1702 ticks ([-1.0, ..., 1700.0]), which exceeds Locator.MAXTICKS (1000).\n",
            "Locator attempting to generate 1702 ticks ([-1.0, ..., 1700.0]), which exceeds Locator.MAXTICKS (1000).\n",
            "Locator attempting to generate 1702 ticks ([-1.0, ..., 1700.0]), which exceeds Locator.MAXTICKS (1000).\n",
            "Locator attempting to generate 1702 ticks ([-1.0, ..., 1700.0]), which exceeds Locator.MAXTICKS (1000).\n",
            "Locator attempting to generate 1702 ticks ([-1.0, ..., 1700.0]), which exceeds Locator.MAXTICKS (1000).\n",
            "Locator attempting to generate 1702 ticks ([-1.0, ..., 1700.0]), which exceeds Locator.MAXTICKS (1000).\n",
            "Locator attempting to generate 1702 ticks ([-1.0, ..., 1700.0]), which exceeds Locator.MAXTICKS (1000).\n",
            "Locator attempting to generate 1702 ticks ([-1.0, ..., 1700.0]), which exceeds Locator.MAXTICKS (1000).\n",
            "Locator attempting to generate 1702 ticks ([-1.0, ..., 1700.0]), which exceeds Locator.MAXTICKS (1000).\n",
            "Locator attempting to generate 1702 ticks ([-1.0, ..., 1700.0]), which exceeds Locator.MAXTICKS (1000).\n",
            "Locator attempting to generate 1702 ticks ([-1.0, ..., 1700.0]), which exceeds Locator.MAXTICKS (1000).\n",
            "Locator attempting to generate 1702 ticks ([-1.0, ..., 1700.0]), which exceeds Locator.MAXTICKS (1000).\n",
            "Locator attempting to generate 1702 ticks ([-1.0, ..., 1700.0]), which exceeds Locator.MAXTICKS (1000).\n",
            "Locator attempting to generate 1702 ticks ([-1.0, ..., 1700.0]), which exceeds Locator.MAXTICKS (1000).\n",
            "Locator attempting to generate 1702 ticks ([-1.0, ..., 1700.0]), which exceeds Locator.MAXTICKS (1000).\n",
            "Locator attempting to generate 1702 ticks ([-1.0, ..., 1700.0]), which exceeds Locator.MAXTICKS (1000).\n",
            "Locator attempting to generate 1702 ticks ([-1.0, ..., 1700.0]), which exceeds Locator.MAXTICKS (1000).\n",
            "Locator attempting to generate 1702 ticks ([-1.0, ..., 1700.0]), which exceeds Locator.MAXTICKS (1000).\n",
            "Locator attempting to generate 1702 ticks ([-1.0, ..., 1700.0]), which exceeds Locator.MAXTICKS (1000).\n",
            "Locator attempting to generate 1702 ticks ([-1.0, ..., 1700.0]), which exceeds Locator.MAXTICKS (1000).\n",
            "Locator attempting to generate 1702 ticks ([-1.0, ..., 1700.0]), which exceeds Locator.MAXTICKS (1000).\n",
            "Locator attempting to generate 1702 ticks ([-1.0, ..., 1700.0]), which exceeds Locator.MAXTICKS (1000).\n",
            "Locator attempting to generate 1702 ticks ([-1.0, ..., 1700.0]), which exceeds Locator.MAXTICKS (1000).\n",
            "Locator attempting to generate 1702 ticks ([-1.0, ..., 1700.0]), which exceeds Locator.MAXTICKS (1000).\n",
            "Locator attempting to generate 1702 ticks ([-1.0, ..., 1700.0]), which exceeds Locator.MAXTICKS (1000).\n",
            "Locator attempting to generate 1702 ticks ([-1.0, ..., 1700.0]), which exceeds Locator.MAXTICKS (1000).\n",
            "Locator attempting to generate 1702 ticks ([-1.0, ..., 1700.0]), which exceeds Locator.MAXTICKS (1000).\n",
            "Locator attempting to generate 1702 ticks ([-1.0, ..., 1700.0]), which exceeds Locator.MAXTICKS (1000).\n",
            "Locator attempting to generate 1702 ticks ([-1.0, ..., 1700.0]), which exceeds Locator.MAXTICKS (1000).\n",
            "Locator attempting to generate 1702 ticks ([-1.0, ..., 1700.0]), which exceeds Locator.MAXTICKS (1000).\n",
            "Locator attempting to generate 1702 ticks ([-1.0, ..., 1700.0]), which exceeds Locator.MAXTICKS (1000).\n",
            "Locator attempting to generate 1702 ticks ([-1.0, ..., 1700.0]), which exceeds Locator.MAXTICKS (1000).\n",
            "Locator attempting to generate 1702 ticks ([-1.0, ..., 1700.0]), which exceeds Locator.MAXTICKS (1000).\n",
            "Locator attempting to generate 1702 ticks ([-1.0, ..., 1700.0]), which exceeds Locator.MAXTICKS (1000).\n",
            "Locator attempting to generate 1702 ticks ([-1.0, ..., 1700.0]), which exceeds Locator.MAXTICKS (1000).\n",
            "Locator attempting to generate 1702 ticks ([-1.0, ..., 1700.0]), which exceeds Locator.MAXTICKS (1000).\n",
            "Locator attempting to generate 1702 ticks ([-1.0, ..., 1700.0]), which exceeds Locator.MAXTICKS (1000).\n",
            "Locator attempting to generate 1702 ticks ([-1.0, ..., 1700.0]), which exceeds Locator.MAXTICKS (1000).\n",
            "Locator attempting to generate 1702 ticks ([-1.0, ..., 1700.0]), which exceeds Locator.MAXTICKS (1000).\n",
            "Locator attempting to generate 1702 ticks ([-1.0, ..., 1700.0]), which exceeds Locator.MAXTICKS (1000).\n",
            "Locator attempting to generate 1702 ticks ([-1.0, ..., 1700.0]), which exceeds Locator.MAXTICKS (1000).\n",
            "Locator attempting to generate 1702 ticks ([-1.0, ..., 1700.0]), which exceeds Locator.MAXTICKS (1000).\n",
            "Locator attempting to generate 1702 ticks ([-1.0, ..., 1700.0]), which exceeds Locator.MAXTICKS (1000).\n",
            "Locator attempting to generate 1702 ticks ([-1.0, ..., 1700.0]), which exceeds Locator.MAXTICKS (1000).\n",
            "Locator attempting to generate 1702 ticks ([-1.0, ..., 1700.0]), which exceeds Locator.MAXTICKS (1000).\n",
            "Locator attempting to generate 1702 ticks ([-1.0, ..., 1700.0]), which exceeds Locator.MAXTICKS (1000).\n",
            "Locator attempting to generate 1702 ticks ([-1.0, ..., 1700.0]), which exceeds Locator.MAXTICKS (1000).\n",
            "Locator attempting to generate 1702 ticks ([-1.0, ..., 1700.0]), which exceeds Locator.MAXTICKS (1000).\n",
            "Locator attempting to generate 1702 ticks ([-1.0, ..., 1700.0]), which exceeds Locator.MAXTICKS (1000).\n",
            "Locator attempting to generate 1702 ticks ([-1.0, ..., 1700.0]), which exceeds Locator.MAXTICKS (1000).\n",
            "Locator attempting to generate 1702 ticks ([-1.0, ..., 1700.0]), which exceeds Locator.MAXTICKS (1000).\n",
            "Locator attempting to generate 1702 ticks ([-1.0, ..., 1700.0]), which exceeds Locator.MAXTICKS (1000).\n",
            "Locator attempting to generate 1702 ticks ([-1.0, ..., 1700.0]), which exceeds Locator.MAXTICKS (1000).\n",
            "Locator attempting to generate 1702 ticks ([-1.0, ..., 1700.0]), which exceeds Locator.MAXTICKS (1000).\n",
            "Locator attempting to generate 1702 ticks ([-1.0, ..., 1700.0]), which exceeds Locator.MAXTICKS (1000).\n",
            "Locator attempting to generate 1702 ticks ([-1.0, ..., 1700.0]), which exceeds Locator.MAXTICKS (1000).\n",
            "Locator attempting to generate 1702 ticks ([-1.0, ..., 1700.0]), which exceeds Locator.MAXTICKS (1000).\n",
            "Locator attempting to generate 1702 ticks ([-1.0, ..., 1700.0]), which exceeds Locator.MAXTICKS (1000).\n",
            "Locator attempting to generate 1702 ticks ([-1.0, ..., 1700.0]), which exceeds Locator.MAXTICKS (1000).\n",
            "Locator attempting to generate 1702 ticks ([-1.0, ..., 1700.0]), which exceeds Locator.MAXTICKS (1000).\n",
            "Locator attempting to generate 1702 ticks ([-1.0, ..., 1700.0]), which exceeds Locator.MAXTICKS (1000).\n",
            "Locator attempting to generate 1702 ticks ([-1.0, ..., 1700.0]), which exceeds Locator.MAXTICKS (1000).\n",
            "Locator attempting to generate 1702 ticks ([-1.0, ..., 1700.0]), which exceeds Locator.MAXTICKS (1000).\n",
            "Locator attempting to generate 1702 ticks ([-1.0, ..., 1700.0]), which exceeds Locator.MAXTICKS (1000).\n",
            "Locator attempting to generate 1702 ticks ([-1.0, ..., 1700.0]), which exceeds Locator.MAXTICKS (1000).\n",
            "Locator attempting to generate 1702 ticks ([-1.0, ..., 1700.0]), which exceeds Locator.MAXTICKS (1000).\n",
            "Locator attempting to generate 1702 ticks ([-1.0, ..., 1700.0]), which exceeds Locator.MAXTICKS (1000).\n",
            "Locator attempting to generate 1702 ticks ([-1.0, ..., 1700.0]), which exceeds Locator.MAXTICKS (1000).\n",
            "Locator attempting to generate 1702 ticks ([-1.0, ..., 1700.0]), which exceeds Locator.MAXTICKS (1000).\n",
            "Locator attempting to generate 1702 ticks ([-1.0, ..., 1700.0]), which exceeds Locator.MAXTICKS (1000).\n",
            "Locator attempting to generate 1702 ticks ([-1.0, ..., 1700.0]), which exceeds Locator.MAXTICKS (1000).\n",
            "Locator attempting to generate 1702 ticks ([-1.0, ..., 1700.0]), which exceeds Locator.MAXTICKS (1000).\n",
            "Locator attempting to generate 1702 ticks ([-1.0, ..., 1700.0]), which exceeds Locator.MAXTICKS (1000).\n",
            "Locator attempting to generate 1702 ticks ([-1.0, ..., 1700.0]), which exceeds Locator.MAXTICKS (1000).\n",
            "Locator attempting to generate 1702 ticks ([-1.0, ..., 1700.0]), which exceeds Locator.MAXTICKS (1000).\n",
            "Locator attempting to generate 1702 ticks ([-1.0, ..., 1700.0]), which exceeds Locator.MAXTICKS (1000).\n",
            "Locator attempting to generate 1702 ticks ([-1.0, ..., 1700.0]), which exceeds Locator.MAXTICKS (1000).\n",
            "Locator attempting to generate 1702 ticks ([-1.0, ..., 1700.0]), which exceeds Locator.MAXTICKS (1000).\n",
            "Locator attempting to generate 1702 ticks ([-1.0, ..., 1700.0]), which exceeds Locator.MAXTICKS (1000).\n",
            "Locator attempting to generate 1702 ticks ([-1.0, ..., 1700.0]), which exceeds Locator.MAXTICKS (1000).\n",
            "Locator attempting to generate 1702 ticks ([-1.0, ..., 1700.0]), which exceeds Locator.MAXTICKS (1000).\n",
            "Locator attempting to generate 1702 ticks ([-1.0, ..., 1700.0]), which exceeds Locator.MAXTICKS (1000).\n",
            "Locator attempting to generate 1702 ticks ([-1.0, ..., 1700.0]), which exceeds Locator.MAXTICKS (1000).\n",
            "Locator attempting to generate 1702 ticks ([-1.0, ..., 1700.0]), which exceeds Locator.MAXTICKS (1000).\n",
            "Locator attempting to generate 1702 ticks ([-1.0, ..., 1700.0]), which exceeds Locator.MAXTICKS (1000).\n",
            "Locator attempting to generate 1702 ticks ([-1.0, ..., 1700.0]), which exceeds Locator.MAXTICKS (1000).\n",
            "Locator attempting to generate 1702 ticks ([-1.0, ..., 1700.0]), which exceeds Locator.MAXTICKS (1000).\n",
            "Locator attempting to generate 1702 ticks ([-1.0, ..., 1700.0]), which exceeds Locator.MAXTICKS (1000).\n",
            "Locator attempting to generate 1702 ticks ([-1.0, ..., 1700.0]), which exceeds Locator.MAXTICKS (1000).\n",
            "Locator attempting to generate 1702 ticks ([-1.0, ..., 1700.0]), which exceeds Locator.MAXTICKS (1000).\n",
            "Locator attempting to generate 1702 ticks ([-1.0, ..., 1700.0]), which exceeds Locator.MAXTICKS (1000).\n",
            "Locator attempting to generate 1702 ticks ([-1.0, ..., 1700.0]), which exceeds Locator.MAXTICKS (1000).\n",
            "Locator attempting to generate 1702 ticks ([-1.0, ..., 1700.0]), which exceeds Locator.MAXTICKS (1000).\n",
            "Locator attempting to generate 1702 ticks ([-1.0, ..., 1700.0]), which exceeds Locator.MAXTICKS (1000).\n",
            "Locator attempting to generate 1702 ticks ([-1.0, ..., 1700.0]), which exceeds Locator.MAXTICKS (1000).\n",
            "Locator attempting to generate 1702 ticks ([-1.0, ..., 1700.0]), which exceeds Locator.MAXTICKS (1000).\n",
            "Locator attempting to generate 1702 ticks ([-1.0, ..., 1700.0]), which exceeds Locator.MAXTICKS (1000).\n",
            "Locator attempting to generate 1702 ticks ([-1.0, ..., 1700.0]), which exceeds Locator.MAXTICKS (1000).\n",
            "Locator attempting to generate 1702 ticks ([-1.0, ..., 1700.0]), which exceeds Locator.MAXTICKS (1000).\n",
            "Locator attempting to generate 1702 ticks ([-1.0, ..., 1700.0]), which exceeds Locator.MAXTICKS (1000).\n",
            "Locator attempting to generate 1702 ticks ([-1.0, ..., 1700.0]), which exceeds Locator.MAXTICKS (1000).\n",
            "Locator attempting to generate 1702 ticks ([-1.0, ..., 1700.0]), which exceeds Locator.MAXTICKS (1000).\n",
            "Locator attempting to generate 1702 ticks ([-1.0, ..., 1700.0]), which exceeds Locator.MAXTICKS (1000).\n",
            "Locator attempting to generate 1702 ticks ([-1.0, ..., 1700.0]), which exceeds Locator.MAXTICKS (1000).\n",
            "Locator attempting to generate 1702 ticks ([-1.0, ..., 1700.0]), which exceeds Locator.MAXTICKS (1000).\n",
            "Locator attempting to generate 1702 ticks ([-1.0, ..., 1700.0]), which exceeds Locator.MAXTICKS (1000).\n",
            "Locator attempting to generate 1702 ticks ([-1.0, ..., 1700.0]), which exceeds Locator.MAXTICKS (1000).\n",
            "Locator attempting to generate 1702 ticks ([-1.0, ..., 1700.0]), which exceeds Locator.MAXTICKS (1000).\n",
            "Locator attempting to generate 1702 ticks ([-1.0, ..., 1700.0]), which exceeds Locator.MAXTICKS (1000).\n",
            "Locator attempting to generate 1702 ticks ([-1.0, ..., 1700.0]), which exceeds Locator.MAXTICKS (1000).\n",
            "Locator attempting to generate 1702 ticks ([-1.0, ..., 1700.0]), which exceeds Locator.MAXTICKS (1000).\n",
            "Locator attempting to generate 1702 ticks ([-1.0, ..., 1700.0]), which exceeds Locator.MAXTICKS (1000).\n",
            "Locator attempting to generate 1702 ticks ([-1.0, ..., 1700.0]), which exceeds Locator.MAXTICKS (1000).\n",
            "Locator attempting to generate 1702 ticks ([-1.0, ..., 1700.0]), which exceeds Locator.MAXTICKS (1000).\n",
            "Locator attempting to generate 1702 ticks ([-1.0, ..., 1700.0]), which exceeds Locator.MAXTICKS (1000).\n",
            "Locator attempting to generate 1702 ticks ([-1.0, ..., 1700.0]), which exceeds Locator.MAXTICKS (1000).\n",
            "Locator attempting to generate 1702 ticks ([-1.0, ..., 1700.0]), which exceeds Locator.MAXTICKS (1000).\n",
            "Locator attempting to generate 1702 ticks ([-1.0, ..., 1700.0]), which exceeds Locator.MAXTICKS (1000).\n",
            "Locator attempting to generate 1702 ticks ([-1.0, ..., 1700.0]), which exceeds Locator.MAXTICKS (1000).\n",
            "Locator attempting to generate 1702 ticks ([-1.0, ..., 1700.0]), which exceeds Locator.MAXTICKS (1000).\n",
            "Locator attempting to generate 1702 ticks ([-1.0, ..., 1700.0]), which exceeds Locator.MAXTICKS (1000).\n",
            "Locator attempting to generate 1702 ticks ([-1.0, ..., 1700.0]), which exceeds Locator.MAXTICKS (1000).\n",
            "Locator attempting to generate 1702 ticks ([-1.0, ..., 1700.0]), which exceeds Locator.MAXTICKS (1000).\n",
            "Locator attempting to generate 1702 ticks ([-1.0, ..., 1700.0]), which exceeds Locator.MAXTICKS (1000).\n",
            "Locator attempting to generate 1702 ticks ([-1.0, ..., 1700.0]), which exceeds Locator.MAXTICKS (1000).\n",
            "Locator attempting to generate 1702 ticks ([-1.0, ..., 1700.0]), which exceeds Locator.MAXTICKS (1000).\n",
            "Locator attempting to generate 1702 ticks ([-1.0, ..., 1700.0]), which exceeds Locator.MAXTICKS (1000).\n",
            "Locator attempting to generate 1702 ticks ([-1.0, ..., 1700.0]), which exceeds Locator.MAXTICKS (1000).\n",
            "Locator attempting to generate 1702 ticks ([-1.0, ..., 1700.0]), which exceeds Locator.MAXTICKS (1000).\n",
            "Locator attempting to generate 1702 ticks ([-1.0, ..., 1700.0]), which exceeds Locator.MAXTICKS (1000).\n",
            "Locator attempting to generate 1702 ticks ([-1.0, ..., 1700.0]), which exceeds Locator.MAXTICKS (1000).\n",
            "Locator attempting to generate 1702 ticks ([-1.0, ..., 1700.0]), which exceeds Locator.MAXTICKS (1000).\n",
            "Locator attempting to generate 1702 ticks ([-1.0, ..., 1700.0]), which exceeds Locator.MAXTICKS (1000).\n",
            "Locator attempting to generate 1702 ticks ([-1.0, ..., 1700.0]), which exceeds Locator.MAXTICKS (1000).\n",
            "Locator attempting to generate 1702 ticks ([-1.0, ..., 1700.0]), which exceeds Locator.MAXTICKS (1000).\n",
            "Locator attempting to generate 1702 ticks ([-1.0, ..., 1700.0]), which exceeds Locator.MAXTICKS (1000).\n",
            "Locator attempting to generate 1702 ticks ([-1.0, ..., 1700.0]), which exceeds Locator.MAXTICKS (1000).\n",
            "Locator attempting to generate 1702 ticks ([-1.0, ..., 1700.0]), which exceeds Locator.MAXTICKS (1000).\n",
            "Locator attempting to generate 1702 ticks ([-1.0, ..., 1700.0]), which exceeds Locator.MAXTICKS (1000).\n",
            "Locator attempting to generate 1702 ticks ([-1.0, ..., 1700.0]), which exceeds Locator.MAXTICKS (1000).\n",
            "Locator attempting to generate 1702 ticks ([-1.0, ..., 1700.0]), which exceeds Locator.MAXTICKS (1000).\n",
            "Locator attempting to generate 1702 ticks ([-1.0, ..., 1700.0]), which exceeds Locator.MAXTICKS (1000).\n",
            "Locator attempting to generate 1702 ticks ([-1.0, ..., 1700.0]), which exceeds Locator.MAXTICKS (1000).\n",
            "Locator attempting to generate 1702 ticks ([-1.0, ..., 1700.0]), which exceeds Locator.MAXTICKS (1000).\n",
            "Locator attempting to generate 1702 ticks ([-1.0, ..., 1700.0]), which exceeds Locator.MAXTICKS (1000).\n",
            "Locator attempting to generate 1702 ticks ([-1.0, ..., 1700.0]), which exceeds Locator.MAXTICKS (1000).\n",
            "Locator attempting to generate 1702 ticks ([-1.0, ..., 1700.0]), which exceeds Locator.MAXTICKS (1000).\n",
            "Locator attempting to generate 1702 ticks ([-1.0, ..., 1700.0]), which exceeds Locator.MAXTICKS (1000).\n",
            "Locator attempting to generate 1702 ticks ([-1.0, ..., 1700.0]), which exceeds Locator.MAXTICKS (1000).\n",
            "Locator attempting to generate 1702 ticks ([-1.0, ..., 1700.0]), which exceeds Locator.MAXTICKS (1000).\n",
            "Locator attempting to generate 1702 ticks ([-1.0, ..., 1700.0]), which exceeds Locator.MAXTICKS (1000).\n",
            "Locator attempting to generate 1702 ticks ([-1.0, ..., 1700.0]), which exceeds Locator.MAXTICKS (1000).\n",
            "Locator attempting to generate 1702 ticks ([-1.0, ..., 1700.0]), which exceeds Locator.MAXTICKS (1000).\n",
            "Locator attempting to generate 1702 ticks ([-1.0, ..., 1700.0]), which exceeds Locator.MAXTICKS (1000).\n",
            "Locator attempting to generate 1702 ticks ([-1.0, ..., 1700.0]), which exceeds Locator.MAXTICKS (1000).\n",
            "Locator attempting to generate 1702 ticks ([-1.0, ..., 1700.0]), which exceeds Locator.MAXTICKS (1000).\n"
          ],
          "name": "stderr"
        },
        {
          "output_type": "display_data",
          "data": {
            "image/png": "[encoded data removed]",
            "text/plain": [
              "<Figure size 1080x1800 with 8 Axes>"
            ]
          },
          "metadata": {
            "tags": [],
            "needs_background": "light"
          }
        }
      ]
    },
    {
      "cell_type": "code",
      "metadata": {
        "colab": {
          "base_uri": "https://localhost:8080/"
        },
        "id": "V4RJbrqmPZkX",
        "outputId": "ab8a2e4b-3baa-457c-f952-d35993835d8f"
      },
      "source": [
        "example_idx = 10\n",
        "\n",
        "src = vars(test_data.examples[example_idx])['src']\n",
        "trg = vars(test_data.examples[example_idx])['trg']\n",
        "\n",
        "print(f'src = {src}')\n",
        "print(f'trg = {trg}')"
      ],
      "execution_count": 91,
      "outputs": [
        {
          "output_type": "stream",
          "text": [
            "src = ['concatenation', 'of', 'two', 'list']\n",
            "trg = ['my_list1', '<space>', '=', '<space>', '[', '4', ',', '3', ',', '2', ',', '9', ',', '10', ',', '44', ',', '1', ']', '<new_line>', 'my_list2', '<space>', '=', '<space>', '[', '5', ',', '6', ',', '2', ',', '8', ',', '15', ',', '14', ',', '12', ']', '<new_line>', 'print', '(', 'fsum', '<space>', 'of', '<space>', 'two', '<space>', 'list', ':']\n"
          ],
          "name": "stdout"
        }
      ]
    },
    {
      "cell_type": "code",
      "metadata": {
        "colab": {
          "base_uri": "https://localhost:8080/"
        },
        "id": "oN00r7FqPbGj",
        "outputId": "a0f02678-fa58-47cf-c810-27482f12f896"
      },
      "source": [
        "translation, attention = translate_sentence(src, SRC, TRG, model, device)\n",
        "\n",
        "print(f'predicted trg = {translation}')"
      ],
      "execution_count": 92,
      "outputs": [
        {
          "output_type": "stream",
          "text": [
            "predicted trg = ['my_list1', '<space>', '=', '<space>', '[', '1', ',', '2', ',', '3', ',', '4', ',', '5', ',', '6', ',', '7', ',', '9', ',', '2', ',', '2', ',', '9', ',', '10', ']', '<new_line>', 'my_list2', '<space>', '=', '<space>', '[', '4', ',', '3', ',', '1', ',', '2', ',', '4', ',', '1', ',', '2', ',', '4', ',', '5', ',', '2', ',', '6', ',', '6', ',', '8', ',', '2', ',', '9', ',', '1', ']', '<new_line>', 'print', '(', 'fsum', '<space>', 'of', '<space>', 'list', ':', '<eos>']\n"
          ],
          "name": "stdout"
        }
      ]
    },
    {
      "cell_type": "code",
      "metadata": {
        "colab": {
          "base_uri": "https://localhost:8080/",
          "height": 1000
        },
        "id": "ixzIycViPcI3",
        "outputId": "99973ce1-3760-4455-edeb-769ad1c6bbd5"
      },
      "source": [
        "display_attention(src, translation, attention)\n"
      ],
      "execution_count": 93,
      "outputs": [
        {
          "output_type": "display_data",
          "data": {
            "image/png": "[encoded data removed]",
            "text/plain": [
              "<Figure size 1080x1800 with 8 Axes>"
            ]
          },
          "metadata": {
            "tags": [],
            "needs_background": "light"
          }
        }
      ]
    },
    {
      "cell_type": "code",
      "metadata": {
        "colab": {
          "base_uri": "https://localhost:8080/"
        },
        "id": "ZdOYbsdOzLtJ",
        "outputId": "c2a44fdc-7e66-41ff-d952-e8d23f3f8726"
      },
      "source": [
        "import random\n",
        "randomlist = random.sample(range(0, len(valid_data)), 25)\n",
        "for ele in randomlist:\n",
        "  example_idx = ele\n",
        "  src = vars(valid_data.examples[example_idx])['src']\n",
        "  trg = vars(valid_data.examples[example_idx])['trg']\n",
        "  listToStr = ''.join([str(elem) for elem in src]) \n",
        "  print(f'Question: {listToStr}')\n",
        "\n",
        "  listToStr = ''.join([str(elem) for elem in trg])\n",
        "  listToStr = listToStr.replace ('<new_line>','\\n').replace ('<space>',' ')\n",
        "  print(f'Source Python:\\n{listToStr}')\n",
        "  \n",
        "  print(f'\\n')\n",
        "  # print(f'\\n')\n",
        "  # print(f'trg = {trg}')\n",
        "  listToStr = ''.join([str(elem) for elem in trg]) \n",
        "  translation, attention = translate_sentence(src, SRC, TRG, model, device)\n",
        "  listToStr = ''.join([str(elem) for elem in translation]) \n",
        "  listToStrx = listToStr.replace('<eos>', '')\n",
        "  print(f'Target Python:\\n{listToStrx}')\n",
        "  print('#########################################################################################################')\n",
        "  print('#########################################################################################################')"
      ],
      "execution_count": 94,
      "outputs": [
        {
          "output_type": "stream",
          "text": [
            "Question: writeapythonfunctiontoconvertananglefromradianstodegrees.\n",
            "Source Python:\n",
            "def rads_to_degrees(rad):\n",
            "  return (rad * 180.0) / 3.14\n",
            "\n",
            "\n",
            "\n",
            "Target Python:\n",
            "def<space><unk>(fn,<space>mm):<new_line><space><space><space><space>from<space>datetime<space>import<space>datetime<new_line><space><space><space><space>def<space><unk>(fn):<new_line><space><space><space><space><space><space><space><space><space>return<space>fn(fn(**args)<space>****kwargs)<new_line><space><space><space><space><space><space><space><space><space><space>return<space>fn(**kwargs)<new_line>\n",
            "#########################################################################################################\n",
            "#########################################################################################################\n",
            "Question: writeapythonfunctiontoreadasquarematrixfromconsoleandprintthesumofmatrixprimarydiagonal.acceptthesizeofthesquarematrixandelementsforeachcolumnseparatedwithaspace(foreveryrow)asinputfromtheuserandprinttheoutput.\n",
            "Source Python:\n",
            "size = int(input(input the size of the matrix: \"))\n",
            "matrix = [[0] * size for row in range(\n",
            "\n",
            "\n",
            "Target Python:\n",
            "def<space>kth_column(n=[[],[5,6,7,8],[4,1],[5,6,6,7,8,1],[4,1],[4,2,3,1],0],[4,0],0],[0],len(a)):<new_line><space><space><space><space><space>for<space>i<space>in<space>range(len(a):<new_line><space><space><space><space><space><space><space><space><space><space><space><space><space><space><space><space>a[i]<space>+<space>b[i][i]<space>for<space>i<space>in<space>range(len(a)):<new_line><space><space><space><space><space><space><space><space><space><space><space><space><space><space><space><space><space><space><space><space><space><space><space><space><space><space><space><space><space><space><space><space><space><space><space><space><space><space><space><space><space><space><space><space><space><space><space><space><space><space><space><space><space><space><space><space><space><space><space><space><space><space><space><space><space><space><space><space><space><space><space><space><space><space><space><space><space><space><space><space><space><space><space><space><space><space><space><space><space><space><space><space><space><space><space><space><space><space><space><space><space><space><space><space><space><space><space><space><space><space><space><space><space><space><space><space><space><space><space><space><space><space><space><space><space><space><space><space><space><space><space><space><space><space><space><space><space><space><space><space><space><space><space><space><space><space><space><space><space><space><space><space><space><space><space><space><space><space><space><space><space><space><space><space><space><space><space><space><space><space><space><space><space><space><space><space><space><space><space><space><space><space><space><space><space><space><space><space><space><space><space><space><space><space><space><space><space><space><space><space><space><space><space><space><space><space><space><space><space><space><space><space><space><space><space><space><space><space><space><space><space><space><space><space><space><space><space><space><space><space><space><space><space><space><space><space><space><space><space><space><space><space><space><space><space><space><space><space><space><space><space><space><space><space><space><space><space><space><space><space><space><space><space><space><space><space><space><space><space><space><space><space><space><space><space><space><space><space><space><space><space><space><space><space><space><space><space><space><space><space><space><space><space><space><space><space><space><space><space><space><space><space><space><space><space><space><space><space><space><space><space><space><space><space><space><space><space><space><space><space><space><space><space><space><space><space><space><space><space><space><space><space><space><space><space><space><space><space><space><space><space><space><space><space><space><space><space><space><space><space><space><space><space><space><space><space><space><space><space><space><space><space><space><space><space><space><space><space><space><space><space><space><space><space><space><space><space><space><space><space><space><space><space><space><space><space><space><space><space><space><space><space><space><space><space><space><space><space><space><space><space><space><space><space><space><space><space><space><space><space><space><space><space><space><space><space><space><space><space><space><space><space><space><space><space><space><space><space><space><space><space><space><space><space><space><space><space><space><space><space><space><space><space><space><space><space><space><space><space><space><space><space><space><space><space><space><space><space><space><space><space><space><space><space><space><space><space><space><space><space><space><space><space><space><space><space><space><space><space><space><space><space><space><space><space><space><space><space><space><space><space><space><space><space><space><space><space><space><space><space><space><space><space><space><space><space><space><space><space><space><space><space><space><space><space><space><space><space><space><space><space><space><space><space><space><space><space><space><space><space><space><space><space><space><space><space><space><space><space><space><space><space><space><space><space><space><space><space><space><space><space><space><space><space><space><space><space><space><space><space><space><space><space><space><space><space><space><space><space><space><space><space><space><space><space><space><space><space><space><space><space><space><space><space><space><space><space><space><space><space><space><space><space><space><space><space><space><space><space><space><space><space><space><space><space><space><space><space><space><space><space><space><space><space><space><space><space><space><space><space><space><space><space><space><space><space><space><space><space><space><space><space><space><space><space><space><space><space><space><space><space><space><space><space><space><space><space><space><space><space><space><space><space><space><space><space><space><space><space><space><space><space><space><space><space><space><space><space><space><space><space><space><space><space><space><space><space><space><space><space><space><space><space><space><space><space><space><space><space><space><space><space><space><space><space><space><space><space><space><space><space><space><space><space><space><space><space><space><space><space><space><space><space><space><space><space><space><space><space><space><space><space><space><space><space><space><space><space><space><space><space><space><space><space><space><space><space><space><space><space><space><space><space><space><space><space><space><space><space><space><space><space><space><space><space><space><space><space><space><space><space><space><space><space><space><space><space><space><space><space><space><space><space><space><space><space><space><space><space><space><space><space><space><space><space><space><space><space><space><space><space><space><space><space><space><space><space><space><space><space><space><space><space><space><space><space><space><space><space><space><space><space><space><space><space><space><space><space><space><space><space><space><space><space><space><space><space><space><space><space><space><space><space><space><space><space><space><space><space><space><space><space><space><space><space><space><space><space><space><space><space><space><space><space><space><space><space><space><space><space><space><space><space><space><space><space><space><space><space><space><space><space><space><space><space><space><space><space><space><space><space><space><space><space><space><space><space><space><space><space><space><space><space><space><space><space><space><space><space><space><space><space><space><space><space><space><space><space><space><space><space><space><space><space><space><space><space><space><space><space><space><space><space><space><space><space><space><space><space><space><space><space><space><space><space><space><space><space><space><space><space><space><space><space><space><space><space><space><space><space><space><space><space><space><space><space><space><space><space><space><space><space><space><space><space><space><space><space><space><space><space><space><space><space><space><space><space><space><space><space><space><space><space><space><space><space><space><space><space><space><space><space><space><space><space><space><space><space><space><space><space><space><space><space><space><space><space><space><space><space><space><space><space><space><space><space><space><space><space><space><space><space><space><space><space><space><space><space><space><space><space><space><space><space><space><space><space><space><space><space><space><space><space><space><space><space><space><space><space><space><space><space><space><space><space><space><space><space><space><space><space><space><space><space><space><space><space><space><space><space><space><space><space><space><space><space><space><space><space><space><space><space><space><space><space><space><space><space><space><space><space><space><space><space><space><space><space><space><space><space><space><space><space><space><space><space><space><space><space><space><space><space><space><space><space><space><space><space><space><space><space><space><space><space><space><space><space><space><space><space><space><space><space><space><space><space><space><space><space><space><space><space><space><space><space><space><space><space><space><space><space><space><space><space><space><space><space><space><space><space><space><space><space><space><space><space><space><space><space><space><space><space><space><space><space><space><space><space><space><space><space><space><space><space><space><space><space><space><space><space><space><space><space><space><space><space><space><space><space><space><space><space><space><space><space><space><space><space><space><space><space><space><space><space><space><space><space><space><space><space><space><space><space><space><space><space><space><space><space><space><space><space><space><space><space><space><space><space><space><space><space><space><space><space><space><space><space><space><space><space><space><space><space><space><space><space><space><space><space><space><space><space><space><space><space><space><space><space><space><space><space><space><space><space><space><space><space><space><space><space><space><space><space><space><space><space><space><space><space><space><space><space><space><space><space><space><space><space><space><space><space><space><space><space><space><space><space><space><space><space><space><space><space><space><space><space><space><space><space><space><space><space><space><space><space><space><space><space><space><space><space><space><space><space><space><space><space><space><space><space><space><space><space><space><space><space><space><space><space><space><space><space><space><space><space><space><space><space><space><space><space><space><space><space><space><space><space><space><space><space><space><space><space><space><space><space><space><space><space><space><space><space><space><space><space><space><space><space><space><space><space><space><space><space><space><space><space><space><space><space><space><space><space><space><space><space><space><space><space><space><space><space><space><space><space><space><space><space><space><space><space><space><space><space><space><space><space><space><space><space><space><space><space><space><space><space><space><space><space><space><space><space><space><space><space><space><space><space><space><space><space><space><space><space><space><space><space><space><space><space><space><space><space><space><space><space><space><space><space><space><space><space><space><space><space><space><space><space><space><space><space><space><space><space><space><space><space><space><space><space><space><space><space><space><space><space><space><space><space><space><space><space><space><space><space><space><space><space><space><space><space><space><space><space><space><space><space><space><space><space><space><space><space><space><space><space><space><space><space><space><space><space><space><space><space><space><space><space><space><space><space><space><space><space><space><space><space><space><space><space><space><space><space><space><space><space>\n",
            "#########################################################################################################\n",
            "#########################################################################################################\n",
            "Question: writeapythonfunctiontoreturnthenumberoflinesinafile\n",
            "Source Python:\n",
            "def count_lines(filename):\n",
            "   with open(filename, 'r') as f:\n",
            "      contents = f.read().split('\\n')\n",
            "      return len(contents)\n",
            "\n",
            "\n",
            "\n",
            "Target Python:\n",
            "def<space><unk>(fname):<new_line><space><space><space><space>with<space>open(fname,<space>r')<space>as<space>f:<new_line><space><space><space><space><space><space><space><space><space><space>with<space>open(fname,<space>'r')<space>as<space>f:<new_line><space><space><space><space><space><space><space><space><space><space><space><space><space><space><space><space><space><space><space><space><space><space><space><space><space><space><space><space><space><space><space><space><space><space><space><space><space><space><space><space><space><space><space><space><space><space><space><space><space><space><space><space><space><space><space><space><space><space><space><space><space><space><space><space><space><space><space><space><space><space><space><space><space><space><space><space><space><space><space><space><space><space><space><space><space><space><space><space><space><space><space><space><space><space><space><space><space><space><space><space><space><space><space><space><space><space><space><space><space><space><space><space><space><space><space><space><space><space><space><space><space><space><space><space><space><space><space><space><space><space><space><space><space><space><space><space><space><space><space><space><space><space><space><space><space><space><space><space><space><space><space><space><space><space><space><space><space><space><space><space><space><space><space><space><space><space><space><space><space><space><space><space><space><space><space><space><space><space><space><space><space><space><space><space><space><space><space><space><space><space><space><space><space><space><space><space><space><space><space><space><space><space><space><space><space><space><space><space><space><space><space><space><space><space><space><space><space><space><space><space><space><space><space><space><space><space><space><space><space><space><space><space><space><space><space><space><space><space><space><space><space><space><space><space><space><space><space><space><space><space><space><space><space><space><space><space><space><space><space><space><space><space><space><space><space><space><space><space><space><space><space><space><space><space><space><space><space><space><space><space><space><space><space><space><space><space><space><space><space><space><space><space><space><space><space><space><space><space><space><space><space><space><space><space><space><space><space><space><space><space><space><space><space><space><space><space><space><space><space><space><space><space><space><space><space><space><space><space><space><space><space><space><space><space><space><space><space><space><space><space><space><space><space><space><space><space><space><space><space><space><space><space><space><space><space><space><space><space><space><space><space><space><space><space><space><space><space><space><space><space><space><space><space><space><space><space><space><space><space><space><space><space><space><space><space><space><space><space><space><space><space><space><space><space><space><space><space><space><space><space><space><space><space><space><space><space><space><space><space><space><space><space><space><space><space><space><space><space><space><space><space><space><space><space><space><space><space><space><space><space><space><space><space><space><space><space><space><space><space><space><space><space><space><space><space><space><space><space><space><space><space><space><space><space><space><space><space><space><space><space><space><space><space><space><space><space><space><space><space><space><space><space><space><space><space><space><space><space><space><space><space><space><space><space><space><space><space><space><space><space><space><space><space><space><space><space><space><space><space><space><space><space><space><space><space><space><space><space><space><space><space><space><space><space><space><space><space><space><space><space><space><space><space><space><space><space><space><space><space><space><space><space><space><space><space><space><space><space><space><space><space><space><space><space><space><space><space><space><space><space><space><space><space><space><space><space><space><space><space><space><space><space><space><space><space><space><space><space><space><space><space><space><space><space><space><space><space><space><space><space><space><space><space><space><space><space><space><space><space><space><space><space><space><space><space><space><space><space><space><space><space><space><space><space><space><space><space><space><space><space><space><space><space><space><space><space><space><space><space><space><space><space><space><space><space><space><space><space><space><space><space><space><space><space><space><space><space><space><space><space><space><space><space><space><space><space><space><space><space><space><space><space><space><space><space><space><space><space><space><space><space><space><space><space><space><space><space><space><space><space><space><space><space><space><space><space><space><space><space><space><space><space><space><space><space><space><space><space><space><space><space><space><space><space><space><space><space><space><space><space><space><space><space><space><space><space><space><space><space><space><space><space><space><space><space><space><space><space><space><space><space><space><space><space><space><space><space><space><space><space><space><space><space><space><space><space><space><space><space><space><space><space><space><space><space><space><space><space><space><space><space><space><space><space><space><space><space><space><space><space><space><space><space><space><space><space><space><space><space><space><space><space><space><space><space><space><space><space><space><space><space><space><space><space><space><space><space><space><space><space><space><space><space><space><space><space><space><space><space><space><space><space><space><space><space><space><space><space><space><space><space><space><space><space><space><space><space><space><space><space><space><space><space><space><space><space><space><space><space><space><space><space><space><space><space><space><space><space><space><space><space><space><space><space><space><space><space><space><space><space><space><space><space><space><space><space><space><space><space><space><space><space><space><space><space><space><space><space><space><space><space><space><space><space><space><space><space><space><space><space><space><space><space><space><space><space><space><space><space><space><space><space><space><space><space><space><space><space><space><space><space><space><space><space><space><space><space><space><space><space><space><space><space><space><space><space><space><space><space><space><space><space><space><space><space><space><space><space><space><space><space><space><space><space><space><space><space><space><space><space><space><space><space><space><space><space><space><space><space><space><space><space><space><space><space><space><space><space><space><space><space><space><space><space><space><space><space><space><space><space><space><space><space><space><space><space><space><space><space><space><space><space><space><space><space><space><space><space><space><space><space><space><space><space><space><space><space><space><space><space><space><space><space><space><space><space><space><space><space><space><space><space><space><space><space><space><space><space><space><space><space><space><space><space><space><space><space><space><space><space><space><space><space><space><space><space><space><space><space><space><space><space><space><space><space><space><space><space><space><space><space><space><space><space><space><space><space><space><space><space><space><space><space><space><space><space><space><space><space><space><space><space><space><space><space><space><space><space><space><space><space><space><space><space><space><space><space><space><space><space><space><space><space><space><space><space><space><space><space><space><space><space><space><space><space><space><space><space><space><space><space><space><space><space><space><space><space><space><space><space><space><space><space><space><space><space><space><space><space><space><space><space><space><space><space><space><space><space><space><space><space><space><space><space><space><space><space><space><space><space><space><space><space><space><space><space><space><space><space><space><space><space><space><space><space><space><space><space><space><space><space><space><space><space><space><space><space><space><space><space><space><space><space><space><space><space><space><space><space><space><space><space><space><space><space><space><space><space><space><space><space><space><space><space><space><space><space><space><space><space><space><space><space><space><space><space><space><space><space><space><space><space><space><space><space><space><space><space><space><space><space><space><space><space><space><space><space><space><space><space><space><space><space><space><space><space><space><space><space><space><space><space><space><space><space><space><space><space><space><space><space><space><space><space><space><space><space><space><space><space><space><space><space><space><space><space><space><space><space><space><space><space><space><space><space><space><space><space><space><space><space><space><space><space><space><space><space><space><space><space><space><space><space><space><space><space><space><space><space><space><space><space><space><space><space><space><space><space><space><space><space><space><space><space><space><space><space><space><space><space><space><space><space><space><space><space><space><space><space><space><space><space><space><space><space><space><space><space><space><space><space><space><space><space><space><space><space><space><space><space><space><space><space><space><space><space><space><space><space><space><space><space><space><space><space><space><space><space><space><space><space><space><space><space><space><space><space><space><space><space><space><space><space><space><space><space><space><space><space><space><space><space><space><space><space><space><space><space><space><space><space><space><space><space><space><space><space><space><space><space><space><space><space><space><space><space><space><space><space><space><space><space><space><space><space><space><space><space><space><space><space><space><space><space><space><space><space><space><space><space><space><space><space><space><space><space><space><space><space><space><space><space><space><space><space><space><space><space><space><space><space><space><space><space><space><space><space><space><space><space><space><space><space><space><space><space><space><space><space><space><space><space><space><space><space><space><space><space><space><space><space><space><space><space><space><space><space><space><space><space><space><space><space><space><space><space><space><space><space><space><space><space><space><space><space><space><space><space><space><space><space><space><space><space><space><space><space><space><space><space><space><space><space><space><space><space><space><space><space><space><space><space><space><space><space><space><space><space><space><space><space><space><space><space><space><space><space><space><space><space><space><space><space><space><space><space><space><space><space><space><space><space><space><space><space><space><space><space><space><space><space><space><space><space><space><space><space><space><space><space><space><space><space><space><space><space><space><space><space><space><space><space><space><space><space><space><space><space><space><space><space><space><space><space><space><space><space><space><space><space><space><space><space><space><space><space><space><space><space><space><space><space><space><space><space>\n",
            "#########################################################################################################\n",
            "#########################################################################################################\n",
            "Question: writeapythonfunctiontocheckwhetheranumbercanbewrittenasasumof3primes(goldbachweakcoonjecture)\n",
            "Source Python:\n",
            "def check(n):\n",
            "  if n % 2 == 1 and n > 5:\n",
            "    print('yes')\n",
            "  else:\n",
            "    print('no')\n",
            "\n",
            "\n",
            "\n",
            "Target Python:\n",
            "def<space><unk>(n):<new_line><space><space><space><space>if<space>n<space><=<space>0:<new_line><space><space><space><space><space><space><space><space>return<space>n<new_line><space><space><space><space>else:<new_line><space><space><space><space><space><space><space><space><space><space>return<space>n<space>+<space>sum_of_nums(n-1)<new_line>\n",
            "#########################################################################################################\n",
            "#########################################################################################################\n",
            "Question: writeapythonfunctiontoremoveallpunctuationfromastring\n",
            "Source Python:\n",
            "def remove_punctuations(sentence):\n",
            "   punctuations = '''!()-[]{};:'\n",
            "\n",
            "\n",
            "Target Python:\n",
            "def<space>r_punc():<new_line><space><space><space><space><space>test_str<space>=<space>\n",
            "#########################################################################################################\n",
            "#########################################################################################################\n",
            "Question: writeapythonfunctionthatreturnsfirstelementofalist\n",
            "Source Python:\n",
            "def head(lst):\n",
            "  return lst[0]\n",
            "\n",
            "\n",
            "\n",
            "Target Python:\n",
            "def<space><unk>(lst):<new_line><space><space><space>return<space>len(lst)<new_line>\n",
            "#########################################################################################################\n",
            "#########################################################################################################\n",
            "Question: withagivenintegralnumbern,writeaprogramtogenerateadictionarythatcontains(i,i*i)suchthatisanintegralnumberbetween1andn(bothincluded).andthentheprogramshouldprintthedictionary.\n",
            "Source Python:\n",
            "n=int(input())\n",
            "d=dict()\n",
            "for i in range(1,n+1):\n",
            "    d[i]=i*i\n",
            "print(d)\n",
            "\n",
            "\n",
            "\n",
            "Target Python:\n",
            "n=int(input(enter<space>number:\"))<new_line>d=dict()<new_line>for<space>i<space>in<space>range(\n",
            "#########################################################################################################\n",
            "#########################################################################################################\n",
            "Question: writeapythonfunctiontoconvertbcdtodecimal\n",
            "Source Python:\n",
            " def bcdtodecimal(s):\n",
            "    length = len(s);\n",
            "    check = 0;\n",
            "    check0 = 0;\n",
            "    num = 0;\n",
            "    sum = 0;\n",
            "    mul = 1;\n",
            "    rev = 0;\n",
            "    for i in range(length - 1, -1, -1):\n",
            "        sum += (ord(s[i]) - ord('0')) * mul;\n",
            "        mul *= 2;\n",
            "        check += 1;\n",
            "        if (check == 4 or i == 0):\n",
            "            if (sum == 0 and check0 == 0):\n",
            "                num = 1;\n",
            "                check0 = 1;\n",
            "            else:\n",
            "                num = num * 10 + sum;\n",
            "            check = 0;\n",
            "            sum = 0;\n",
            "            mul = 1;\n",
            "    while (num > 0):\n",
            "        rev = rev * 10 + (num % 10);\n",
            "        num //= 10;\n",
            "    if (check0 == 1):\n",
            "        return rev - 1;\n",
            "    return rev;\n",
            "\n",
            "\n",
            "\n",
            "Target Python:\n",
            "def<space><unk>(n):<new_line><space><space><space><space>return<space>n<space><=<space>0<new_line>\n",
            "#########################################################################################################\n",
            "#########################################################################################################\n",
            "Question: writeapythonfunctionthatsreturnsaflatlistofallthevaluesinaflatdictionary\n",
            "Source Python:\n",
            "def values_only(flat_dict):\n",
            "  return list(flat_dict.values())\n",
            "\n",
            "\n",
            "\n",
            "Target Python:\n",
            "def<space><unk>(fname,<space>value):<new_line><space><space><space><space>return<space>dict()<new_line>\n",
            "#########################################################################################################\n",
            "#########################################################################################################\n",
            "Question: writeapythonprogramtofindareaofcircle\n",
            "Source Python:\n",
            "pi = 3.14\n",
            "radius = float(6)\n",
            "area = pi * radius * radius\n",
            "circumference = 2 * pi * radius\n",
            "print(f'area of a circle {area}')\n",
            "print(f'circumference of a circle {circumference}')\n",
            "\n",
            "\n",
            "\n",
            "Target Python:\n",
            "import<space>math<new_line>radius<space>=<space>5<new_line>print(f'area:<space>{2<space>*<space>radius<space>*<space>radius}')<new_line>\n",
            "#########################################################################################################\n",
            "#########################################################################################################\n",
            "Question: writeapythonprogramtoprintifyearisaleapyearornot\n",
            "Source Python:\n",
            "year = 2000\n",
            "if (year % 4) == 0:\n",
            "   if (year % 100) == 0:\n",
            "      if (year % 400) == 0:\n",
            "         print({0} is a leap year\".format(year))\n",
            "      else:\n",
            "         print(\"{0} is not a leap year\".format(year))\n",
            "   else:\n",
            "      print(\"{0} is a leap year\".format(year))\n",
            "else:\n",
            "   print(\"{0} is not a leap year\".format(year))\n",
            "\"\n",
            "\n",
            "\n",
            "Target Python:\n",
            "year<space>=<space>2000<new_line>if<space>(year<space>%<space>4)<space>==<space>0:<new_line><space><space><space>if<space>(year<space>%<space>100)<space>==<space>0:<new_line><space><space><space><space><space><space><space>if<space>(year<space>%<space>400)<space>==<space>0:<new_line><space><space><space><space><space><space><space><space><space><space><space><space><space><space><space><space><space><space><space><space><space><space><space><space><space><space><space><space><space><space><space><space><space><space><space><space><space><space><space><space><space><space><space><space><space><space><space><space><space><space><space><space><space><space><space><space><space><space><space><space><space><space><space><space><space><space><space><space><space><space><space><space><space><space><space><space><space><space><space><space><space><space><space><space><space><space><space><space><space><space><space><space><space><space><space><space><space><space><space><space><space><space><space><space><space><space><space><space><space><space><space><space><space><space><space><space><space><space><space><space><space><space><space><space><space><space><space><space><space><space><space><space><space><space><space><space><space><space><space><space><space><space><space><space><space><space><space><space><space><space><space><space><space><space><space><space><space><space><space><space><space><space><space><space><space><space><space><space><space><space><space><space><space><space><space><space><space><space><space><space><space><space><space><space><space><space><space><space><space><space><space><space><space><space><space><space><space><space><space><space><space><space><space><space><space><space><space><space><space><space><space><space><space><space><space><space><space><space><space><space><space><space><space><space><space><space><space><space><space><space><space><space><space><space><space><space><space><space><space><space><space><space><space><space><space><space><space><space><space><space><space><space><space><space><space><space><space><space><space><space><space><space><space><space><space><space><space><space><space><space><space><space><space><space><space><space><space><space><space><space><space><space><space><space><space><space><space><space><space><space><space><space><space><space><space><space><space><space><space><space><space><space><space><space><space><space><space><space><space><space><space><space><space><space><space><space><space><space><space><space><space><space><space><space><space><space><space><space><space><space><space><space><space><space><space><space><space><space><space><space><space><space><space><space><space><space><space><space><space><space><space><space><space><space><space><space><space><space><space><space><space><space><space><space><space><space><space><space><space><space><space><space><space><space><space><space><space><space><space><space><space><space><space><space><space><space><space><space><space><space><space><space><space><space><space><space><space><space><space><space><space><space><space><space><space><space><space><space><space><space><space><space><space><space><space><space><space><space><space><space><space><space><space><space><space><space><space><space><space><space><space><space><space><space><space><space><space><space><space><space><space><space><space><space><space><space><space><space><space><space><space><space><space><space><space><space><space><space><space><space><space><space><space><space><space><space><space><space><space><space><space><space><space><space><space><space><space><space><space><space><space><space><space><space><space><space><space><space><space><space><space><space><space><space><space><space><space><space><space><space><space><space><space><space><space><space><space><space><space><space><space><space><space><space><space><space><space><space><space><space><space><space><space><space><space><space><space><space><space><space><space><space><space><space><space><space><space><space><space><space><space><space><space><space><space><space><space><space><space><space><space><space><space><space><space><space><space><space><space><space><space><space><space><space><space><space><space><space><space><space><space><space><space><space><space><space><space><space><space><space><space><space><space><space><space><space><space><space><space><space><space><space><space><space><space><space><space><space><space><space><space><space><space><space><space><space><space><space><space><space><space><space><space><space><space><space><space><space><space><space><space><space><space><space><space><space><space><space><space><space><space><space><space><space><space><space><space><space><space><space><space><space><space><space><space><space><space><space><space><space><space><space><space><space><space><space><space><space><space><space><space><space><space><space><space><space><space><space><space><space><space><space><space><space><space><space><space><space><space><space><space><space><space><space><space><space><space><space><space><space><space><space><space><space><space><space><space><space><space><space><space><space><space><space><space><space><space><space><space><space><space><space><space><space><space><space><space><space><space><space><space><space><space><space><space><space><space><space><space><space><space><space><space><space><space><space><space><space><space><space><space><space><space><space><space><space><space><space><space><space><space><space><space><space><space><space><space><space><space><space><space><space><space><space><space><space><space><space><space><space><space><space><space><space><space><space><space><space><space><space><space><space><space><space><space><space><space><space><space><space><space><space><space><space><space><space><space><space><space><space><space><space><space><space><space><space><space><space><space><space><space><space><space><space><space><space><space><space><space><space><space><space><space><space><space><space><space><space><space><space><space><space><space><space><space><space><space><space><space><space><space><space><space><space><space><space><space><space><space><space><space><space><space><space><space><space><space><space><space><space><space><space><space><space><space><space><space><space><space><space><space><space><space><space><space><space><space><space><space><space><space><space><space><space><space><space><space><space><space><space><space><space><space><space><space><space><space><space><space><space><space><space><space><space><space><space><space><space><space><space><space><space><space><space><space><space><space><space><space><space><space><space><space><space><space><space><space><space><space><space><space><space><space><space><space><space><space><space><space><space><space><space><space><space><space><space><space><space><space><space><space><space><space><space><space><space><space><space><space><space><space><space><space><space><space><space><space><space><space><space><space><space><space><space><space><space><space><space><space><space><space><space><space><space><space><space><space><space><space><space><space><space><space><space><space><space><space><space><space><space><space><space><space><space><space><space><space><space><space><space><space><space><space><space><space><space><space><space><space><space><space><space><space><space><space><space><space><space><space><space><space><space><space><space><space><space><space><space><space><space><space><space><space><space><space><space><space><space><space><space><space><space><space><space><space><space><space><space><space><space><space><space><space><space><space><space><space><space><space><space><space><space><space><space><space><space><space><space><space><space><space><space><space><space><space><space><space><space><space><space><space><space><space><space><space><space><space><space><space><space><space><space><space><space><space><space><space><space><space><space><space><space><space><space><space><space><space><space><space><space><space><space><space><space><space><space><space><space><space><space><space><space><space><space><space><space><space><space><space><space><space><space><space><space><space><space><space><space><space><space><space><space><space><space><space><space><space><space><space><space><space><space><space><space><space><space><space><space><space><space><space><space><space><space><space><space><space><space><space><space><space><space><space><space><space><space><space><space><space><space><space><space><space><space><space><space><space><space><space><space><space><space><space><space><space><space><space><space><space><space><space><space><space><space><space><space><space><space><space><space><space><space><space><space><space><space><space><space><space><space><space><space><space><space><space><space><space><space><space><space><space><space><space><space><space><space><space><space><space><space><space><space><space><space><space><space><space><space><space><space><space><space><space><space><space><space><space><space><space><space><space><space><space><space><space><space><space><space><space><space><space><space><space><space><space><space><space><space><space><space><space><space><space><space><space><space><space><space><space><space><space><space><space><space><space><space><space><space><space><space><space><space><space><space><space><space><space><space><space><space><space><space><space><space><space><space><space><space><space><space><space><space><space><space><space><space><space><space><space><space><space><space><space><space><space><space><space><space><space><space><space><space><space><space><space><space><space><space><space><space><space><space><space><space><space><space><space><space><space><space><space><space><space><space><space><space><space><space><space><space><space><space><space><space><space><space><space><space><space><space><space><space><space><space><space><space><space><space><space><space><space><space><space><space><space><space><space><space><space><space><space><space><space><space><space><space><space><space><space><space><space><space><space><space><space><space><space><space><space><space><space><space><space><space><space><space><space><space><space><space><space><space><space><space><space><space><space><space><space><space><space><space><space><space><space><space><space><space><space><space><space><space><space><space><space><space><space><space><space><space><space><space><space><space><space><space><space><space><space><space><space><space><space><space><space><space><space><space><space><space><space><space><space><space><space><space><space><space><space><space><space><space><space><space><space><space><space><space><space><space><space><space><space><space><space><space><space><space><space><space><space><space><space><space><space><space><space><space><space><space><space><space><space><space><space><space><space><space><space><space><space><space><space><space><space><space><space><space><space><space><space><space><space><space><space><space><space><space><space><space><space><space><space><space><space><space><space><space><space><space><space><space><space><space><space><space><space><space><space><space><space><space><space><space><space><space><space><space><space><space><space><space><space><space><space><space><space><space><space><space><space><space><space><space><space><space><space><space><space><space><space><space><space><space><space><space><space><space><space><space><space><space><space><space><space><space><space><space><space><space><space><space><space><space><space><space>\n",
            "#########################################################################################################\n",
            "#########################################################################################################\n",
            "Question: writeapythonprogramtoprintthefactorsofanumber\n",
            "Source Python:\n",
            "num = 320\n",
            "for i in range(1, num + 1):\n",
            "   if num % i == 0:\n",
            "      print(i)\n",
            "\n",
            "\n",
            "\n",
            "Target Python:\n",
            "n=int(input(enter<space>number:\"))<new_line>for<space>i<space>in<space>range(\n",
            "#########################################################################################################\n",
            "#########################################################################################################\n",
            "Question: writeapythonprogramtogetnumbersdivisiblebyfifteenfromalist\n",
            "Source Python:\n",
            "num_list = [45, 55, 60, 37, 100, 105, 220]\n",
            "result = list(filter(lambda x: (x % 15 == 0), num_list))\n",
            "print(fnumbers divisible by 15 are {result}\")\n",
            "\"\n",
            "\n",
            "\n",
            "Target Python:\n",
            "list1<space>=<space>[1,<space>2,<space>3,<space>4,<space>5,<space>6,<space>7,<space>8,<space>9,<space>9,<space>10]<new_line>res<space>=<space>[ele<space>for<space>ele<space>in<space>test_list<space>if<space>ele<space>%<space>2<space>==<space>0<space>0]<new_line>print(even<space>numbers<space>after<space>removing<space>numbers:<space>\"\n",
            "#########################################################################################################\n",
            "#########################################################################################################\n",
            "Question: writeapythonfunctiontofindamissingnumberinalistofconsecutivenaturalnumbers\n",
            "Source Python:\n",
            "def getmissingno(a):\n",
            "    n = len(a)\n",
            "    total = (n + 1)*(n + 2)/2\n",
            "    sum_of_a = sum(a)\n",
            "    return total - sum_of_a\n",
            "\n",
            "\n",
            "\n",
            "Target Python:\n",
            "def<space><unk>(n):<new_line><space><space><space><space>return<space>len(n)<new_line>\n",
            "#########################################################################################################\n",
            "#########################################################################################################\n",
            "Question: writeapythonfunctionthattakesalistasaninputandconvertsallnumberstonegativenumbersandreturnsthenewlist\n",
            "Source Python:\n",
            "def make_all_negative(nums):\n",
            "   return [num if num < 0 else -num for num in nums]\n",
            "\n",
            "\n",
            "\n",
            "Target Python:\n",
            "def<space>make_all_negative(nums):<new_line><space><space><space>return<space>[num<space>for<space>num<space>in<space>nums<space>if<space>num<space>%<space>2<space>==<space>0<space>0<space>0<space>0<space>0<space>else<space>0]<new_line>\n",
            "#########################################################################################################\n",
            "#########################################################################################################\n",
            "Question: writeapythonfunctiontoprintthenewman-conwaysequence\n",
            "Source Python:\n",
            "def sequence(n):\n",
            "    f = [0, 1, 1]\n",
            "    print(f[1], end= \")\n",
            "\n",
            "\n",
            "Target Python:\n",
            "def<space><unk>(n):<new_line><space><space><space><space>for<space>i<space>in<space>range(n):<new_line><space><space><space><space><space><space><space><space><space><space>if(n<space>==<space>0):<new_line><space><space><space><space><space><space><space><space><space><space><space><space><space><space><space><space><space><space><space><space><space><space><space><space><space><space><space><space><space><space><space><space><space><space><space><space><space><space><space><space><space><space><space><space><space><space><space><space><space><space><space><space><space><space><space><space><space><space><space><space><space><space><space><space><space><space><space><space><space><space><space><space><space><space><space><space><space><space><space><space><space><space><space><space><space><space><space><space><space><space><space><space><space><space><space><space><space><space><space><space><space><space><space><space><space><space><space><space><space><space><space><space><space><space><space><space><space><space><space><space><space><space><space><space><space><space><space><space><space><space><space><space><space><space><space><space><space><space><space><space><space><space><space><space><space><space><space><space><space><space><space><space><space><space><space><space><space><space><space><space><space><space><space><space><space><space><space><space><space><space><space><space><space><space><space><space><space><space><space><space><space><space><space><space><space><space><space><space><space><space><space><space><space><space><space><space><space><space><space><space><space><space><space><space><space><space><space><space><space><space><space><space><space><space><space><space><space><space><space><space><space><space><space><space><space><space><space><space><space><space><space><space><space><space><space><space><space><space><space><space><space><space><space><space><space><space><space><space><space><space><space><space><space><space><space><space><space><space><space><space><space><space><space><space><space><space><space><space><space><space><space><space><space><space><space><space><space><space><space><space><space><space><space><space><space><space><space><space><space><space><space><space><space><space><space><space><space><space><space><space><space><space><space><space><space><space><space><space><space><space><space><space><space><space><space><space><space><space><space><space><space><space><space><space><space><space><space><space><space><space><space><space><space><space><space><space><space><space><space><space><space><space><space><space><space><space><space><space><space><space><space><space><space><space><space><space><space><space><space><space><space><space><space><space><space><space><space><space><space><space><space><space><space><space><space><space><space><space><space><space><space><space><space><space><space><space><space><space><space><space><space><space><space><space><space><space><space><space><space><space><space><space><space><space><space><space><space><space><space><space><space><space><space><space><space><space><space><space><space><space><space><space><space><space><space><space><space><space><space><space><space><space><space><space><space><space><space><space><space><space><space><space><space><space><space><space><space><space><space><space><space><space><space><space><space><space><space><space><space><space><space><space><space><space><space><space><space><space><space><space><space><space><space><space><space><space><space><space><space><space><space><space><space><space><space><space><space><space><space><space><space><space><space><space><space><space><space><space><space><space><space><space><space><space><space><space><space><space><space><space><space><space><space><space><space><space><space><space><space><space><space><space><space><space><space><space><space><space><space><space><space><space><space><space><space><space><space><space><space><space><space><space><space><space><space><space><space><space><space><space><space><space><space><space><space><space><space><space><space><space><space><space><space><space><space><space><space><space><space><space><space><space><space><space><space><space><space><space><space><space><space><space><space><space><space><space><space><space><space><space><space><space><space><space><space><space><space><space><space><space><space><space><space><space><space><space><space><space><space><space><space><space><space><space><space><space><space><space><space><space><space><space><space><space><space><space><space><space><space><space><space><space><space><space><space><space><space><space><space><space><space><space><space><space><space><space><space><space><space><space><space><space><space><space><space><space><space><space><space><space><space><space><space><space><space><space><space><space><space><space><space><space><space><space><space><space><space><space><space><space><space><space><space><space><space><space><space><space><space><space><space><space><space><space><space><space><space><space><space><space><space><space><space><space><space><space><space><space><space><space><space><space><space><space><space><space><space><space><space><space><space><space><space><space><space><space><space><space><space><space><space><space><space><space><space><space><space><space><space><space><space><space><space><space><space><space><space><space><space><space><space><space><space><space><space><space><space><space><space><space><space><space><space><space><space><space><space><space><space><space><space><space><space><space><space><space><space><space><space><space><space><space><space><space><space><space><space><space><space><space><space><space><space><space><space><space><space><space><space><space><space><space><space><space><space><space><space><space><space><space><space><space><space><space><space><space><space><space><space><space><space><space><space><space><space><space><space><space><space><space><space><space><space><space><space><space><space><space><space><space><space><space><space><space><space><space><space><space><space><space><space><space><space><space><space><space><space><space><space><space><space><space><space><space><space><space><space><space><space><space><space><space><space><space><space><space><space><space><space><space><space><space><space><space><space><space><space><space><space><space><space><space><space><space><space><space><space><space><space><space><space><space><space><space><space><space><space><space><space><space><space><space><space><space><space><space><space><space><space><space><space><space><space><space><space><space><space><space><space><space><space><space><space><space><space><space><space><space><space><space><space><space><space><space><space><space><space><space><space><space><space><space><space><space><space><space><space><space><space><space><space><space><space><space><space><space><space><space><space><space><space><space><space><space><space><space><space><space><space><space><space><space><space><space><space><space><space><space><space><space><space><space><space><space><space><space><space><space><space><space><space><space><space><space><space><space><space><space><space><space><space><space><space><space><space><space><space><space><space><space><space><space><space><space><space><space><space><space><space><space><space><space><space><space><space><space><space><space><space><space><space><space><space><space><space><space><space><space><space><space><space><space><space><space><space><space><space><space><space><space><space><space><space><space><space><space><space><space><space><space><space><space><space><space><space><space><space><space><space><space><space><space><space><space><space><space><space><space><space><space><space><space><space><space><space><space><space><space><space><space><space><space><space><space><space><space><space><space><space><space><space><space><space><space><space><space><space><space><space><space><space><space><space><space><space><space><space><space><space><space><space><space><space><space><space><space><space><space><space><space><space><space><space><space><space><space><space><space><space><space><space><space><space><space><space><space><space><space><space><space><space><space><space><space><space><space><space><space><space><space><space><space><space><space><space><space><space><space><space><space><space><space><space><space><space><space><space><space><space><space><space><space><space><space><space><space><space><space><space><space><space><space><space><space><space><space><space><space><space><space><space><space><space><space><space><space><space><space><space><space><space><space><space><space><space><space><space><space><space><space><space><space><space><space><space><space><space><space><space><space><space><space><space><space><space><space><space><space><space><space><space><space><space><space><space><space><space><space><space><space><space><space><space><space><space><space><space><space><space><space><space><space><space><space><space><space><space><space><space><space><space><space><space><space><space><space><space><space><space><space><space><space><space><space><space><space><space><space><space><space><space><space><space><space><space><space><space><space><space><space><space><space><space><space><space><space><space><space><space><space><space><space><space><space><space><space><space><space><space><space><space><space><space><space><space><space><space><space><space><space><space><space><space><space><space><space><space><space><space><space><space><space><space><space><space><space><space><space><space><space><space><space><space><space><space><space><space><space><space><space><space><space><space><space><space><space><space><space><space><space><space><space><space><space><space><space><space><space><space><space><space><space><space><space><space><space><space><space><space><space><space><space><space><space><space><space><space><space><space><space><space><space><space><space><space><space><space><space><space><space><space><space><space><space><space><space><space><space><space><space><space><space><space><space><space><space><space><space><space><space><space><space><space><space><space><space><space><space><space><space><space><space><space><space><space><space><space><space><space><space><space><space><space><space><space><space><space><space><space><space><space><space><space><space><space><space><space><space><space><space><space><space><space><space><space><space><space><space><space><space><space><space><space><space><space><space><space><space><space><space><space><space><space><space><space><space><space><space><space><space><space><space><space><space><space><space><space><space><space><space><space><space><space><space><space><space><space><space><space><space><space><space><space><space><space><space><space><space><space><space><space><space><space><space><space><space><space><space><space><space><space><space><space><space><space><space><space><space><space><space><space><space><space><space><space><space><space><space><space><space><space><space><space><space><space><space><space><space><space><space><space><space><space><space><space><space><space><space><space><space><space><space><space><space><space><space><space><space><space><space><space><space><space><space><space><space><space><space><space><space><space><space><space><space><space><space><space><space><space><space><space><space><space><space><space><space><space><space><space><space><space><space><space><space><space><space><space><space><space><space><space><space><space><space><space><space><space><space><space><space><space><space><space><space><space>\n",
            "#########################################################################################################\n",
            "#########################################################################################################\n",
            "Question: writeapythonfunctiontocheckwhetherthenumberisaperfectsquarewithoutfindingsquareroot\n",
            "Source Python:\n",
            " def isperfectsquare(n) :\n",
            "    i = 1\n",
            "    while(i * i<= n):\n",
            "        if ((n % i == 0) and (n / i == i)):\n",
            "            return true\n",
            "        i = i + 1\n",
            "    return false\n",
            "\n",
            "\n",
            "\n",
            "Target Python:\n",
            "def<space><unk>(n):<new_line><space><space><space><space>if<space>n<space><=<space>0:<new_line><space><space><space><space><space><space><space><space>return<space>n<new_line><space><space><space><space>else:<new_line><space><space><space><space><space><space><space><space><space><space><space>return<space>n<space>*<space>n<new_line>\n",
            "#########################################################################################################\n",
            "#########################################################################################################\n",
            "Question: writeapythonfunctiontosortthedictionarybyvalues\n",
            "Source Python:\n",
            "def sort_dict_by_value(d, reverse = false):\n",
            "  return dict(sorted(d.items(), key = lambda x: x[1], reverse = reverse))\n",
            "\n",
            "\n",
            "\n",
            "Target Python:\n",
            "def<space><unk>(d):<new_line><space><space><space><space>d<space>=<space>{key:1,<space>key,<space>value<space>=<space>value<space>for<space>key,<space>value<space>in<space>input_dict.items()}<new_line><space><space><space><space>return<space>inverted_dict<new_line>\n",
            "#########################################################################################################\n",
            "#########################################################################################################\n",
            "Question: writeapythonprogramtomultiplytwomatricesandprinttheresult\n",
            "Source Python:\n",
            "x = [[12,7,3],\n",
            "    [4 ,5,6],\n",
            "    [7 ,8,9]]\n",
            "y = [[5,8,1,2],\n",
            "    [6,7,3,0],\n",
            "    [4,5,9,1]]\n",
            "result = [[0,0,0,0],\n",
            "         [0,0,0,0],\n",
            "         [0,0,0,0]]\n",
            "for i in range(len(x)):\n",
            "   for j in range(len(y[0])):\n",
            "       for k in range(len(y)):\n",
            "           result[i][j] += x[i][k] * y[k][j]\n",
            "for r in result:\n",
            "   print(r)\n",
            "\n",
            "\n",
            "\n",
            "Target Python:\n",
            "x<space>=<space>[[[12,7,3],<new_line><space><space><space><space><space>[4,5,6],<new_line><space><space><space><space><space><space><space>[7,8,9],<new_line>y<space><space>[4,1,2,3,1],<new_line><space><space><space><space>[4,5,1,3,5,1],<new_line><space><space><space><space><space><space>[4,5,1],3,5,1],<new_line>result<space>=<space>[[0,0,0,0,0,0,0,0,0,0,0,0],0,0,0,0,0],<new_line><space><space><space><space><space><space><space><space><space><space><space><space><space><space><space><space><space><space><space><space><space><space><space><space><space><space><space><space><space><space><space><space><space><space><space><space><space><space><space><space><space><space><space><space><space><space><space><space><space><space><space><space><space><space><space><space><space><space><space><space><space><space><space><space><space><space><space><space><space><space><space><space><space><space><space><space><space><space><space><space><space><space><space><space><space><space><space><space><space><space><space><space><space><space><space><space><space><space><space><space><space><space><space><space><space><space><space><space><space><space><space><space><space><space><space><space><space><space><space><space><space><space><space><space><space><space><space><space><space><space><space><space><space><space><space><space><space><space><space><space><space><space><space><space><space><space><space><space><space><space><space><space><space><space><space><space><space><space><space><space><space><space><space><space><space><space><space><space><space><space><space><space><space><space><space><space><space><space><space><space><space><space><space><space><space><space><space><space><space><space><space><space><space><space><space><space><space><space><space><space><space><space><space><space><space><space><space><space><space><space><space><space><space><space><space><space><space><space><space><space><space><space><space><space><space><space><space><space><space><space><space><space><space><space><space><space><space><space><space><space><space><space><space><space><space><space><space><space><space><space><space><space><space><space><space><space><space><space><space><space><space><space><space><space><space><space><space><space><space><space><space><space><space><space><space><space><space><space><space><space><space><space><space><space><space><space><space><space><space><space><space><space><space><space><space><space><space><space><space><space><space><space><space><space><space><space><space><space><space><space><space><space><space><space><space><space><space><space><space><space><space><space><space><space><space><space><space><space><space><space><space><space><space><space><space><space><space><space><space><space><space><space><space><space><space><space><space><space><space><space><space><space><space><space><space><space><space><space><space><space><space><space><space><space><space><space><space><space><space><space><space><space><space><space><space><space><space><space><space><space><space><space><space><space><space><space><space><space><space><space><space><space><space><space><space><space><space><space><space><space><space><space><space><space><space><space><space><space><space><space><space><space><space><space><space><space><space><space><space><space><space><space><space><space><space><space><space><space><space><space><space><space><space><space><space><space><space><space><space><space><space><space><space><space><space><space><space><space><space><space><space><space><space><space><space><space><space><space><space><space><space><space><space><space><space><space><space><space><space><space><space><space><space><space><space><space><space><space><space><space><space><space><space><space><space><space><space><space><space><space><space><space><space><space><space><space><space><space><space><space><space><space><space><space><space><space><space><space><space><space><space><space><space><space><space><space><space><space><space><space><space><space><space><space><space><space><space><space><space><space><space><space><space><space><space><space><space><space><space><space><space><space><space><space><space><space><space><space><space><space><space><space><space><space><space><space><space><space><space><space><space><space><space><space><space><space><space><space><space><space><space><space><space><space><space><space><space><space><space><space><space><space><space><space><space><space><space><space><space><space><space><space><space><space><space><space><space><space><space><space><space><space><space><space><space><space><space><space><space><space><space><space><space><space><space><space><space><space><space><space><space><space><space><space><space><space><space><space><space><space><space><space><space><space><space><space><space><space><space><space><space><space><space><space><space><space><space><space><space><space><space><space><space><space><space><space><space><space><space><space><space><space><space><space><space><space><space><space><space><space><space><space><space><space><space><space><space><space><space><space><space><space><space><space><space><space><space><space><space><space><space><space><space><space><space><space><space><space><space><space><space><space><space><space><space><space><space><space><space><space><space><space><space><space><space><space><space><space><space><space><space><space><space><space><space><space><space><space><space><space><space><space><space><space><space><space><space><space><space><space><space><space><space><space><space><space><space><space><space><space><space><space><space><space><space><space><space><space><space><space><space><space><space><space><space><space><space><space><space><space><space><space><space><space><space><space><space><space><space><space><space><space><space><space><space><space><space><space><space><space><space><space><space><space><space><space><space><space><space><space><space><space><space><space><space><space><space><space><space><space><space><space><space><space><space><space><space><space><space><space><space><space><space><space><space><space><space><space><space><space><space><space><space><space><space><space><space><space><space><space><space><space><space><space><space><space><space><space><space><space><space><space><space><space><space><space><space><space><space><space><space><space><space><space><space><space><space><space><space><space><space><space><space><space><space><space><space><space><space><space><space><space><space><space><space><space><space><space><space><space><space><space><space><space><space><space><space><space><space><space><space><space><space><space><space><space><space><space><space><space><space><space><space><space><space><space><space><space><space><space><space><space><space><space><space><space><space><space><space><space><space><space><space><space><space><space><space><space><space><space><space><space><space><space><space><space><space><space><space><space><space><space><space><space><space><space><space><space><space><space><space><space><space><space><space><space><space><space><space><space><space><space><space><space><space><space><space><space><space><space><space><space><space><space><space><space><space><space><space><space><space><space><space><space><space><space><space><space><space><space><space><space><space><space><space><space><space><space><space><space><space><space><space><space><space><space><space><space><space><space><space><space><space><space><space><space><space><space><space><space><space><space><space><space><space><space><space><space><space><space><space><space><space><space><space><space><space><space><space><space><space><space><space><space><space><space><space><space><space><space><space><space><space><space><space><space><space><space><space><space><space><space><space><space><space><space><space><space><space><space><space><space><space><space><space><space><space><space><space><space><space><space><space><space><space><space><space><space><space><space><space><space><space><space><space><space><space><space><space><space><space><space><space><space><space><space><space><space><space><space><space><space><space><space><space><space><space><space><space><space><space><space><space><space><space><space><space><space><space><space><space><space><space><space><space><space><space><space><space><space><space><space><space><space><space><space><space><space><space><space><space><space><space><space><space><space><space><space><space><space><space><space><space><space><space><space><space><space><space><space><space><space><space><space><space><space><space><space><space><space><space><space><space><space><space><space><space><space><space><space><space><space><space><space><space><space><space><space><space><space><space><space><space><space><space><space><space><space><space><space><space><space><space><space><space><space><space><space><space><space><space><space><space><space><space><space><space><space><space><space><space><space><space><space><space><space><space><space><space><space><space><space><space><space><space><space><space><space><space><space><space><space><space><space><space><space><space><space><space><space><space><space><space><space><space><space><space><space><space><space><space><space><space><space><space><space><space><space><space><space><space><space><space><space><space><space><space><space><space><space><space><space><space><space><space><space><space><space><space><space><space><space><space><space><space><space><space><space><space><space><space><space><space><space><space><space><space><space><space><space><space><space><space><space><space><space><space><space><space><space><space><space><space><space><space><space><space><space><space><space><space><space><space><space><space><space><space><space><space><space><space><space><space><space><space><space><space><space><space><space><space><space><space><space><space><space><space><space><space><space><space><space><space><space><space><space><space><space><space><space><space><space><space><space><space><space><space><space><space><space><space><space><space><space><space><space><space><space><space><space><space><space><space><space><space><space><space><space><space><space><space><space><space><space><space><space><space><space><space><space><space><space><space><space><space><space><space><space><space><space><space><space><space><space><space><space><space><space><space><space><space><space><space><space><space><space><space><space><space><space><space><space><space><space><space><space><space><space><space><space><space><space><space><space><space><space><space><space><space><space><space><space><space><space><space><space><space><space><space><space><space><space><space><space><space><space><space><space><space><space><space><space><space><space><space><space><space><space><space><space><space><space><space><space><space><space><space><space><space><space><space><space><space><space><space><space><space><space><space><space><space><space><space><space><space><space><space><space><space><space><space><space><space><space><space><space><space><space><space><space><space><space><space><space><space>\n",
            "#########################################################################################################\n",
            "#########################################################################################################\n",
            "Question: defineafunctionwhichcangeneratealistwherethevaluesaresquareofnumbersbetween1and20(bothincluded).thenthefunctionneedstoprintthelast5elementsinthelist.\n",
            "Source Python:\n",
            "def printlist():\n",
            "    li=list()\n",
            "    for i in range(1,21):\n",
            "        li.append(i**2)\n",
            "    print(li[-5:])\n",
            "\n",
            "\n",
            "\n",
            "Target Python:\n",
            "def<space>printlist():<new_line><space><space><space><space>li=list()<new_line><space><space><space><space><space>for<space>i<space>in<space>range(1,21):<new_line><space><space><space><space><space><space><space><space><space><space>li.append(i*2)<new_line><space><space><space><space><space><space><space><space><space><space><space><space>return<space>li<new_line>\n",
            "#########################################################################################################\n",
            "#########################################################################################################\n",
            "Question: defineafunctionwhichcancomputethesumoftwonumbers.\n",
            "Source Python:\n",
            "def sum_nums(number1, number2):\n",
            "    return number1+number2\n",
            "\n",
            "\n",
            "\n",
            "Target Python:\n",
            "def<space><unk>(number1,<space>number2):<new_line><space><space><space><space>return<space>number1+number2<new_line>\n",
            "#########################################################################################################\n",
            "#########################################################################################################\n",
            "Question: defineaclassnamedamericanwhichhasastaticmethodcalledprintnationality.\n",
            "Source Python:\n",
            "class american(object):\n",
            "    @staticmethod\n",
            "    def printnationality():\n",
            "        print(america\")\n",
            "anamerican = american()\n",
            "anamerican.printnationality()\n",
            "american.printnationality()\n",
            "\"\n",
            "\n",
            "\n",
            "Target Python:\n",
            "class<space>american(object):<new_line><space><space><space><space>@staticmethod<new_line><space><space><space><space>def<space>printnationality():<new_line><space><space><space><space><space><space><space><space><space><space>return<space>american(america\")<new_line>anamerican<space>=<space>american()<new_line>american()<new_line>american()<new_line>anamerican<space>=<space>american()<new_line>american()<new_line>american()<new_line>anamerican.printnationality()<new_line>american()<new_line>\"\n",
            "#########################################################################################################\n",
            "#########################################################################################################\n",
            "Question: pleasewriteaprogramtoprintpythonbuilt-infunctionsdocumentofabs()\n",
            "Source Python:\n",
            "print(abs.__doc__)\n",
            "\n",
            "\n",
            "\n",
            "Target Python:\n",
            "x=input()<new_line>y=x<new_line>y=x<new_line>y=x<new_line>y=x<new_line>y=x<new_line>y=x<new_line>y=x<new_line>y=<space>y<new_line>while(y<y):<new_line><space><space><space><space><space><space><space><space><space>x=<space>y.join(x)<new_line><space><space><space><space><space><space><space><space>x<space>y<space>=<space>x*y<new_line>print(y)<new_line>\n",
            "#########################################################################################################\n",
            "#########################################################################################################\n",
            "Question: writeafunctiontofindoutthesecondmaximumnumberinthegivenlist\n",
            "Source Python:\n",
            "def find_second_maximum(lst):\n",
            "    max = float('-inf')\n",
            "    sec_max = float('-inf')\n",
            "    for elem in list:\n",
            "        if elem > max:\n",
            "            sec_max = max\n",
            "            max = elem\n",
            "        elif elem > sec_max:\n",
            "            sec_max = elem\n",
            "    return sec_max\n",
            "\n",
            "\n",
            "\n",
            "Target Python:\n",
            "def<space><unk>(lst):<new_line><space><space><space><space>return<space>len(lst)<new_line>\n",
            "#########################################################################################################\n",
            "#########################################################################################################\n",
            "Question: writeapythonprogramthatconvertsaoctalnumbertooctalandprintsit\n",
            "Source Python:\n",
            "octal_num = '17'\n",
            "decimal_num = int(octal_num, 8)\n",
            "print(decimal_num)\n",
            "\n",
            "\n",
            "\n",
            "Target Python:\n",
            "dec<space>=<space>344<new_line>print(the<space>decimal<space>value<space>of\"\n",
            "#########################################################################################################\n",
            "#########################################################################################################\n"
          ],
          "name": "stdout"
        }
      ]
    },
    {
      "cell_type": "code",
      "metadata": {
        "id": "z33yYcSr0RbI"
      },
      "source": [
        ""
      ],
      "execution_count": null,
      "outputs": []
    }
  ]
}